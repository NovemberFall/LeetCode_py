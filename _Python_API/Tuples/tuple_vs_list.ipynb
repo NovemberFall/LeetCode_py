{
 "cells": [
  {
   "cell_type": "code",
   "id": "initial_id",
   "metadata": {
    "collapsed": true,
    "ExecuteTime": {
     "end_time": "2025-05-04T21:08:15.723Z",
     "start_time": "2025-05-04T21:08:15.716516Z"
    }
   },
   "source": [
    "# Tuple: Immutable direction\n",
    "dirs_tuple = [(1, 0), (-1, 0), (0, 1), (0, -1)]\n",
    "\n",
    "print(dirs_tuple)"
   ],
   "outputs": [
    {
     "name": "stdout",
     "output_type": "stream",
     "text": [
      "[(1, 0), (-1, 0), (0, 1), (0, -1)]\n"
     ]
    }
   ],
   "execution_count": 8
  },
  {
   "metadata": {
    "ExecuteTime": {
     "end_time": "2025-05-04T21:12:16.594193Z",
     "start_time": "2025-05-04T21:12:16.586097Z"
    }
   },
   "cell_type": "code",
   "source": "dirs_tuple[0] = (0, 1) # ✅ allowed: replacing the entire tuple",
   "id": "8a74aad7d9c88895",
   "outputs": [],
   "execution_count": 9
  },
  {
   "metadata": {
    "ExecuteTime": {
     "end_time": "2025-05-04T21:13:00.857268Z",
     "start_time": "2025-05-04T21:13:00.749426Z"
    }
   },
   "cell_type": "code",
   "source": "dirs_tuple[0][0] = 0 # ❌ not allowed: tuples are immutable",
   "id": "2c38b7300abc8075",
   "outputs": [
    {
     "ename": "TypeError",
     "evalue": "'tuple' object does not support item assignment",
     "output_type": "error",
     "traceback": [
      "\u001B[0;31m---------------------------------------------------------------------------\u001B[0m",
      "\u001B[0;31mTypeError\u001B[0m                                 Traceback (most recent call last)",
      "Cell \u001B[0;32mIn[10], line 1\u001B[0m\n\u001B[0;32m----> 1\u001B[0m \u001B[43mdirs_tuple\u001B[49m\u001B[43m[\u001B[49m\u001B[38;5;241;43m0\u001B[39;49m\u001B[43m]\u001B[49m\u001B[43m[\u001B[49m\u001B[38;5;241;43m0\u001B[39;49m\u001B[43m]\u001B[49m \u001B[38;5;241m=\u001B[39m \u001B[38;5;241m0\u001B[39m\n",
      "\u001B[0;31mTypeError\u001B[0m: 'tuple' object does not support item assignment"
     ]
    }
   ],
   "execution_count": 10
  },
  {
   "metadata": {},
   "cell_type": "code",
   "outputs": [],
   "execution_count": null,
   "source": "",
   "id": "4027f4a136f4a8e0"
  }
 ],
 "metadata": {
  "kernelspec": {
   "display_name": "Python 3",
   "language": "python",
   "name": "python3"
  },
  "language_info": {
   "codemirror_mode": {
    "name": "ipython",
    "version": 2
   },
   "file_extension": ".py",
   "mimetype": "text/x-python",
   "name": "python",
   "nbconvert_exporter": "python",
   "pygments_lexer": "ipython2",
   "version": "2.7.6"
  }
 },
 "nbformat": 4,
 "nbformat_minor": 5
}
