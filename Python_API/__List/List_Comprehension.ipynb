{
 "cells": [
  {
   "cell_type": "code",
   "execution_count": 1,
   "id": "initial_id",
   "metadata": {
    "collapsed": true,
    "ExecuteTime": {
     "end_time": "2023-09-28T18:43:34.223139Z",
     "start_time": "2023-09-28T18:43:34.217339Z"
    }
   },
   "outputs": [
    {
     "data": {
      "text/plain": "[100, 200, 300, 400, 500, 600]"
     },
     "execution_count": 1,
     "metadata": {},
     "output_type": "execute_result"
    }
   ],
   "source": [
    "numbers = [100, 200, 300, 400, 500, 600]\n",
    "numbers"
   ]
  },
  {
   "cell_type": "markdown",
   "source": [],
   "metadata": {
    "collapsed": false
   },
   "id": "49870f1798f19c4c"
  },
  {
   "cell_type": "markdown",
   "source": [
    "## The basic syntax of a list comprehension is:\n",
    "```py \n",
    "[expression for item in iterable]\n",
    "```\n",
    "\n"
   ],
   "metadata": {
    "collapsed": false
   },
   "id": "52c269ca7e2b4422"
  },
  {
   "cell_type": "code",
   "execution_count": 2,
   "outputs": [
    {
     "data": {
      "text/plain": "[100, 200, 300, 400, 500, 600]"
     },
     "execution_count": 2,
     "metadata": {},
     "output_type": "execute_result"
    }
   ],
   "source": [
    "numbers_copy_using_comprehension = [number for number in numbers]\n",
    "\n",
    "numbers_copy_using_comprehension"
   ],
   "metadata": {
    "collapsed": false,
    "ExecuteTime": {
     "end_time": "2023-09-28T18:45:00.461556Z",
     "start_time": "2023-09-28T18:45:00.451803Z"
    }
   },
   "id": "7e97e1c5edb8cb26"
  },
  {
   "cell_type": "code",
   "execution_count": 3,
   "outputs": [
    {
     "data": {
      "text/plain": "[10000, 40000, 90000, 160000, 250000, 360000]"
     },
     "execution_count": 3,
     "metadata": {},
     "output_type": "execute_result"
    }
   ],
   "source": [
    "numbers_square = [n * n for n in numbers]\n",
    "numbers_square"
   ],
   "metadata": {
    "collapsed": false,
    "ExecuteTime": {
     "end_time": "2023-09-28T18:49:41.721233Z",
     "start_time": "2023-09-28T18:49:41.709524Z"
    }
   },
   "id": "111b9cc8d2652991"
  },
  {
   "cell_type": "code",
   "execution_count": 4,
   "outputs": [
    {
     "data": {
      "text/plain": "[10.0, 20.0, 30.0, 40.0, 50.0, 60.0]"
     },
     "execution_count": 4,
     "metadata": {},
     "output_type": "execute_result"
    }
   ],
   "source": [
    "numbers_divided_by_10 = [n / 10 for n in numbers]\n",
    "numbers_divided_by_10"
   ],
   "metadata": {
    "collapsed": false,
    "ExecuteTime": {
     "end_time": "2023-09-28T18:50:09.903178Z",
     "start_time": "2023-09-28T18:50:09.891317Z"
    }
   },
   "id": "282708ff985ec12d"
  },
  {
   "cell_type": "code",
   "execution_count": 5,
   "outputs": [
    {
     "data": {
      "text/plain": "range(2, 10)"
     },
     "execution_count": 5,
     "metadata": {},
     "output_type": "execute_result"
    }
   ],
   "source": [
    "my_num = range(2, 10)\n",
    "my_num"
   ],
   "metadata": {
    "collapsed": false,
    "ExecuteTime": {
     "end_time": "2023-09-28T18:50:30.122429Z",
     "start_time": "2023-09-28T18:50:30.109370Z"
    }
   },
   "id": "bfa91bedc6183a3"
  },
  {
   "cell_type": "code",
   "execution_count": 6,
   "outputs": [
    {
     "data": {
      "text/plain": "[4, 27, 256, 3125, 46656, 823543, 16777216, 387420489]"
     },
     "execution_count": 6,
     "metadata": {},
     "output_type": "execute_result"
    }
   ],
   "source": [
    "[x ** x for x in my_num]"
   ],
   "metadata": {
    "collapsed": false,
    "ExecuteTime": {
     "end_time": "2023-09-28T18:50:54.569699Z",
     "start_time": "2023-09-28T18:50:54.550047Z"
    }
   },
   "id": "bc47c05f53a1c154"
  },
  {
   "cell_type": "code",
   "execution_count": 7,
   "outputs": [],
   "source": [
    "list_of_words = [\"to\", \"be\", \"or\", \"not\", \"to\", \"be\", \"that\", \"is\", \"the\", \"question\"]"
   ],
   "metadata": {
    "collapsed": false,
    "ExecuteTime": {
     "end_time": "2023-09-28T18:52:19.182758Z",
     "start_time": "2023-09-28T18:52:19.176621Z"
    }
   },
   "id": "66b5d3b6fd34bce"
  },
  {
   "cell_type": "code",
   "execution_count": 8,
   "outputs": [
    {
     "data": {
      "text/plain": "['TO', 'BE', 'OR', 'NOT', 'TO', 'BE', 'THAT', 'IS', 'THE', 'QUESTION']"
     },
     "execution_count": 8,
     "metadata": {},
     "output_type": "execute_result"
    }
   ],
   "source": [
    "uppercase_list = [word.upper() for word in list_of_words]\n",
    "uppercase_list"
   ],
   "metadata": {
    "collapsed": false,
    "ExecuteTime": {
     "end_time": "2023-09-28T20:57:43.182900Z",
     "start_time": "2023-09-28T20:57:43.175483Z"
    }
   },
   "id": "63ff3a90f32c2b0e"
  },
  {
   "cell_type": "code",
   "execution_count": 9,
   "outputs": [
    {
     "data": {
      "text/plain": "['to', 'be', 'or', 'no', 'to', 'be', 'th', 'is', 'th', 'qu']"
     },
     "execution_count": 9,
     "metadata": {},
     "output_type": "execute_result"
    }
   ],
   "source": [
    "first_two_letters_list = [word[:2] for word in list_of_words]\n",
    "first_two_letters_list"
   ],
   "metadata": {
    "collapsed": false,
    "ExecuteTime": {
     "end_time": "2023-09-28T20:59:01.026248Z",
     "start_time": "2023-09-28T20:59:01.010677Z"
    }
   },
   "id": "7f52a6ceaed90e0c"
  },
  {
   "cell_type": "markdown",
   "source": [
    "## If Comprehensions"
   ],
   "metadata": {
    "collapsed": false
   },
   "id": "934730ce864fd102"
  },
  {
   "cell_type": "code",
   "execution_count": 10,
   "outputs": [
    {
     "data": {
      "text/plain": "[0, 4, 16, 36, 64, 100, 144, 196, 256, 324]"
     },
     "execution_count": 10,
     "metadata": {},
     "output_type": "execute_result"
    }
   ],
   "source": [
    "[x * x for x in range(20) if x % 2 == 0]"
   ],
   "metadata": {
    "collapsed": false,
    "ExecuteTime": {
     "end_time": "2023-09-28T21:00:46.653617Z",
     "start_time": "2023-09-28T21:00:46.640190Z"
    }
   },
   "id": "a1c3a8dfe50a70af"
  },
  {
   "cell_type": "code",
   "execution_count": 11,
   "outputs": [
    {
     "data": {
      "text/plain": "[0, 13, 26, 39, 52, 65, 78, 91, 104, 117, 130, 143, 156, 169, 182, 195]"
     },
     "execution_count": 11,
     "metadata": {},
     "output_type": "execute_result"
    }
   ],
   "source": [
    "multiples_13 = [i for i in range(200) if i % 13 == 0]\n",
    "multiples_13"
   ],
   "metadata": {
    "collapsed": false,
    "ExecuteTime": {
     "end_time": "2023-09-28T21:01:37.299094Z",
     "start_time": "2023-09-28T21:01:37.295933Z"
    }
   },
   "id": "60e937d3cb8d4523"
  },
  {
   "cell_type": "code",
   "execution_count": 12,
   "outputs": [
    {
     "data": {
      "text/plain": "['H', 'r', 'r', 'y', ' ', 'P', 't', 't', 'r']"
     },
     "execution_count": 12,
     "metadata": {},
     "output_type": "execute_result"
    }
   ],
   "source": [
    "[i for i in \"Harry Potter\" if i.upper() not in [\"A\", \"E\", \"I\", \"O\", \"U\"]]"
   ],
   "metadata": {
    "collapsed": false,
    "ExecuteTime": {
     "end_time": "2023-09-28T21:03:07.219738Z",
     "start_time": "2023-09-28T21:03:07.204261Z"
    }
   },
   "id": "bd0d6e869c3d379f"
  },
  {
   "cell_type": "code",
   "execution_count": null,
   "outputs": [],
   "source": [],
   "metadata": {
    "collapsed": false
   },
   "id": "401a2aede0d59db1"
  },
  {
   "cell_type": "code",
   "execution_count": 13,
   "outputs": [
    {
     "data": {
      "text/plain": "[('Red', 'Square'),\n ('Blue', 'Square'),\n ('Green', 'Square'),\n ('Red', 'Circle'),\n ('Blue', 'Circle'),\n ('Green', 'Circle'),\n ('Red', 'Triangle'),\n ('Blue', 'Triangle'),\n ('Green', 'Triangle')]"
     },
     "execution_count": 13,
     "metadata": {},
     "output_type": "execute_result"
    }
   ],
   "source": [
    "shapes = [\"Square\", \"Circle\", \"Triangle\"]\n",
    "colors = [\"Red\", \"Blue\", \"Green\"]\n",
    "combined = [(color, shape) for shape in shapes for color in colors]\n",
    "combined"
   ],
   "metadata": {
    "collapsed": false,
    "ExecuteTime": {
     "end_time": "2023-09-28T21:05:22.897621Z",
     "start_time": "2023-09-28T21:05:22.880211Z"
    }
   },
   "id": "bad2d58066cb08fd"
  },
  {
   "cell_type": "code",
   "execution_count": 14,
   "outputs": [
    {
     "data": {
      "text/plain": "[0, 91, 182]"
     },
     "execution_count": 14,
     "metadata": {},
     "output_type": "execute_result"
    }
   ],
   "source": [
    "number_list = [number for number in range(200) if number % 7 == 0 if number % 13 == 0]\n",
    "number_list"
   ],
   "metadata": {
    "collapsed": false,
    "ExecuteTime": {
     "end_time": "2023-09-28T21:07:06.713757Z",
     "start_time": "2023-09-28T21:07:06.705337Z"
    }
   },
   "id": "79c8b7c5328d4d06"
  },
  {
   "cell_type": "code",
   "execution_count": 16,
   "outputs": [
    {
     "name": "stdout",
     "output_type": "stream",
     "text": [
      "[(0, 'Even'), (1, 'Odd'), (2, 'Even'), (3, 'Odd'), (4, 'Even'), (5, 'Odd'), (6, 'Even'), (7, 'Odd')]\n"
     ]
    }
   ],
   "source": [
    "num = [(i, \"Even\") if i % 2 == 0 else (i, \"Odd\") for i in range(8)]\n",
    "print(num)"
   ],
   "metadata": {
    "collapsed": false,
    "ExecuteTime": {
     "end_time": "2023-09-28T21:09:00.814599Z",
     "start_time": "2023-09-28T21:09:00.808935Z"
    }
   },
   "id": "c12b486746f840f6"
  },
  {
   "cell_type": "code",
   "execution_count": null,
   "outputs": [],
   "source": [],
   "metadata": {
    "collapsed": false
   },
   "id": "de16202e1cc9cd71"
  }
 ],
 "metadata": {
  "kernelspec": {
   "display_name": "Python 3",
   "language": "python",
   "name": "python3"
  },
  "language_info": {
   "codemirror_mode": {
    "name": "ipython",
    "version": 2
   },
   "file_extension": ".py",
   "mimetype": "text/x-python",
   "name": "python",
   "nbconvert_exporter": "python",
   "pygments_lexer": "ipython2",
   "version": "2.7.6"
  }
 },
 "nbformat": 4,
 "nbformat_minor": 5
}
