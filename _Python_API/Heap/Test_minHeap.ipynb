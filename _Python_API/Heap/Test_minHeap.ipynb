{
 "cells": [
  {
   "cell_type": "code",
   "id": "initial_id",
   "metadata": {
    "collapsed": true,
    "ExecuteTime": {
     "end_time": "2025-06-01T10:47:57.037679Z",
     "start_time": "2025-06-01T10:47:57.032672Z"
    }
   },
   "source": [
    "import heapq\n",
    "\n",
    "res = []\n",
    "\n",
    "heapq.heappush(res, 10)\n",
    "heapq.heappush(res, 7)\n",
    "heapq.heappush(res, 19)\n",
    "heapq.heappush(res, 20)\n",
    "heapq.heappush(res, 30)\n",
    "\n",
    "print(res)"
   ],
   "outputs": [
    {
     "name": "stdout",
     "output_type": "stream",
     "text": [
      "[7, 10, 19, 20, 30]\n"
     ]
    }
   ],
   "execution_count": 1
  },
  {
   "metadata": {},
   "cell_type": "code",
   "outputs": [],
   "execution_count": null,
   "source": "",
   "id": "9c066e62bfe0c812"
  }
 ],
 "metadata": {
  "kernelspec": {
   "display_name": "Python 3",
   "language": "python",
   "name": "python3"
  },
  "language_info": {
   "codemirror_mode": {
    "name": "ipython",
    "version": 2
   },
   "file_extension": ".py",
   "mimetype": "text/x-python",
   "name": "python",
   "nbconvert_exporter": "python",
   "pygments_lexer": "ipython2",
   "version": "2.7.6"
  }
 },
 "nbformat": 4,
 "nbformat_minor": 5
}
