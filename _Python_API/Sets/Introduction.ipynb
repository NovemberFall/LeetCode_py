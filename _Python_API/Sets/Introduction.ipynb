{
 "cells": [
  {
   "metadata": {},
   "cell_type": "markdown",
   "source": "In Python, `set()` is a built-in function used to create a **set**, which is an unordered collection of unique elements. Sets are useful for operations involving membership testing, removing duplicates, and mathematical set operations like **union**, **intersection**, and difference.",
   "id": "b7fe63e5f25e6a74"
  },
  {
   "metadata": {},
   "cell_type": "markdown",
   "source": [
    "1. **Unordered**: The elements in a set have no specific order.\n",
    "2. **Immutable Elements**: The elements must be immutable (e.g., numbers, strings, tuples), but the set itself is mutable (you can add or remove elements).\n",
    "3. **Unique Elements**: Duplicate elements are automatically removed."
   ],
   "id": "caac8ffe99fbc938"
  },
  {
   "metadata": {},
   "cell_type": "markdown",
   "source": [
    "Using curly braces `{}` with comma-separated elements.\n",
    "Using the `set()` constructor."
   ],
   "id": "f37e3065f7d7fd"
  },
  {
   "metadata": {},
   "cell_type": "markdown",
   "source": "### 1. Creating a Set",
   "id": "f9dc181a1bb37476"
  },
  {
   "metadata": {
    "ExecuteTime": {
     "end_time": "2024-12-30T02:43:54.195423Z",
     "start_time": "2024-12-30T02:43:54.187898Z"
    }
   },
   "cell_type": "code",
   "source": [
    "# Using curly braces\n",
    "my_set = {1, 2, 3, 4}\n",
    "print(my_set)  # Output: {1, 2, 3, 4}\n",
    "\n",
    "# Using set() constructor\n",
    "my_set2 = set([1, 2, 2, 3, 4])\n",
    "print(my_set2)  # Output: {1, 2, 3, 4}\n",
    "\n",
    "# Empty set (must use set(), not {})\n",
    "empty_set = set()\n",
    "print(empty_set)  # Output: set()\n"
   ],
   "id": "89a78ba9850bb1eb",
   "outputs": [
    {
     "name": "stdout",
     "output_type": "stream",
     "text": [
      "{1, 2, 3, 4}\n",
      "{1, 2, 3, 4}\n",
      "set()\n"
     ]
    }
   ],
   "execution_count": 2
  },
  {
   "metadata": {},
   "cell_type": "markdown",
   "source": "### 2. Adding and Removing Elements",
   "id": "59b96d7618a7a6b"
  },
  {
   "metadata": {
    "ExecuteTime": {
     "end_time": "2024-12-30T02:44:04.884019Z",
     "start_time": "2024-12-30T02:44:04.879188Z"
    }
   },
   "cell_type": "code",
   "source": [
    "my_set = {1, 2, 3}\n",
    "my_set.add(4)  # Adds an element\n",
    "print(my_set)  # Output: {1, 2, 3, 4}\n",
    "\n",
    "my_set.remove(2)  # Removes an element\n",
    "print(my_set)  # Output: {1, 3, 4}\n",
    "\n",
    "my_set.discard(5)  # Does nothing if the element is not found\n"
   ],
   "id": "7f3e13803be2b59f",
   "outputs": [
    {
     "name": "stdout",
     "output_type": "stream",
     "text": [
      "{1, 2, 3, 4}\n",
      "{1, 3, 4}\n"
     ]
    }
   ],
   "execution_count": 3
  },
  {
   "metadata": {},
   "cell_type": "markdown",
   "source": "### 3. Set Operations",
   "id": "1cdf7bd5c87c1684"
  },
  {
   "metadata": {
    "ExecuteTime": {
     "end_time": "2024-12-30T02:44:48.094918Z",
     "start_time": "2024-12-30T02:44:48.081813Z"
    }
   },
   "cell_type": "code",
   "source": [
    "A = {1, 2, 3}\n",
    "B = {3, 4, 5}\n",
    "\n",
    "# Union\n",
    "print(A | B)  # Output: {1, 2, 3, 4, 5}\n",
    "\n",
    "# Intersection\n",
    "print(A & B)  # Output: {3}\n",
    "\n",
    "# Difference\n",
    "print(A - B)  # Output: {1, 2}\n",
    "\n",
    "# Symmetric Difference\n",
    "print(A ^ B)  # Output: {1, 2, 4, 5}\n"
   ],
   "id": "45cc43eca1fc0ec6",
   "outputs": [
    {
     "name": "stdout",
     "output_type": "stream",
     "text": [
      "{1, 2, 3, 4, 5}\n",
      "{3}\n",
      "{1, 2}\n",
      "{1, 2, 4, 5}\n"
     ]
    }
   ],
   "execution_count": 4
  },
  {
   "metadata": {},
   "cell_type": "markdown",
   "source": "### 4. Membership Testing",
   "id": "22ebcad96899df04"
  },
  {
   "metadata": {
    "ExecuteTime": {
     "end_time": "2024-12-30T02:45:46.722461Z",
     "start_time": "2024-12-30T02:45:46.715983Z"
    }
   },
   "cell_type": "code",
   "source": [
    "my_set = {1, 2, 3}\n",
    "print(2 in my_set)  # Output: True\n",
    "print(4 in my_set)  # Output: False"
   ],
   "id": "406230e63f01dac8",
   "outputs": [
    {
     "name": "stdout",
     "output_type": "stream",
     "text": [
      "True\n",
      "False\n"
     ]
    }
   ],
   "execution_count": 5
  },
  {
   "metadata": {},
   "cell_type": "markdown",
   "source": "### 5. Removing Duplicates from a List",
   "id": "59593f750c3f2664"
  },
  {
   "metadata": {
    "ExecuteTime": {
     "end_time": "2024-12-30T02:46:13.288503Z",
     "start_time": "2024-12-30T02:46:13.282486Z"
    }
   },
   "cell_type": "code",
   "source": [
    "my_list = [1, 2, 2, 3, 4, 4, 5]\n",
    "unique_elements = set(my_list)\n",
    "print(unique_elements)  # Output: {1, 2, 3, 4, 5}\n"
   ],
   "id": "265b7442e4ebd2b1",
   "outputs": [
    {
     "name": "stdout",
     "output_type": "stream",
     "text": [
      "{1, 2, 3, 4, 5}\n"
     ]
    }
   ],
   "execution_count": 6
  }
 ],
 "metadata": {
  "kernelspec": {
   "display_name": "Python 3",
   "language": "python",
   "name": "python3"
  },
  "language_info": {
   "codemirror_mode": {
    "name": "ipython",
    "version": 2
   },
   "file_extension": ".py",
   "mimetype": "text/x-python",
   "name": "python",
   "nbconvert_exporter": "python",
   "pygments_lexer": "ipython2",
   "version": "2.7.6"
  }
 },
 "nbformat": 4,
 "nbformat_minor": 5
}
