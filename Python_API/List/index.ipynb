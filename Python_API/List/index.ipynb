{
 "cells": [
  {
   "cell_type": "code",
   "id": "initial_id",
   "metadata": {
    "collapsed": true,
    "ExecuteTime": {
     "end_time": "2024-11-26T05:02:59.883755Z",
     "start_time": "2024-11-26T05:02:59.878270Z"
    }
   },
   "source": [
    "arr = [0, 1, 2, 3, 4, 5]\n",
    "print(arr[:3])  # [0, 1, 2]\n",
    "\n",
    "##############################\n",
    "\n",
    "print(arr[::-1])"
   ],
   "outputs": [
    {
     "name": "stdout",
     "output_type": "stream",
     "text": [
      "[0, 1, 2]\n",
      "[5, 4, 3, 2, 1, 0]\n"
     ]
    }
   ],
   "execution_count": 7
  },
  {
   "metadata": {
    "ExecuteTime": {
     "end_time": "2024-11-26T05:03:00.817434Z",
     "start_time": "2024-11-26T05:03:00.813959Z"
    }
   },
   "cell_type": "code",
   "source": "print(arr[3::])",
   "id": "1664fc41a1788aaf",
   "outputs": [
    {
     "name": "stdout",
     "output_type": "stream",
     "text": [
      "[3, 4, 5]\n"
     ]
    }
   ],
   "execution_count": 8
  },
  {
   "metadata": {},
   "cell_type": "code",
   "outputs": [],
   "execution_count": null,
   "source": "",
   "id": "984a54ecef2a035b"
  },
  {
   "metadata": {},
   "cell_type": "markdown",
   "source": "## Delete by index",
   "id": "57b910f4b0d27f1c"
  },
  {
   "metadata": {
    "ExecuteTime": {
     "end_time": "2025-02-09T02:33:54.161122Z",
     "start_time": "2025-02-09T02:33:54.157179Z"
    }
   },
   "cell_type": "code",
   "source": [
    "L = [1, 2, 3, 4, 5]\n",
    "del(L[3])\n",
    "print(L)"
   ],
   "id": "77891bc6235bc451",
   "outputs": [
    {
     "name": "stdout",
     "output_type": "stream",
     "text": [
      "[1, 2, 3, 5]\n"
     ]
    }
   ],
   "execution_count": 2
  },
  {
   "metadata": {},
   "cell_type": "markdown",
   "source": "## Delete by pop()",
   "id": "880f40eb18571710"
  },
  {
   "metadata": {
    "ExecuteTime": {
     "end_time": "2025-02-09T02:34:30.356875Z",
     "start_time": "2025-02-09T02:34:30.348172Z"
    }
   },
   "cell_type": "code",
   "source": [
    "L.pop()\n",
    "print(L)"
   ],
   "id": "12e26023f5cde145",
   "outputs": [
    {
     "name": "stdout",
     "output_type": "stream",
     "text": [
      "[1, 2, 3]\n"
     ]
    }
   ],
   "execution_count": 3
  },
  {
   "metadata": {},
   "cell_type": "code",
   "outputs": [],
   "execution_count": null,
   "source": "",
   "id": "6d56b7abd9c5bce4"
  }
 ],
 "metadata": {
  "kernelspec": {
   "display_name": "Python 3",
   "language": "python",
   "name": "python3"
  },
  "language_info": {
   "codemirror_mode": {
    "name": "ipython",
    "version": 2
   },
   "file_extension": ".py",
   "mimetype": "text/x-python",
   "name": "python",
   "nbconvert_exporter": "python",
   "pygments_lexer": "ipython2",
   "version": "2.7.6"
  }
 },
 "nbformat": 4,
 "nbformat_minor": 5
}
