{
 "cells": [
  {
   "metadata": {},
   "cell_type": "markdown",
   "source": "## slice operation",
   "id": "a76d3eaed76548ce"
  },
  {
   "metadata": {},
   "cell_type": "markdown",
   "source": [
    "#### Extracting a Substring\n",
    "\n",
    "1. **left**: The starting index (inclusive)\n",
    "2. **right + 1**: The ending index (exclusive), so you add 1 to include the character at index right."
   ],
   "id": "aef133a7f2df0c34"
  },
  {
   "metadata": {
    "ExecuteTime": {
     "end_time": "2025-01-02T10:09:38.410787Z",
     "start_time": "2025-01-02T10:09:38.405639Z"
    }
   },
   "cell_type": "code",
   "source": [
    "s = \"hello\"\n",
    "left, right = 1, 3\n",
    "print(s[left:right + 1])"
   ],
   "id": "25a308698058f8d3",
   "outputs": [
    {
     "name": "stdout",
     "output_type": "stream",
     "text": [
      "ell\n"
     ]
    }
   ],
   "execution_count": 1
  }
 ],
 "metadata": {
  "kernelspec": {
   "display_name": "Python 3",
   "language": "python",
   "name": "python3"
  },
  "language_info": {
   "codemirror_mode": {
    "name": "ipython",
    "version": 2
   },
   "file_extension": ".py",
   "mimetype": "text/x-python",
   "name": "python",
   "nbconvert_exporter": "python",
   "pygments_lexer": "ipython2",
   "version": "2.7.6"
  }
 },
 "nbformat": 4,
 "nbformat_minor": 5
}
