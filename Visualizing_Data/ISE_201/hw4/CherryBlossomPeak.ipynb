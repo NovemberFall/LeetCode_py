{
 "cells": [
  {
   "cell_type": "markdown",
   "metadata": {
    "id": "B61M94nTAwvo"
   },
   "source": [
    "# Yuxiao Zheng | Homework 4   \n",
    "\n",
    "# Polynomial regression\n",
    "\n",
    "An example projection onto orthogonal columns, where each feature is another degree of the polynomial. We use a widely available dataset of the date of peak bloom for the cherry blossoms in D.C. as predicted by the year.\n",
    "\n",
    "JMA October 2024"
   ]
  },
  {
   "cell_type": "code",
   "execution_count": 2,
   "metadata": {
    "executionInfo": {
     "elapsed": 426,
     "status": "ok",
     "timestamp": 1729796148082,
     "user": {
      "displayName": "John Mark Agosta",
      "userId": "16151110811039278655"
     },
     "user_tz": 420
    },
    "id": "7SlKQ6IvAuSD",
    "ExecuteTime": {
     "end_time": "2024-11-08T00:49:48.744289Z",
     "start_time": "2024-11-08T00:49:47.407621Z"
    }
   },
   "outputs": [
    {
     "data": {
      "text/html": "    <style>\n        .bk-notebook-logo {\n            display: block;\n            width: 20px;\n            height: 20px;\n            background-image: url(data:image/png;base64,iVBORw0KGgoAAAANSUhEUgAAABQAAAAUCAYAAACNiR0NAAAABHNCSVQICAgIfAhkiAAAAAlwSFlzAAALEgAACxIB0t1+/AAAABx0RVh0U29mdHdhcmUAQWRvYmUgRmlyZXdvcmtzIENTNui8sowAAAOkSURBVDiNjZRtaJVlGMd/1/08zzln5zjP1LWcU9N0NkN8m2CYjpgQYQXqSs0I84OLIC0hkEKoPtiH3gmKoiJDU7QpLgoLjLIQCpEsNJ1vqUOdO7ppbuec5+V+rj4ctwzd8IIbbi6u+8f1539dt3A78eXC7QizUF7gyV1fD1Yqg4JWz84yffhm0qkFqBogB9rM8tZdtwVsPUhWhGcFJngGeWrPzHm5oaMmkfEg1usvLFyc8jLRqDOMru7AyC8saQr7GG7f5fvDeH7Ej8CM66nIF+8yngt6HWaKh7k49Soy9nXurCi1o3qUbS3zWfrYeQDTB/Qj6kX6Ybhw4B+bOYoLKCC9H3Nu/leUTZ1JdRWkkn2ldcCamzrcf47KKXdAJllSlxAOkRgyHsGC/zRday5Qld9DyoM4/q/rUoy/CXh3jzOu3bHUVZeU+DEn8FInkPBFlu3+nW3Nw0mk6vCDiWg8CeJaxEwuHS3+z5RgY+YBR6V1Z1nxSOfoaPa4LASWxxdNp+VWTk7+4vzaou8v8PN+xo+KY2xsw6une2frhw05CTYOmQvsEhjhWjn0bmXPjpE1+kplmmkP3suftwTubK9Vq22qKmrBhpY4jvd5afdRA3wGjFAgcnTK2s4hY0/GPNIb0nErGMCRxWOOX64Z8RAC4oCXdklmEvcL8o0BfkNK4lUg9HTl+oPlQxdNo3Mg4Nv175e/1LDGzZen30MEjRUtmXSfiTVu1kK8W4txyV6BMKlbgk3lMwYCiusNy9fVfvvwMxv8Ynl6vxoByANLTWplvuj/nF9m2+PDtt1eiHPBr1oIfhCChQMBw6Aw0UulqTKZdfVvfG7VcfIqLG9bcldL/+pdWTLxLUy8Qq38heUIjh4XlzZxzQm19lLFlr8vdQ97rjZVOLf8nclzckbcD4wxXMidpX30sFd37Fv/GtwwhzhxGVAprjbg0gCAEeIgwCZyTV2Z1REEW8O4py0wsjeloKoMr6iCY6dP92H6Vw/oTyICIthibxjm/DfN9lVz8IqtqKYLUXfoKVMVQVVJOElGjrnnUt9T9wbgp8AyYKaGlqingHZU/uG2NTZSVqwHQTWkx9hxjkpWDaCg6Ckj5qebgBVbT3V3NNXMSiWSDdGV3hrtzla7J+duwPOToIg42ChPQOQjspnSlp1V+Gjdged7+8UN5CRAV7a5EdFNwCjEaBR27b3W890TE7g24NAP/mMDXRWrGoFPQI9ls/MWO2dWFAar/xcOIImbbpA3zgAAAABJRU5ErkJggg==);\n        }\n    </style>\n    <div>\n        <a href=\"https://bokeh.org\" target=\"_blank\" class=\"bk-notebook-logo\"></a>\n        <span id=\"ae8baa3b-2032-434f-839b-b83a62f2104a\">Loading BokehJS ...</span>\n    </div>\n"
     },
     "metadata": {},
     "output_type": "display_data"
    },
    {
     "data": {
      "application/javascript": "'use strict';\n(function(root) {\n  function now() {\n    return new Date();\n  }\n\n  const force = true;\n\n  if (typeof root._bokeh_onload_callbacks === \"undefined\" || force === true) {\n    root._bokeh_onload_callbacks = [];\n    root._bokeh_is_loading = undefined;\n  }\n\nconst JS_MIME_TYPE = 'application/javascript';\n  const HTML_MIME_TYPE = 'text/html';\n  const EXEC_MIME_TYPE = 'application/vnd.bokehjs_exec.v0+json';\n  const CLASS_NAME = 'output_bokeh rendered_html';\n\n  /**\n   * Render data to the DOM node\n   */\n  function render(props, node) {\n    const script = document.createElement(\"script\");\n    node.appendChild(script);\n  }\n\n  /**\n   * Handle when an output is cleared or removed\n   */\n  function handleClearOutput(event, handle) {\n    function drop(id) {\n      const view = Bokeh.index.get_by_id(id)\n      if (view != null) {\n        view.model.document.clear()\n        Bokeh.index.delete(view)\n      }\n    }\n\n    const cell = handle.cell;\n\n    const id = cell.output_area._bokeh_element_id;\n    const server_id = cell.output_area._bokeh_server_id;\n\n    // Clean up Bokeh references\n    if (id != null) {\n      drop(id)\n    }\n\n    if (server_id !== undefined) {\n      // Clean up Bokeh references\n      const cmd_clean = \"from bokeh.io.state import curstate; print(curstate().uuid_to_server['\" + server_id + \"'].get_sessions()[0].document.roots[0]._id)\";\n      cell.notebook.kernel.execute(cmd_clean, {\n        iopub: {\n          output: function(msg) {\n            const id = msg.content.text.trim()\n            drop(id)\n          }\n        }\n      });\n      // Destroy server and session\n      const cmd_destroy = \"import bokeh.io.notebook as ion; ion.destroy_server('\" + server_id + \"')\";\n      cell.notebook.kernel.execute(cmd_destroy);\n    }\n  }\n\n  /**\n   * Handle when a new output is added\n   */\n  function handleAddOutput(event, handle) {\n    const output_area = handle.output_area;\n    const output = handle.output;\n\n    // limit handleAddOutput to display_data with EXEC_MIME_TYPE content only\n    if ((output.output_type != \"display_data\") || (!Object.prototype.hasOwnProperty.call(output.data, EXEC_MIME_TYPE))) {\n      return\n    }\n\n    const toinsert = output_area.element.find(\".\" + CLASS_NAME.split(' ')[0]);\n\n    if (output.metadata[EXEC_MIME_TYPE][\"id\"] !== undefined) {\n      toinsert[toinsert.length - 1].firstChild.textContent = output.data[JS_MIME_TYPE];\n      // store reference to embed id on output_area\n      output_area._bokeh_element_id = output.metadata[EXEC_MIME_TYPE][\"id\"];\n    }\n    if (output.metadata[EXEC_MIME_TYPE][\"server_id\"] !== undefined) {\n      const bk_div = document.createElement(\"div\");\n      bk_div.innerHTML = output.data[HTML_MIME_TYPE];\n      const script_attrs = bk_div.children[0].attributes;\n      for (let i = 0; i < script_attrs.length; i++) {\n        toinsert[toinsert.length - 1].firstChild.setAttribute(script_attrs[i].name, script_attrs[i].value);\n        toinsert[toinsert.length - 1].firstChild.textContent = bk_div.children[0].textContent\n      }\n      // store reference to server id on output_area\n      output_area._bokeh_server_id = output.metadata[EXEC_MIME_TYPE][\"server_id\"];\n    }\n  }\n\n  function register_renderer(events, OutputArea) {\n\n    function append_mime(data, metadata, element) {\n      // create a DOM node to render to\n      const toinsert = this.create_output_subarea(\n        metadata,\n        CLASS_NAME,\n        EXEC_MIME_TYPE\n      );\n      this.keyboard_manager.register_events(toinsert);\n      // Render to node\n      const props = {data: data, metadata: metadata[EXEC_MIME_TYPE]};\n      render(props, toinsert[toinsert.length - 1]);\n      element.append(toinsert);\n      return toinsert\n    }\n\n    /* Handle when an output is cleared or removed */\n    events.on('clear_output.CodeCell', handleClearOutput);\n    events.on('delete.Cell', handleClearOutput);\n\n    /* Handle when a new output is added */\n    events.on('output_added.OutputArea', handleAddOutput);\n\n    /**\n     * Register the mime type and append_mime function with output_area\n     */\n    OutputArea.prototype.register_mime_type(EXEC_MIME_TYPE, append_mime, {\n      /* Is output safe? */\n      safe: true,\n      /* Index of renderer in `output_area.display_order` */\n      index: 0\n    });\n  }\n\n  // register the mime type if in Jupyter Notebook environment and previously unregistered\n  if (root.Jupyter !== undefined) {\n    const events = require('base/js/events');\n    const OutputArea = require('notebook/js/outputarea').OutputArea;\n\n    if (OutputArea.prototype.mime_types().indexOf(EXEC_MIME_TYPE) == -1) {\n      register_renderer(events, OutputArea);\n    }\n  }\n  if (typeof (root._bokeh_timeout) === \"undefined\" || force === true) {\n    root._bokeh_timeout = Date.now() + 5000;\n    root._bokeh_failed_load = false;\n  }\n\n  const NB_LOAD_WARNING = {'data': {'text/html':\n     \"<div style='background-color: #fdd'>\\n\"+\n     \"<p>\\n\"+\n     \"BokehJS does not appear to have successfully loaded. If loading BokehJS from CDN, this \\n\"+\n     \"may be due to a slow or bad network connection. Possible fixes:\\n\"+\n     \"</p>\\n\"+\n     \"<ul>\\n\"+\n     \"<li>re-rerun `output_notebook()` to attempt to load from CDN again, or</li>\\n\"+\n     \"<li>use INLINE resources instead, as so:</li>\\n\"+\n     \"</ul>\\n\"+\n     \"<code>\\n\"+\n     \"from bokeh.resources import INLINE\\n\"+\n     \"output_notebook(resources=INLINE)\\n\"+\n     \"</code>\\n\"+\n     \"</div>\"}};\n\n  function display_loaded(error = null) {\n    const el = document.getElementById(\"ae8baa3b-2032-434f-839b-b83a62f2104a\");\n    if (el != null) {\n      const html = (() => {\n        if (typeof root.Bokeh === \"undefined\") {\n          if (error == null) {\n            return \"BokehJS is loading ...\";\n          } else {\n            return \"BokehJS failed to load.\";\n          }\n        } else {\n          const prefix = `BokehJS ${root.Bokeh.version}`;\n          if (error == null) {\n            return `${prefix} successfully loaded.`;\n          } else {\n            return `${prefix} <b>encountered errors</b> while loading and may not function as expected.`;\n          }\n        }\n      })();\n      el.innerHTML = html;\n\n      if (error != null) {\n        const wrapper = document.createElement(\"div\");\n        wrapper.style.overflow = \"auto\";\n        wrapper.style.height = \"5em\";\n        wrapper.style.resize = \"vertical\";\n        const content = document.createElement(\"div\");\n        content.style.fontFamily = \"monospace\";\n        content.style.whiteSpace = \"pre-wrap\";\n        content.style.backgroundColor = \"rgb(255, 221, 221)\";\n        content.textContent = error.stack ?? error.toString();\n        wrapper.append(content);\n        el.append(wrapper);\n      }\n    } else if (Date.now() < root._bokeh_timeout) {\n      setTimeout(() => display_loaded(error), 100);\n    }\n  }\n\n  function run_callbacks() {\n    try {\n      root._bokeh_onload_callbacks.forEach(function(callback) {\n        if (callback != null)\n          callback();\n      });\n    } finally {\n      delete root._bokeh_onload_callbacks\n    }\n    console.debug(\"Bokeh: all callbacks have finished\");\n  }\n\n  function load_libs(css_urls, js_urls, callback) {\n    if (css_urls == null) css_urls = [];\n    if (js_urls == null) js_urls = [];\n\n    root._bokeh_onload_callbacks.push(callback);\n    if (root._bokeh_is_loading > 0) {\n      console.debug(\"Bokeh: BokehJS is being loaded, scheduling callback at\", now());\n      return null;\n    }\n    if (js_urls == null || js_urls.length === 0) {\n      run_callbacks();\n      return null;\n    }\n    console.debug(\"Bokeh: BokehJS not loaded, scheduling load and callback at\", now());\n    root._bokeh_is_loading = css_urls.length + js_urls.length;\n\n    function on_load() {\n      root._bokeh_is_loading--;\n      if (root._bokeh_is_loading === 0) {\n        console.debug(\"Bokeh: all BokehJS libraries/stylesheets loaded\");\n        run_callbacks()\n      }\n    }\n\n    function on_error(url) {\n      console.error(\"failed to load \" + url);\n    }\n\n    for (let i = 0; i < css_urls.length; i++) {\n      const url = css_urls[i];\n      const element = document.createElement(\"link\");\n      element.onload = on_load;\n      element.onerror = on_error.bind(null, url);\n      element.rel = \"stylesheet\";\n      element.type = \"text/css\";\n      element.href = url;\n      console.debug(\"Bokeh: injecting link tag for BokehJS stylesheet: \", url);\n      document.body.appendChild(element);\n    }\n\n    for (let i = 0; i < js_urls.length; i++) {\n      const url = js_urls[i];\n      const element = document.createElement('script');\n      element.onload = on_load;\n      element.onerror = on_error.bind(null, url);\n      element.async = false;\n      element.src = url;\n      console.debug(\"Bokeh: injecting script tag for BokehJS library: \", url);\n      document.head.appendChild(element);\n    }\n  };\n\n  function inject_raw_css(css) {\n    const element = document.createElement(\"style\");\n    element.appendChild(document.createTextNode(css));\n    document.body.appendChild(element);\n  }\n\n  const js_urls = [\"https://cdn.bokeh.org/bokeh/release/bokeh-3.6.1.min.js\", \"https://cdn.bokeh.org/bokeh/release/bokeh-gl-3.6.1.min.js\", \"https://cdn.bokeh.org/bokeh/release/bokeh-widgets-3.6.1.min.js\", \"https://cdn.bokeh.org/bokeh/release/bokeh-tables-3.6.1.min.js\", \"https://cdn.bokeh.org/bokeh/release/bokeh-mathjax-3.6.1.min.js\"];\n  const css_urls = [];\n\n  const inline_js = [    function(Bokeh) {\n      Bokeh.set_log_level(\"info\");\n    },\nfunction(Bokeh) {\n    }\n  ];\n\n  function run_inline_js() {\n    if (root.Bokeh !== undefined || force === true) {\n      try {\n            for (let i = 0; i < inline_js.length; i++) {\n      inline_js[i].call(root, root.Bokeh);\n    }\n\n      } catch (error) {display_loaded(error);throw error;\n      }if (force === true) {\n        display_loaded();\n      }} else if (Date.now() < root._bokeh_timeout) {\n      setTimeout(run_inline_js, 100);\n    } else if (!root._bokeh_failed_load) {\n      console.log(\"Bokeh: BokehJS failed to load within specified timeout.\");\n      root._bokeh_failed_load = true;\n    } else if (force !== true) {\n      const cell = $(document.getElementById(\"ae8baa3b-2032-434f-839b-b83a62f2104a\")).parents('.cell').data().cell;\n      cell.output_area.append_execute_result(NB_LOAD_WARNING)\n    }\n  }\n\n  if (root._bokeh_is_loading === 0) {\n    console.debug(\"Bokeh: BokehJS loaded, going straight to plotting\");\n    run_inline_js();\n  } else {\n    load_libs(css_urls, js_urls, function() {\n      console.debug(\"Bokeh: BokehJS plotting callback run at\", now());\n      run_inline_js();\n    });\n  }\n}(window));",
      "application/vnd.bokehjs_load.v0+json": "'use strict';\n(function(root) {\n  function now() {\n    return new Date();\n  }\n\n  const force = true;\n\n  if (typeof root._bokeh_onload_callbacks === \"undefined\" || force === true) {\n    root._bokeh_onload_callbacks = [];\n    root._bokeh_is_loading = undefined;\n  }\n\n\n  if (typeof (root._bokeh_timeout) === \"undefined\" || force === true) {\n    root._bokeh_timeout = Date.now() + 5000;\n    root._bokeh_failed_load = false;\n  }\n\n  const NB_LOAD_WARNING = {'data': {'text/html':\n     \"<div style='background-color: #fdd'>\\n\"+\n     \"<p>\\n\"+\n     \"BokehJS does not appear to have successfully loaded. If loading BokehJS from CDN, this \\n\"+\n     \"may be due to a slow or bad network connection. Possible fixes:\\n\"+\n     \"</p>\\n\"+\n     \"<ul>\\n\"+\n     \"<li>re-rerun `output_notebook()` to attempt to load from CDN again, or</li>\\n\"+\n     \"<li>use INLINE resources instead, as so:</li>\\n\"+\n     \"</ul>\\n\"+\n     \"<code>\\n\"+\n     \"from bokeh.resources import INLINE\\n\"+\n     \"output_notebook(resources=INLINE)\\n\"+\n     \"</code>\\n\"+\n     \"</div>\"}};\n\n  function display_loaded(error = null) {\n    const el = document.getElementById(\"ae8baa3b-2032-434f-839b-b83a62f2104a\");\n    if (el != null) {\n      const html = (() => {\n        if (typeof root.Bokeh === \"undefined\") {\n          if (error == null) {\n            return \"BokehJS is loading ...\";\n          } else {\n            return \"BokehJS failed to load.\";\n          }\n        } else {\n          const prefix = `BokehJS ${root.Bokeh.version}`;\n          if (error == null) {\n            return `${prefix} successfully loaded.`;\n          } else {\n            return `${prefix} <b>encountered errors</b> while loading and may not function as expected.`;\n          }\n        }\n      })();\n      el.innerHTML = html;\n\n      if (error != null) {\n        const wrapper = document.createElement(\"div\");\n        wrapper.style.overflow = \"auto\";\n        wrapper.style.height = \"5em\";\n        wrapper.style.resize = \"vertical\";\n        const content = document.createElement(\"div\");\n        content.style.fontFamily = \"monospace\";\n        content.style.whiteSpace = \"pre-wrap\";\n        content.style.backgroundColor = \"rgb(255, 221, 221)\";\n        content.textContent = error.stack ?? error.toString();\n        wrapper.append(content);\n        el.append(wrapper);\n      }\n    } else if (Date.now() < root._bokeh_timeout) {\n      setTimeout(() => display_loaded(error), 100);\n    }\n  }\n\n  function run_callbacks() {\n    try {\n      root._bokeh_onload_callbacks.forEach(function(callback) {\n        if (callback != null)\n          callback();\n      });\n    } finally {\n      delete root._bokeh_onload_callbacks\n    }\n    console.debug(\"Bokeh: all callbacks have finished\");\n  }\n\n  function load_libs(css_urls, js_urls, callback) {\n    if (css_urls == null) css_urls = [];\n    if (js_urls == null) js_urls = [];\n\n    root._bokeh_onload_callbacks.push(callback);\n    if (root._bokeh_is_loading > 0) {\n      console.debug(\"Bokeh: BokehJS is being loaded, scheduling callback at\", now());\n      return null;\n    }\n    if (js_urls == null || js_urls.length === 0) {\n      run_callbacks();\n      return null;\n    }\n    console.debug(\"Bokeh: BokehJS not loaded, scheduling load and callback at\", now());\n    root._bokeh_is_loading = css_urls.length + js_urls.length;\n\n    function on_load() {\n      root._bokeh_is_loading--;\n      if (root._bokeh_is_loading === 0) {\n        console.debug(\"Bokeh: all BokehJS libraries/stylesheets loaded\");\n        run_callbacks()\n      }\n    }\n\n    function on_error(url) {\n      console.error(\"failed to load \" + url);\n    }\n\n    for (let i = 0; i < css_urls.length; i++) {\n      const url = css_urls[i];\n      const element = document.createElement(\"link\");\n      element.onload = on_load;\n      element.onerror = on_error.bind(null, url);\n      element.rel = \"stylesheet\";\n      element.type = \"text/css\";\n      element.href = url;\n      console.debug(\"Bokeh: injecting link tag for BokehJS stylesheet: \", url);\n      document.body.appendChild(element);\n    }\n\n    for (let i = 0; i < js_urls.length; i++) {\n      const url = js_urls[i];\n      const element = document.createElement('script');\n      element.onload = on_load;\n      element.onerror = on_error.bind(null, url);\n      element.async = false;\n      element.src = url;\n      console.debug(\"Bokeh: injecting script tag for BokehJS library: \", url);\n      document.head.appendChild(element);\n    }\n  };\n\n  function inject_raw_css(css) {\n    const element = document.createElement(\"style\");\n    element.appendChild(document.createTextNode(css));\n    document.body.appendChild(element);\n  }\n\n  const js_urls = [\"https://cdn.bokeh.org/bokeh/release/bokeh-3.6.1.min.js\", \"https://cdn.bokeh.org/bokeh/release/bokeh-gl-3.6.1.min.js\", \"https://cdn.bokeh.org/bokeh/release/bokeh-widgets-3.6.1.min.js\", \"https://cdn.bokeh.org/bokeh/release/bokeh-tables-3.6.1.min.js\", \"https://cdn.bokeh.org/bokeh/release/bokeh-mathjax-3.6.1.min.js\"];\n  const css_urls = [];\n\n  const inline_js = [    function(Bokeh) {\n      Bokeh.set_log_level(\"info\");\n    },\nfunction(Bokeh) {\n    }\n  ];\n\n  function run_inline_js() {\n    if (root.Bokeh !== undefined || force === true) {\n      try {\n            for (let i = 0; i < inline_js.length; i++) {\n      inline_js[i].call(root, root.Bokeh);\n    }\n\n      } catch (error) {display_loaded(error);throw error;\n      }if (force === true) {\n        display_loaded();\n      }} else if (Date.now() < root._bokeh_timeout) {\n      setTimeout(run_inline_js, 100);\n    } else if (!root._bokeh_failed_load) {\n      console.log(\"Bokeh: BokehJS failed to load within specified timeout.\");\n      root._bokeh_failed_load = true;\n    } else if (force !== true) {\n      const cell = $(document.getElementById(\"ae8baa3b-2032-434f-839b-b83a62f2104a\")).parents('.cell').data().cell;\n      cell.output_area.append_execute_result(NB_LOAD_WARNING)\n    }\n  }\n\n  if (root._bokeh_is_loading === 0) {\n    console.debug(\"Bokeh: BokehJS loaded, going straight to plotting\");\n    run_inline_js();\n  } else {\n    load_libs(css_urls, js_urls, function() {\n      console.debug(\"Bokeh: BokehJS plotting callback run at\", now());\n      run_inline_js();\n    });\n  }\n}(window));"
     },
     "metadata": {},
     "output_type": "display_data"
    }
   ],
   "source": [
    "# An example of the typical imports for data science notebook\n",
    "# not all will be used here\n",
    "\n",
    "# Import python standard library\n",
    "import re, os, sys, time\n",
    "import math\n",
    "from pathlib import Path\n",
    "\n",
    "# Import array and dataframe packages\n",
    "import numpy as np\n",
    "import numpy.linalg as la\n",
    "from numpy.random import default_rng\n",
    "import pandas as pd\n",
    "\n",
    "# A library specific to colab for mounting Google Drive folders\n",
    "# from google.colab import drive\n",
    "\n",
    "# Import ML & stats packages\n",
    "# import sklearn as sk\n",
    "# import scipy as sp     # for the binom(n,k) function\n",
    "# use statsmodels to compute regression standard errors\n",
    "# scikit learn doesn't compute them.\n",
    "import statsmodels.api as sm\n",
    "\n",
    "# Import the bokeh python wrappers for javascript plots\n",
    "#  - a preferred visualization tool\n",
    "from bokeh.plotting import figure, show\n",
    "from bokeh.models import ColumnDataSource, VBar, Span\n",
    "from bokeh.io import output_notebook\n",
    "output_notebook()"
   ]
  },
  {
   "cell_type": "code",
   "execution_count": 3,
   "metadata": {
    "colab": {
     "base_uri": "https://localhost:8080/"
    },
    "executionInfo": {
     "elapsed": 179,
     "status": "ok",
     "timestamp": 1729793385109,
     "user": {
      "displayName": "John Mark Agosta",
      "userId": "16151110811039278655"
     },
     "user_tz": 420
    },
    "id": "ZRilyl1kGUD4",
    "outputId": "547ac074-e0ba-4870-8e6b-2b27e18c42ea",
    "ExecuteTime": {
     "end_time": "2024-11-08T00:49:48.761558Z",
     "start_time": "2024-11-08T00:49:48.745309Z"
    }
   },
   "outputs": [],
   "source": [
    "# # Get access to the file system on Google Drive\n",
    "# \n",
    "# DATA_DIR = '/content/drive/My Drive/ISE201_fall2024/data'\n",
    "# # This function will bring up a dialog to authenticate using your\n",
    "# # Google identity\n",
    "# if not Path('/content/drive/').exists():\n",
    "#   drive.mount('/content/drive/')\n",
    "# os.chdir(DATA_DIR)\n",
    "# !ls"
   ]
  },
  {
   "cell_type": "markdown",
   "source": [],
   "metadata": {
    "collapsed": false
   }
  },
  {
   "cell_type": "code",
   "execution_count": 4,
   "metadata": {
    "colab": {
     "base_uri": "https://localhost:8080/",
     "height": 206
    },
    "executionInfo": {
     "elapsed": 532,
     "status": "ok",
     "timestamp": 1729793397425,
     "user": {
      "displayName": "John Mark Agosta",
      "userId": "16151110811039278655"
     },
     "user_tz": 420
    },
    "id": "9vBsM76bHaFV",
    "outputId": "9bfe853a-f688-47af-c5b9-57a018f56583",
    "ExecuteTime": {
     "end_time": "2024-11-08T00:49:49.057523Z",
     "start_time": "2024-11-08T00:49:49.038852Z"
    }
   },
   "outputs": [
    {
     "data": {
      "text/plain": "   Year  Yoshino peak bloom date  Cherry blossom festival start date  \\\n0  1921                       79                                 NaN   \n1  1922                       97                                 NaN   \n2  1923                       99                                 NaN   \n3  1924                      104                                 NaN   \n4  1925                       86                                 NaN   \n\n   Cherry blossom festival duration  \n0                               NaN  \n1                               NaN  \n2                               NaN  \n3                               NaN  \n4                               NaN  ",
      "text/html": "<div>\n<style scoped>\n    .dataframe tbody tr th:only-of-type {\n        vertical-align: middle;\n    }\n\n    .dataframe tbody tr th {\n        vertical-align: top;\n    }\n\n    .dataframe thead th {\n        text-align: right;\n    }\n</style>\n<table border=\"1\" class=\"dataframe\">\n  <thead>\n    <tr style=\"text-align: right;\">\n      <th></th>\n      <th>Year</th>\n      <th>Yoshino peak bloom date</th>\n      <th>Cherry blossom festival start date</th>\n      <th>Cherry blossom festival duration</th>\n    </tr>\n  </thead>\n  <tbody>\n    <tr>\n      <th>0</th>\n      <td>1921</td>\n      <td>79</td>\n      <td>NaN</td>\n      <td>NaN</td>\n    </tr>\n    <tr>\n      <th>1</th>\n      <td>1922</td>\n      <td>97</td>\n      <td>NaN</td>\n      <td>NaN</td>\n    </tr>\n    <tr>\n      <th>2</th>\n      <td>1923</td>\n      <td>99</td>\n      <td>NaN</td>\n      <td>NaN</td>\n    </tr>\n    <tr>\n      <th>3</th>\n      <td>1924</td>\n      <td>104</td>\n      <td>NaN</td>\n      <td>NaN</td>\n    </tr>\n    <tr>\n      <th>4</th>\n      <td>1925</td>\n      <td>86</td>\n      <td>NaN</td>\n      <td>NaN</td>\n    </tr>\n  </tbody>\n</table>\n</div>"
     },
     "execution_count": 4,
     "metadata": {},
     "output_type": "execute_result"
    }
   ],
   "source": [
    "# Define the path to the data directory\n",
    "DATA_DIR = Path('../data')\n",
    "\n",
    "# Load the cherry blossom data\n",
    "raw_blossom_data = pd.read_csv(Path(DATA_DIR) / Path('cherry-blossoms_fig-1.csv'), header =6)\n",
    "raw_blossom_data.head()"
   ]
  },
  {
   "cell_type": "code",
   "execution_count": 5,
   "metadata": {
    "colab": {
     "base_uri": "https://localhost:8080/",
     "height": 449
    },
    "executionInfo": {
     "elapsed": 762,
     "status": "ok",
     "timestamp": 1729793405767,
     "user": {
      "displayName": "John Mark Agosta",
      "userId": "16151110811039278655"
     },
     "user_tz": 420
    },
    "id": "51BBiwg0IVQD",
    "outputId": "7394322a-b434-4dc9-d1c6-4e7b5f48b30c",
    "ExecuteTime": {
     "end_time": "2024-11-08T00:49:50.214965Z",
     "start_time": "2024-11-08T00:49:49.446569Z"
    }
   },
   "outputs": [
    {
     "data": {
      "text/plain": "<Figure size 640x480 with 1 Axes>",
      "image/png": "[encoded data removed]"
     },
     "metadata": {},
     "output_type": "display_data"
    }
   ],
   "source": [
    "# @title Year vs Yoshino peak bloom date\n",
    "\n",
    "from matplotlib import pyplot as plt\n",
    "raw_blossom_data.plot(kind='scatter', x='Year', y='Yoshino peak bloom date', s=20, alpha=.8, color='hotpink')\n",
    "plt.gca().spines[['top', 'right',]].set_visible(False)"
   ]
  },
  {
   "cell_type": "code",
   "execution_count": 6,
   "metadata": {
    "id": "EtuYbqoKIfQM",
    "colab": {
     "base_uri": "https://localhost:8080/",
     "height": 206
    },
    "collapsed": true,
    "executionInfo": {
     "status": "ok",
     "timestamp": 1729796361681,
     "user_tz": 420,
     "elapsed": 191,
     "user": {
      "displayName": "John Mark Agosta",
      "userId": "16151110811039278655"
     }
    },
    "outputId": "5ce9dbbc-2976-4b75-fa68-a6e92d078d00",
    "ExecuteTime": {
     "end_time": "2024-11-08T00:49:50.216461Z",
     "start_time": "2024-11-08T00:49:50.208600Z"
    }
   },
   "outputs": [
    {
     "data": {
      "text/plain": "          0         1         2\n0  0.099015 -0.169825  0.214986\n1  0.099015 -0.166463  0.202215\n2  0.099015 -0.163100  0.189699\n3  0.099015 -0.159737  0.177438\n4  0.099015 -0.156374  0.165433",
      "text/html": "<div>\n<style scoped>\n    .dataframe tbody tr th:only-of-type {\n        vertical-align: middle;\n    }\n\n    .dataframe tbody tr th {\n        vertical-align: top;\n    }\n\n    .dataframe thead th {\n        text-align: right;\n    }\n</style>\n<table border=\"1\" class=\"dataframe\">\n  <thead>\n    <tr style=\"text-align: right;\">\n      <th></th>\n      <th>0</th>\n      <th>1</th>\n      <th>2</th>\n    </tr>\n  </thead>\n  <tbody>\n    <tr>\n      <th>0</th>\n      <td>0.099015</td>\n      <td>-0.169825</td>\n      <td>0.214986</td>\n    </tr>\n    <tr>\n      <th>1</th>\n      <td>0.099015</td>\n      <td>-0.166463</td>\n      <td>0.202215</td>\n    </tr>\n    <tr>\n      <th>2</th>\n      <td>0.099015</td>\n      <td>-0.163100</td>\n      <td>0.189699</td>\n    </tr>\n    <tr>\n      <th>3</th>\n      <td>0.099015</td>\n      <td>-0.159737</td>\n      <td>0.177438</td>\n    </tr>\n    <tr>\n      <th>4</th>\n      <td>0.099015</td>\n      <td>-0.156374</td>\n      <td>0.165433</td>\n    </tr>\n  </tbody>\n</table>\n</div>"
     },
     "execution_count": 6,
     "metadata": {},
     "output_type": "execute_result"
    }
   ],
   "source": [
    "# Project the dependent variable on the 3 orthogonal columns, apply a 2nd degree  polynomial.\n",
    "\n",
    "outcome = np.array(raw_blossom_data['Yoshino peak bloom date'])\n",
    "n = len(outcome)\n",
    "\n",
    "def unit_len(v):\n",
    "  return v / la.norm(v)\n",
    "\n",
    "# Center the year series\n",
    "year_centered =  raw_blossom_data['Year'] - raw_blossom_data['Year'].mean()\n",
    "\n",
    "linear = unit_len(np.array(year_centered))\n",
    "ones = unit_len(np.ones((len(year_centered),)))\n",
    "quadratic = unit_len((np.square(linear) - np.square(linear).mean()))\n",
    "\n",
    "# cubic = cube(linear)\n",
    "cubic = np.power(linear, 3)\n",
    "\n",
    "design_matrix = np.vstack([ones, linear, quadratic]).T\n",
    "pd.DataFrame(design_matrix).head()"
   ]
  },
  {
   "cell_type": "code",
   "source": [
    "la.norm(ones), la.norm(linear), la.norm(quadratic)"
   ],
   "metadata": {
    "colab": {
     "base_uri": "https://localhost:8080/"
    },
    "id": "PxvBOHyX1zJD",
    "executionInfo": {
     "status": "ok",
     "timestamp": 1729796365840,
     "user_tz": 420,
     "elapsed": 160,
     "user": {
      "displayName": "John Mark Agosta",
      "userId": "16151110811039278655"
     }
    },
    "outputId": "2b4f882d-0031-429c-e562-37e036571d12",
    "ExecuteTime": {
     "end_time": "2024-11-08T00:49:50.475195Z",
     "start_time": "2024-11-08T00:49:50.381210Z"
    }
   },
   "execution_count": 7,
   "outputs": [
    {
     "data": {
      "text/plain": "(0.9999999999999999, 1.0, 1.0)"
     },
     "execution_count": 7,
     "metadata": {},
     "output_type": "execute_result"
    }
   ]
  },
  {
   "cell_type": "code",
   "source": [
    "# Check orthogonality of the columns\n",
    "np.round(np.dot(ones,linear)), np.round(np.dot(ones,quadratic), 6), np.round(np.dot(linear,quadratic), 6)"
   ],
   "metadata": {
    "colab": {
     "base_uri": "https://localhost:8080/"
    },
    "id": "Bmj47hcpyFFW",
    "executionInfo": {
     "status": "ok",
     "timestamp": 1729796369776,
     "user_tz": 420,
     "elapsed": 173,
     "user": {
      "displayName": "John Mark Agosta",
      "userId": "16151110811039278655"
     }
    },
    "outputId": "9cd687be-899e-4c2e-941e-ca10777f0599",
    "ExecuteTime": {
     "end_time": "2024-11-08T00:49:50.731937Z",
     "start_time": "2024-11-08T00:49:50.725957Z"
    }
   },
   "execution_count": 8,
   "outputs": [
    {
     "data": {
      "text/plain": "(0.0, -0.0, 0.0)"
     },
     "execution_count": 8,
     "metadata": {},
     "output_type": "execute_result"
    }
   ]
  },
  {
   "cell_type": "code",
   "source": [
    "# To project the polynomial terms, 1, x & x^2 onto the peak bloom date\n",
    "\n",
    "# The coefficients of the projection\n",
    "zero_order = np.dot(outcome, ones)\n",
    "first_order = np.dot(outcome, linear)\n",
    "second_order = np.dot(outcome, quadratic)\n",
    "zero_order, first_order, second_order\n"
   ],
   "metadata": {
    "colab": {
     "base_uri": "https://localhost:8080/"
    },
    "id": "eTorFt5jw3do",
    "executionInfo": {
     "status": "ok",
     "timestamp": 1729796374249,
     "user_tz": 420,
     "elapsed": 181,
     "user": {
      "displayName": "John Mark Agosta",
      "userId": "16151110811039278655"
     }
    },
    "outputId": "80ab8320-95d4-43fa-fb7f-c2c39720057d",
    "ExecuteTime": {
     "end_time": "2024-11-08T00:49:50.950791Z",
     "start_time": "2024-11-08T00:49:50.945123Z"
    }
   },
   "execution_count": 9,
   "outputs": [
    {
     "data": {
      "text/plain": "(944.4027264911521, -20.93055873625101, -15.279592153233377)"
     },
     "execution_count": 9,
     "metadata": {},
     "output_type": "execute_result"
    }
   ]
  },
  {
   "cell_type": "code",
   "source": [
    "# Assemble the full projection\n",
    "\n",
    "peak_bloom_projection = zero_order * ones + first_order * linear +second_order * quadratic\n",
    "projection_df = pd.DataFrame(peak_bloom_projection, columns = ['projection'], index= raw_blossom_data.Year).reset_index()\n",
    "projection_df.head()"
   ],
   "metadata": {
    "colab": {
     "base_uri": "https://localhost:8080/",
     "height": 206
    },
    "id": "mj5nKMRM3N9F",
    "executionInfo": {
     "status": "ok",
     "timestamp": 1729797208547,
     "user_tz": 420,
     "elapsed": 185,
     "user": {
      "displayName": "John Mark Agosta",
      "userId": "16151110811039278655"
     }
    },
    "outputId": "ccd1d94d-7c9b-4408-a196-e9323d7d5ad8",
    "ExecuteTime": {
     "end_time": "2024-11-08T00:49:51.377010Z",
     "start_time": "2024-11-08T00:49:51.361288Z"
    }
   },
   "execution_count": 10,
   "outputs": [
    {
     "data": {
      "text/plain": "   Year  projection\n0  1921   93.779445\n1  1922   93.904200\n2  1923   94.025053\n3  1924   94.142003\n4  1925   94.255050",
      "text/html": "<div>\n<style scoped>\n    .dataframe tbody tr th:only-of-type {\n        vertical-align: middle;\n    }\n\n    .dataframe tbody tr th {\n        vertical-align: top;\n    }\n\n    .dataframe thead th {\n        text-align: right;\n    }\n</style>\n<table border=\"1\" class=\"dataframe\">\n  <thead>\n    <tr style=\"text-align: right;\">\n      <th></th>\n      <th>Year</th>\n      <th>projection</th>\n    </tr>\n  </thead>\n  <tbody>\n    <tr>\n      <th>0</th>\n      <td>1921</td>\n      <td>93.779445</td>\n    </tr>\n    <tr>\n      <th>1</th>\n      <td>1922</td>\n      <td>93.904200</td>\n    </tr>\n    <tr>\n      <th>2</th>\n      <td>1923</td>\n      <td>94.025053</td>\n    </tr>\n    <tr>\n      <th>3</th>\n      <td>1924</td>\n      <td>94.142003</td>\n    </tr>\n    <tr>\n      <th>4</th>\n      <td>1925</td>\n      <td>94.255050</td>\n    </tr>\n  </tbody>\n</table>\n</div>"
     },
     "execution_count": 10,
     "metadata": {},
     "output_type": "execute_result"
    }
   ]
  },
  {
   "cell_type": "code",
   "source": [
    "predicted_data = pd.merge(projection_df,\\\n",
    "                            raw_blossom_data[['Year', 'Yoshino peak bloom date']])\n",
    "src = ColumnDataSource(predicted_data)\n",
    "p = figure(title = '2nd order fit to Peak Bloom Date')\n",
    "p.scatter(x= 'Year', y='Yoshino peak bloom date', source=src , color='hotpink', size=5)\n",
    "p.line(x= 'Year', y='projection', source=src, color='blue')\n",
    "show(p)"
   ],
   "metadata": {
    "colab": {
     "base_uri": "https://localhost:8080/",
     "height": 617
    },
    "id": "ZdhV1ygt3NzQ",
    "executionInfo": {
     "status": "ok",
     "timestamp": 1729797798970,
     "user_tz": 420,
     "elapsed": 373,
     "user": {
      "displayName": "John Mark Agosta",
      "userId": "16151110811039278655"
     }
    },
    "outputId": "67259c65-ba1d-4074-a56e-6cdfd5ab3355",
    "ExecuteTime": {
     "end_time": "2024-11-08T00:49:52.113095Z",
     "start_time": "2024-11-08T00:49:52.040043Z"
    }
   },
   "execution_count": 11,
   "outputs": [
    {
     "data": {
      "text/html": "\n  <div id=\"b23a7743-61e8-46f3-b766-0a67bbbaaf5c\" data-root-id=\"p1004\" style=\"display: contents;\"></div>\n"
     },
     "metadata": {},
     "output_type": "display_data"
    },
    {
     "data": {
      "application/javascript": "(function(root) {\n  function embed_document(root) {\n  const docs_json = {\"756fce7d-4494-40b0-af9b-0442aa1f0ed7\":{\"version\":\"3.6.1\",\"title\":\"Bokeh Application\",\"roots\":[{\"type\":\"object\",\"name\":\"Figure\",\"id\":\"p1004\",\"attributes\":{\"x_range\":{\"type\":\"object\",\"name\":\"DataRange1d\",\"id\":\"p1005\"},\"y_range\":{\"type\":\"object\",\"name\":\"DataRange1d\",\"id\":\"p1006\"},\"x_scale\":{\"type\":\"object\",\"name\":\"LinearScale\",\"id\":\"p1014\"},\"y_scale\":{\"type\":\"object\",\"name\":\"LinearScale\",\"id\":\"p1015\"},\"title\":{\"type\":\"object\",\"name\":\"Title\",\"id\":\"p1007\",\"attributes\":{\"text\":\"2nd order fit to Peak Bloom Date\",\"text_color\":\"#5B5B5B\",\"text_font\":\"Helvetica\",\"text_font_size\":\"1.15em\"}},\"renderers\":[{\"type\":\"object\",\"name\":\"GlyphRenderer\",\"id\":\"p1045\",\"attributes\":{\"data_source\":{\"type\":\"object\",\"name\":\"ColumnDataSource\",\"id\":\"p1001\",\"attributes\":{\"selected\":{\"type\":\"object\",\"name\":\"Selection\",\"id\":\"p1002\",\"attributes\":{\"indices\":[],\"line_indices\":[]}},\"selection_policy\":{\"type\":\"object\",\"name\":\"UnionRenderers\",\"id\":\"p1003\"},\"data\":{\"type\":\"map\",\"entries\":[[\"index\",{\"type\":\"ndarray\",\"array\":{\"type\":\"bytes\",\"data\":\"AAAAAAEAAAACAAAAAwAAAAQAAAAFAAAABgAAAAcAAAAIAAAACQAAAAoAAAALAAAADAAAAA0AAAAOAAAADwAAABAAAAARAAAAEgAAABMAAAAUAAAAFQAAABYAAAAXAAAAGAAAABkAAAAaAAAAGwAAABwAAAAdAAAAHgAAAB8AAAAgAAAAIQAAACIAAAAjAAAAJAAAACUAAAAmAAAAJwAAACgAAAApAAAAKgAAACsAAAAsAAAALQAAAC4AAAAvAAAAMAAAADEAAAAyAAAAMwAAADQAAAA1AAAANgAAADcAAAA4AAAAOQAAADoAAAA7AAAAPAAAAD0AAAA+AAAAPwAAAEAAAABBAAAAQgAAAEMAAABEAAAARQAAAEYAAABHAAAASAAAAEkAAABKAAAASwAAAEwAAABNAAAATgAAAE8AAABQAAAAUQAAAFIAAABTAAAAVAAAAFUAAABWAAAAVwAAAFgAAABZAAAAWgAAAFsAAABcAAAAXQAAAF4AAABfAAAAYAAAAGEAAABiAAAAYwAAAGQAAABlAAAA\"},\"shape\":[102],\"dtype\":\"int32\",\"order\":\"little\"}],[\"Year\",{\"type\":\"ndarray\",\"array\":{\"type\":\"bytes\",\"data\":\"gQcAAIIHAACDBwAAhAcAAIUHAACGBwAAhwcAAIgHAACJBwAAigcAAIsHAACMBwAAjQcAAI4HAACPBwAAkAcAAJEHAACSBwAAkwcAAJQHAACVBwAAlgcAAJcHAACYBwAAmQcAAJoHAACbBwAAnAcAAJ0HAACeBwAAnwcAAKAHAAChBwAAogcAAKMHAACkBwAApQcAAKYHAACnBwAAqAcAAKkHAACqBwAAqwcAAKwHAACtBwAArgcAAK8HAACwBwAAsQcAALIHAACzBwAAtAcAALUHAAC2BwAAtwcAALgHAAC5BwAAugcAALsHAAC8BwAAvQcAAL4HAAC/BwAAwAcAAMEHAADCBwAAwwcAAMQHAADFBwAAxgcAAMcHAADIBwAAyQcAAMoHAADLBwAAzAcAAM0HAADOBwAAzwcAANAHAADRBwAA0gcAANMHAADUBwAA1QcAANYHAADXBwAA2AcAANkHAADaBwAA2wcAANwHAADdBwAA3gcAAN8HAADgBwAA4QcAAOIHAADjBwAA5AcAAOUHAADmBwAA\"},\"shape\":[102],\"dtype\":\"int32\",\"order\":\"little\"}],[\"projection\",{\"type\":\"ndarray\",\"array\":{\"type\":\"bytes\",\"data\":\"ob8TbOJxV0DQtwRr3nlXQEp9N3iagVdAEBCskxaJV0AgcGK9UpBXQHydWvVOl1dAJZiUOwueV0AYYBCQh6RXQFf1zfLDqldA4lfNY8CwV0C4hw7jfLZXQNmEkXD5u1dARk9WDDbBV0D/5ly2MsZXQARMpW7vyldAU34vNWzPV0DvffsJqdNXQNRKCe2l11dAB+VY3mLbV0CETOrd395XQE6Bvesc4ldAY4PSBxrlV0DDUiky1+dXQG7vwWpU6ldAZVmcsZHsV0CokLgGj+5XQDaVFmpM8FdAEGe228nxV0A1BphbB/NXQKVyu+kE9FdAYqwghsL0V0Bps8cwQPVXQL2HsOl99VdAXCnbsHv1V0BGmEeGOfVXQHvU9Wm39FdA/N3lW/XzV0DJtBdc8/JXQOJYi2qx8VdARspAhy/wV0D1CDiybe5XQPAUcetr7FdANe7rMirqV0DHlKiIqOdXQKUIp+zm5FdAzknnXuXhV0BCWGnfo95XQAI0LW4i21dADd0yC2HXV0BkU3q2X9NXQAaXA3Aez1dA9KfON53KV0AuhtsN3MVXQLMxKvLawFdAgqq65Jm7V0Ce8IzlGLZXQAYEofRXsFdAueT2EVeqV0C3ko49FqRXQAEOaHeVnVdAllaDv9SWV0B3bOAV1I9XQKRPf3qTiFdAHABg7RKBV0DffYJuUnlXQO7I5v1RcVdASeGMmxFpV0DuxnRHkWBXQOB5ngHRV1dAHfoJytBOV0ClR7egkEVXQHpipoUQPFdAmUrXeFAyV0ADAEp6UChXQLqC/okQHldAvNL0p5ATV0AK8CzU0AhXQKPapg7R/VZAiJJiV5HyVkC3F2CuEedWQDNqnxNS21ZA+okgh1LPVkAMd+MIE8NWQGsx6JiTtlZAFLkuN9SpVkAJDrfj1JxWQEkwgZ6Vj1ZA1h+NZxaCVkCt3No+V3RWQNBmaiRYZlZAP747GBlYVkD44k4amklWQP7UoyrbOlZAT5Q6SdwrVkDsIBN2nRxWQNV6LbEeDVZACKKJ+l/9VUCIlidSYe1VQFJYB7gi3VVAaOcoLKTMVUDKQ4yu5btVQHdtMT/nqlVA\"},\"shape\":[102],\"dtype\":\"float64\",\"order\":\"little\"}],[\"Yoshino peak bloom date\",{\"type\":\"ndarray\",\"array\":{\"type\":\"bytes\",\"data\":\"TwAAAGEAAABjAAAAaAAAAFYAAABlAAAATwAAAGMAAABaAAAAWwAAAGUAAABqAAAAYwAAAGkAAABbAAAAYgAAAGgAAABUAAAAWQAAAGgAAABmAAAAXwAAAF4AAABkAAAATwAAAFIAAABmAAAAWAAAAFgAAABjAAAAYAAAAGQAAABWAAAAYAAAAFwAAABhAAAAYgAAAGwAAABgAAAAaQAAAFwAAABhAAAAXQAAAGYAAABpAAAAXwAAAGAAAABaAAAAYwAAAGoAAABiAAAAZgAAAGUAAABdAAAAXQAAAFMAAABVAAAAZgAAAFwAAABhAAAAXQAAAGEAAABhAAAAXgAAAGEAAABcAAAAVwAAAFsAAABYAAAASgAAAFgAAABiAAAAZQAAAF8AAABcAAAAXwAAAFUAAABWAAAAXwAAAE0AAABgAAAAXAAAAFwAAABbAAAAYwAAAFkAAABbAAAAVgAAAFsAAABaAAAAWAAAAFAAAABjAAAAZAAAAGQAAABVAAAAVAAAAF8AAABbAAAAUAAAAFcAAABQAAAA\"},\"shape\":[102],\"dtype\":\"int32\",\"order\":\"little\"}]]}}},\"view\":{\"type\":\"object\",\"name\":\"CDSView\",\"id\":\"p1046\",\"attributes\":{\"filter\":{\"type\":\"object\",\"name\":\"AllIndices\",\"id\":\"p1047\"}}},\"glyph\":{\"type\":\"object\",\"name\":\"Scatter\",\"id\":\"p1042\",\"attributes\":{\"x\":{\"type\":\"field\",\"field\":\"Year\"},\"y\":{\"type\":\"field\",\"field\":\"Yoshino peak bloom date\"},\"size\":{\"type\":\"value\",\"value\":5},\"line_color\":{\"type\":\"value\",\"value\":\"hotpink\"},\"fill_color\":{\"type\":\"value\",\"value\":\"hotpink\"},\"hatch_color\":{\"type\":\"value\",\"value\":\"hotpink\"}}},\"nonselection_glyph\":{\"type\":\"object\",\"name\":\"Scatter\",\"id\":\"p1043\",\"attributes\":{\"x\":{\"type\":\"field\",\"field\":\"Year\"},\"y\":{\"type\":\"field\",\"field\":\"Yoshino peak bloom date\"},\"size\":{\"type\":\"value\",\"value\":5},\"line_color\":{\"type\":\"value\",\"value\":\"hotpink\"},\"line_alpha\":{\"type\":\"value\",\"value\":0.1},\"fill_color\":{\"type\":\"value\",\"value\":\"hotpink\"},\"fill_alpha\":{\"type\":\"value\",\"value\":0.1},\"hatch_color\":{\"type\":\"value\",\"value\":\"hotpink\"},\"hatch_alpha\":{\"type\":\"value\",\"value\":0.1}}},\"muted_glyph\":{\"type\":\"object\",\"name\":\"Scatter\",\"id\":\"p1044\",\"attributes\":{\"x\":{\"type\":\"field\",\"field\":\"Year\"},\"y\":{\"type\":\"field\",\"field\":\"Yoshino peak bloom date\"},\"size\":{\"type\":\"value\",\"value\":5},\"line_color\":{\"type\":\"value\",\"value\":\"hotpink\"},\"line_alpha\":{\"type\":\"value\",\"value\":0.2},\"fill_color\":{\"type\":\"value\",\"value\":\"hotpink\"},\"fill_alpha\":{\"type\":\"value\",\"value\":0.2},\"hatch_color\":{\"type\":\"value\",\"value\":\"hotpink\"},\"hatch_alpha\":{\"type\":\"value\",\"value\":0.2}}}}},{\"type\":\"object\",\"name\":\"GlyphRenderer\",\"id\":\"p1054\",\"attributes\":{\"data_source\":{\"id\":\"p1001\"},\"view\":{\"type\":\"object\",\"name\":\"CDSView\",\"id\":\"p1055\",\"attributes\":{\"filter\":{\"type\":\"object\",\"name\":\"AllIndices\",\"id\":\"p1056\"}}},\"glyph\":{\"type\":\"object\",\"name\":\"Line\",\"id\":\"p1051\",\"attributes\":{\"x\":{\"type\":\"field\",\"field\":\"Year\"},\"y\":{\"type\":\"field\",\"field\":\"projection\"},\"line_color\":\"blue\"}},\"nonselection_glyph\":{\"type\":\"object\",\"name\":\"Line\",\"id\":\"p1052\",\"attributes\":{\"x\":{\"type\":\"field\",\"field\":\"Year\"},\"y\":{\"type\":\"field\",\"field\":\"projection\"},\"line_color\":\"blue\",\"line_alpha\":0.1}},\"muted_glyph\":{\"type\":\"object\",\"name\":\"Line\",\"id\":\"p1053\",\"attributes\":{\"x\":{\"type\":\"field\",\"field\":\"Year\"},\"y\":{\"type\":\"field\",\"field\":\"projection\"},\"line_color\":\"blue\",\"line_alpha\":0.2}}}}],\"toolbar\":{\"type\":\"object\",\"name\":\"Toolbar\",\"id\":\"p1013\",\"attributes\":{\"tools\":[{\"type\":\"object\",\"name\":\"PanTool\",\"id\":\"p1026\"},{\"type\":\"object\",\"name\":\"WheelZoomTool\",\"id\":\"p1027\",\"attributes\":{\"renderers\":\"auto\"}},{\"type\":\"object\",\"name\":\"BoxZoomTool\",\"id\":\"p1028\",\"attributes\":{\"overlay\":{\"type\":\"object\",\"name\":\"BoxAnnotation\",\"id\":\"p1029\",\"attributes\":{\"syncable\":false,\"line_color\":\"black\",\"line_alpha\":1.0,\"line_width\":2,\"line_dash\":[4,4],\"fill_color\":\"lightgrey\",\"fill_alpha\":0.5,\"level\":\"overlay\",\"visible\":false,\"left\":{\"type\":\"number\",\"value\":\"nan\"},\"right\":{\"type\":\"number\",\"value\":\"nan\"},\"top\":{\"type\":\"number\",\"value\":\"nan\"},\"bottom\":{\"type\":\"number\",\"value\":\"nan\"},\"left_units\":\"canvas\",\"right_units\":\"canvas\",\"top_units\":\"canvas\",\"bottom_units\":\"canvas\",\"handles\":{\"type\":\"object\",\"name\":\"BoxInteractionHandles\",\"id\":\"p1035\",\"attributes\":{\"all\":{\"type\":\"object\",\"name\":\"AreaVisuals\",\"id\":\"p1034\",\"attributes\":{\"fill_color\":\"white\",\"hover_fill_color\":\"lightgray\"}}}}}}}},{\"type\":\"object\",\"name\":\"SaveTool\",\"id\":\"p1036\"},{\"type\":\"object\",\"name\":\"ResetTool\",\"id\":\"p1037\"},{\"type\":\"object\",\"name\":\"HelpTool\",\"id\":\"p1038\"}]}},\"left\":[{\"type\":\"object\",\"name\":\"LinearAxis\",\"id\":\"p1021\",\"attributes\":{\"ticker\":{\"type\":\"object\",\"name\":\"BasicTicker\",\"id\":\"p1022\",\"attributes\":{\"mantissas\":[1,2,5]}},\"formatter\":{\"type\":\"object\",\"name\":\"BasicTickFormatter\",\"id\":\"p1023\"},\"axis_label_standoff\":10,\"axis_label_text_color\":\"#5B5B5B\",\"axis_label_text_font\":\"Helvetica\",\"axis_label_text_font_size\":\"1.25em\",\"axis_label_text_font_style\":\"normal\",\"major_label_policy\":{\"type\":\"object\",\"name\":\"AllLabels\",\"id\":\"p1024\"},\"major_label_text_color\":\"#5B5B5B\",\"major_label_text_font\":\"Helvetica\",\"major_label_text_font_size\":\"1.025em\",\"axis_line_color\":\"#5B5B5B\",\"axis_line_alpha\":0,\"major_tick_line_color\":\"#5B5B5B\",\"major_tick_line_alpha\":0,\"minor_tick_line_color\":\"#5B5B5B\",\"minor_tick_line_alpha\":0}}],\"below\":[{\"type\":\"object\",\"name\":\"LinearAxis\",\"id\":\"p1016\",\"attributes\":{\"ticker\":{\"type\":\"object\",\"name\":\"BasicTicker\",\"id\":\"p1017\",\"attributes\":{\"mantissas\":[1,2,5]}},\"formatter\":{\"type\":\"object\",\"name\":\"BasicTickFormatter\",\"id\":\"p1018\"},\"axis_label_standoff\":10,\"axis_label_text_color\":\"#5B5B5B\",\"axis_label_text_font\":\"Helvetica\",\"axis_label_text_font_size\":\"1.25em\",\"axis_label_text_font_style\":\"normal\",\"major_label_policy\":{\"type\":\"object\",\"name\":\"AllLabels\",\"id\":\"p1019\"},\"major_label_text_color\":\"#5B5B5B\",\"major_label_text_font\":\"Helvetica\",\"major_label_text_font_size\":\"1.025em\",\"axis_line_color\":\"#5B5B5B\",\"axis_line_alpha\":0,\"major_tick_line_color\":\"#5B5B5B\",\"major_tick_line_alpha\":0,\"minor_tick_line_color\":\"#5B5B5B\",\"minor_tick_line_alpha\":0}}],\"center\":[{\"type\":\"object\",\"name\":\"Grid\",\"id\":\"p1020\",\"attributes\":{\"axis\":{\"id\":\"p1016\"}}},{\"type\":\"object\",\"name\":\"Grid\",\"id\":\"p1025\",\"attributes\":{\"dimension\":1,\"axis\":{\"id\":\"p1021\"}}}]}}]}};\n  const render_items = [{\"docid\":\"756fce7d-4494-40b0-af9b-0442aa1f0ed7\",\"roots\":{\"p1004\":\"b23a7743-61e8-46f3-b766-0a67bbbaaf5c\"},\"root_ids\":[\"p1004\"]}];\n  void root.Bokeh.embed.embed_items_notebook(docs_json, render_items);\n  }\n  if (root.Bokeh !== undefined) {\n    embed_document(root);\n  } else {\n    let attempts = 0;\n    const timer = setInterval(function(root) {\n      if (root.Bokeh !== undefined) {\n        clearInterval(timer);\n        embed_document(root);\n      } else {\n        attempts++;\n        if (attempts > 100) {\n          clearInterval(timer);\n          console.log(\"Bokeh: ERROR: Unable to run BokehJS code because BokehJS library is missing\");\n        }\n      }\n    }, 10, root)\n  }\n})(window);",
      "application/vnd.bokehjs_exec.v0+json": ""
     },
     "metadata": {
      "application/vnd.bokehjs_exec.v0+json": {
       "id": "p1004"
      }
     },
     "output_type": "display_data"
    }
   ]
  },
  {
   "cell_type": "code",
   "source": [
    "# Compute the error for the fit\n",
    "\n",
    "def root_mean_squared_error(actual, predicted, df):\n",
    "  error = df[actual] - df[predicted]\n",
    "  return np.sqrt(np.mean(np.square(error)))\n",
    "\n",
    "'Root mean squared error', root_mean_squared_error('Yoshino peak bloom date', 'projection', predicted_data)"
   ],
   "metadata": {
    "colab": {
     "base_uri": "https://localhost:8080/"
    },
    "id": "M6jN8w6-9jfG",
    "executionInfo": {
     "status": "ok",
     "timestamp": 1729797829983,
     "user_tz": 420,
     "elapsed": 237,
     "user": {
      "displayName": "John Mark Agosta",
      "userId": "16151110811039278655"
     }
    },
    "outputId": "9f363394-4000-4b3e-831f-19d6e506a4fc",
    "ExecuteTime": {
     "end_time": "2024-11-08T00:49:52.846008Z",
     "start_time": "2024-11-08T00:49:52.834196Z"
    }
   },
   "execution_count": 12,
   "outputs": [
    {
     "data": {
      "text/plain": "('Root mean squared error', 6.8784516972889715)"
     },
     "execution_count": 12,
     "metadata": {},
     "output_type": "execute_result"
    }
   ]
  },
  {
   "cell_type": "markdown",
   "source": [
    "## Repeat this regression, applying  Gram-Schmidt orthogonalization to create higher-order columns\n",
    "\n",
    "Expand the projection by adding an ortho-normal column for higher order terms. You can use Gram-Schmidt to create new columns.\n",
    "\n",
    "For instance, create the 3rd order column by starting with the cubed year:\n",
    "\n",
    "  `cube = np.vectorize(lambda x: pow(x, 3))`\n",
    "\n",
    "New columns need to be made orthogonal to the previous columns, and normalized to unit length for the projection to work.\n",
    "\n",
    " Check the error (it should decrease).  Show the plot for the new projection.   "
   ],
   "metadata": {
    "id": "v5E8i3AL_JfW"
   }
  },
  {
   "cell_type": "markdown",
   "source": [
    "## Implementing Gram-Schmidt orthogonalization to create higher-order columns\n",
    "1. use the previous codes to generate required data\n",
    "2. create the 3rd order column by starting with the cubed year:\n",
    "  `cube = np.vectorize(lambda x: pow(x, 3))`\n",
    "3. New columns need to be made orthogonal to the previous columns\n",
    "4. use bokeh package to plot the graph following previouse graph\n",
    "5. generate 3rd order column by starting with the cubed year!\n",
    "6. Check the error (it should decrease). Show the plot for the new projection.\n",
    "\n"
   ],
   "metadata": {
    "collapsed": false
   }
  },
  {
   "cell_type": "code",
   "execution_count": 16,
   "outputs": [
    {
     "name": "stdout",
     "output_type": "stream",
     "text": [
      "Root mean squared error with cubic term: 6.866592806905607\n"
     ]
    },
    {
     "data": {
      "text/html": "\n  <div id=\"fe5b8dd6-6321-467e-94b5-d5cb95007c50\" data-root-id=\"p1244\" style=\"display: contents;\"></div>\n"
     },
     "metadata": {},
     "output_type": "display_data"
    },
    {
     "data": {
      "application/javascript": "(function(root) {\n  function embed_document(root) {\n  const docs_json = {\"82a2b513-a2b9-4f15-8d00-31fdd20304b7\":{\"version\":\"3.6.1\",\"title\":\"Bokeh Application\",\"roots\":[{\"type\":\"object\",\"name\":\"Figure\",\"id\":\"p1244\",\"attributes\":{\"x_range\":{\"type\":\"object\",\"name\":\"DataRange1d\",\"id\":\"p1245\"},\"y_range\":{\"type\":\"object\",\"name\":\"DataRange1d\",\"id\":\"p1246\"},\"x_scale\":{\"type\":\"object\",\"name\":\"LinearScale\",\"id\":\"p1254\"},\"y_scale\":{\"type\":\"object\",\"name\":\"LinearScale\",\"id\":\"p1255\"},\"title\":{\"type\":\"object\",\"name\":\"Title\",\"id\":\"p1247\",\"attributes\":{\"text\":\"3rd Order Fit to Peak Bloom Date\",\"text_color\":\"#5B5B5B\",\"text_font\":\"Helvetica\",\"text_font_size\":\"1.15em\"}},\"renderers\":[{\"type\":\"object\",\"name\":\"GlyphRenderer\",\"id\":\"p1285\",\"attributes\":{\"data_source\":{\"type\":\"object\",\"name\":\"ColumnDataSource\",\"id\":\"p1241\",\"attributes\":{\"selected\":{\"type\":\"object\",\"name\":\"Selection\",\"id\":\"p1242\",\"attributes\":{\"indices\":[],\"line_indices\":[]}},\"selection_policy\":{\"type\":\"object\",\"name\":\"UnionRenderers\",\"id\":\"p1243\"},\"data\":{\"type\":\"map\",\"entries\":[[\"index\",{\"type\":\"ndarray\",\"array\":{\"type\":\"bytes\",\"data\":\"AAAAAAEAAAACAAAAAwAAAAQAAAAFAAAABgAAAAcAAAAIAAAACQAAAAoAAAALAAAADAAAAA0AAAAOAAAADwAAABAAAAARAAAAEgAAABMAAAAUAAAAFQAAABYAAAAXAAAAGAAAABkAAAAaAAAAGwAAABwAAAAdAAAAHgAAAB8AAAAgAAAAIQAAACIAAAAjAAAAJAAAACUAAAAmAAAAJwAAACgAAAApAAAAKgAAACsAAAAsAAAALQAAAC4AAAAvAAAAMAAAADEAAAAyAAAAMwAAADQAAAA1AAAANgAAADcAAAA4AAAAOQAAADoAAAA7AAAAPAAAAD0AAAA+AAAAPwAAAEAAAABBAAAAQgAAAEMAAABEAAAARQAAAEYAAABHAAAASAAAAEkAAABKAAAASwAAAEwAAABNAAAATgAAAE8AAABQAAAAUQAAAFIAAABTAAAAVAAAAFUAAABWAAAAVwAAAFgAAABZAAAAWgAAAFsAAABcAAAAXQAAAF4AAABfAAAAYAAAAGEAAABiAAAAYwAAAGQAAABlAAAA\"},\"shape\":[102],\"dtype\":\"int32\",\"order\":\"little\"}],[\"Year\",{\"type\":\"ndarray\",\"array\":{\"type\":\"bytes\",\"data\":\"gQcAAIIHAACDBwAAhAcAAIUHAACGBwAAhwcAAIgHAACJBwAAigcAAIsHAACMBwAAjQcAAI4HAACPBwAAkAcAAJEHAACSBwAAkwcAAJQHAACVBwAAlgcAAJcHAACYBwAAmQcAAJoHAACbBwAAnAcAAJ0HAACeBwAAnwcAAKAHAAChBwAAogcAAKMHAACkBwAApQcAAKYHAACnBwAAqAcAAKkHAACqBwAAqwcAAKwHAACtBwAArgcAAK8HAACwBwAAsQcAALIHAACzBwAAtAcAALUHAAC2BwAAtwcAALgHAAC5BwAAugcAALsHAAC8BwAAvQcAAL4HAAC/BwAAwAcAAMEHAADCBwAAwwcAAMQHAADFBwAAxgcAAMcHAADIBwAAyQcAAMoHAADLBwAAzAcAAM0HAADOBwAAzwcAANAHAADRBwAA0gcAANMHAADUBwAA1QcAANYHAADXBwAA2AcAANkHAADaBwAA2wcAANwHAADdBwAA3gcAAN8HAADgBwAA4QcAAOIHAADjBwAA5AcAAOUHAADmBwAA\"},\"shape\":[102],\"dtype\":\"int32\",\"order\":\"little\"}],[\"projection\",{\"type\":\"ndarray\",\"array\":{\"type\":\"bytes\",\"data\":\"/qgpV20xV0DbEGTcEUFXQNRmKWkUUFdAxm5w+HZeV0CN7C+FO2xXQAekXgpkeVdAElnzgvKFV0CIz+Tp6JFXQEfLKTpJnVdALBC5bhWoV0ATYomCT7JXQNmEkXD5u1dAWzzIMxXFV0B2TCTHpM1XQAh5nCWq1VdA6YUnSifdV0D8NrwvHuRXQBdQUdGQ6ldAHZXdKYHwV0DnyVc08fVXQFSytuvi+ldAQBLxSlj/V0CGrf1MUwNYQARI0+zVBlhAl6VoJeIJWEAdirTxeQxYQHC5rUyfDlhAb/dKMVQQWED1B4OamhFYQOCuTIN0ElhADbCe5uMSWEBXz2+/6hJYQJ7QtgiLElhAu3dqvcYRWECNiIHYnxBYQO/G8lQYD1hAv/a0LTINWEDb275d7wpYQB46B+BRCFhAZdWEr1sFWECNcS7HDgJYQHLS+iFt/ldA8bvgunj6V0Do8daMM/ZXQDQ41JKf8VdAr1LPx77sV0A4Bb8mk+dXQKsTmqoe4ldA5EFXTmPcV0DCU+0MY9ZXQB8NU+Ef0FdA2zF/xpvJV0DQhWi32MJXQNzMBa/Yu1dA2cpNqJ20V0CoQzeeKa1XQCX7uIt+pVdAKrXJa56dV0CWNWA5i5VXQEVAc+9GjVdAFJn5iNOEV0DfA+oAM3xXQIVEO1Jnc1dA4B7kd3JqV0DNVttsVmFXQCuwFywVWFdA1e6PsLBOV0Cn1jr1KkVXQIErD/WFO1dAPLEDq8MxV0C3Kw8S5idXQM9eKCXvHVdAXg5G3+ATV0BD/l47vQlXQFvyaTSG/1ZAgq5dxT31VkCV9jDp5epWQHGO2pqA4FZA8jlR1Q/WVkD0vIuTlctWQFbbgNATwVZA9Fgnh4y2VkCp+XWyAaxWQFWBY011oVZA0bPmUumWVkD8VPa9X4xWQLMoiYnagVZA0vKVsFt3VkA2dxMu5WxWQLt5+Px4YlZAP747GBlYVkCdCNR6x01WQLQcuB+GQ1ZAX77eAVc5VkB8sT4cPC9WQOi5zmk3JVZAfZuF5UobVkAbGlqKeBFWQJz5QlPCB1ZA3v02Oyr+VUC/6iw9svRVQBqEG1Rc61VA\"},\"shape\":[102],\"dtype\":\"float64\",\"order\":\"little\"}],[\"Yoshino peak bloom date\",{\"type\":\"ndarray\",\"array\":{\"type\":\"bytes\",\"data\":\"TwAAAGEAAABjAAAAaAAAAFYAAABlAAAATwAAAGMAAABaAAAAWwAAAGUAAABqAAAAYwAAAGkAAABbAAAAYgAAAGgAAABUAAAAWQAAAGgAAABmAAAAXwAAAF4AAABkAAAATwAAAFIAAABmAAAAWAAAAFgAAABjAAAAYAAAAGQAAABWAAAAYAAAAFwAAABhAAAAYgAAAGwAAABgAAAAaQAAAFwAAABhAAAAXQAAAGYAAABpAAAAXwAAAGAAAABaAAAAYwAAAGoAAABiAAAAZgAAAGUAAABdAAAAXQAAAFMAAABVAAAAZgAAAFwAAABhAAAAXQAAAGEAAABhAAAAXgAAAGEAAABcAAAAVwAAAFsAAABYAAAASgAAAFgAAABiAAAAZQAAAF8AAABcAAAAXwAAAFUAAABWAAAAXwAAAE0AAABgAAAAXAAAAFwAAABbAAAAYwAAAFkAAABbAAAAVgAAAFsAAABaAAAAWAAAAFAAAABjAAAAZAAAAGQAAABVAAAAVAAAAF8AAABbAAAAUAAAAFcAAABQAAAA\"},\"shape\":[102],\"dtype\":\"int32\",\"order\":\"little\"}]]}}},\"view\":{\"type\":\"object\",\"name\":\"CDSView\",\"id\":\"p1286\",\"attributes\":{\"filter\":{\"type\":\"object\",\"name\":\"AllIndices\",\"id\":\"p1287\"}}},\"glyph\":{\"type\":\"object\",\"name\":\"Scatter\",\"id\":\"p1282\",\"attributes\":{\"x\":{\"type\":\"field\",\"field\":\"Year\"},\"y\":{\"type\":\"field\",\"field\":\"Yoshino peak bloom date\"},\"size\":{\"type\":\"value\",\"value\":5},\"line_color\":{\"type\":\"value\",\"value\":\"hotpink\"},\"fill_color\":{\"type\":\"value\",\"value\":\"hotpink\"},\"hatch_color\":{\"type\":\"value\",\"value\":\"hotpink\"}}},\"nonselection_glyph\":{\"type\":\"object\",\"name\":\"Scatter\",\"id\":\"p1283\",\"attributes\":{\"x\":{\"type\":\"field\",\"field\":\"Year\"},\"y\":{\"type\":\"field\",\"field\":\"Yoshino peak bloom date\"},\"size\":{\"type\":\"value\",\"value\":5},\"line_color\":{\"type\":\"value\",\"value\":\"hotpink\"},\"line_alpha\":{\"type\":\"value\",\"value\":0.1},\"fill_color\":{\"type\":\"value\",\"value\":\"hotpink\"},\"fill_alpha\":{\"type\":\"value\",\"value\":0.1},\"hatch_color\":{\"type\":\"value\",\"value\":\"hotpink\"},\"hatch_alpha\":{\"type\":\"value\",\"value\":0.1}}},\"muted_glyph\":{\"type\":\"object\",\"name\":\"Scatter\",\"id\":\"p1284\",\"attributes\":{\"x\":{\"type\":\"field\",\"field\":\"Year\"},\"y\":{\"type\":\"field\",\"field\":\"Yoshino peak bloom date\"},\"size\":{\"type\":\"value\",\"value\":5},\"line_color\":{\"type\":\"value\",\"value\":\"hotpink\"},\"line_alpha\":{\"type\":\"value\",\"value\":0.2},\"fill_color\":{\"type\":\"value\",\"value\":\"hotpink\"},\"fill_alpha\":{\"type\":\"value\",\"value\":0.2},\"hatch_color\":{\"type\":\"value\",\"value\":\"hotpink\"},\"hatch_alpha\":{\"type\":\"value\",\"value\":0.2}}}}},{\"type\":\"object\",\"name\":\"GlyphRenderer\",\"id\":\"p1294\",\"attributes\":{\"data_source\":{\"id\":\"p1241\"},\"view\":{\"type\":\"object\",\"name\":\"CDSView\",\"id\":\"p1295\",\"attributes\":{\"filter\":{\"type\":\"object\",\"name\":\"AllIndices\",\"id\":\"p1296\"}}},\"glyph\":{\"type\":\"object\",\"name\":\"Line\",\"id\":\"p1291\",\"attributes\":{\"x\":{\"type\":\"field\",\"field\":\"Year\"},\"y\":{\"type\":\"field\",\"field\":\"projection\"},\"line_color\":\"blue\"}},\"nonselection_glyph\":{\"type\":\"object\",\"name\":\"Line\",\"id\":\"p1292\",\"attributes\":{\"x\":{\"type\":\"field\",\"field\":\"Year\"},\"y\":{\"type\":\"field\",\"field\":\"projection\"},\"line_color\":\"blue\",\"line_alpha\":0.1}},\"muted_glyph\":{\"type\":\"object\",\"name\":\"Line\",\"id\":\"p1293\",\"attributes\":{\"x\":{\"type\":\"field\",\"field\":\"Year\"},\"y\":{\"type\":\"field\",\"field\":\"projection\"},\"line_color\":\"blue\",\"line_alpha\":0.2}}}}],\"toolbar\":{\"type\":\"object\",\"name\":\"Toolbar\",\"id\":\"p1253\",\"attributes\":{\"tools\":[{\"type\":\"object\",\"name\":\"PanTool\",\"id\":\"p1266\"},{\"type\":\"object\",\"name\":\"WheelZoomTool\",\"id\":\"p1267\",\"attributes\":{\"renderers\":\"auto\"}},{\"type\":\"object\",\"name\":\"BoxZoomTool\",\"id\":\"p1268\",\"attributes\":{\"overlay\":{\"type\":\"object\",\"name\":\"BoxAnnotation\",\"id\":\"p1269\",\"attributes\":{\"syncable\":false,\"line_color\":\"black\",\"line_alpha\":1.0,\"line_width\":2,\"line_dash\":[4,4],\"fill_color\":\"lightgrey\",\"fill_alpha\":0.5,\"level\":\"overlay\",\"visible\":false,\"left\":{\"type\":\"number\",\"value\":\"nan\"},\"right\":{\"type\":\"number\",\"value\":\"nan\"},\"top\":{\"type\":\"number\",\"value\":\"nan\"},\"bottom\":{\"type\":\"number\",\"value\":\"nan\"},\"left_units\":\"canvas\",\"right_units\":\"canvas\",\"top_units\":\"canvas\",\"bottom_units\":\"canvas\",\"handles\":{\"type\":\"object\",\"name\":\"BoxInteractionHandles\",\"id\":\"p1275\",\"attributes\":{\"all\":{\"type\":\"object\",\"name\":\"AreaVisuals\",\"id\":\"p1274\",\"attributes\":{\"fill_color\":\"white\",\"hover_fill_color\":\"lightgray\"}}}}}}}},{\"type\":\"object\",\"name\":\"SaveTool\",\"id\":\"p1276\"},{\"type\":\"object\",\"name\":\"ResetTool\",\"id\":\"p1277\"},{\"type\":\"object\",\"name\":\"HelpTool\",\"id\":\"p1278\"}]}},\"left\":[{\"type\":\"object\",\"name\":\"LinearAxis\",\"id\":\"p1261\",\"attributes\":{\"ticker\":{\"type\":\"object\",\"name\":\"BasicTicker\",\"id\":\"p1262\",\"attributes\":{\"mantissas\":[1,2,5]}},\"formatter\":{\"type\":\"object\",\"name\":\"BasicTickFormatter\",\"id\":\"p1263\"},\"axis_label_standoff\":10,\"axis_label_text_color\":\"#5B5B5B\",\"axis_label_text_font\":\"Helvetica\",\"axis_label_text_font_size\":\"1.25em\",\"axis_label_text_font_style\":\"normal\",\"major_label_policy\":{\"type\":\"object\",\"name\":\"AllLabels\",\"id\":\"p1264\"},\"major_label_text_color\":\"#5B5B5B\",\"major_label_text_font\":\"Helvetica\",\"major_label_text_font_size\":\"1.025em\",\"axis_line_color\":\"#5B5B5B\",\"axis_line_alpha\":0,\"major_tick_line_color\":\"#5B5B5B\",\"major_tick_line_alpha\":0,\"minor_tick_line_color\":\"#5B5B5B\",\"minor_tick_line_alpha\":0}}],\"below\":[{\"type\":\"object\",\"name\":\"LinearAxis\",\"id\":\"p1256\",\"attributes\":{\"ticker\":{\"type\":\"object\",\"name\":\"BasicTicker\",\"id\":\"p1257\",\"attributes\":{\"mantissas\":[1,2,5]}},\"formatter\":{\"type\":\"object\",\"name\":\"BasicTickFormatter\",\"id\":\"p1258\"},\"axis_label_standoff\":10,\"axis_label_text_color\":\"#5B5B5B\",\"axis_label_text_font\":\"Helvetica\",\"axis_label_text_font_size\":\"1.25em\",\"axis_label_text_font_style\":\"normal\",\"major_label_policy\":{\"type\":\"object\",\"name\":\"AllLabels\",\"id\":\"p1259\"},\"major_label_text_color\":\"#5B5B5B\",\"major_label_text_font\":\"Helvetica\",\"major_label_text_font_size\":\"1.025em\",\"axis_line_color\":\"#5B5B5B\",\"axis_line_alpha\":0,\"major_tick_line_color\":\"#5B5B5B\",\"major_tick_line_alpha\":0,\"minor_tick_line_color\":\"#5B5B5B\",\"minor_tick_line_alpha\":0}}],\"center\":[{\"type\":\"object\",\"name\":\"Grid\",\"id\":\"p1260\",\"attributes\":{\"axis\":{\"id\":\"p1256\"}}},{\"type\":\"object\",\"name\":\"Grid\",\"id\":\"p1265\",\"attributes\":{\"dimension\":1,\"axis\":{\"id\":\"p1261\"}}}]}}]}};\n  const render_items = [{\"docid\":\"82a2b513-a2b9-4f15-8d00-31fdd20304b7\",\"roots\":{\"p1244\":\"fe5b8dd6-6321-467e-94b5-d5cb95007c50\"},\"root_ids\":[\"p1244\"]}];\n  void root.Bokeh.embed.embed_items_notebook(docs_json, render_items);\n  }\n  if (root.Bokeh !== undefined) {\n    embed_document(root);\n  } else {\n    let attempts = 0;\n    const timer = setInterval(function(root) {\n      if (root.Bokeh !== undefined) {\n        clearInterval(timer);\n        embed_document(root);\n      } else {\n        attempts++;\n        if (attempts > 100) {\n          clearInterval(timer);\n          console.log(\"Bokeh: ERROR: Unable to run BokehJS code because BokehJS library is missing\");\n        }\n      }\n    }, 10, root)\n  }\n})(window);",
      "application/vnd.bokehjs_exec.v0+json": ""
     },
     "metadata": {
      "application/vnd.bokehjs_exec.v0+json": {
       "id": "p1244"
      }
     },
     "output_type": "display_data"
    }
   ],
   "source": [
    "import numpy as np\n",
    "import pandas as pd\n",
    "from numpy import linalg as la\n",
    "from bokeh.plotting import figure, show\n",
    "from bokeh.models import ColumnDataSource\n",
    "\n",
    "# Assume raw_blossom_data is already loaded with the necessary columns\n",
    "\n",
    "# Step 1: Define the unit_len function and vectorized cube function\n",
    "def unit_len(v):\n",
    "    return v / la.norm(v)\n",
    "\n",
    "cube = np.vectorize(lambda x: pow(x, 3))\n",
    "\n",
    "# Step 2: Create orthogonal columns using Gram-Schmidt process\n",
    "\n",
    "### use the original codes don't need to change.\n",
    "outcome = np.array(raw_blossom_data['Yoshino peak bloom date'])\n",
    "year_centered = raw_blossom_data['Year'] - raw_blossom_data['Year'].mean()\n",
    "linear = unit_len(np.array(year_centered))\n",
    "ones = unit_len(np.ones(len(year_centered)))\n",
    "quadratic = unit_len(np.square(linear) - np.square(linear).mean())\n",
    "cubic_raw = cube(linear)\n",
    "\n",
    "# Orthogonalize cubic term\n",
    "### just follow the formula in textbook\n",
    "cubic = cubic_raw - np.dot(cubic_raw, ones) * ones\n",
    "cubic = cubic - np.dot(cubic, linear) * linear\n",
    "cubic = cubic - np.dot(cubic, quadratic) * quadratic\n",
    "cubic = unit_len(cubic)\n",
    "\n",
    "# Step 3: Construct the design matrix and compute the projection\n",
    "design_matrix = np.vstack([ones, linear, quadratic, cubic]).T\n",
    "\n",
    "### generate my parameters\n",
    "coefficients = [np.dot(outcome, col) for col in [ones, linear, quadratic, cubic]]\n",
    "projection = sum(coeff * col for coeff, col in zip(coefficients, [ones, linear, quadratic, cubic]))\n",
    "\n",
    "# Step 4: Create DataFrame with the projection\n",
    "projection_df = pd.DataFrame({\n",
    "    'Year': raw_blossom_data['Year'],\n",
    "    'projection': projection\n",
    "})\n",
    "\n",
    "# Merge with actual data to include 'Yoshino peak bloom date'\n",
    "### use previouse predicted_data\n",
    "predicted_data = pd.merge(projection_df, raw_blossom_data[['Year', 'Yoshino peak bloom date']])\n",
    "src = ColumnDataSource(predicted_data)\n",
    "\n",
    "\n",
    "\n",
    "# Check the error (it should decrease). Show the plot for the new projection.\n",
    "rmse = root_mean_squared_error('Yoshino peak bloom date', 'projection', predicted_data)\n",
    "print(\"Root mean squared error with cubic term:\", rmse)\n",
    "\n",
    "\n",
    "# Step 5: Plot using Bokeh\n",
    "p = figure(title='3rd Order Fit to Peak Bloom Date')\n",
    "p.scatter(x='Year', y='Yoshino peak bloom date', source=src, color='hotpink', size=5)\n",
    "p.line(x='Year', y='projection', source=src, color='blue')\n",
    "show(p)\n"
   ],
   "metadata": {
    "collapsed": false,
    "ExecuteTime": {
     "end_time": "2024-11-08T00:52:31.442641Z",
     "start_time": "2024-11-08T00:52:31.342689Z"
    }
   }
  },
  {
   "cell_type": "code",
   "execution_count": null,
   "outputs": [],
   "source": [],
   "metadata": {
    "collapsed": false
   }
  }
 ],
 "metadata": {
  "colab": {
   "provenance": []
  },
  "kernelspec": {
   "name": "python3",
   "language": "python",
   "display_name": "Python 3 (ipykernel)"
  },
  "language_info": {
   "codemirror_mode": {
    "name": "ipython",
    "version": 3
   },
   "file_extension": ".py",
   "mimetype": "text/x-python",
   "name": "python",
   "nbconvert_exporter": "python",
   "pygments_lexer": "ipython3",
   "version": "3.12.2"
  }
 },
 "nbformat": 4,
 "nbformat_minor": 0
}
