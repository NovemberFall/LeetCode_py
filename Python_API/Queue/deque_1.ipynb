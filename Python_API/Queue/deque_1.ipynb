{
 "cells": [
  {
   "metadata": {},
   "cell_type": "markdown",
   "source": [
    "## Queue Using collections.deque:\n",
    "\n",
    "- A double-ended queue that supports adding and removing elements from both ends efficiently. Suitable for most queue implementations.\n"
   ],
   "id": "1a8cf2bdaa2472f6"
  },
  {
   "metadata": {},
   "cell_type": "markdown",
   "source": "### This is the most common and efficient way to implement a queue.",
   "id": "fad35f93776c4375"
  },
  {
   "metadata": {
    "ExecuteTime": {
     "end_time": "2024-12-31T07:21:09.026651Z",
     "start_time": "2024-12-31T07:21:09.021052Z"
    }
   },
   "cell_type": "code",
   "source": [
    "from collections import deque\n",
    "\n",
    "# Create a queue\n",
    "queue = deque()\n",
    "\n",
    "# Enqueue (add elements)\n",
    "queue.append('A')\n",
    "queue.append('B')\n",
    "queue.append('C')\n",
    "print(queue)  # Output: deque(['A', 'B', 'C'])\n",
    "\n",
    "# Dequeue (remove elements)\n",
    "front = queue.popleft()\n",
    "print(front)  # Output: 'A'\n",
    "print(queue)  # Output: deque(['B', 'C'])\n",
    "\n",
    "# Check if the queue is empty\n",
    "print(len(queue) == 0)  # Output: False\n"
   ],
   "id": "6dc04fd42b0569c7",
   "outputs": [
    {
     "name": "stdout",
     "output_type": "stream",
     "text": [
      "deque(['A', 'B', 'C'])\n",
      "A\n",
      "deque(['B', 'C'])\n",
      "False\n"
     ]
    }
   ],
   "execution_count": 1
  }
 ],
 "metadata": {
  "kernelspec": {
   "display_name": "Python 3",
   "language": "python",
   "name": "python3"
  },
  "language_info": {
   "codemirror_mode": {
    "name": "ipython",
    "version": 2
   },
   "file_extension": ".py",
   "mimetype": "text/x-python",
   "name": "python",
   "nbconvert_exporter": "python",
   "pygments_lexer": "ipython2",
   "version": "2.7.6"
  }
 },
 "nbformat": 4,
 "nbformat_minor": 5
}
