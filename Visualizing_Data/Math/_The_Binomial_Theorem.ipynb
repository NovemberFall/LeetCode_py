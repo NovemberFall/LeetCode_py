{
 "cells": [
  {
   "cell_type": "markdown",
   "source": [
    "## 1. Manual Calculation"
   ],
   "metadata": {
    "collapsed": false
   },
   "id": "8ab4a4fa7d854cb3"
  },
  {
   "cell_type": "code",
   "execution_count": 4,
   "outputs": [
    {
     "data": {
      "text/plain": "'1 * a^3 * b^0 + 3 * a^2 * b^1 + 3 * a^1 * b^2 + 1 * a^0 * b^3'"
     },
     "execution_count": 4,
     "metadata": {},
     "output_type": "execute_result"
    }
   ],
   "source": [
    "import math\n",
    "\n",
    "def binomial_expansion(a, b, n):\n",
    "    terms = []\n",
    "    for k in range(n + 1):\n",
    "        # Calculate the binomial coefficient\n",
    "        binom_coeff = math.comb(n, k)\n",
    "        term = f\"{binom_coeff} * {a}^{n-k} * {b}^{k}\"\n",
    "        terms.append(term)\n",
    "    return \" + \".join(terms)\n",
    "\n",
    "# Example: Expand (a + b)^3\n",
    "expansion = binomial_expansion('a', 'b', 3)\n",
    "expansion\n"
   ],
   "metadata": {
    "collapsed": false,
    "ExecuteTime": {
     "end_time": "2024-10-23T19:40:37.347869Z",
     "start_time": "2024-10-23T19:40:37.339381Z"
    }
   },
   "id": "dad9019b62d7c4c1"
  },
  {
   "cell_type": "markdown",
   "source": [
    "## 2. Using sympy for symbolic expansion"
   ],
   "metadata": {
    "collapsed": false
   },
   "id": "96bb5933c54e0175"
  },
  {
   "cell_type": "code",
   "execution_count": 8,
   "outputs": [
    {
     "data": {
      "text/plain": "a**3 + 3*a**2*b + 3*a*b**2 + b**3",
      "text/latex": "$\\displaystyle a^{3} + 3 a^{2} b + 3 a b^{2} + b^{3}$"
     },
     "execution_count": 8,
     "metadata": {},
     "output_type": "execute_result"
    }
   ],
   "source": [
    "from sympy import symbols, expand\n",
    "\n",
    "# Define the symbols\n",
    "a, b = symbols('a b')\n",
    "\n",
    "# Define the binomial expression\n",
    "expr = (a + b)**3\n",
    "\n",
    "# Expand the binomial expression\n",
    "expanded_expr = expand(expr)\n",
    "expanded_expr"
   ],
   "metadata": {
    "collapsed": false,
    "ExecuteTime": {
     "end_time": "2024-10-23T19:43:52.948396Z",
     "start_time": "2024-10-23T19:43:52.939851Z"
    }
   },
   "id": "e5e19658613cce6c"
  },
  {
   "cell_type": "code",
   "execution_count": null,
   "outputs": [],
   "source": [],
   "metadata": {
    "collapsed": false
   },
   "id": "679215e887bbc56b"
  }
 ],
 "metadata": {
  "kernelspec": {
   "display_name": "Python 3",
   "language": "python",
   "name": "python3"
  },
  "language_info": {
   "codemirror_mode": {
    "name": "ipython",
    "version": 2
   },
   "file_extension": ".py",
   "mimetype": "text/x-python",
   "name": "python",
   "nbconvert_exporter": "python",
   "pygments_lexer": "ipython2",
   "version": "2.7.6"
  }
 },
 "nbformat": 4,
 "nbformat_minor": 5
}
