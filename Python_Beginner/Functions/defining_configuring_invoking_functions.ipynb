{
 "cells": [
  {
   "cell_type": "code",
   "execution_count": 1,
   "id": "initial_id",
   "metadata": {
    "collapsed": true,
    "ExecuteTime": {
     "end_time": "2023-09-28T21:17:24.649315Z",
     "start_time": "2023-09-28T21:17:24.646022Z"
    }
   },
   "outputs": [],
   "source": [
    "def my_fn():\n",
    "    print(\"define my function.\")\n",
    "    print(\"functions\")"
   ]
  },
  {
   "cell_type": "code",
   "execution_count": 2,
   "outputs": [
    {
     "name": "stdout",
     "output_type": "stream",
     "text": [
      "define my function.\n",
      "functions\n"
     ]
    }
   ],
   "source": [
    "my_fn()"
   ],
   "metadata": {
    "collapsed": false,
    "ExecuteTime": {
     "end_time": "2023-09-28T21:17:32.408781Z",
     "start_time": "2023-09-28T21:17:32.402761Z"
    }
   },
   "id": "a24ad8684108341"
  },
  {
   "cell_type": "code",
   "execution_count": 4,
   "outputs": [],
   "source": [
    "def happy_birthday_charile():\n",
    "    \"\"\" I hope your celebration gives you many happy memories! \"\"\"\n",
    "    print(\"I hope you have a great day!\")"
   ],
   "metadata": {
    "collapsed": false,
    "ExecuteTime": {
     "end_time": "2023-09-28T21:19:32.071583Z",
     "start_time": "2023-09-28T21:19:32.067523Z"
    }
   },
   "id": "96c6a06fa7bb22b4"
  },
  {
   "cell_type": "code",
   "execution_count": 5,
   "outputs": [
    {
     "data": {
      "text/plain": "<function __main__.happy_birthday_charile()>"
     },
     "execution_count": 5,
     "metadata": {},
     "output_type": "execute_result"
    }
   ],
   "source": [
    "happy_birthday_charile"
   ],
   "metadata": {
    "collapsed": false,
    "ExecuteTime": {
     "end_time": "2023-09-28T21:19:38.611284Z",
     "start_time": "2023-09-28T21:19:38.602845Z"
    }
   },
   "id": "d1110b4c6b79e970"
  },
  {
   "cell_type": "code",
   "execution_count": 6,
   "outputs": [
    {
     "data": {
      "text/plain": "' I hope your celebration gives you many happy memories! '"
     },
     "execution_count": 6,
     "metadata": {},
     "output_type": "execute_result"
    }
   ],
   "source": [
    "happy_birthday_charile.__doc__"
   ],
   "metadata": {
    "collapsed": false,
    "ExecuteTime": {
     "end_time": "2023-09-28T21:20:13.319362Z",
     "start_time": "2023-09-28T21:20:13.313270Z"
    }
   },
   "id": "6884db7671b8b448"
  },
  {
   "cell_type": "code",
   "execution_count": 7,
   "outputs": [
    {
     "data": {
      "text/plain": "<function __main__.happy_birthday_charile()>"
     },
     "execution_count": 7,
     "metadata": {},
     "output_type": "execute_result"
    }
   ],
   "source": [
    "assign_to_new_function = happy_birthday_charile\n",
    "assign_to_new_function"
   ],
   "metadata": {
    "collapsed": false,
    "ExecuteTime": {
     "end_time": "2023-09-28T21:21:32.062190Z",
     "start_time": "2023-09-28T21:21:32.051133Z"
    }
   },
   "id": "67e9c8ca1224124c"
  },
  {
   "cell_type": "code",
   "execution_count": 8,
   "outputs": [
    {
     "name": "stdout",
     "output_type": "stream",
     "text": [
      "I hope you have a great day!\n"
     ]
    }
   ],
   "source": [
    "assign_to_new_function()"
   ],
   "metadata": {
    "collapsed": false,
    "ExecuteTime": {
     "end_time": "2023-09-28T21:21:45.846159Z",
     "start_time": "2023-09-28T21:21:45.834425Z"
    }
   },
   "id": "e5ccfb941071de49"
  },
  {
   "cell_type": "markdown",
   "source": [
    "## Passing Python Values Using Input Arguments"
   ],
   "metadata": {
    "collapsed": false
   },
   "id": "1b0510f3bb3135b0"
  },
  {
   "cell_type": "code",
   "execution_count": 9,
   "outputs": [],
   "source": [
    "def print_times(some_strings, num_times):\n",
    "    \"\"\"\n",
    "    \n",
    "    :param some_strings: The string to be printed \n",
    "    :param num_times: The number of times the string should be printed\n",
    "    :return: No return value\n",
    "    \"\"\"\n",
    "    for i in range(num_times):\n",
    "        print(some_strings)"
   ],
   "metadata": {
    "collapsed": false,
    "ExecuteTime": {
     "end_time": "2023-09-28T21:26:16.582474Z",
     "start_time": "2023-09-28T21:26:16.575991Z"
    }
   },
   "id": "e266e8bef9685b89"
  },
  {
   "cell_type": "code",
   "execution_count": 10,
   "outputs": [
    {
     "name": "stdout",
     "output_type": "stream",
     "text": [
      "\n",
      "    \n",
      "    :param some_strings: The string to be printed \n",
      "    :param num_times: The number of times the string should be printed\n",
      "    :return: No return value\n",
      "    \n"
     ]
    }
   ],
   "source": [
    "print(print_times.__doc__)"
   ],
   "metadata": {
    "collapsed": false,
    "ExecuteTime": {
     "end_time": "2023-09-28T21:26:30.436498Z",
     "start_time": "2023-09-28T21:26:30.423340Z"
    }
   },
   "id": "6cbcecbec2b77b5a"
  },
  {
   "cell_type": "code",
   "execution_count": 11,
   "outputs": [
    {
     "name": "stdout",
     "output_type": "stream",
     "text": [
      "Functions!\n",
      "Functions!\n",
      "Functions!\n"
     ]
    }
   ],
   "source": [
    "print_times(\"Functions!\", 3)"
   ],
   "metadata": {
    "collapsed": false,
    "ExecuteTime": {
     "end_time": "2023-09-28T21:26:59.374874Z",
     "start_time": "2023-09-28T21:26:59.365295Z"
    }
   },
   "id": "b6e908b57b0f8835"
  },
  {
   "cell_type": "markdown",
   "source": [
    "## Return Value"
   ],
   "metadata": {
    "collapsed": false
   },
   "id": "9ab91021dcb6f49e"
  },
  {
   "cell_type": "code",
   "execution_count": 12,
   "outputs": [],
   "source": [
    "def square(x):\n",
    "    y = x * x\n",
    "    print(\"Square:\", y)\n",
    "\n",
    "    return None"
   ],
   "metadata": {
    "collapsed": false,
    "ExecuteTime": {
     "end_time": "2023-09-28T21:28:51.326561Z",
     "start_time": "2023-09-28T21:28:51.319996Z"
    }
   },
   "id": "2346a33dddf94eb2"
  },
  {
   "cell_type": "code",
   "execution_count": 13,
   "outputs": [
    {
     "name": "stdout",
     "output_type": "stream",
     "text": [
      "Square: 49\n",
      "None\n"
     ]
    }
   ],
   "source": [
    "result = square(7)\n",
    "print(result)"
   ],
   "metadata": {
    "collapsed": false,
    "ExecuteTime": {
     "end_time": "2023-09-28T21:29:09.606020Z",
     "start_time": "2023-09-28T21:29:09.598894Z"
    }
   },
   "id": "ba6da14e47926f4a"
  },
  {
   "cell_type": "code",
   "execution_count": 14,
   "outputs": [
    {
     "data": {
      "text/plain": "NoneType"
     },
     "execution_count": 14,
     "metadata": {},
     "output_type": "execute_result"
    }
   ],
   "source": [
    "type(result)"
   ],
   "metadata": {
    "collapsed": false,
    "ExecuteTime": {
     "end_time": "2023-09-28T21:29:27.957048Z",
     "start_time": "2023-09-28T21:29:27.942387Z"
    }
   },
   "id": "68bb62b87b258e44"
  },
  {
   "cell_type": "code",
   "execution_count": 15,
   "outputs": [],
   "source": [
    "def square(x):\n",
    "    y = x * x\n",
    "\n",
    "    return y"
   ],
   "metadata": {
    "collapsed": false,
    "ExecuteTime": {
     "end_time": "2023-09-28T21:30:30.675652Z",
     "start_time": "2023-09-28T21:30:30.667925Z"
    }
   },
   "id": "34653cf1618459d9"
  },
  {
   "cell_type": "code",
   "execution_count": 16,
   "outputs": [
    {
     "name": "stdout",
     "output_type": "stream",
     "text": [
      "121\n"
     ]
    },
    {
     "data": {
      "text/plain": "int"
     },
     "execution_count": 16,
     "metadata": {},
     "output_type": "execute_result"
    }
   ],
   "source": [
    "res = square(11)\n",
    "print(res)\n",
    "type(res)"
   ],
   "metadata": {
    "collapsed": false,
    "ExecuteTime": {
     "end_time": "2023-09-28T21:30:46.478391Z",
     "start_time": "2023-09-28T21:30:46.470043Z"
    }
   },
   "id": "16dc17d4efbefaac"
  },
  {
   "cell_type": "markdown",
   "source": [
    "## Return Multiple Values from a function"
   ],
   "metadata": {
    "collapsed": false
   },
   "id": "68d6275472efbfae"
  },
  {
   "cell_type": "code",
   "execution_count": 17,
   "outputs": [],
   "source": [
    "def calculate(num1, num2):\n",
    "    add = num1 + num2\n",
    "    sub = num1 - num2\n",
    "    mul = num1 * num2\n",
    "    div = num1 / num2\n",
    "\n",
    "    return add, sub, mul, div"
   ],
   "metadata": {
    "collapsed": false,
    "ExecuteTime": {
     "end_time": "2023-09-28T21:32:27.041943Z",
     "start_time": "2023-09-28T21:32:27.033252Z"
    }
   },
   "id": "99e68e6b0acf2aae"
  },
  {
   "cell_type": "code",
   "execution_count": 18,
   "outputs": [
    {
     "data": {
      "text/plain": "(105, 95, 500, 20.0)"
     },
     "execution_count": 18,
     "metadata": {},
     "output_type": "execute_result"
    }
   ],
   "source": [
    "add, sub, mul, div = calculate(100, 5)\n",
    "add, sub, mul, div"
   ],
   "metadata": {
    "collapsed": false,
    "ExecuteTime": {
     "end_time": "2023-09-28T21:33:04.895331Z",
     "start_time": "2023-09-28T21:33:04.886508Z"
    }
   },
   "id": "4546d69f261f6e47"
  },
  {
   "cell_type": "code",
   "execution_count": 19,
   "outputs": [
    {
     "data": {
      "text/plain": "(123, 2300)"
     },
     "execution_count": 19,
     "metadata": {},
     "output_type": "execute_result"
    }
   ],
   "source": [
    "add, _, mul, _ = calculate(100, 23)\n",
    "add, mul"
   ],
   "metadata": {
    "collapsed": false,
    "ExecuteTime": {
     "end_time": "2023-09-28T21:34:05.051629Z",
     "start_time": "2023-09-28T21:34:05.036849Z"
    }
   },
   "id": "8edff3704f6ff24a"
  },
  {
   "cell_type": "code",
   "execution_count": 22,
   "outputs": [],
   "source": [
    "def create_list(some_string: str, num_times: int) -> list:\n",
    "    \"\"\"\n",
    "    \n",
    "    :param some_string: \n",
    "    :param num_times: \n",
    "    :return: \n",
    "    \"\"\"\n",
    "    return (some_string for i in range(num_times))"
   ],
   "metadata": {
    "collapsed": false,
    "ExecuteTime": {
     "end_time": "2023-09-28T21:42:01.895977Z",
     "start_time": "2023-09-28T21:42:01.886093Z"
    }
   },
   "id": "93d24655af5323cb"
  },
  {
   "cell_type": "code",
   "execution_count": 23,
   "outputs": [
    {
     "data": {
      "text/plain": "<generator object create_list.<locals>.<genexpr> at 0x10a7db850>"
     },
     "execution_count": 23,
     "metadata": {},
     "output_type": "execute_result"
    }
   ],
   "source": [
    "res = create_list(\"Harry\", 4)\n",
    "res"
   ],
   "metadata": {
    "collapsed": false,
    "ExecuteTime": {
     "end_time": "2023-09-28T21:42:02.482047Z",
     "start_time": "2023-09-28T21:42:02.478269Z"
    }
   },
   "id": "42924fd7510df98c"
  },
  {
   "cell_type": "code",
   "execution_count": null,
   "outputs": [],
   "source": [],
   "metadata": {
    "collapsed": false
   },
   "id": "c9ec6282a32f29bc"
  }
 ],
 "metadata": {
  "kernelspec": {
   "display_name": "Python 3",
   "language": "python",
   "name": "python3"
  },
  "language_info": {
   "codemirror_mode": {
    "name": "ipython",
    "version": 2
   },
   "file_extension": ".py",
   "mimetype": "text/x-python",
   "name": "python",
   "nbconvert_exporter": "python",
   "pygments_lexer": "ipython2",
   "version": "2.7.6"
  }
 },
 "nbformat": 4,
 "nbformat_minor": 5
}
