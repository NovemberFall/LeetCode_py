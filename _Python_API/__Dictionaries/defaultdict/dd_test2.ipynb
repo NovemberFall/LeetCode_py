{
 "cells": [
  {
   "metadata": {},
   "cell_type": "markdown",
   "source": "#### Example 1: Counting Occurrences",
   "id": "65705e13fe07c79"
  },
  {
   "metadata": {
    "ExecuteTime": {
     "end_time": "2024-12-31T06:44:27.719133Z",
     "start_time": "2024-12-31T06:44:27.714170Z"
    }
   },
   "cell_type": "code",
   "source": [
    "from collections import defaultdict\n",
    "\n",
    "# Create a defaultdict with default value 0 for counting\n",
    "word_count = defaultdict(int)\n",
    "\n",
    "# __List of words\n",
    "words = ['apple', 'banana', 'apple', 'orange', 'banana', 'apple']\n",
    "\n",
    "# Count occurrences of each word\n",
    "for word in words:\n",
    "    word_count[word] += 1\n",
    "\n",
    "print(word_count)\n",
    "# Output: defaultdict(<class 'int'>, {'apple': 3, 'banana': 2, 'orange': 1})"
   ],
   "id": "f4ad76231dbdafba",
   "outputs": [
    {
     "name": "stdout",
     "output_type": "stream",
     "text": [
      "defaultdict(<class 'int'>, {'apple': 3, 'banana': 2, 'orange': 1})\n"
     ]
    }
   ],
   "execution_count": 1
  },
  {
   "metadata": {},
   "cell_type": "markdown",
   "source": "#### Example 2: Grouping Items",
   "id": "c0a2351e09424f64"
  },
  {
   "metadata": {
    "ExecuteTime": {
     "end_time": "2024-12-31T06:44:53.520847Z",
     "start_time": "2024-12-31T06:44:53.511286Z"
    }
   },
   "cell_type": "code",
   "source": [
    "# Create a defaultdict with default value as an empty list\n",
    "students_courses = defaultdict(list)\n",
    "\n",
    "# __List of students and their courses\n",
    "students = [('Alice', 'Math'), ('Bob', 'Science'), ('Alice', 'Science'), ('Bob', 'Math')]\n",
    "\n",
    "# Group students by courses\n",
    "for student, course in students:\n",
    "    students_courses[student].append(course)\n",
    "\n",
    "print(students_courses)\n",
    "# Output: defaultdict(<class 'list'>, {'Alice': ['Math', 'Science'], 'Bob': ['Science', 'Math']})\n",
    "\n",
    "print(students_courses['Jake']) # []"
   ],
   "id": "d4ec68870020dc89",
   "outputs": [
    {
     "name": "stdout",
     "output_type": "stream",
     "text": [
      "defaultdict(<class 'list'>, {'Alice': ['Math', 'Science'], 'Bob': ['Science', 'Math']})\n",
      "[]\n"
     ]
    }
   ],
   "execution_count": 2
  }
 ],
 "metadata": {
  "kernelspec": {
   "display_name": "Python 3",
   "language": "python",
   "name": "python3"
  },
  "language_info": {
   "codemirror_mode": {
    "name": "ipython",
    "version": 2
   },
   "file_extension": ".py",
   "mimetype": "text/x-python",
   "name": "python",
   "nbconvert_exporter": "python",
   "pygments_lexer": "ipython2",
   "version": "2.7.6"
  }
 },
 "nbformat": 4,
 "nbformat_minor": 5
}
