{
 "cells": [
  {
   "cell_type": "code",
   "execution_count": 1,
   "id": "initial_id",
   "metadata": {
    "collapsed": true,
    "ExecuteTime": {
     "end_time": "2023-09-28T22:32:49.326065Z",
     "start_time": "2023-09-28T22:32:49.322693Z"
    }
   },
   "outputs": [],
   "source": [
    "def display(*args):\n",
    "    print(args)"
   ]
  },
  {
   "cell_type": "code",
   "execution_count": 2,
   "outputs": [
    {
     "name": "stdout",
     "output_type": "stream",
     "text": [
      "()\n"
     ]
    }
   ],
   "source": [
    "display()"
   ],
   "metadata": {
    "collapsed": false,
    "ExecuteTime": {
     "end_time": "2023-09-28T22:32:51.909385Z",
     "start_time": "2023-09-28T22:32:51.904658Z"
    }
   },
   "id": "3d138d81d3da22f4"
  },
  {
   "cell_type": "code",
   "execution_count": 3,
   "outputs": [
    {
     "name": "stdout",
     "output_type": "stream",
     "text": [
      "('Python', 'Java')\n"
     ]
    }
   ],
   "source": [
    "display(\"Python\", \"Java\")"
   ],
   "metadata": {
    "collapsed": false,
    "ExecuteTime": {
     "end_time": "2023-09-28T22:33:04.843625Z",
     "start_time": "2023-09-28T22:33:04.838360Z"
    }
   },
   "id": "39a7db6a9d61c53a"
  },
  {
   "cell_type": "code",
   "execution_count": 4,
   "outputs": [
    {
     "name": "stdout",
     "output_type": "stream",
     "text": [
      "(['Python', 'Java', 'C++', 'C#', 'Javascript'],)\n"
     ]
    }
   ],
   "source": [
    "languages_list = [\"Python\", \"Java\", \"C++\", \"C#\", \"Javascript\"]\n",
    "display(languages_list)"
   ],
   "metadata": {
    "collapsed": false,
    "ExecuteTime": {
     "end_time": "2023-09-28T22:34:16.174640Z",
     "start_time": "2023-09-28T22:34:16.168865Z"
    }
   },
   "id": "fd4b2f18b4c47b02"
  },
  {
   "cell_type": "code",
   "execution_count": 5,
   "outputs": [
    {
     "name": "stdout",
     "output_type": "stream",
     "text": [
      "('Python', 'Java', 'C++', 'C#', 'Javascript')\n"
     ]
    }
   ],
   "source": [
    "display(*languages_list)"
   ],
   "metadata": {
    "collapsed": false,
    "ExecuteTime": {
     "end_time": "2023-09-28T22:34:41.482945Z",
     "start_time": "2023-09-28T22:34:41.476797Z"
    }
   },
   "id": "2a77d33c6cda1fa1"
  },
  {
   "cell_type": "code",
   "execution_count": 6,
   "outputs": [
    {
     "name": "stdout",
     "output_type": "stream",
     "text": [
      "('Python', 'Java', 'C++', 'C#', 'Javascript')\n"
     ]
    }
   ],
   "source": [
    "languages_list = (\"Python\", \"Java\", \"C++\", \"C#\", \"Javascript\")\n",
    "display(*languages_list)"
   ],
   "metadata": {
    "collapsed": false,
    "ExecuteTime": {
     "end_time": "2023-09-28T22:45:40.848930Z",
     "start_time": "2023-09-28T22:45:40.838418Z"
    }
   },
   "id": "8c5aa8769980fcf0"
  },
  {
   "cell_type": "code",
   "execution_count": null,
   "outputs": [],
   "source": [],
   "metadata": {
    "collapsed": false
   },
   "id": "e05dbeb60b947e4c"
  }
 ],
 "metadata": {
  "kernelspec": {
   "display_name": "Python 3",
   "language": "python",
   "name": "python3"
  },
  "language_info": {
   "codemirror_mode": {
    "name": "ipython",
    "version": 2
   },
   "file_extension": ".py",
   "mimetype": "text/x-python",
   "name": "python",
   "nbconvert_exporter": "python",
   "pygments_lexer": "ipython2",
   "version": "2.7.6"
  }
 },
 "nbformat": 4,
 "nbformat_minor": 5
}
