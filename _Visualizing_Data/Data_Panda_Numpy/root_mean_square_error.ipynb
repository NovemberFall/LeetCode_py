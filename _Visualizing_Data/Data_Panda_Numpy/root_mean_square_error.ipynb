{
 "cells": [
  {
   "cell_type": "markdown",
   "source": [
    "# Purpose\n",
    "- The Root Mean Square Error (RMSE) is a standard way to measure the differences between two datasets.\n",
    "- It is commonly used in applications such as:\n",
    "- Image processing: To compare the quality of a processed image to the original.\n",
    "- Signal processing: To evaluate the noise introduced during transmission.\n",
    "- Machine learning: To assess the accuracy of predictions compared to actual values."
   ],
   "metadata": {
    "collapsed": false
   },
   "id": "2f8c405ff3a34b04"
  },
  {
   "cell_type": "code",
   "execution_count": 1,
   "outputs": [],
   "source": [
    "import math\n",
    "\n",
    "\n",
    "# modified_vector: The first vector, often a modified or processed version of the original image vector.\n",
    "# original_image_vector: The second vector, representing the original image or data.\n",
    "# The goal is to compute how different these two vectors are, element-wise.\n",
    "def mean_square_error(modified_vector, original_image_vector):\n",
    "    'A distance measure between two image matrices'\n",
    "    n = sum(original_image_vector.shape)\n",
    "    '''\n",
    "    original_image_vector.shape: This gives the dimensions of the input vector (e.g., its length if 1D, or dimensions if multidimensional).\n",
    "    \n",
    "    sum(original_image_vector.shape):\n",
    "         1. If the input is a 1D vector, this is equivalent to its length.\n",
    "         2. If the input is a 2D array (e.g., a matrix), it sums the dimensions. \n",
    "    '''\n",
    "    # print('n', n)\n",
    "    if n != sum(modified_vector.shape):\n",
    "        print(f'Vector lengths do not match: {n}')\n",
    "        return None\n",
    "    # Compute mean sum of squares\n",
    "    rmse = math.sqrt(np.square(modified_vector - original_image_vector).sum())/n\n",
    "    return rmse"
   ],
   "metadata": {
    "collapsed": false,
    "ExecuteTime": {
     "end_time": "2024-11-20T23:39:53.974198Z",
     "start_time": "2024-11-20T23:39:53.972431Z"
    }
   },
   "id": "c2c5c1ea9c3a3421"
  },
  {
   "cell_type": "code",
   "execution_count": 2,
   "outputs": [
    {
     "name": "stdout",
     "output_type": "stream",
     "text": [
      "RMSE: 0.048989794855663606\n"
     ]
    }
   ],
   "source": [
    "import numpy as np\n",
    "\n",
    "# Define original and modified vectors\n",
    "original_image_vector = np.array([1, 2, 3, 4, 5])\n",
    "modified_vector = np.array([1.1, 2.0, 2.9, 4.2, 5.0])\n",
    "\n",
    "# Compute RMSE\n",
    "rmse = mean_square_error(modified_vector, original_image_vector)\n",
    "print(\"RMSE:\", rmse)\n"
   ],
   "metadata": {
    "collapsed": false,
    "ExecuteTime": {
     "end_time": "2024-11-20T23:39:55.836300Z",
     "start_time": "2024-11-20T23:39:55.831739Z"
    }
   },
   "id": "2148d3aa47c13bb8"
  },
  {
   "cell_type": "code",
   "execution_count": null,
   "outputs": [],
   "source": [],
   "metadata": {
    "collapsed": false
   },
   "id": "533db35dfe093576"
  }
 ],
 "metadata": {
  "kernelspec": {
   "display_name": "Python 3",
   "language": "python",
   "name": "python3"
  },
  "language_info": {
   "codemirror_mode": {
    "name": "ipython",
    "version": 2
   },
   "file_extension": ".py",
   "mimetype": "text/x-python",
   "name": "python",
   "nbconvert_exporter": "python",
   "pygments_lexer": "ipython2",
   "version": "2.7.6"
  }
 },
 "nbformat": 4,
 "nbformat_minor": 5
}
