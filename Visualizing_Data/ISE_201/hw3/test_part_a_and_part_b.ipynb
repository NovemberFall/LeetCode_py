{
 "cells": [
  {
   "cell_type": "code",
   "execution_count": 1,
   "id": "initial_id",
   "metadata": {
    "collapsed": true,
    "ExecuteTime": {
     "end_time": "2024-10-24T21:34:37.949112Z",
     "start_time": "2024-10-24T21:34:37.429656Z"
    }
   },
   "outputs": [],
   "source": [
    "import sympy as sp"
   ]
  },
  {
   "cell_type": "markdown",
   "source": [
    "## Part A\n",
    "\n",
    "### test homework part A's answer"
   ],
   "metadata": {
    "collapsed": false
   },
   "id": "c5f5b9a67a22f77b"
  },
  {
   "cell_type": "code",
   "execution_count": 2,
   "outputs": [],
   "source": [
    "A = sp.Matrix([[1, 2, 0, 1], [0, 1, 1, 0], [1, 2, 0, 1]])"
   ],
   "metadata": {
    "collapsed": false,
    "ExecuteTime": {
     "end_time": "2024-10-24T21:34:37.949794Z",
     "start_time": "2024-10-24T21:34:37.931461Z"
    }
   },
   "id": "e74f7a34b37d4284"
  },
  {
   "cell_type": "code",
   "execution_count": 3,
   "outputs": [
    {
     "name": "stdout",
     "output_type": "stream",
     "text": [
      "Matrix([[1, 0, 0], [0, 1, 0], [1, 0, 1]])\n",
      "Matrix([[1, 2, 0, 1], [0, 1, 1, 0], [0, 0, 0, 0]])\n",
      "Basis for the column space:\n",
      "[Matrix([\n",
      "[1],\n",
      "[0],\n",
      "[1]]), Matrix([\n",
      "[2],\n",
      "[1],\n",
      "[2]])]\n",
      "Dimension of the column space (Rank): 2\n"
     ]
    }
   ],
   "source": [
    "## Print L and U\n",
    "L,U, _ = A.LUdecomposition()\n",
    "print(L)\n",
    "print(U)\n",
    "\n",
    "# Compute the column space\n",
    "column_space = A.columnspace()\n",
    "\n",
    "# Print the basis for the column space\n",
    "print(\"Basis for the column space:\")\n",
    "print(column_space)\n",
    "\n",
    "# Print the dimensions\n",
    "print(\"Dimension of the column space (Rank):\", len(column_space))"
   ],
   "metadata": {
    "collapsed": false,
    "ExecuteTime": {
     "end_time": "2024-10-24T21:34:37.960100Z",
     "start_time": "2024-10-24T21:34:37.954331Z"
    }
   },
   "id": "6869296510a8f647"
  },
  {
   "cell_type": "code",
   "execution_count": 4,
   "outputs": [
    {
     "name": "stdout",
     "output_type": "stream",
     "text": [
      "Basis for the null space:\n",
      "[Matrix([\n",
      "[ 2],\n",
      "[-1],\n",
      "[ 1],\n",
      "[ 0]]), Matrix([\n",
      "[-1],\n",
      "[ 0],\n",
      "[ 0],\n",
      "[ 1]])]\n",
      "Dimension of the null space (Nullity): 2\n",
      "Rank of the matrix A: 2\n"
     ]
    }
   ],
   "source": [
    "null_space = A.nullspace()\n",
    "\n",
    "# Print the basis for the null space\n",
    "print(\"Basis for the null space:\")\n",
    "print(null_space)\n",
    "\n",
    "# Print the dimensions\n",
    "print(\"Dimension of the null space (Nullity):\", len(null_space))\n",
    "\n",
    "# Calculate and print the rank of the matrix\n",
    "rank_of_A = A.rank()\n",
    "print(\"Rank of the matrix A:\", rank_of_A)"
   ],
   "metadata": {
    "collapsed": false,
    "ExecuteTime": {
     "end_time": "2024-10-24T21:34:38.598757Z",
     "start_time": "2024-10-24T21:34:38.561892Z"
    }
   },
   "id": "c398977e5793f749"
  },
  {
   "cell_type": "markdown",
   "source": [
    "## Part B\n",
    "### test homework part B's answer\n"
   ],
   "metadata": {
    "collapsed": false
   },
   "id": "3e44ce50dcfda5a9"
  },
  {
   "cell_type": "code",
   "execution_count": 5,
   "outputs": [
    {
     "name": "stdout",
     "output_type": "stream",
     "text": [
      "Matrix([[1, 0, 0, 0], [1, 1, 0, 0], [-2, 0, 1, 0], [-1, 1, 1, 1]])\n",
      "Matrix([[2, -1, 4, 2, 1], [0, 0, 1, -3, 2], [0, 0, 0, 0, 2], [0, 0, 0, 0, 0]])\n",
      "Basis for the column space:\n",
      "[Matrix([\n",
      "[ 2],\n",
      "[ 2],\n",
      "[-4],\n",
      "[-2]]), Matrix([\n",
      "[ 4],\n",
      "[ 5],\n",
      "[-8],\n",
      "[-3]]), Matrix([\n",
      "[1],\n",
      "[3],\n",
      "[0],\n",
      "[3]])]\n",
      "Dimension of the column space (Rank): 3\n",
      ": 3\n"
     ]
    }
   ],
   "source": [
    "A = sp.Matrix([[2, -1, 4, 2, 1], [2, -1, 5, -1, 3], [-4, 2, -8, -4, 0], [-2, 1, -3, -5, 3]])\n",
    "\n",
    "## Print L and U\n",
    "L,U, _ = A.LUdecomposition()\n",
    "print(L)\n",
    "print(U)\n",
    "\n",
    "col_space = A.columnspace()\n",
    "# Print the basis for the column space\n",
    "print(\"Basis for the column space:\")\n",
    "print(col_space)\n",
    "\n",
    "\n",
    "\n",
    "# Print the dimensions\n",
    "print(\"Dimension of the column space (Rank):\", len(col_space))\n",
    "\n",
    "# Print the Rank of A\n",
    "print(\":\", len(col_space))"
   ],
   "metadata": {
    "collapsed": false,
    "ExecuteTime": {
     "end_time": "2024-10-24T21:34:39.492725Z",
     "start_time": "2024-10-24T21:34:39.485865Z"
    }
   },
   "id": "7fe3dab1f5a3bacb"
  },
  {
   "cell_type": "code",
   "execution_count": 6,
   "outputs": [
    {
     "name": "stdout",
     "output_type": "stream",
     "text": [
      "Basis for the null space:\n",
      "[Matrix([\n",
      "[1/2],\n",
      "[  1],\n",
      "[  0],\n",
      "[  0],\n",
      "[  0]]), Matrix([\n",
      "[-7],\n",
      "[ 0],\n",
      "[ 3],\n",
      "[ 1],\n",
      "[ 0]])]\n",
      "Dimension of the null space (Nullity): 2\n",
      "Rank of the matrix A: 3\n"
     ]
    }
   ],
   "source": [
    "null_space = A.nullspace()\n",
    "\n",
    "# Print the basis for the null space\n",
    "print(\"Basis for the null space:\")\n",
    "print(null_space)\n",
    "\n",
    "# Print the dimensions\n",
    "print(\"Dimension of the null space (Nullity):\", len(null_space))\n",
    "\n",
    "# Calculate and print the rank of the matrix\n",
    "rank_of_A = A.rank()\n",
    "print(\"Rank of the matrix A:\", rank_of_A)"
   ],
   "metadata": {
    "collapsed": false,
    "ExecuteTime": {
     "end_time": "2024-10-24T21:34:39.915364Z",
     "start_time": "2024-10-24T21:34:39.911485Z"
    }
   },
   "id": "62e9ddb3cd8bba45"
  },
  {
   "cell_type": "code",
   "execution_count": null,
   "outputs": [],
   "source": [],
   "metadata": {
    "collapsed": false
   },
   "id": "5303375d22eb5373"
  }
 ],
 "metadata": {
  "kernelspec": {
   "display_name": "Python 3",
   "language": "python",
   "name": "python3"
  },
  "language_info": {
   "codemirror_mode": {
    "name": "ipython",
    "version": 2
   },
   "file_extension": ".py",
   "mimetype": "text/x-python",
   "name": "python",
   "nbconvert_exporter": "python",
   "pygments_lexer": "ipython2",
   "version": "2.7.6"
  }
 },
 "nbformat": 4,
 "nbformat_minor": 5
}
