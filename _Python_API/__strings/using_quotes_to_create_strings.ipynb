{
 "cells": [
  {
   "cell_type": "code",
   "execution_count": 1,
   "id": "initial_id",
   "metadata": {
    "collapsed": true,
    "ExecuteTime": {
     "end_time": "2023-09-27T06:39:49.112795Z",
     "start_time": "2023-09-27T06:39:49.106065Z"
    }
   },
   "outputs": [
    {
     "data": {
      "text/plain": "'Python allows you to define strings using single quotes'"
     },
     "execution_count": 1,
     "metadata": {},
     "output_type": "execute_result"
    }
   ],
   "source": [
    "string_1 = 'Python allows you to define __strings using single quotes'\n",
    "string_1"
   ]
  },
  {
   "cell_type": "code",
   "execution_count": 2,
   "outputs": [
    {
     "ename": "SyntaxError",
     "evalue": "unterminated string literal (detected at line 1) (827052696.py, line 1)",
     "output_type": "error",
     "traceback": [
      "\u001B[0;36m  Cell \u001B[0;32mIn[2], line 1\u001B[0;36m\u001B[0m\n\u001B[0;31m    multiline_string = 'Strings cannot span multiple\u001B[0m\n\u001B[0m                       ^\u001B[0m\n\u001B[0;31mSyntaxError\u001B[0m\u001B[0;31m:\u001B[0m unterminated string literal (detected at line 1)\n"
     ]
    }
   ],
   "source": [
    "# multiline_string = 'Strings cannot span multiple \n",
    "# lines when enclosed in single qutoe'"
   ],
   "metadata": {
    "collapsed": false,
    "ExecuteTime": {
     "end_time": "2023-09-27T06:42:53.895630Z",
     "start_time": "2023-09-27T06:42:53.889378Z"
    }
   },
   "id": "ce93f5c54dbffcb9"
  },
  {
   "cell_type": "code",
   "execution_count": 5,
   "outputs": [
    {
     "data": {
      "text/plain": "'Strings cannot span multiple \\nlines when enclosed in single qutoe'"
     },
     "execution_count": 5,
     "metadata": {},
     "output_type": "execute_result"
    }
   ],
   "source": [
    "multiline_string = \"\"\"Strings cannot span multiple \n",
    "lines when enclosed in single qutoe\"\"\"\n",
    "multiline_string"
   ],
   "metadata": {
    "collapsed": false,
    "ExecuteTime": {
     "end_time": "2023-09-27T06:44:47.384537Z",
     "start_time": "2023-09-27T06:44:47.377793Z"
    }
   },
   "id": "e2727fe994f7c5eb"
  },
  {
   "cell_type": "code",
   "execution_count": 6,
   "outputs": [
    {
     "data": {
      "text/plain": "'\\nTriples quotes are useful because\\nyou can format and display your strings nicely in code\\nyou can include \\'single quotes\\' and \"double quotes\"\\nwithin the string\\n'"
     },
     "execution_count": 6,
     "metadata": {},
     "output_type": "execute_result"
    }
   ],
   "source": [
    "nicely_formatted_string = \"\"\"\n",
    "Triples quotes are useful because\n",
    "you can format and display your __strings nicely in code\n",
    "you can include 'single quotes' and \"double quotes\"\n",
    "within the string\n",
    "\"\"\"\n",
    "nicely_formatted_string"
   ],
   "metadata": {
    "collapsed": false,
    "ExecuteTime": {
     "end_time": "2023-09-27T06:46:22.913988Z",
     "start_time": "2023-09-27T06:46:22.906863Z"
    }
   },
   "id": "da2edd6eb110aaed"
  },
  {
   "cell_type": "code",
   "execution_count": 7,
   "outputs": [
    {
     "name": "stdout",
     "output_type": "stream",
     "text": [
      "\n",
      "Triples quotes are useful because\n",
      "you can format and display your strings nicely in code\n",
      "you can include 'single quotes' and \"double quotes\"\n",
      "within the string\n"
     ]
    }
   ],
   "source": [
    "print(nicely_formatted_string)"
   ],
   "metadata": {
    "collapsed": false,
    "ExecuteTime": {
     "end_time": "2023-09-27T06:47:00.011423Z",
     "start_time": "2023-09-27T06:47:00.001712Z"
    }
   },
   "id": "f06b8ba21f10e4e4"
  },
  {
   "cell_type": "markdown",
   "source": [
    "#### Escaping special characters in strings\n",
    "Escaping can be performed using \\, \", \""
   ],
   "metadata": {
    "collapsed": false
   },
   "id": "6f12812f4a07c166"
  },
  {
   "cell_type": "code",
   "execution_count": 8,
   "outputs": [
    {
     "data": {
      "text/plain": "\"That happened to be Jack's baseball bat\""
     },
     "execution_count": 8,
     "metadata": {},
     "output_type": "execute_result"
    }
   ],
   "source": [
    "some_string = 'That happened to be Jack\\'s baseball bat'\n",
    "some_string"
   ],
   "metadata": {
    "collapsed": false,
    "ExecuteTime": {
     "end_time": "2023-09-27T06:51:04.982388Z",
     "start_time": "2023-09-27T06:51:04.977058Z"
    }
   },
   "id": "fad64646ffa6bebe"
  },
  {
   "cell_type": "code",
   "execution_count": 9,
   "outputs": [
    {
     "data": {
      "text/plain": "\"That happened to be Jack's baseball bat\""
     },
     "execution_count": 9,
     "metadata": {},
     "output_type": "execute_result"
    }
   ],
   "source": [
    "some_string = \"That happened to be Jack's baseball bat\"\n",
    "some_string"
   ],
   "metadata": {
    "collapsed": false,
    "ExecuteTime": {
     "end_time": "2023-09-27T06:51:45.439282Z",
     "start_time": "2023-09-27T06:51:45.433526Z"
    }
   },
   "id": "b5a87089c1075ffe"
  },
  {
   "cell_type": "code",
   "execution_count": 11,
   "outputs": [
    {
     "data": {
      "text/plain": "'I assigned the value of that variable to be \"red\"'"
     },
     "execution_count": 11,
     "metadata": {},
     "output_type": "execute_result"
    }
   ],
   "source": [
    "another_string = \"I assigned the value of that variable to be \\\"red\\\"\"\n",
    "another_string"
   ],
   "metadata": {
    "collapsed": false,
    "ExecuteTime": {
     "end_time": "2023-09-27T06:52:57.134883Z",
     "start_time": "2023-09-27T06:52:57.126672Z"
    }
   },
   "id": "5192f56f400b27b2"
  },
  {
   "cell_type": "code",
   "execution_count": 12,
   "outputs": [
    {
     "data": {
      "text/plain": "'I assigned the value of that variable to be \"red\"'"
     },
     "execution_count": 12,
     "metadata": {},
     "output_type": "execute_result"
    }
   ],
   "source": [
    "another_string = 'I assigned the value of that variable to be \"red\"'\n",
    "another_string"
   ],
   "metadata": {
    "collapsed": false,
    "ExecuteTime": {
     "end_time": "2023-09-27T06:54:04.125450Z",
     "start_time": "2023-09-27T06:54:04.116020Z"
    }
   },
   "id": "25da0be6cde75f2f"
  }
 ],
 "metadata": {
  "kernelspec": {
   "display_name": "Python 3",
   "language": "python",
   "name": "python3"
  },
  "language_info": {
   "codemirror_mode": {
    "name": "ipython",
    "version": 2
   },
   "file_extension": ".py",
   "mimetype": "text/x-python",
   "name": "python",
   "nbconvert_exporter": "python",
   "pygments_lexer": "ipython2",
   "version": "2.7.6"
  }
 },
 "nbformat": 4,
 "nbformat_minor": 5
}
