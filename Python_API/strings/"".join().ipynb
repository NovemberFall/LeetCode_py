{
 "cells": [
  {
   "cell_type": "code",
   "execution_count": 4,
   "id": "initial_id",
   "metadata": {
    "collapsed": true,
    "ExecuteTime": {
     "end_time": "2024-07-31T05:48:58.687567Z",
     "start_time": "2024-07-31T05:48:58.677918Z"
    }
   },
   "outputs": [
    {
     "name": "stdout",
     "output_type": "stream",
     "text": [
      "Helloworld!\n"
     ]
    }
   ],
   "source": [
    "words = [\"Hello\", \"world\", \"!\"]\n",
    "sentence = \"\".join(words)\n",
    "print(sentence)  # Output: Helloworld!"
   ]
  },
  {
   "cell_type": "code",
   "execution_count": 7,
   "outputs": [
    {
     "name": "stdout",
     "output_type": "stream",
     "text": [
      "This is a sentence\n"
     ]
    }
   ],
   "source": [
    "words = [\"This\", \"is\", \"a\", \"sentence\"]\n",
    "sentence = \" \".join(words)\n",
    "print(sentence)  # Output: This is a sentence"
   ],
   "metadata": {
    "collapsed": false,
    "ExecuteTime": {
     "end_time": "2024-07-31T05:58:21.906717Z",
     "start_time": "2024-07-31T05:58:21.899455Z"
    }
   },
   "id": "5906adb8903f3584"
  },
  {
   "cell_type": "code",
   "execution_count": 8,
   "outputs": [
    {
     "name": "stdout",
     "output_type": "stream",
     "text": [
      "Python\n"
     ]
    }
   ],
   "source": [
    "chars = [\"P\", \"y\", \"t\", \"h\", \"o\", \"n\"]\n",
    "word = \"\".join(chars)\n",
    "print(word)  # Output: Python"
   ],
   "metadata": {
    "collapsed": false,
    "ExecuteTime": {
     "end_time": "2024-07-31T05:58:25.179248Z",
     "start_time": "2024-07-31T05:58:25.174538Z"
    }
   },
   "id": "deb6bd7dd44674a3"
  }
 ],
 "metadata": {
  "kernelspec": {
   "display_name": "Python 3",
   "language": "python",
   "name": "python3"
  },
  "language_info": {
   "codemirror_mode": {
    "name": "ipython",
    "version": 2
   },
   "file_extension": ".py",
   "mimetype": "text/x-python",
   "name": "python",
   "nbconvert_exporter": "python",
   "pygments_lexer": "ipython2",
   "version": "2.7.6"
  }
 },
 "nbformat": 4,
 "nbformat_minor": 5
}
