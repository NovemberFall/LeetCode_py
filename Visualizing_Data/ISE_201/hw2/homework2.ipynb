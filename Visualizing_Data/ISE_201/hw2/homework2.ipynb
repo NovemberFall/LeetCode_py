{
 "cells": [
  {
   "cell_type": "markdown",
   "source": [
    "## Yuxiao Zheng | Homework 2\n",
    "\n",
    "\n",
    "#### import these lirbaries to call some methods help calculate A = LU"
   ],
   "metadata": {
    "collapsed": false
   },
   "id": "7067d4d7447b455f"
  },
  {
   "cell_type": "code",
   "execution_count": 94,
   "id": "initial_id",
   "metadata": {
    "collapsed": true,
    "ExecuteTime": {
     "end_time": "2024-10-17T23:25:25.275565Z",
     "start_time": "2024-10-17T23:25:25.273422Z"
    }
   },
   "outputs": [],
   "source": [
    "import math\n",
    "import numpy as np\n",
    "\n",
    "# Routine to compute matrix inverses\n",
    "import numpy.linalg as la  # for la.inv\n",
    "\n",
    "# LU decompostion algs are found in the scipy library, not in n\n",
    "import scipy.linalg as sa  # for sa.lu\n"
   ]
  },
  {
   "cell_type": "markdown",
   "source": [
    "### Calculate A = LU\n",
    "\n",
    "1. init a original Matrix\n",
    "2. To find A = LU\n",
    "3. call lu() method, take this current matrix as parameter\n",
    "4. return L and U\n",
    "5. Note: Since there a zero appears on the diagnoal, I need to swap the Row 1 and Row 2 in my written solution. For SciPy's LU Decomposition, it is with Permutation so the solutions are same.\n",
    "6. check my ansower in Homework_2 Linear Algebra Part A: (the Python lirbary's solution is same with my hand written solution)"
   ],
   "metadata": {
    "collapsed": false
   },
   "id": "e5834051526fa3e5"
  },
  {
   "cell_type": "code",
   "execution_count": 95,
   "outputs": [
    {
     "name": "stdout",
     "output_type": "stream",
     "text": [
      "[[ 1.   0.   0. ]\n",
      " [ 0.   1.   0. ]\n",
      " [ 0.5 -1.   1. ]]\n",
      "[[2. 4. 4.]\n",
      " [0. 1. 2.]\n",
      " [0. 0. 1.]]\n",
      "[[2. 4. 4.]\n",
      " [0. 1. 2.]\n",
      " [1. 1. 1.]]\n"
     ]
    }
   ],
   "source": [
    "# a zero appears on the diagnoal\n",
    "A = np.array([[0, 1, 2], [2, 4, 4], [1, 1, 1]]) \n",
    "P, L, U = sa.lu(A)\n",
    "\n",
    "## print current matrix L\n",
    "print(L)\n",
    "\n",
    "## print current matrix U\n",
    "print(U)\n",
    "\n",
    "## print original matrix\n",
    "ans = L @ U\n",
    "print(ans)"
   ],
   "metadata": {
    "collapsed": false,
    "ExecuteTime": {
     "end_time": "2024-10-17T23:25:36.179176Z",
     "start_time": "2024-10-17T23:25:36.172381Z"
    }
   },
   "id": "d2f414fde0887e35"
  },
  {
   "cell_type": "markdown",
   "source": [
    "### Compute the inverse of the matrix\n",
    "\n",
    "1. init a original Matrix\n",
    "2. call .inv() method to take a Matrix as the parameter\n",
    "3. return an inverse of the original Matrix\n",
    "4. check my ansower in Homework_2 Linear Algebra Part B: (the Python lirbary's solution is same with my hand written solution)"
   ],
   "metadata": {
    "collapsed": false
   },
   "id": "f5117dde5258c4bb"
  },
  {
   "cell_type": "code",
   "execution_count": 96,
   "outputs": [
    {
     "name": "stdout",
     "output_type": "stream",
     "text": [
      "[[ 0.  -0.5  2. ]\n",
      " [-1.   1.  -2. ]\n",
      " [ 1.  -0.5  1. ]]\n"
     ]
    }
   ],
   "source": [
    "A = np.array([[0, 1, 2], [2, 4, 4], [1, 1, 1]])\n",
    "A_inverse = la.inv(A)\n",
    "\n",
    "print(A_inverse)"
   ],
   "metadata": {
    "collapsed": false,
    "ExecuteTime": {
     "end_time": "2024-10-17T23:25:38.367336Z",
     "start_time": "2024-10-17T23:25:38.364676Z"
    }
   },
   "id": "9606dfc67941ca1b"
  },
  {
   "cell_type": "markdown",
   "source": [
    "### Compute the LU decomposition of this tri-diagonal matrix with Permutation (Pivoting), to avoid a zero appear on the diagonal\n",
    "1. init an original Matrix\n",
    "2. To find A = LU\n",
    "3. call .lu() method, take this current matrix as parameter \n",
    "4. return L and U\n",
    "5. Note: the solution is that it will swap the rows and I am performing LU decomposition with permutation\n",
    "6. check my ansower in Homework_2 Linear Algebra Part C: (the Python lirbary's solution is different with my hand written solution)\n"
   ],
   "metadata": {
    "collapsed": false
   },
   "id": "376a34b980a2cfaa"
  },
  {
   "cell_type": "code",
   "execution_count": 97,
   "outputs": [
    {
     "name": "stdout",
     "output_type": "stream",
     "text": [
      "Lower Triangular Matrix L:\n",
      "[[ 1.   0.   0. ]\n",
      " [ 0.   1.   0. ]\n",
      " [ 0.5 -0.1  1. ]]\n",
      "\n",
      "Upper Triangular Matrix U:\n",
      "[[ 2.   5.   5. ]\n",
      " [ 0.   5.  26. ]\n",
      " [ 0.   0.   0.1]]\n"
     ]
    }
   ],
   "source": [
    "A = np.array([[1, 2, 0], [2, 5, 5], [0, 5, 26]])\n",
    "\n",
    "### L, U that I got, are the A = LU with permutation and swap rows\n",
    "P, L, U = sa.lu(A)\n",
    "\n",
    "# Display the results\n",
    "print(\"Lower Triangular Matrix L:\")\n",
    "print(L)\n",
    "print(\"\\nUpper Triangular Matrix U:\")\n",
    "print(U)"
   ],
   "metadata": {
    "collapsed": false,
    "ExecuteTime": {
     "end_time": "2024-10-17T23:25:42.181371Z",
     "start_time": "2024-10-17T23:25:42.177733Z"
    }
   },
   "id": "b7a1a7749d0063e4"
  },
  {
   "cell_type": "markdown",
   "source": [
    "###  Compute the LU decomposition of this tri-diagonal matrix without Permutation (No Pivoting)\n",
    "\n",
    "1. init an original Matrix\n",
    "2. To find A = LU\n",
    "3. call LUdecomp_no_pivot() method, take this current matrix as parameter \n",
    "4. return L and U without swap rows (No Pivoting)\n",
    "5. Note: the solution is that I am performing LU decomposition without permutation\n",
    "6. check my ansower in Homework_2 Linear Algebra Part C: (the Python lirbary's solution is same with my hand written solution)"
   ],
   "metadata": {
    "collapsed": false
   },
   "id": "fdadddf9f7901687"
  },
  {
   "cell_type": "code",
   "execution_count": 98,
   "outputs": [
    {
     "name": "stdout",
     "output_type": "stream",
     "text": [
      "Lower Triangular Matrix L:\n",
      "[[1. 0. 0.]\n",
      " [2. 1. 0.]\n",
      " [0. 5. 1.]]\n",
      "\n",
      "Upper Triangular Matrix U:\n",
      "[[1 2 0]\n",
      " [0 1 5]\n",
      " [0 0 1]]\n"
     ]
    }
   ],
   "source": [
    "# For this function, I get the L and U without swap Rows to get the solution what I expected.\n",
    "# Function to perform LU decomposition without pivoting, I don't swap rows\n",
    "def LUdecomp_no_pivot(a):\n",
    "    n = len(a)\n",
    "    L = np.eye(n)  # Initialize L as the identity matrix\n",
    "    U = a.copy()  # Initialize U as a copy of the original matrix\n",
    "\n",
    "    for i in range(n):\n",
    "        for j in range(i + 1, n):\n",
    "            if U[i, i] == 0:\n",
    "                raise ValueError(\"Zero pivot encountered, this method cannot handle it without row swaps.\")\n",
    "            # Calculate the multiplier for the current row\n",
    "            L[j, i] = U[j, i] / U[i, i]\n",
    "            # Update the row of U\n",
    "            U[j, i:n] = U[j, i:n] - L[j, i] * U[i, i:n]\n",
    "\n",
    "    return L, U\n",
    "\n",
    "\n",
    "A = np.array([[1, 2, 0], [2, 5, 5], [0, 5, 26]])\n",
    "\n",
    "# Perform LU decomposition without pivoting\n",
    "L, U = LUdecomp_no_pivot(A)\n",
    "\n",
    "# Display the results\n",
    "print(\"Lower Triangular Matrix L:\")\n",
    "print(L)\n",
    "print(\"\\nUpper Triangular Matrix U:\")\n",
    "print(U)\n",
    "\n"
   ],
   "metadata": {
    "collapsed": false,
    "ExecuteTime": {
     "end_time": "2024-10-17T23:25:44.225428Z",
     "start_time": "2024-10-17T23:25:44.217915Z"
    }
   },
   "id": "9ca7c75bcac13be0"
  },
  {
   "cell_type": "code",
   "execution_count": null,
   "outputs": [],
   "source": [],
   "metadata": {
    "collapsed": false
   },
   "id": "519ad132848bb202"
  }
 ],
 "metadata": {
  "kernelspec": {
   "display_name": "Python 3",
   "language": "python",
   "name": "python3"
  },
  "language_info": {
   "codemirror_mode": {
    "name": "ipython",
    "version": 2
   },
   "file_extension": ".py",
   "mimetype": "text/x-python",
   "name": "python",
   "nbconvert_exporter": "python",
   "pygments_lexer": "ipython2",
   "version": "2.7.6"
  }
 },
 "nbformat": 4,
 "nbformat_minor": 5
}
