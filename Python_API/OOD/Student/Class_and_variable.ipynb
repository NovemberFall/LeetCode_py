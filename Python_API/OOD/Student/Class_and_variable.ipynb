{
 "cells": [
  {
   "cell_type": "code",
   "id": "initial_id",
   "metadata": {
    "collapsed": true,
    "ExecuteTime": {
     "end_time": "2025-02-03T06:38:46.235419Z",
     "start_time": "2025-02-03T06:38:46.225527Z"
    }
   },
   "source": [
    "class Student:\n",
    "    \"\"\"Common base class for all students\"\"\"\n",
    "    stuCount = 0\n",
    "\n",
    "    def __init__(self, name):\n",
    "        self.name = name\n",
    "        self.grade = {}\n",
    "        Student.stuCount += 1\n",
    "\n",
    "    def add_grade(self, name, grade):\n",
    "        self.grade[name] = grade\n",
    "\n",
    "    def display_count(self):\n",
    "        print('Total Student Count %d' % Student.stuCount)\n",
    "\n",
    "    def display_student(self):\n",
    "        print('Name:', self.name, ', Average Grade:', self._get_averageGrade())\n",
    "\n",
    "    def _get_averageGrade(self):\n",
    "        total_score = 0\n",
    "        for class_name in self.grade:\n",
    "            total_score += self.grade[class_name]\n",
    "        return total_score / len(self.grade)\n",
    "\n",
    "\n",
    "student_a = Student('John')\n",
    "student_b = Student('Same')\n",
    "student_b.add_grade(\"math\", 90)\n",
    "student_b.add_grade(\"math\", 80)\n",
    "student_b.add_grade(\"geo\", 90)\n",
    "student_b.display_student()\n",
    "student_b.display_count()"
   ],
   "outputs": [
    {
     "name": "stdout",
     "output_type": "stream",
     "text": [
      "Name: Same , Average Grade: 85.0\n",
      "Total Student Count 2\n"
     ]
    }
   ],
   "execution_count": 8
  },
  {
   "metadata": {},
   "cell_type": "markdown",
   "source": [
    "![](./1.png)\n",
    "![](./2.png)"
   ],
   "id": "1239be2ddb4a069e"
  },
  {
   "metadata": {},
   "cell_type": "code",
   "outputs": [],
   "execution_count": null,
   "source": "",
   "id": "fb594f04fbefc470"
  }
 ],
 "metadata": {
  "kernelspec": {
   "display_name": "Python 3",
   "language": "python",
   "name": "python3"
  },
  "language_info": {
   "codemirror_mode": {
    "name": "ipython",
    "version": 2
   },
   "file_extension": ".py",
   "mimetype": "text/x-python",
   "name": "python",
   "nbconvert_exporter": "python",
   "pygments_lexer": "ipython2",
   "version": "2.7.6"
  }
 },
 "nbformat": 4,
 "nbformat_minor": 5
}
