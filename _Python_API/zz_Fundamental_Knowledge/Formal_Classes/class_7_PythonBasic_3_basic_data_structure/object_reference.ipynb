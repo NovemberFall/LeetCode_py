{
 "cells": [
  {
   "metadata": {},
   "cell_type": "markdown",
   "source": [
    "## reference\n",
    "\n",
    "![object reference](o1.png)"
   ],
   "id": "ee87d096e6538679"
  },
  {
   "metadata": {
    "ExecuteTime": {
     "end_time": "2025-02-09T03:56:47.176952Z",
     "start_time": "2025-02-09T03:56:47.164123Z"
    }
   },
   "cell_type": "code",
   "source": [
    "def foo(x):\n",
    "    x.append(1)\n",
    "    # print(x) #\n",
    "    x = [2]\n",
    "    x.append(1)\n",
    "    # print(x)\n",
    "    return x\n",
    "\n",
    "x = [0]\n",
    "foo(x)\n",
    "print(x)"
   ],
   "id": "f7307c1876b05c37",
   "outputs": [
    {
     "name": "stdout",
     "output_type": "stream",
     "text": [
      "[0, 1]\n"
     ]
    }
   ],
   "execution_count": 2
  },
  {
   "metadata": {},
   "cell_type": "code",
   "outputs": [],
   "execution_count": null,
   "source": "",
   "id": "76a7afde63dd4008"
  }
 ],
 "metadata": {
  "kernelspec": {
   "display_name": "Python 3",
   "language": "python",
   "name": "python3"
  },
  "language_info": {
   "codemirror_mode": {
    "name": "ipython",
    "version": 2
   },
   "file_extension": ".py",
   "mimetype": "text/x-python",
   "name": "python",
   "nbconvert_exporter": "python",
   "pygments_lexer": "ipython2",
   "version": "2.7.6"
  }
 },
 "nbformat": 4,
 "nbformat_minor": 5
}
