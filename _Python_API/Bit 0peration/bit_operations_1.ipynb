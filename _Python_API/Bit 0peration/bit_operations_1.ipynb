{
 "cells": [
  {
   "metadata": {},
   "cell_type": "markdown",
   "source": "### AND &",
   "id": "f67b16250a14ead2"
  },
  {
   "metadata": {
    "ExecuteTime": {
     "end_time": "2025-06-04T00:08:14.395167Z",
     "start_time": "2025-06-04T00:08:14.390263Z"
    }
   },
   "cell_type": "code",
   "source": [
    "a = 5     # 0101\n",
    "b = 3     # 0011\n",
    "print(a & b)  # 0001 ➝ 1"
   ],
   "id": "b1742d2f338e2db7",
   "outputs": [
    {
     "name": "stdout",
     "output_type": "stream",
     "text": [
      "1\n"
     ]
    }
   ],
   "execution_count": 1
  },
  {
   "metadata": {},
   "cell_type": "code",
   "outputs": [],
   "execution_count": null,
   "source": "",
   "id": "efcd68bef17ac960"
  },
  {
   "metadata": {},
   "cell_type": "markdown",
   "source": "### OR |",
   "id": "d68ae9e95514298b"
  },
  {
   "metadata": {
    "ExecuteTime": {
     "end_time": "2025-06-04T00:08:43.044081Z",
     "start_time": "2025-06-04T00:08:43.040112Z"
    }
   },
   "cell_type": "code",
   "source": [
    "a = 5     # 0101\n",
    "b = 3     # 0011\n",
    "print(a | b)  # 0111 ➝ 7"
   ],
   "id": "2d024ab99e900125",
   "outputs": [
    {
     "name": "stdout",
     "output_type": "stream",
     "text": [
      "7\n"
     ]
    }
   ],
   "execution_count": 2
  },
  {
   "metadata": {},
   "cell_type": "markdown",
   "source": "### XOR ^",
   "id": "85d60c2b785ea89"
  },
  {
   "metadata": {
    "ExecuteTime": {
     "end_time": "2025-06-04T00:10:09.244785Z",
     "start_time": "2025-06-04T00:10:09.241121Z"
    }
   },
   "cell_type": "code",
   "source": [
    "a = 5     # 0101\n",
    "b = 3     # 0011\n",
    "print(a ^ b)  # 0110 ➝ 6"
   ],
   "id": "1608b0c9a8bb1995",
   "outputs": [
    {
     "name": "stdout",
     "output_type": "stream",
     "text": [
      "6\n"
     ]
    }
   ],
   "execution_count": 7
  },
  {
   "metadata": {},
   "cell_type": "markdown",
   "source": "#### XOR is useful for finding the unique number when all others appear twice:",
   "id": "e35a7deaa0537e4b"
  },
  {
   "metadata": {
    "ExecuteTime": {
     "end_time": "2025-06-04T00:10:54.212301Z",
     "start_time": "2025-06-04T00:10:54.208816Z"
    }
   },
   "cell_type": "code",
   "source": [
    "def singleNumber(nums):\n",
    "    res = 0\n",
    "    for num in nums:\n",
    "        res ^= num\n",
    "    return res\n",
    "\n",
    "print(singleNumber([2,2,1]))  # ➝ 1"
   ],
   "id": "5fcf2524d5bd5563",
   "outputs": [
    {
     "name": "stdout",
     "output_type": "stream",
     "text": [
      "1\n"
     ]
    }
   ],
   "execution_count": 8
  },
  {
   "metadata": {},
   "cell_type": "markdown",
   "source": "### NOT ~",
   "id": "43f0869239de5edd"
  },
  {
   "metadata": {
    "ExecuteTime": {
     "end_time": "2025-06-04T00:11:42.127570Z",
     "start_time": "2025-06-04T00:11:42.124633Z"
    }
   },
   "cell_type": "code",
   "source": [
    "a = 5     # 0101\n",
    "print(~a)  # ➝ -6 (in two's complement)"
   ],
   "id": "d2331ba7db00c921",
   "outputs": [
    {
     "name": "stdout",
     "output_type": "stream",
     "text": [
      "-6\n"
     ]
    }
   ],
   "execution_count": 9
  },
  {
   "metadata": {},
   "cell_type": "markdown",
   "source": "### Left shift <<",
   "id": "a7aa28c940ca33b0"
  },
  {
   "metadata": {
    "ExecuteTime": {
     "end_time": "2025-06-04T00:12:14.607520Z",
     "start_time": "2025-06-04T00:12:14.604752Z"
    }
   },
   "cell_type": "code",
   "source": [
    "a = 3     # 0011\n",
    "print(a << 1)  # 0110 ➝ 6 (multiply by 2)"
   ],
   "id": "4839c1aab568982c",
   "outputs": [
    {
     "name": "stdout",
     "output_type": "stream",
     "text": [
      "6\n"
     ]
    }
   ],
   "execution_count": 10
  },
  {
   "metadata": {},
   "cell_type": "code",
   "outputs": [],
   "execution_count": null,
   "source": "",
   "id": "6bb28b925cf9fead"
  },
  {
   "metadata": {},
   "cell_type": "markdown",
   "source": "### Right shift >>",
   "id": "2e5899568413c5e"
  },
  {
   "metadata": {
    "ExecuteTime": {
     "end_time": "2025-06-04T00:12:47.890679Z",
     "start_time": "2025-06-04T00:12:47.885443Z"
    }
   },
   "cell_type": "code",
   "source": [
    "a = 8     # 1000\n",
    "print(a >> 1)  # 0100 ➝ 4 (divide by 2)"
   ],
   "id": "2ec7c9f21769c129",
   "outputs": [
    {
     "name": "stdout",
     "output_type": "stream",
     "text": [
      "4\n"
     ]
    }
   ],
   "execution_count": 11
  },
  {
   "metadata": {},
   "cell_type": "code",
   "outputs": [],
   "execution_count": null,
   "source": "",
   "id": "dc372a0069ab6810"
  },
  {
   "metadata": {},
   "cell_type": "markdown",
   "source": "#### Check if kth bit is set",
   "id": "3b8e105931b63efc"
  },
  {
   "metadata": {
    "ExecuteTime": {
     "end_time": "2025-06-04T00:13:24.401067Z",
     "start_time": "2025-06-04T00:13:24.397794Z"
    }
   },
   "cell_type": "code",
   "source": [
    "def isKthBitSet(n, k):\n",
    "    return (n & (1 << k)) != 0\n",
    "\n",
    "print(isKthBitSet(5, 0))  # True (bit 0 is 1 in 101)\n",
    "print(isKthBitSet(5, 1))  # False (bit 1 is 0 in 101)"
   ],
   "id": "b5bd60ac15f1d647",
   "outputs": [
    {
     "name": "stdout",
     "output_type": "stream",
     "text": [
      "True\n",
      "False\n"
     ]
    }
   ],
   "execution_count": 12
  },
  {
   "metadata": {
    "ExecuteTime": {
     "end_time": "2025-06-04T00:23:19.706746Z",
     "start_time": "2025-06-04T00:23:19.703510Z"
    }
   },
   "cell_type": "code",
   "source": [
    "i = 2\n",
    "bitmask = 1 << i  # 0001 << 2 = 0100\n",
    "print(bitmask)"
   ],
   "id": "b9221b4944b0d77d",
   "outputs": [
    {
     "name": "stdout",
     "output_type": "stream",
     "text": [
      "4\n"
     ]
    }
   ],
   "execution_count": 14
  },
  {
   "metadata": {},
   "cell_type": "code",
   "outputs": [],
   "execution_count": null,
   "source": "",
   "id": "e5291a6a4eec754e"
  }
 ],
 "metadata": {
  "kernelspec": {
   "display_name": "Python 3",
   "language": "python",
   "name": "python3"
  },
  "language_info": {
   "codemirror_mode": {
    "name": "ipython",
    "version": 2
   },
   "file_extension": ".py",
   "mimetype": "text/x-python",
   "name": "python",
   "nbconvert_exporter": "python",
   "pygments_lexer": "ipython2",
   "version": "2.7.6"
  }
 },
 "nbformat": 4,
 "nbformat_minor": 5
}
