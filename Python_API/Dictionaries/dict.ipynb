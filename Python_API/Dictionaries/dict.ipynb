{
 "cells": [
  {
   "cell_type": "code",
   "execution_count": 1,
   "id": "initial_id",
   "metadata": {
    "collapsed": true,
    "ExecuteTime": {
     "end_time": "2023-09-27T22:58:24.703712Z",
     "start_time": "2023-09-27T22:58:24.696805Z"
    }
   },
   "outputs": [
    {
     "data": {
      "text/plain": "{'Ray': 34000, 'Jacob': 35000, 'Lisa': 40000, 'Raj': 32000}"
     },
     "execution_count": 1,
     "metadata": {},
     "output_type": "execute_result"
    }
   ],
   "source": [
    "employee_salaries = {\n",
    "    \"Ray\": 34000,\n",
    "    \"Jacob\": 35000,\n",
    "    \"Lisa\": 40000,\n",
    "    \"Raj\": 32000\n",
    "}\n",
    "employee_salaries"
   ]
  },
  {
   "cell_type": "code",
   "execution_count": 2,
   "outputs": [
    {
     "data": {
      "text/plain": "40000"
     },
     "execution_count": 2,
     "metadata": {},
     "output_type": "execute_result"
    }
   ],
   "source": [
    "employee_salaries[\"Lisa\"]"
   ],
   "metadata": {
    "collapsed": false,
    "ExecuteTime": {
     "end_time": "2023-09-27T22:58:40.529751Z",
     "start_time": "2023-09-27T22:58:40.524623Z"
    }
   },
   "id": "1d3d3391f72a05da"
  },
  {
   "cell_type": "code",
   "execution_count": 3,
   "outputs": [
    {
     "data": {
      "text/plain": "{'Ray': 34000, 'Jacob': 35000, 'Lisa': 40000, 'Raj': 50000}"
     },
     "execution_count": 3,
     "metadata": {},
     "output_type": "execute_result"
    }
   ],
   "source": [
    "employee_salaries[\"Raj\"] = 50000\n",
    "employee_salaries"
   ],
   "metadata": {
    "collapsed": false,
    "ExecuteTime": {
     "end_time": "2023-09-27T22:59:44.971007Z",
     "start_time": "2023-09-27T22:59:44.965070Z"
    }
   },
   "id": "a7696ecab2b2a1da"
  },
  {
   "cell_type": "code",
   "execution_count": 4,
   "outputs": [
    {
     "data": {
      "text/plain": "{'Ray': 34000, 'Jacob': 35000, 'Lisa': 44000.0, 'Raj': 50000}"
     },
     "execution_count": 4,
     "metadata": {},
     "output_type": "execute_result"
    }
   ],
   "source": [
    "employee_salaries[\"Lisa\"] *= 1.1\n",
    "employee_salaries"
   ],
   "metadata": {
    "collapsed": false,
    "ExecuteTime": {
     "end_time": "2023-09-27T23:00:14.202326Z",
     "start_time": "2023-09-27T23:00:14.195841Z"
    }
   },
   "id": "d7e262347ce78d11"
  },
  {
   "cell_type": "code",
   "execution_count": 5,
   "outputs": [
    {
     "data": {
      "text/plain": "{'Ray': 34000, 'Lisa': 44000.0, 'Raj': 50000}"
     },
     "execution_count": 5,
     "metadata": {},
     "output_type": "execute_result"
    }
   ],
   "source": [
    "del employee_salaries[\"Jacob\"]\n",
    "employee_salaries"
   ],
   "metadata": {
    "collapsed": false,
    "ExecuteTime": {
     "end_time": "2023-09-27T23:01:21.588634Z",
     "start_time": "2023-09-27T23:01:21.582232Z"
    }
   },
   "id": "bbcd766acbb2ccc"
  },
  {
   "cell_type": "markdown",
   "source": [],
   "metadata": {
    "collapsed": false
   },
   "id": "4617e6ba50659ffe"
  },
  {
   "cell_type": "code",
   "execution_count": 6,
   "outputs": [
    {
     "data": {
      "text/plain": "{'Ray': 34000, 'Raj': 50000}"
     },
     "execution_count": 6,
     "metadata": {},
     "output_type": "execute_result"
    }
   ],
   "source": [
    "employee_salaries.pop(\"Lisa\")\n",
    "employee_salaries"
   ],
   "metadata": {
    "collapsed": false,
    "ExecuteTime": {
     "end_time": "2023-09-27T23:03:04.289287Z",
     "start_time": "2023-09-27T23:03:04.282613Z"
    }
   },
   "id": "59e70ded748079d0"
  },
  {
   "cell_type": "markdown",
   "source": [
    "#### Viewing and Editing Python Dictionaries"
   ],
   "metadata": {
    "collapsed": false
   },
   "id": "99be05a2d1c5111d"
  },
  {
   "cell_type": "code",
   "execution_count": 7,
   "outputs": [
    {
     "data": {
      "text/plain": "dict_keys(['Ray', 'Raj'])"
     },
     "execution_count": 7,
     "metadata": {},
     "output_type": "execute_result"
    }
   ],
   "source": [
    "employee_salaries.keys()"
   ],
   "metadata": {
    "collapsed": false,
    "ExecuteTime": {
     "end_time": "2023-09-27T23:30:47.740048Z",
     "start_time": "2023-09-27T23:30:47.728191Z"
    }
   },
   "id": "de4071ee12ea3729"
  },
  {
   "cell_type": "code",
   "execution_count": 8,
   "outputs": [
    {
     "data": {
      "text/plain": "dict_values([34000, 50000])"
     },
     "execution_count": 8,
     "metadata": {},
     "output_type": "execute_result"
    }
   ],
   "source": [
    "employee_salaries.values()"
   ],
   "metadata": {
    "collapsed": false,
    "ExecuteTime": {
     "end_time": "2023-09-27T23:30:52.947913Z",
     "start_time": "2023-09-27T23:30:52.934844Z"
    }
   },
   "id": "819a490d7588f4df"
  },
  {
   "cell_type": "code",
   "execution_count": 9,
   "outputs": [
    {
     "data": {
      "text/plain": "dict_items([('Ray', 34000), ('Raj', 50000)])"
     },
     "execution_count": 9,
     "metadata": {},
     "output_type": "execute_result"
    }
   ],
   "source": [
    "employee_salaries.items()"
   ],
   "metadata": {
    "collapsed": false,
    "ExecuteTime": {
     "end_time": "2023-09-27T23:31:01.723584Z",
     "start_time": "2023-09-27T23:31:01.711272Z"
    }
   },
   "id": "b7d127464f13d6a6"
  },
  {
   "cell_type": "code",
   "execution_count": 10,
   "outputs": [
    {
     "data": {
      "text/plain": "True"
     },
     "execution_count": 10,
     "metadata": {},
     "output_type": "execute_result"
    }
   ],
   "source": [
    "\"Ray\" in employee_salaries.keys()"
   ],
   "metadata": {
    "collapsed": false,
    "ExecuteTime": {
     "end_time": "2023-09-27T23:31:25.241497Z",
     "start_time": "2023-09-27T23:31:25.228078Z"
    }
   },
   "id": "35293e6f9b21c3c"
  },
  {
   "cell_type": "code",
   "execution_count": 11,
   "outputs": [
    {
     "data": {
      "text/plain": "True"
     },
     "execution_count": 11,
     "metadata": {},
     "output_type": "execute_result"
    }
   ],
   "source": [
    "34000 in employee_salaries.values()"
   ],
   "metadata": {
    "collapsed": false,
    "ExecuteTime": {
     "end_time": "2023-09-27T23:31:37.647387Z",
     "start_time": "2023-09-27T23:31:37.633558Z"
    }
   },
   "id": "64f9148f77d7db55"
  },
  {
   "cell_type": "code",
   "execution_count": 12,
   "outputs": [
    {
     "data": {
      "text/plain": "True"
     },
     "execution_count": 12,
     "metadata": {},
     "output_type": "execute_result"
    }
   ],
   "source": [
    "('Ray', 34000) in employee_salaries.items()"
   ],
   "metadata": {
    "collapsed": false,
    "ExecuteTime": {
     "end_time": "2023-09-27T23:32:00.969173Z",
     "start_time": "2023-09-27T23:32:00.954408Z"
    }
   },
   "id": "da314df26c70a074"
  },
  {
   "cell_type": "code",
   "execution_count": 13,
   "outputs": [
    {
     "data": {
      "text/plain": "{False: 'Hello', 'Hi': [1, 2, 3], 'Good Morning': True}"
     },
     "execution_count": 13,
     "metadata": {},
     "output_type": "execute_result"
    }
   ],
   "source": [
    "mixed_dict = {False: \"Hello\",\n",
    "              \"Hi\": [1, 2, 3],\n",
    "              \"Good Morning\": True}\n",
    "mixed_dict"
   ],
   "metadata": {
    "collapsed": false,
    "ExecuteTime": {
     "end_time": "2023-09-27T23:32:47.512769Z",
     "start_time": "2023-09-27T23:32:47.498507Z"
    }
   },
   "id": "a501d1d87d76c2a0"
  },
  {
   "cell_type": "code",
   "execution_count": 14,
   "outputs": [
    {
     "data": {
      "text/plain": "'Hello'"
     },
     "execution_count": 14,
     "metadata": {},
     "output_type": "execute_result"
    }
   ],
   "source": [
    "mixed_dict[False]"
   ],
   "metadata": {
    "collapsed": false,
    "ExecuteTime": {
     "end_time": "2023-09-27T23:33:28.417840Z",
     "start_time": "2023-09-27T23:33:28.403929Z"
    }
   },
   "id": "41cd8efdab646abd"
  },
  {
   "cell_type": "code",
   "execution_count": 15,
   "outputs": [
    {
     "data": {
      "text/plain": "2"
     },
     "execution_count": 15,
     "metadata": {},
     "output_type": "execute_result"
    }
   ],
   "source": [
    "mixed_dict['Hi'][1]"
   ],
   "metadata": {
    "collapsed": false,
    "ExecuteTime": {
     "end_time": "2023-09-27T23:33:51.944810Z",
     "start_time": "2023-09-27T23:33:51.936921Z"
    }
   },
   "id": "214a5ea6b385c460"
  },
  {
   "cell_type": "code",
   "execution_count": 17,
   "outputs": [],
   "source": [
    "calories = {}"
   ],
   "metadata": {
    "collapsed": false,
    "ExecuteTime": {
     "end_time": "2023-09-27T23:36:38.814838Z",
     "start_time": "2023-09-27T23:36:38.806332Z"
    }
   },
   "id": "71112c6c63685e3a"
  },
  {
   "cell_type": "code",
   "execution_count": 18,
   "outputs": [],
   "source": [
    "calories[\"Burger\"] = 500\n",
    "calories[\"Fries\"] = 200\n",
    "calories[\"Shake\"] = 400"
   ],
   "metadata": {
    "collapsed": false,
    "ExecuteTime": {
     "end_time": "2023-09-27T23:37:03.848015Z",
     "start_time": "2023-09-27T23:37:03.844249Z"
    }
   },
   "id": "795f9953ed289e5b"
  },
  {
   "cell_type": "code",
   "execution_count": 19,
   "outputs": [
    {
     "data": {
      "text/plain": "{'Burger': 500, 'Fries': 200, 'Shake': 400}"
     },
     "execution_count": 19,
     "metadata": {},
     "output_type": "execute_result"
    }
   ],
   "source": [
    "calories"
   ],
   "metadata": {
    "collapsed": false,
    "ExecuteTime": {
     "end_time": "2023-09-27T23:37:12.929227Z",
     "start_time": "2023-09-27T23:37:12.921730Z"
    }
   },
   "id": "92b592d07a4f5ca3"
  },
  {
   "cell_type": "code",
   "execution_count": 20,
   "outputs": [
    {
     "data": {
      "text/plain": "{'Shake': 700, 'Juice': 200}"
     },
     "execution_count": 20,
     "metadata": {},
     "output_type": "execute_result"
    }
   ],
   "source": [
    "updated_calories = {\"Shake\": 700, \"Juice\": 200}\n",
    "updated_calories"
   ],
   "metadata": {
    "collapsed": false,
    "ExecuteTime": {
     "end_time": "2023-09-27T23:37:58.077314Z",
     "start_time": "2023-09-27T23:37:58.067014Z"
    }
   },
   "id": "165ba4e19c36e2dc"
  },
  {
   "cell_type": "code",
   "execution_count": 21,
   "outputs": [
    {
     "data": {
      "text/plain": "{'Burger': 500, 'Fries': 200, 'Shake': 700, 'Juice': 200}"
     },
     "execution_count": 21,
     "metadata": {},
     "output_type": "execute_result"
    }
   ],
   "source": [
    "calories.update(updated_calories)\n",
    "calories"
   ],
   "metadata": {
    "collapsed": false,
    "ExecuteTime": {
     "end_time": "2023-09-27T23:39:14.849014Z",
     "start_time": "2023-09-27T23:39:14.839437Z"
    }
   },
   "id": "367b565c13f798c2"
  },
  {
   "cell_type": "code",
   "execution_count": null,
   "outputs": [],
   "source": [],
   "metadata": {
    "collapsed": false
   },
   "id": "28f48446d7c3523"
  }
 ],
 "metadata": {
  "kernelspec": {
   "display_name": "Python 3",
   "language": "python",
   "name": "python3"
  },
  "language_info": {
   "codemirror_mode": {
    "name": "ipython",
    "version": 2
   },
   "file_extension": ".py",
   "mimetype": "text/x-python",
   "name": "python",
   "nbconvert_exporter": "python",
   "pygments_lexer": "ipython2",
   "version": "2.7.6"
  }
 },
 "nbformat": 4,
 "nbformat_minor": 5
}
