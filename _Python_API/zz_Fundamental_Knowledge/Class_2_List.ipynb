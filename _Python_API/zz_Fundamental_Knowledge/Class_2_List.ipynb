{
 "cells": [
  {
   "metadata": {},
   "cell_type": "markdown",
   "source": "## Class 2",
   "id": "e3a2f82ed12ed045"
  },
  {
   "metadata": {},
   "cell_type": "markdown",
   "source": "#### String debugging exercises",
   "id": "924996964ae0aec3"
  },
  {
   "metadata": {
    "ExecuteTime": {
     "end_time": "2025-01-25T00:21:34.296918Z",
     "start_time": "2025-01-25T00:21:34.291772Z"
    }
   },
   "cell_type": "code",
   "source": [
    "# message = \"Dr. Tang says: \"Hello world!\"\"\n",
    "# print(message)"
   ],
   "id": "68d0ecc079708a70",
   "outputs": [
    {
     "ename": "SyntaxError",
     "evalue": "invalid syntax (2474271134.py, line 1)",
     "output_type": "error",
     "traceback": [
      "\u001B[0;36m  Cell \u001B[0;32mIn[1], line 1\u001B[0;36m\u001B[0m\n\u001B[0;31m    message = \"Dr. Tang says: \"Hello world!\"\"\u001B[0m\n\u001B[0m                               ^\u001B[0m\n\u001B[0;31mSyntaxError\u001B[0m\u001B[0;31m:\u001B[0m invalid syntax\n"
     ]
    }
   ],
   "execution_count": 1
  },
  {
   "metadata": {
    "ExecuteTime": {
     "end_time": "2025-01-25T00:22:03.560019Z",
     "start_time": "2025-01-25T00:22:03.554446Z"
    }
   },
   "cell_type": "code",
   "source": [
    "message = \"Dr. Tang says: \\\"Hello world!\\\"\"\n",
    "print(message)"
   ],
   "id": "31af662a27c98196",
   "outputs": [
    {
     "name": "stdout",
     "output_type": "stream",
     "text": [
      "Dr. Tang says: \"Hello world!\"\n"
     ]
    }
   ],
   "execution_count": 2
  },
  {
   "metadata": {
    "ExecuteTime": {
     "end_time": "2025-01-25T00:22:22.305751Z",
     "start_time": "2025-01-25T00:22:22.296111Z"
    }
   },
   "cell_type": "code",
   "source": [
    "message = \"Dr. Tang says: 'Hello world!'\"\n",
    "print(message)"
   ],
   "id": "a06904d1f86bad17",
   "outputs": [
    {
     "name": "stdout",
     "output_type": "stream",
     "text": [
      "Dr. Tang says: 'Hello world!'\n"
     ]
    }
   ],
   "execution_count": 3
  },
  {
   "metadata": {
    "ExecuteTime": {
     "end_time": "2025-01-25T00:22:54.715881Z",
     "start_time": "2025-01-25T00:22:54.706059Z"
    }
   },
   "cell_type": "code",
   "source": [
    "# message = 'Welcome to Dr. Tang's class!'\n",
    "print(message)"
   ],
   "id": "f90f3e2f37b6e382",
   "outputs": [
    {
     "ename": "SyntaxError",
     "evalue": "unterminated string literal (detected at line 1) (268258123.py, line 1)",
     "output_type": "error",
     "traceback": [
      "\u001B[0;36m  Cell \u001B[0;32mIn[4], line 1\u001B[0;36m\u001B[0m\n\u001B[0;31m    message = 'Welcome to Dr. Tang's class!'\u001B[0m\n\u001B[0m                                           ^\u001B[0m\n\u001B[0;31mSyntaxError\u001B[0m\u001B[0;31m:\u001B[0m unterminated string literal (detected at line 1)\n"
     ]
    }
   ],
   "execution_count": 4
  },
  {
   "metadata": {
    "ExecuteTime": {
     "end_time": "2025-01-25T00:24:41.718793Z",
     "start_time": "2025-01-25T00:24:41.709907Z"
    }
   },
   "cell_type": "code",
   "source": [
    "message = \"\"\"President Trump's height is 6'3\".\"\"\"\n",
    "print(message)"
   ],
   "id": "8e9838654fd671e",
   "outputs": [
    {
     "name": "stdout",
     "output_type": "stream",
     "text": [
      "President Trump's height is 6'3\".\n"
     ]
    }
   ],
   "execution_count": 5
  },
  {
   "metadata": {
    "ExecuteTime": {
     "end_time": "2025-01-25T00:25:14.700137Z",
     "start_time": "2025-01-25T00:25:14.695396Z"
    }
   },
   "cell_type": "code",
   "source": [
    "message = \"President Trump's height is 6'3\\\".\"\n",
    "print(message)"
   ],
   "id": "1057fe17f77129bf",
   "outputs": [
    {
     "name": "stdout",
     "output_type": "stream",
     "text": [
      "President Trump's height is 6'3\".\n"
     ]
    }
   ],
   "execution_count": 6
  },
  {
   "metadata": {},
   "cell_type": "markdown",
   "source": "",
   "id": "254ee32c54d6476a"
  },
  {
   "metadata": {},
   "cell_type": "markdown",
   "source": "",
   "id": "57c1e65996aefaa4"
  },
  {
   "metadata": {},
   "cell_type": "markdown",
   "source": "## Short-circuit evaluation",
   "id": "572432672c7318ad"
  },
  {
   "metadata": {
    "ExecuteTime": {
     "end_time": "2025-01-25T00:33:19.671239Z",
     "start_time": "2025-01-25T00:33:13.917340Z"
    }
   },
   "cell_type": "code",
   "source": [
    "weight = float(input(\"Weight: \"))\n",
    "height = float(input(\"Height: \"))\n",
    "if weight / height ** 2 >= 30:\n",
    "    print(\"You are obese!\")"
   ],
   "id": "ddb20503bec79f56",
   "outputs": [
    {
     "ename": "ZeroDivisionError",
     "evalue": "float division by zero",
     "output_type": "error",
     "traceback": [
      "\u001B[0;31m---------------------------------------------------------------------------\u001B[0m",
      "\u001B[0;31mZeroDivisionError\u001B[0m                         Traceback (most recent call last)",
      "Cell \u001B[0;32mIn[9], line 3\u001B[0m\n\u001B[1;32m      1\u001B[0m weight \u001B[38;5;241m=\u001B[39m \u001B[38;5;28mfloat\u001B[39m(\u001B[38;5;28minput\u001B[39m(\u001B[38;5;124m\"\u001B[39m\u001B[38;5;124mWeight: \u001B[39m\u001B[38;5;124m\"\u001B[39m))\n\u001B[1;32m      2\u001B[0m height \u001B[38;5;241m=\u001B[39m \u001B[38;5;28mfloat\u001B[39m(\u001B[38;5;28minput\u001B[39m(\u001B[38;5;124m\"\u001B[39m\u001B[38;5;124mHeight: \u001B[39m\u001B[38;5;124m\"\u001B[39m))\n\u001B[0;32m----> 3\u001B[0m \u001B[38;5;28;01mif\u001B[39;00m \u001B[43mweight\u001B[49m\u001B[43m \u001B[49m\u001B[38;5;241;43m/\u001B[39;49m\u001B[43m \u001B[49m\u001B[43mheight\u001B[49m\u001B[43m \u001B[49m\u001B[38;5;241;43m*\u001B[39;49m\u001B[38;5;241;43m*\u001B[39;49m\u001B[43m \u001B[49m\u001B[38;5;241;43m2\u001B[39;49m \u001B[38;5;241m>\u001B[39m\u001B[38;5;241m=\u001B[39m \u001B[38;5;241m30\u001B[39m:\n\u001B[1;32m      4\u001B[0m     \u001B[38;5;28mprint\u001B[39m(\u001B[38;5;124m\"\u001B[39m\u001B[38;5;124mYou are obese!\u001B[39m\u001B[38;5;124m\"\u001B[39m)\n",
      "\u001B[0;31mZeroDivisionError\u001B[0m: float division by zero"
     ]
    }
   ],
   "execution_count": 9
  },
  {
   "metadata": {
    "ExecuteTime": {
     "end_time": "2025-01-25T00:35:03.126309Z",
     "start_time": "2025-01-25T00:34:58.116484Z"
    }
   },
   "cell_type": "code",
   "source": [
    "weight = float(input(\"Weight: \"))\n",
    "height = float(input(\"Height: \"))\n",
    "if height != 0 and weight / height ** 2 >= 30:\n",
    "    print(\"You are obese!\")"
   ],
   "id": "fb9dabc8efd3cae9",
   "outputs": [],
   "execution_count": 11
  },
  {
   "metadata": {},
   "cell_type": "markdown",
   "source": "",
   "id": "acfe49f10bdaf12f"
  },
  {
   "metadata": {},
   "cell_type": "markdown",
   "source": "## Default values",
   "id": "af9b0895a923e7e3"
  },
  {
   "metadata": {
    "ExecuteTime": {
     "end_time": "2025-01-25T00:37:22.623480Z",
     "start_time": "2025-01-25T00:37:19.590433Z"
    }
   },
   "cell_type": "code",
   "source": [
    "height = float(input(\"Height: \")) or 1\n",
    "print(height)\n",
    "\n",
    "## if you input 0, it will print 1"
   ],
   "id": "3504b8c34ab37d4b",
   "outputs": [
    {
     "name": "stdout",
     "output_type": "stream",
     "text": [
      "1\n"
     ]
    }
   ],
   "execution_count": 13
  },
  {
   "metadata": {
    "ExecuteTime": {
     "end_time": "2025-01-25T00:39:57.926226Z",
     "start_time": "2025-01-25T00:39:35.940019Z"
    }
   },
   "cell_type": "code",
   "source": [
    "name = input(\"Please enter your name: \") or \"anonymous user\"\n",
    "print(f\"Hello, {name}!\")\n",
    "\n",
    "## if you don't input anything, it will return `anonymous user`"
   ],
   "id": "b349defe3bc5a9b2",
   "outputs": [
    {
     "name": "stdout",
     "output_type": "stream",
     "text": [
      "Hello, anonymous user!\n"
     ]
    }
   ],
   "execution_count": 14
  },
  {
   "metadata": {},
   "cell_type": "code",
   "outputs": [],
   "execution_count": null,
   "source": "",
   "id": "d26bd0ef640f0f8a"
  },
  {
   "metadata": {},
   "cell_type": "markdown",
   "source": "## List",
   "id": "ff1c749190b74f87"
  },
  {
   "metadata": {},
   "cell_type": "markdown",
   "source": "#### Adding elements",
   "id": "5af0892517442c51"
  },
  {
   "metadata": {
    "ExecuteTime": {
     "end_time": "2025-02-06T19:24:12.648045Z",
     "start_time": "2025-02-06T19:24:12.640233Z"
    }
   },
   "cell_type": "code",
   "source": [
    "schools = [\"columbia\",\"usc\",\"stanford\"]\n",
    "schools.append(\"mit\")\n",
    "schools"
   ],
   "id": "1864ac8aa55eac68",
   "outputs": [
    {
     "data": {
      "text/plain": [
       "['columbia', 'usc', 'stanford', 'mit']"
      ]
     },
     "execution_count": 1,
     "metadata": {},
     "output_type": "execute_result"
    }
   ],
   "execution_count": 1
  },
  {
   "metadata": {},
   "cell_type": "markdown",
   "source": "#### Inserting elements",
   "id": "dc3f7ba4de8f413"
  },
  {
   "metadata": {
    "ExecuteTime": {
     "end_time": "2025-02-06T19:24:59.374038Z",
     "start_time": "2025-02-06T19:24:59.370164Z"
    }
   },
   "cell_type": "code",
   "source": [
    "schools.insert(1,\"pku\")\n",
    "print(schools)"
   ],
   "id": "9a787f21f42dfa8f",
   "outputs": [
    {
     "name": "stdout",
     "output_type": "stream",
     "text": [
      "['columbia', 'pku', 'pku', 'usc', 'stanford', 'mit']\n"
     ]
    }
   ],
   "execution_count": 3
  },
  {
   "metadata": {},
   "cell_type": "markdown",
   "source": "#### Removing elements",
   "id": "3c4a57c7c573e753"
  },
  {
   "metadata": {
    "ExecuteTime": {
     "end_time": "2025-02-06T19:25:33.510357Z",
     "start_time": "2025-02-06T19:25:33.507549Z"
    }
   },
   "cell_type": "code",
   "source": [
    "last_school = schools.pop()\n",
    "print(schools)\n",
    "print(last_school)"
   ],
   "id": "6c93b6e3f5af08e8",
   "outputs": [
    {
     "name": "stdout",
     "output_type": "stream",
     "text": [
      "['columbia', 'pku', 'pku', 'usc', 'stanford']\n",
      "mit\n"
     ]
    }
   ],
   "execution_count": 4
  },
  {
   "metadata": {},
   "cell_type": "markdown",
   "source": "#### Popping an element from any postion",
   "id": "6ab3febef0ea8246"
  },
  {
   "metadata": {
    "ExecuteTime": {
     "end_time": "2025-02-06T19:26:17.009559Z",
     "start_time": "2025-02-06T19:26:17.003228Z"
    }
   },
   "cell_type": "code",
   "source": [
    "first_school = schools.pop(0)\n",
    "print(schools)\n",
    "print(first_school)"
   ],
   "id": "136ca7baef39d329",
   "outputs": [
    {
     "name": "stdout",
     "output_type": "stream",
     "text": [
      "['pku', 'pku', 'usc', 'stanford']\n",
      "columbia\n"
     ]
    }
   ],
   "execution_count": 5
  },
  {
   "metadata": {},
   "cell_type": "markdown",
   "source": "#### Removing an element by value",
   "id": "bd73341cb14de8db"
  },
  {
   "metadata": {
    "ExecuteTime": {
     "end_time": "2025-02-06T19:27:15.193140Z",
     "start_time": "2025-02-06T19:27:15.186711Z"
    }
   },
   "cell_type": "code",
   "source": [
    "schools.remove(\"pku\")\n",
    "print(schools)"
   ],
   "id": "2a53b10a01f6b8ba",
   "outputs": [
    {
     "name": "stdout",
     "output_type": "stream",
     "text": [
      "['pku', 'usc', 'stanford']\n"
     ]
    }
   ],
   "execution_count": 6
  },
  {
   "metadata": {},
   "cell_type": "markdown",
   "source": "## Searching",
   "id": "3665a0900c3851c3"
  },
  {
   "metadata": {
    "ExecuteTime": {
     "end_time": "2025-02-06T19:28:56.477290Z",
     "start_time": "2025-02-06T19:28:56.469395Z"
    }
   },
   "cell_type": "code",
   "source": [
    "schools = [\"tsinghua\",\"usc\",\"stanford\"]\n",
    "print(\"tsinghua\" in schools)"
   ],
   "id": "5898bfc3659761be",
   "outputs": [
    {
     "name": "stdout",
     "output_type": "stream",
     "text": [
      "True\n"
     ]
    }
   ],
   "execution_count": 7
  },
  {
   "metadata": {},
   "cell_type": "code",
   "outputs": [],
   "execution_count": null,
   "source": "",
   "id": "711156482f0297fc"
  }
 ],
 "metadata": {
  "kernelspec": {
   "display_name": "Python 3",
   "language": "python",
   "name": "python3"
  },
  "language_info": {
   "codemirror_mode": {
    "name": "ipython",
    "version": 2
   },
   "file_extension": ".py",
   "mimetype": "text/x-python",
   "name": "python",
   "nbconvert_exporter": "python",
   "pygments_lexer": "ipython2",
   "version": "2.7.6"
  }
 },
 "nbformat": 4,
 "nbformat_minor": 5
}
