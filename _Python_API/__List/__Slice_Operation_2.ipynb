{
 "cells": [
  {
   "cell_type": "code",
   "id": "initial_id",
   "metadata": {
    "collapsed": true,
    "ExecuteTime": {
     "end_time": "2025-05-04T05:15:10.894317Z",
     "start_time": "2025-05-04T05:15:10.887425Z"
    }
   },
   "source": [
    "## For LC 2551\n",
    "\n",
    "weights = [1, 3, 5, 1]\n",
    "k = 3\n",
    "splits = [(weights[i] + weights[i + 1])  for i in range(len(weights) - 1)]\n",
    "splits.sort()\n",
    "print(splits)"
   ],
   "outputs": [
    {
     "name": "stdout",
     "output_type": "stream",
     "text": [
      "[4, 6, 8]\n"
     ]
    }
   ],
   "execution_count": 3
  },
  {
   "metadata": {
    "ExecuteTime": {
     "end_time": "2025-05-04T05:19:01.615994Z",
     "start_time": "2025-05-04T05:19:01.609519Z"
    }
   },
   "cell_type": "code",
   "source": [
    "i = k - 1\n",
    "print(splits[-i:])\n",
    "max_score = sum(splits[-i:])\n",
    "print(max_score)\n",
    "\n",
    "print(splits[:i])\n",
    "min_score = sum(splits[:i])\n",
    "print(min_score)"
   ],
   "id": "12d9b03ee38a497a",
   "outputs": [
    {
     "name": "stdout",
     "output_type": "stream",
     "text": [
      "[6, 8]\n",
      "14\n",
      "[4, 6]\n",
      "10\n"
     ]
    }
   ],
   "execution_count": 9
  },
  {
   "metadata": {},
   "cell_type": "code",
   "outputs": [],
   "execution_count": null,
   "source": "",
   "id": "44b3051c0947ffc5"
  }
 ],
 "metadata": {
  "kernelspec": {
   "display_name": "Python 3",
   "language": "python",
   "name": "python3"
  },
  "language_info": {
   "codemirror_mode": {
    "name": "ipython",
    "version": 2
   },
   "file_extension": ".py",
   "mimetype": "text/x-python",
   "name": "python",
   "nbconvert_exporter": "python",
   "pygments_lexer": "ipython2",
   "version": "2.7.6"
  }
 },
 "nbformat": 4,
 "nbformat_minor": 5
}
