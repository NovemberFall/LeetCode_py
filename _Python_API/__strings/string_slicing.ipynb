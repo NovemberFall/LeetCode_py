{
 "cells": [
  {
   "cell_type": "code",
   "id": "initial_id",
   "metadata": {
    "collapsed": true,
    "ExecuteTime": {
     "end_time": "2025-05-22T22:51:39.075905Z",
     "start_time": "2025-05-22T22:51:39.070920Z"
    }
   },
   "source": [
    "str1 = \"hello\"\n",
    "str1[:-1]"
   ],
   "outputs": [
    {
     "data": {
      "text/plain": [
       "'hell'"
      ]
     },
     "execution_count": 1,
     "metadata": {},
     "output_type": "execute_result"
    }
   ],
   "execution_count": 1
  },
  {
   "metadata": {},
   "cell_type": "code",
   "outputs": [],
   "execution_count": null,
   "source": "",
   "id": "a6f6caedddfadb5b"
  },
  {
   "metadata": {},
   "cell_type": "markdown",
   "source": [
    "### string[start:stop:step]\n",
    "\n",
    "- checking whether a string substr is a palindrome.\n",
    "\n",
    "- [::-1] means:\n",
    "    - start from the end,\n",
    "    - go to the beginning,\n",
    "    - step by -1 (reverse order)"
   ],
   "id": "1aa3b6401bab4818"
  },
  {
   "metadata": {
    "ExecuteTime": {
     "end_time": "2025-05-24T23:42:35.361680Z",
     "start_time": "2025-05-24T23:42:35.356432Z"
    }
   },
   "cell_type": "code",
   "source": [
    "substr = \"racecar\"\n",
    "if substr == substr[::-1]:\n",
    "    print(\"Palindrome\")"
   ],
   "id": "e0c9a45abe185a65",
   "outputs": [
    {
     "name": "stdout",
     "output_type": "stream",
     "text": [
      "Palindrome\n"
     ]
    }
   ],
   "execution_count": 1
  },
  {
   "metadata": {},
   "cell_type": "code",
   "outputs": [],
   "execution_count": null,
   "source": "",
   "id": "405040dae11c157e"
  }
 ],
 "metadata": {
  "kernelspec": {
   "display_name": "Python 3",
   "language": "python",
   "name": "python3"
  },
  "language_info": {
   "codemirror_mode": {
    "name": "ipython",
    "version": 2
   },
   "file_extension": ".py",
   "mimetype": "text/x-python",
   "name": "python",
   "nbconvert_exporter": "python",
   "pygments_lexer": "ipython2",
   "version": "2.7.6"
  }
 },
 "nbformat": 4,
 "nbformat_minor": 5
}
