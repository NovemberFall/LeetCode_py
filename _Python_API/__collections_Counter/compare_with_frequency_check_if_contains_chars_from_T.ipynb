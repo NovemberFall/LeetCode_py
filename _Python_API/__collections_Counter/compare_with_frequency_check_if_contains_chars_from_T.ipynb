{
 "cells": [
  {
   "cell_type": "code",
   "id": "initial_id",
   "metadata": {
    "collapsed": true,
    "ExecuteTime": {
     "end_time": "2025-05-27T06:01:31.484877Z",
     "start_time": "2025-05-27T06:01:31.481845Z"
    }
   },
   "source": [
    "from collections import Counter\n",
    "\n",
    "# Example 1\n",
    "cnt_s = Counter(\"ADOBECODEBANC\")\n",
    "cnt_t = Counter(\"ABC\")\n",
    "\n",
    "print(\"cnt_s:\", cnt_s)\n",
    "print(\"cnt_t:\", cnt_t)\n",
    "print(\"cnt_s >= cnt_t:\", cnt_s >= cnt_t)  # True\n",
    "\n",
    "# Explanation:\n",
    "# cnt_s has at least:\n",
    "# - 1 'A'\n",
    "# - 1 'B'\n",
    "# - 1 'C'\n",
    "# So cnt_s >= cnt_t is True"
   ],
   "outputs": [
    {
     "name": "stdout",
     "output_type": "stream",
     "text": [
      "cnt_s: Counter({'A': 2, 'D': 2, 'O': 2, 'B': 2, 'E': 2, 'C': 2, 'N': 1})\n",
      "cnt_t: Counter({'A': 1, 'B': 1, 'C': 1})\n",
      "cnt_s >= cnt_t: True\n"
     ]
    }
   ],
   "execution_count": 2
  },
  {
   "metadata": {
    "ExecuteTime": {
     "end_time": "2025-05-27T06:01:50.642283Z",
     "start_time": "2025-05-27T06:01:50.638486Z"
    }
   },
   "cell_type": "code",
   "source": [
    "# Example 2\n",
    "cnt_s = Counter(\"AAB\")\n",
    "cnt_t = Counter(\"AAAB\")\n",
    "\n",
    "print(\"\\ncnt_s:\", cnt_s)\n",
    "print(\"cnt_t:\", cnt_t)\n",
    "print(\"cnt_s >= cnt_t:\", cnt_s >= cnt_t)  # False\n",
    "\n",
    "# Explanation:\n",
    "# cnt_s only has:\n",
    "# - 2 'A's\n",
    "# - 1 'B'\n",
    "# cnt_t requires 3 'A's, so cnt_s >= cnt_t is False"
   ],
   "id": "fd9b516c3dcbfbc9",
   "outputs": [
    {
     "name": "stdout",
     "output_type": "stream",
     "text": [
      "\n",
      "cnt_s: Counter({'A': 2, 'B': 1})\n",
      "cnt_t: Counter({'A': 3, 'B': 1})\n",
      "cnt_s >= cnt_t: False\n"
     ]
    }
   ],
   "execution_count": 3
  },
  {
   "metadata": {
    "ExecuteTime": {
     "end_time": "2025-05-27T06:11:57.711904Z",
     "start_time": "2025-05-27T06:11:57.703733Z"
    }
   },
   "cell_type": "code",
   "source": [
    "# Example 3\n",
    "cnt_s = Counter(\"AAB\")\n",
    "print(cnt_s)"
   ],
   "id": "3b8678b95e212ac1",
   "outputs": [
    {
     "name": "stdout",
     "output_type": "stream",
     "text": [
      "Counter({'A': 2, 'B': 1})\n"
     ]
    }
   ],
   "execution_count": 4
  },
  {
   "metadata": {},
   "cell_type": "code",
   "outputs": [],
   "execution_count": null,
   "source": "",
   "id": "3c40dcf8fe804668"
  }
 ],
 "metadata": {
  "kernelspec": {
   "display_name": "Python 3",
   "language": "python",
   "name": "python3"
  },
  "language_info": {
   "codemirror_mode": {
    "name": "ipython",
    "version": 2
   },
   "file_extension": ".py",
   "mimetype": "text/x-python",
   "name": "python",
   "nbconvert_exporter": "python",
   "pygments_lexer": "ipython2",
   "version": "2.7.6"
  }
 },
 "nbformat": 4,
 "nbformat_minor": 5
}
