{
 "cells": [
  {
   "cell_type": "code",
   "execution_count": 1,
   "id": "initial_id",
   "metadata": {
    "collapsed": true,
    "ExecuteTime": {
     "end_time": "2023-09-27T18:34:46.678478Z",
     "start_time": "2023-09-27T18:34:46.671784Z"
    }
   },
   "outputs": [
    {
     "data": {
      "text/plain": "['Badminton', 'Golf', 'Basketball', 'Tennis']"
     },
     "execution_count": 1,
     "metadata": {},
     "output_type": "execute_result"
    }
   ],
   "source": [
    "games_list = ['Badminton', 'Golf', 'Basketball', 'Tennis']\n",
    "games_list"
   ]
  },
  {
   "cell_type": "code",
   "execution_count": 2,
   "outputs": [
    {
     "data": {
      "text/plain": "list"
     },
     "execution_count": 2,
     "metadata": {},
     "output_type": "execute_result"
    }
   ],
   "source": [
    "type(games_list)"
   ],
   "metadata": {
    "collapsed": false,
    "ExecuteTime": {
     "end_time": "2023-09-27T18:35:07.723947Z",
     "start_time": "2023-09-27T18:35:07.720872Z"
    }
   },
   "id": "558e6ef9b39176d3"
  },
  {
   "cell_type": "code",
   "execution_count": 3,
   "outputs": [
    {
     "data": {
      "text/plain": "'Tennis'"
     },
     "execution_count": 3,
     "metadata": {},
     "output_type": "execute_result"
    }
   ],
   "source": [
    "games_list[-1]  # index -1, which is the last element"
   ],
   "metadata": {
    "collapsed": false,
    "ExecuteTime": {
     "end_time": "2023-09-27T18:35:34.945300Z",
     "start_time": "2023-09-27T18:35:34.942181Z"
    }
   },
   "id": "ae06222e2da28173"
  },
  {
   "cell_type": "code",
   "execution_count": 4,
   "outputs": [
    {
     "data": {
      "text/plain": "'Basketball'"
     },
     "execution_count": 4,
     "metadata": {},
     "output_type": "execute_result"
    }
   ],
   "source": [
    "games_list[-2]"
   ],
   "metadata": {
    "collapsed": false,
    "ExecuteTime": {
     "end_time": "2023-09-27T18:36:11.330463Z",
     "start_time": "2023-09-27T18:36:11.326636Z"
    }
   },
   "id": "ae78aeddb142f7a3"
  },
  {
   "cell_type": "code",
   "execution_count": 11,
   "outputs": [
    {
     "data": {
      "text/plain": "[10, 20, 30, 40, 50]"
     },
     "execution_count": 11,
     "metadata": {},
     "output_type": "execute_result"
    }
   ],
   "source": [
    "integers_list = [10, 20, 30, 40, 50]\n",
    "integers_list"
   ],
   "metadata": {
    "collapsed": false,
    "ExecuteTime": {
     "end_time": "2023-09-27T18:53:45.220857Z",
     "start_time": "2023-09-27T18:53:45.215987Z"
    }
   },
   "id": "528413077af69af8"
  },
  {
   "cell_type": "code",
   "execution_count": 12,
   "outputs": [
    {
     "data": {
      "text/plain": "4"
     },
     "execution_count": 12,
     "metadata": {},
     "output_type": "execute_result"
    }
   ],
   "source": [
    "len(games_list)"
   ],
   "metadata": {
    "collapsed": false,
    "ExecuteTime": {
     "end_time": "2023-09-27T18:53:47.702231Z",
     "start_time": "2023-09-27T18:53:47.696860Z"
    }
   },
   "id": "4ae2c45be7f93357"
  },
  {
   "cell_type": "code",
   "execution_count": 7,
   "outputs": [
    {
     "data": {
      "text/plain": "['Nancy', 'Peter', 12, 13, 4.5, 9.8, True, False]"
     },
     "execution_count": 7,
     "metadata": {},
     "output_type": "execute_result"
    }
   ],
   "source": [
    "mixed_list = [\"Nancy\", \"Peter\", 12, 13, 4.5, 9.8, True, False]\n",
    "mixed_list"
   ],
   "metadata": {
    "collapsed": false,
    "ExecuteTime": {
     "end_time": "2023-09-27T18:45:28.595869Z",
     "start_time": "2023-09-27T18:45:28.591038Z"
    }
   },
   "id": "2ad4cdd018eeca13"
  },
  {
   "cell_type": "code",
   "execution_count": 8,
   "outputs": [
    {
     "data": {
      "text/plain": "['apples', 'bananas', 'pears', 'mangoes']"
     },
     "execution_count": 8,
     "metadata": {},
     "output_type": "execute_result"
    }
   ],
   "source": [
    "fruit_list = list((\"apples\", \"bananas\", \"pears\", \"mangoes\"))\n",
    "fruit_list"
   ],
   "metadata": {
    "collapsed": false,
    "ExecuteTime": {
     "end_time": "2023-09-27T18:50:30.588721Z",
     "start_time": "2023-09-27T18:50:30.583923Z"
    }
   },
   "id": "ff78485e5f8260f"
  },
  {
   "cell_type": "markdown",
   "source": [
    "## Accessing Values in Lists Using Python Index"
   ],
   "metadata": {
    "collapsed": false
   },
   "id": "76d581c3088c9c87"
  },
  {
   "cell_type": "code",
   "execution_count": 13,
   "outputs": [
    {
     "data": {
      "text/plain": "[10, 20, 30, 40, 50]"
     },
     "execution_count": 13,
     "metadata": {},
     "output_type": "execute_result"
    }
   ],
   "source": [
    "integers_list"
   ],
   "metadata": {
    "collapsed": false,
    "ExecuteTime": {
     "end_time": "2023-09-27T18:53:52.149784Z",
     "start_time": "2023-09-27T18:53:52.143124Z"
    }
   },
   "id": "5650f3750dfbd855"
  },
  {
   "cell_type": "code",
   "execution_count": 14,
   "outputs": [
    {
     "data": {
      "text/plain": "150"
     },
     "execution_count": 14,
     "metadata": {},
     "output_type": "execute_result"
    }
   ],
   "source": [
    "sum(integers_list)"
   ],
   "metadata": {
    "collapsed": false,
    "ExecuteTime": {
     "end_time": "2023-09-27T18:53:57.652748Z",
     "start_time": "2023-09-27T18:53:57.646979Z"
    }
   },
   "id": "bff5e369c355a6a2"
  },
  {
   "cell_type": "code",
   "execution_count": 15,
   "outputs": [
    {
     "data": {
      "text/plain": "50"
     },
     "execution_count": 15,
     "metadata": {},
     "output_type": "execute_result"
    }
   ],
   "source": [
    "max(integers_list)"
   ],
   "metadata": {
    "collapsed": false,
    "ExecuteTime": {
     "end_time": "2023-09-27T18:54:15.469042Z",
     "start_time": "2023-09-27T18:54:15.463336Z"
    }
   },
   "id": "4f24c591499f14af"
  },
  {
   "cell_type": "code",
   "execution_count": 16,
   "outputs": [
    {
     "data": {
      "text/plain": "10"
     },
     "execution_count": 16,
     "metadata": {},
     "output_type": "execute_result"
    }
   ],
   "source": [
    "min(integers_list)"
   ],
   "metadata": {
    "collapsed": false,
    "ExecuteTime": {
     "end_time": "2023-09-27T18:54:28.601232Z",
     "start_time": "2023-09-27T18:54:28.595904Z"
    }
   },
   "id": "e728e93b12e79940"
  },
  {
   "cell_type": "code",
   "execution_count": 17,
   "outputs": [
    {
     "data": {
      "text/plain": "['Badminton', 'Golf', 'Basketball', 'Table Tennis', 'Tennis', 'Football']"
     },
     "execution_count": 17,
     "metadata": {},
     "output_type": "execute_result"
    }
   ],
   "source": [
    "games_list = ['Badminton', 'Golf', 'Basketball', 'Table Tennis', 'Tennis', 'Football']\n",
    "games_list"
   ],
   "metadata": {
    "collapsed": false,
    "ExecuteTime": {
     "end_time": "2023-09-27T18:55:23.406936Z",
     "start_time": "2023-09-27T18:55:23.403723Z"
    }
   },
   "id": "e380f1362f52e5fe"
  },
  {
   "cell_type": "code",
   "execution_count": 18,
   "outputs": [
    {
     "data": {
      "text/plain": "['Badminton', 'Golf']"
     },
     "execution_count": 18,
     "metadata": {},
     "output_type": "execute_result"
    }
   ],
   "source": [
    "games_list[0:2]  # return 2 elements from index 0"
   ],
   "metadata": {
    "collapsed": false,
    "ExecuteTime": {
     "end_time": "2023-09-27T18:55:36.556258Z",
     "start_time": "2023-09-27T18:55:36.551267Z"
    }
   },
   "id": "dcbfb0168243df70"
  },
  {
   "cell_type": "code",
   "execution_count": 19,
   "outputs": [
    {
     "data": {
      "text/plain": "['Golf', 'Basketball', 'Table Tennis']"
     },
     "execution_count": 19,
     "metadata": {},
     "output_type": "execute_result"
    }
   ],
   "source": [
    "games_list[1:4]"
   ],
   "metadata": {
    "collapsed": false,
    "ExecuteTime": {
     "end_time": "2023-09-27T18:56:25.060003Z",
     "start_time": "2023-09-27T18:56:25.056069Z"
    }
   },
   "id": "a0534eb31364e282"
  },
  {
   "cell_type": "code",
   "execution_count": 20,
   "outputs": [
    {
     "data": {
      "text/plain": "['Golf', 'Basketball', 'Table Tennis', 'Tennis', 'Football']"
     },
     "execution_count": 20,
     "metadata": {},
     "output_type": "execute_result"
    }
   ],
   "source": [
    "games_list[1:6]"
   ],
   "metadata": {
    "collapsed": false,
    "ExecuteTime": {
     "end_time": "2023-09-27T18:57:30.817132Z",
     "start_time": "2023-09-27T18:57:30.809657Z"
    }
   },
   "id": "337bdd4cde625da7"
  },
  {
   "cell_type": "code",
   "execution_count": 21,
   "outputs": [
    {
     "data": {
      "text/plain": "['Golf', 'Basketball', 'Table Tennis', 'Tennis', 'Football']"
     },
     "execution_count": 21,
     "metadata": {},
     "output_type": "execute_result"
    }
   ],
   "source": [
    "\"\"\"\n",
    "1. the start index: This is the index of the first element in the new list. The start index is inclusive, \n",
    "meaning that the first element in the new list will be the element at the start index.\n",
    "\n",
    "2. The end index: This is the index of the last element in the new list. The end index is exclusive, \n",
    "meaning that the last element in the new list will be the element at the end index minus one.\n",
    "\n",
    "3. The step size: This is the number of elements to skip between each element in the new list.\n",
    "\"\"\"\n",
    "games_list[1:6:1]"
   ],
   "metadata": {
    "collapsed": false,
    "ExecuteTime": {
     "end_time": "2023-09-27T19:03:28.679210Z",
     "start_time": "2023-09-27T19:03:28.674950Z"
    }
   },
   "id": "a83626d382b06b49"
  },
  {
   "cell_type": "code",
   "execution_count": 22,
   "outputs": [
    {
     "data": {
      "text/plain": "['Golf', 'Table Tennis', 'Football']"
     },
     "execution_count": 22,
     "metadata": {},
     "output_type": "execute_result"
    }
   ],
   "source": [
    "games_list[1:6:2]"
   ],
   "metadata": {
    "collapsed": false,
    "ExecuteTime": {
     "end_time": "2023-09-27T19:03:39.948553Z",
     "start_time": "2023-09-27T19:03:39.939502Z"
    }
   },
   "id": "8dba9399a654d93c"
  },
  {
   "cell_type": "code",
   "execution_count": 23,
   "outputs": [
    {
     "data": {
      "text/plain": "['Golf', 'Tennis']"
     },
     "execution_count": 23,
     "metadata": {},
     "output_type": "execute_result"
    }
   ],
   "source": [
    "games_list[1:6:3]"
   ],
   "metadata": {
    "collapsed": false,
    "ExecuteTime": {
     "end_time": "2023-09-27T19:04:42.627587Z",
     "start_time": "2023-09-27T19:04:42.621464Z"
    }
   },
   "id": "c967bfbe92ab9378"
  },
  {
   "cell_type": "code",
   "execution_count": 24,
   "outputs": [
    {
     "data": {
      "text/plain": "['Badminton', 'Golf', 'Basketball', 'Table Tennis', 'Tennis', 'Football']"
     },
     "execution_count": 24,
     "metadata": {},
     "output_type": "execute_result"
    }
   ],
   "source": [
    "games_list"
   ],
   "metadata": {
    "collapsed": false,
    "ExecuteTime": {
     "end_time": "2023-09-27T19:21:55.063598Z",
     "start_time": "2023-09-27T19:21:55.060468Z"
    }
   },
   "id": "26379a171e74d2fd"
  },
  {
   "cell_type": "code",
   "execution_count": 25,
   "outputs": [
    {
     "data": {
      "text/plain": "['Badminton', 'Golf', 'Basketball', 'Table Tennis']"
     },
     "execution_count": 25,
     "metadata": {},
     "output_type": "execute_result"
    }
   ],
   "source": [
    "\"\"\"\n",
    "In the expression games_list[:4], the start index is 0 and the end index is 4. \n",
    "This means that the new list will contain the first 4 elements of the original list.\n",
    "\"\"\"\n",
    "games_list[:4]"
   ],
   "metadata": {
    "collapsed": false,
    "ExecuteTime": {
     "end_time": "2023-09-27T19:22:02.366974Z",
     "start_time": "2023-09-27T19:22:02.361324Z"
    }
   },
   "id": "de847d6d8435fd1b"
  },
  {
   "cell_type": "code",
   "execution_count": 26,
   "outputs": [
    {
     "data": {
      "text/plain": "['Basketball', 'Table Tennis', 'Tennis', 'Football']"
     },
     "execution_count": 26,
     "metadata": {},
     "output_type": "execute_result"
    }
   ],
   "source": [
    "\"\"\"\n",
    "In the expression games_list[2:], the start index is 2 and the end index is not specified. \n",
    "This means that the new list will contain all of the elements of the original list starting at index 2 and \n",
    "continuing to the end of the list.\n",
    "\"\"\"\n",
    "games_list[2:]"
   ],
   "metadata": {
    "collapsed": false,
    "ExecuteTime": {
     "end_time": "2023-09-27T19:29:53.400170Z",
     "start_time": "2023-09-27T19:29:53.394652Z"
    }
   },
   "id": "75fe4f8959f6bbfa"
  },
  {
   "cell_type": "code",
   "execution_count": 27,
   "outputs": [
    {
     "data": {
      "text/plain": "['Badminton', 'Golf', 'Basketball', 'Table Tennis', 'Tennis', 'Football']"
     },
     "execution_count": 27,
     "metadata": {},
     "output_type": "execute_result"
    }
   ],
   "source": [
    "\"\"\"\n",
    "In the expression games_list[:], the start index is 0 and the end index is not specified. \n",
    "This means that the new list will contain all of the elements of the original list.\n",
    "\"\"\"\n",
    "games_list[:]"
   ],
   "metadata": {
    "collapsed": false,
    "ExecuteTime": {
     "end_time": "2023-09-27T19:31:40.354307Z",
     "start_time": "2023-09-27T19:31:40.351382Z"
    }
   },
   "id": "43ff9b5c3cda72f1"
  },
  {
   "cell_type": "code",
   "execution_count": 28,
   "outputs": [
    {
     "data": {
      "text/plain": "['Badminton', 'Golf', 'Basketball', 'Table Tennis', 'Tennis']"
     },
     "execution_count": 28,
     "metadata": {},
     "output_type": "execute_result"
    }
   ],
   "source": [
    "\"\"\"\n",
    "In the expression games_list[:-1], the start index is 0 and the end index is -1. \n",
    "The negative end index means that the last element of the original list should be excluded from the new list.\n",
    "\"\"\"\n",
    "games_list[:-1]"
   ],
   "metadata": {
    "collapsed": false,
    "ExecuteTime": {
     "end_time": "2023-09-27T19:33:17.771277Z",
     "start_time": "2023-09-27T19:33:17.767931Z"
    }
   },
   "id": "8be7a523208d3c66"
  },
  {
   "cell_type": "code",
   "execution_count": 29,
   "outputs": [
    {
     "data": {
      "text/plain": "['Golf', 'Basketball', 'Table Tennis', 'Tennis']"
     },
     "execution_count": 29,
     "metadata": {},
     "output_type": "execute_result"
    }
   ],
   "source": [
    "\"\"\"\n",
    "games_list[-5:-1], the start index is -5 and the end index is -1. \n",
    "The negative indices indicate that the elements are counted from the end of the list. \n",
    "So, the start index -5 refers to the fifth element from the end of the list and \n",
    "the end index -1 refers to the last element of the list, excluding the last element.\n",
    "\"\"\"\n",
    "games_list[-5:-1]"
   ],
   "metadata": {
    "collapsed": false,
    "ExecuteTime": {
     "end_time": "2023-09-27T19:37:50.975873Z",
     "start_time": "2023-09-27T19:37:50.972804Z"
    }
   },
   "id": "9a43ad454937f29b"
  },
  {
   "cell_type": "code",
   "execution_count": 30,
   "outputs": [
    {
     "data": {
      "text/plain": "['Football', 'Tennis', 'Table Tennis', 'Basketball', 'Golf', 'Badminton']"
     },
     "execution_count": 30,
     "metadata": {},
     "output_type": "execute_result"
    }
   ],
   "source": [
    "\"\"\"\n",
    "In the example games_list[::-1], the start and stop arguments are omitted, \n",
    "so the entire list games_list is sliced. \n",
    "The step argument is -1, which reverses the order of the sliced sequence.\n",
    "\"\"\"\n",
    "games_list[::-1]"
   ],
   "metadata": {
    "collapsed": false,
    "ExecuteTime": {
     "end_time": "2023-09-27T19:48:49.056595Z",
     "start_time": "2023-09-27T19:48:49.053413Z"
    }
   },
   "id": "8d3bb7c750f97386"
  },
  {
   "cell_type": "markdown",
   "source": [
    "#### Inserting and Deleting Elements in Python Lists"
   ],
   "metadata": {
    "collapsed": false
   },
   "id": "5b8f6757c9d5bbd8"
  },
  {
   "cell_type": "code",
   "execution_count": 31,
   "outputs": [
    {
     "data": {
      "text/plain": "['Avatar',\n 'Pacific Eim',\n 'The Golden Compass',\n 'Monsters University',\n 'X-Men: The Last Stand']"
     },
     "execution_count": 31,
     "metadata": {},
     "output_type": "execute_result"
    }
   ],
   "source": [
    "movies_list = [\"Avatar\", \"Pacific Eim\", \"The Golden Compass\", \"Monsters University\", \"X-Men: The Last Stand\"]\n",
    "movies_list"
   ],
   "metadata": {
    "collapsed": false,
    "ExecuteTime": {
     "end_time": "2023-09-27T19:52:39.872828Z",
     "start_time": "2023-09-27T19:52:39.870399Z"
    }
   },
   "id": "42263bccbcaa74ef"
  },
  {
   "cell_type": "code",
   "execution_count": 32,
   "outputs": [
    {
     "data": {
      "text/plain": "['Avatar',\n 'Pacific Eim',\n 'The Golden Compass',\n 'Monsters University',\n 'X-Men: The Last Stand',\n 'The Amazing Spider-Man 2']"
     },
     "execution_count": 32,
     "metadata": {},
     "output_type": "execute_result"
    }
   ],
   "source": [
    "movies_list.append(\"The Amazing Spider-Man 2\")\n",
    "movies_list"
   ],
   "metadata": {
    "collapsed": false,
    "ExecuteTime": {
     "end_time": "2023-09-27T19:53:21.636314Z",
     "start_time": "2023-09-27T19:53:21.633683Z"
    }
   },
   "id": "e6d3b44850b3a004"
  },
  {
   "cell_type": "code",
   "execution_count": 33,
   "outputs": [
    {
     "data": {
      "text/plain": "['Avatar',\n 'The Legend of Tarzan',\n 'Pacific Eim',\n 'The Golden Compass',\n 'Monsters University',\n 'X-Men: The Last Stand',\n 'The Amazing Spider-Man 2']"
     },
     "execution_count": 33,
     "metadata": {},
     "output_type": "execute_result"
    }
   ],
   "source": [
    "movies_list.insert(1, \"The Legend of Tarzan\")\n",
    "movies_list"
   ],
   "metadata": {
    "collapsed": false,
    "ExecuteTime": {
     "end_time": "2023-09-27T19:53:49.915457Z",
     "start_time": "2023-09-27T19:53:49.912761Z"
    }
   },
   "id": "8b8dcd72ad821341"
  },
  {
   "cell_type": "code",
   "execution_count": 34,
   "outputs": [
    {
     "data": {
      "text/plain": "['The Amazing Spider-Man 2',\n 'X-Men: The Last Stand',\n 'Monsters University',\n 'The Golden Compass',\n 'Pacific Eim',\n 'The Legend of Tarzan',\n 'Avatar']"
     },
     "execution_count": 34,
     "metadata": {},
     "output_type": "execute_result"
    }
   ],
   "source": [
    "movies_list.reverse()\n",
    "movies_list"
   ],
   "metadata": {
    "collapsed": false,
    "ExecuteTime": {
     "end_time": "2023-09-27T19:54:27.924461Z",
     "start_time": "2023-09-27T19:54:27.921848Z"
    }
   },
   "id": "a14ee712af1969b0"
  },
  {
   "cell_type": "code",
   "execution_count": 48,
   "outputs": [
    {
     "data": {
      "text/plain": "['The Amazing Spider-Man 2',\n 'X-Men: The Last Stand',\n 'Monsters University',\n 'The Golden Compass',\n 'Pacific Eim',\n 'The Legend of Tarzan',\n 'Avatar',\n 'King Kong',\n 'Evan Almighty',\n '47 Ronin']"
     },
     "execution_count": 48,
     "metadata": {},
     "output_type": "execute_result"
    }
   ],
   "source": [
    "movies_list.extend([\"King Kong\", \"Evan Almighty\", \"47 Ronin\"])\n",
    "movies_list"
   ],
   "metadata": {
    "collapsed": false,
    "ExecuteTime": {
     "end_time": "2023-09-27T20:10:15.130497Z",
     "start_time": "2023-09-27T20:10:15.127412Z"
    }
   },
   "id": "223824a3a473f2bf"
  },
  {
   "cell_type": "code",
   "execution_count": 49,
   "outputs": [
    {
     "data": {
      "text/plain": "['The Amazing Spider-Man 2',\n 'X-Men: The Last Stand',\n 'Monsters University',\n 'The Golden Compass',\n 'Pacific Eim',\n 'The Legend of Tarzan',\n 'Avatar',\n 'King Kong',\n 'Evan Almighty']"
     },
     "execution_count": 49,
     "metadata": {},
     "output_type": "execute_result"
    }
   ],
   "source": [
    "movies_list.remove(\"47 Ronin\")\n",
    "movies_list"
   ],
   "metadata": {
    "collapsed": false,
    "ExecuteTime": {
     "end_time": "2023-09-27T20:10:34.268719Z",
     "start_time": "2023-09-27T20:10:34.265629Z"
    }
   },
   "id": "c9eccd960d04ce0e"
  },
  {
   "cell_type": "code",
   "execution_count": 50,
   "outputs": [
    {
     "data": {
      "text/plain": "2"
     },
     "execution_count": 50,
     "metadata": {},
     "output_type": "execute_result"
    }
   ],
   "source": [
    "movies_list.index('Monsters University')"
   ],
   "metadata": {
    "collapsed": false,
    "ExecuteTime": {
     "end_time": "2023-09-27T20:12:05.765294Z",
     "start_time": "2023-09-27T20:12:05.762488Z"
    }
   },
   "id": "8953852f8f1b0d5b"
  },
  {
   "cell_type": "code",
   "execution_count": 51,
   "outputs": [
    {
     "data": {
      "text/plain": "['Avatar',\n 'Evan Almighty',\n 'King Kong',\n 'Monsters University',\n 'Pacific Eim',\n 'The Amazing Spider-Man 2',\n 'The Golden Compass',\n 'The Legend of Tarzan',\n 'X-Men: The Last Stand']"
     },
     "execution_count": 51,
     "metadata": {},
     "output_type": "execute_result"
    }
   ],
   "source": [
    "movies_list.sort()\n",
    "movies_list"
   ],
   "metadata": {
    "collapsed": false,
    "ExecuteTime": {
     "end_time": "2023-09-27T20:12:15.608129Z",
     "start_time": "2023-09-27T20:12:15.605032Z"
    }
   },
   "id": "229178c67c9ee876"
  },
  {
   "cell_type": "code",
   "execution_count": 52,
   "outputs": [
    {
     "data": {
      "text/plain": "['The Lone Ranger', 'Alice in Wonderland']"
     },
     "execution_count": 52,
     "metadata": {},
     "output_type": "execute_result"
    }
   ],
   "source": [
    "another_movie_list = list((\"The Lone Ranger\", \"Alice in Wonderland\"))\n",
    "another_movie_list"
   ],
   "metadata": {
    "collapsed": false,
    "ExecuteTime": {
     "end_time": "2023-09-27T20:32:21.389710Z",
     "start_time": "2023-09-27T20:32:21.386517Z"
    }
   },
   "id": "bcfa12d59d1a0b70"
  },
  {
   "cell_type": "code",
   "execution_count": 53,
   "outputs": [
    {
     "data": {
      "text/plain": "['Avatar',\n 'Evan Almighty',\n 'King Kong',\n 'Monsters University',\n 'Pacific Eim',\n 'The Amazing Spider-Man 2',\n 'The Golden Compass',\n 'The Legend of Tarzan',\n 'X-Men: The Last Stand',\n 'The Lone Ranger',\n 'Alice in Wonderland']"
     },
     "execution_count": 53,
     "metadata": {},
     "output_type": "execute_result"
    }
   ],
   "source": [
    "complete_list = movies_list + another_movie_list\n",
    "complete_list"
   ],
   "metadata": {
    "collapsed": false,
    "ExecuteTime": {
     "end_time": "2023-09-27T20:32:56.149976Z",
     "start_time": "2023-09-27T20:32:56.146705Z"
    }
   },
   "id": "e39c6626e1c0a25b"
  },
  {
   "cell_type": "code",
   "execution_count": 54,
   "outputs": [
    {
     "data": {
      "text/plain": "True"
     },
     "execution_count": 54,
     "metadata": {},
     "output_type": "execute_result"
    }
   ],
   "source": [
    "\"Pacific Eim\" in complete_list"
   ],
   "metadata": {
    "collapsed": false,
    "ExecuteTime": {
     "end_time": "2023-09-27T20:33:56.783124Z",
     "start_time": "2023-09-27T20:33:56.779613Z"
    }
   },
   "id": "a658c82055a7f514"
  },
  {
   "cell_type": "code",
   "execution_count": 55,
   "outputs": [
    {
     "data": {
      "text/plain": "False"
     },
     "execution_count": 55,
     "metadata": {},
     "output_type": "execute_result"
    }
   ],
   "source": [
    "\"avatar\" in complete_list"
   ],
   "metadata": {
    "collapsed": false,
    "ExecuteTime": {
     "end_time": "2023-09-27T20:34:13.775709Z",
     "start_time": "2023-09-27T20:34:13.772211Z"
    }
   },
   "id": "42d7feb14da0e256"
  },
  {
   "cell_type": "code",
   "execution_count": 56,
   "outputs": [
    {
     "data": {
      "text/plain": "True"
     },
     "execution_count": 56,
     "metadata": {},
     "output_type": "execute_result"
    }
   ],
   "source": [
    "\"avatar\" not in complete_list"
   ],
   "metadata": {
    "collapsed": false,
    "ExecuteTime": {
     "end_time": "2023-09-27T20:34:29.261004Z",
     "start_time": "2023-09-27T20:34:29.257176Z"
    }
   },
   "id": "ba2e7f81612bccb8"
  },
  {
   "cell_type": "code",
   "execution_count": 57,
   "outputs": [
    {
     "data": {
      "text/plain": "[]"
     },
     "execution_count": 57,
     "metadata": {},
     "output_type": "execute_result"
    }
   ],
   "source": [
    "movies_list.clear()\n",
    "movies_list"
   ],
   "metadata": {
    "collapsed": false,
    "ExecuteTime": {
     "end_time": "2023-09-27T20:34:44.192922Z",
     "start_time": "2023-09-27T20:34:44.189272Z"
    }
   },
   "id": "a838a579b8a410b0"
  },
  {
   "cell_type": "code",
   "execution_count": 58,
   "outputs": [
    {
     "data": {
      "text/plain": "['Avatar',\n 'Evan Almighty',\n 'King Kong',\n 'Monsters University',\n 'Pacific Eim',\n 'The Amazing Spider-Man 2',\n 'The Golden Compass',\n 'The Legend of Tarzan',\n 'X-Men: The Last Stand',\n 'The Lone Ranger',\n 'Alice in Wonderland']"
     },
     "execution_count": 58,
     "metadata": {},
     "output_type": "execute_result"
    }
   ],
   "source": [
    "complete_list"
   ],
   "metadata": {
    "collapsed": false,
    "ExecuteTime": {
     "end_time": "2023-09-27T20:35:13.443940Z",
     "start_time": "2023-09-27T20:35:13.440201Z"
    }
   },
   "id": "7f5cfe95364f6d5"
  }
 ],
 "metadata": {
  "kernelspec": {
   "display_name": "Python 3",
   "language": "python",
   "name": "python3"
  },
  "language_info": {
   "codemirror_mode": {
    "name": "ipython",
    "version": 2
   },
   "file_extension": ".py",
   "mimetype": "text/x-python",
   "name": "python",
   "nbconvert_exporter": "python",
   "pygments_lexer": "ipython2",
   "version": "2.7.6"
  }
 },
 "nbformat": 4,
 "nbformat_minor": 5
}
