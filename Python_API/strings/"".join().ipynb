{
 "cells": [
  {
   "cell_type": "markdown",
   "source": [
    "#### .join()   build-in function\n",
    "\n",
    "- Concatenate any number of strings.\n",
    "\n",
    "- The string whose method is called is inserted in between each given string.\n",
    "- The result is **returned as a new string**.\n",
    "\n",
    "```\n",
    "Example: '.'.join(['ab', 'pq', 'rs']) -> 'ab.pq.rs'\n",
    "```"
   ],
   "metadata": {
    "collapsed": false
   },
   "id": "34c1abb8fe18fa4e"
  },
  {
   "cell_type": "code",
   "execution_count": 1,
   "id": "initial_id",
   "metadata": {
    "collapsed": true,
    "ExecuteTime": {
     "end_time": "2024-11-18T19:58:04.418583Z",
     "start_time": "2024-11-18T19:58:04.413954Z"
    }
   },
   "outputs": [
    {
     "name": "stdout",
     "output_type": "stream",
     "text": [
      "Helloworld!\n"
     ]
    }
   ],
   "source": [
    "words = [\"Hello\", \"world\", \"!\"]\n",
    "sentence = \"\".join(words)\n",
    "print(sentence)  # Output: Helloworld!"
   ]
  },
  {
   "cell_type": "code",
   "execution_count": 2,
   "outputs": [
    {
     "name": "stdout",
     "output_type": "stream",
     "text": [
      "This is a sentence\n"
     ]
    }
   ],
   "source": [
    "words = [\"This\", \"is\", \"a\", \"sentence\"]\n",
    "sentence = \" \".join(words)\n",
    "print(sentence)  # Output: This is a sentence"
   ],
   "metadata": {
    "collapsed": false,
    "ExecuteTime": {
     "end_time": "2024-11-18T19:58:08.873816Z",
     "start_time": "2024-11-18T19:58:08.868900Z"
    }
   },
   "id": "5906adb8903f3584"
  },
  {
   "cell_type": "code",
   "execution_count": 3,
   "outputs": [
    {
     "name": "stdout",
     "output_type": "stream",
     "text": [
      "Python\n"
     ]
    }
   ],
   "source": [
    "chars = [\"P\", \"y\", \"t\", \"h\", \"o\", \"n\"]\n",
    "word = \"\".join(chars)\n",
    "print(word)  # Output: Python"
   ],
   "metadata": {
    "collapsed": false,
    "ExecuteTime": {
     "end_time": "2024-11-18T19:58:13.685643Z",
     "start_time": "2024-11-18T19:58:13.678832Z"
    }
   },
   "id": "deb6bd7dd44674a3"
  },
  {
   "cell_type": "code",
   "execution_count": null,
   "outputs": [],
   "source": [],
   "metadata": {
    "collapsed": false
   },
   "id": "daae9710f9225f98"
  }
 ],
 "metadata": {
  "kernelspec": {
   "display_name": "Python 3",
   "language": "python",
   "name": "python3"
  },
  "language_info": {
   "codemirror_mode": {
    "name": "ipython",
    "version": 2
   },
   "file_extension": ".py",
   "mimetype": "text/x-python",
   "name": "python",
   "nbconvert_exporter": "python",
   "pygments_lexer": "ipython2",
   "version": "2.7.6"
  }
 },
 "nbformat": 4,
 "nbformat_minor": 5
}
