{
 "cells": [
  {
   "metadata": {},
   "cell_type": "markdown",
   "source": [
    "## Example LC 127 Word Ladder\n",
    "\n",
    "#### Using `deque([beginWord])` ensures that the entire word is treated as one element instead of breaking it into characters."
   ],
   "id": "824ac92695a8c7b2"
  },
  {
   "metadata": {
    "ExecuteTime": {
     "end_time": "2025-02-06T22:38:13.324660Z",
     "start_time": "2025-02-06T22:38:13.319622Z"
    }
   },
   "cell_type": "code",
   "source": [
    "from collections import deque\n",
    "\n",
    "beginWord = \"hit\"\n",
    "\n",
    "queue1 = deque([beginWord])  # Correct: deque(['hit'])\n",
    "queue2 = deque(beginWord)     # Incorrect: deque(['h', 'i', 't'])\n",
    "\n",
    "print(queue1)  # deque(['hit'])\n",
    "print(queue2)  # deque(['h', 'i', 't'])"
   ],
   "id": "22d98f066d38df0d",
   "outputs": [
    {
     "name": "stdout",
     "output_type": "stream",
     "text": [
      "deque(['hit'])\n",
      "deque(['h', 'i', 't'])\n"
     ]
    }
   ],
   "execution_count": 1
  },
  {
   "metadata": {},
   "cell_type": "code",
   "outputs": [],
   "execution_count": null,
   "source": "",
   "id": "b0b4f500dbaba32a"
  }
 ],
 "metadata": {
  "kernelspec": {
   "display_name": "Python 3",
   "language": "python",
   "name": "python3"
  },
  "language_info": {
   "codemirror_mode": {
    "name": "ipython",
    "version": 2
   },
   "file_extension": ".py",
   "mimetype": "text/x-python",
   "name": "python",
   "nbconvert_exporter": "python",
   "pygments_lexer": "ipython2",
   "version": "2.7.6"
  }
 },
 "nbformat": 4,
 "nbformat_minor": 5
}
