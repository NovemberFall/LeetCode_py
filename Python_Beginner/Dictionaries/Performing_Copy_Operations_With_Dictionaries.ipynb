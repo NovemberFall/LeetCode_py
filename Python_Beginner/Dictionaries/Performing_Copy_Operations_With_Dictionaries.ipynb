{
 "cells": [
  {
   "cell_type": "code",
   "execution_count": 1,
   "id": "initial_id",
   "metadata": {
    "collapsed": true,
    "ExecuteTime": {
     "end_time": "2023-09-28T15:52:35.726430Z",
     "start_time": "2023-09-28T15:52:35.701689Z"
    }
   },
   "outputs": [
    {
     "data": {
      "text/plain": "{('orange', 'yellow'), 'blue', 'pink', 'red'}"
     },
     "execution_count": 1,
     "metadata": {},
     "output_type": "execute_result"
    }
   ],
   "source": [
    "colors_set = {'blue', 'red', ('orange', 'yellow'), 'pink'}\n",
    "colors_set"
   ]
  },
  {
   "cell_type": "code",
   "execution_count": 2,
   "outputs": [
    {
     "data": {
      "text/plain": "{1000: 'Python', 2000: ['Java', 'C#'], 3000: 'Javascript', 4000: 'Golang'}"
     },
     "execution_count": 2,
     "metadata": {},
     "output_type": "execute_result"
    }
   ],
   "source": [
    "project_language = {1000: \"Python\",\n",
    "                    2000: [\"Java\", \"C#\"],\n",
    "                    3000: \"Javascript\",\n",
    "                    4000: \"Golang\"}\n",
    "project_language"
   ],
   "metadata": {
    "collapsed": false,
    "ExecuteTime": {
     "end_time": "2023-09-28T15:53:39.502783Z",
     "start_time": "2023-09-28T15:53:39.492033Z"
    }
   },
   "id": "f5d6e7c1cf15f774"
  },
  {
   "cell_type": "code",
   "execution_count": 3,
   "outputs": [
    {
     "name": "stdout",
     "output_type": "stream",
     "text": [
      "Original:  {1000: 'Python', 2000: ['Java', 'C#'], 3000: 'Javascript', 4000: 'C#'}\n",
      "Modified:  {1000: 'Python', 2000: ['Java', 'C#'], 3000: 'Javascript', 4000: 'C#'}\n"
     ]
    }
   ],
   "source": [
    "## shallow copy\n",
    "project_language_copy = project_language\n",
    "project_language_copy[4000] = \"C#\"\n",
    "\n",
    "print(\"Original: \", project_language)\n",
    "print(\"Modified: \", project_language_copy)"
   ],
   "metadata": {
    "collapsed": false,
    "ExecuteTime": {
     "end_time": "2023-09-28T15:56:30.020899Z",
     "start_time": "2023-09-28T15:56:30.009362Z"
    }
   },
   "id": "1d18d653ab59c5e9"
  },
  {
   "cell_type": "code",
   "execution_count": 4,
   "outputs": [
    {
     "data": {
      "text/plain": "{1000: 'Python', 2000: ['Java', 'C#'], 3000: 'Javascript', 4000: 'Golang'}"
     },
     "execution_count": 4,
     "metadata": {},
     "output_type": "execute_result"
    }
   ],
   "source": [
    "project_language = {1000: \"Python\",\n",
    "                    2000: [\"Java\", \"C#\"],\n",
    "                    3000: \"Javascript\",\n",
    "                    4000: \"Golang\"}\n",
    "project_language"
   ],
   "metadata": {
    "collapsed": false,
    "ExecuteTime": {
     "end_time": "2023-09-28T15:58:25.493796Z",
     "start_time": "2023-09-28T15:58:25.489417Z"
    }
   },
   "id": "187983b46d0d65c"
  },
  {
   "cell_type": "markdown",
   "source": [
    "# This is not truly deep copy"
   ],
   "metadata": {
    "collapsed": false
   },
   "id": "8c06a25a9d98fb69"
  },
  {
   "cell_type": "code",
   "execution_count": 5,
   "outputs": [
    {
     "name": "stdout",
     "output_type": "stream",
     "text": [
      "Original:  {1000: 'Python', 2000: ['Java', 'C#'], 3000: 'Javascript', 4000: 'Golang'}\n",
      "Modified:  {1000: 'Python', 2000: ['Java', 'C#'], 3000: 'Javascript', 4000: 'C#'}\n"
     ]
    }
   ],
   "source": [
    "## This is not truly deep copy\n",
    "project_language_copy = project_language.copy()\n",
    "project_language_copy[4000] = \"C#\"\n",
    "\n",
    "print(\"Original: \", project_language)\n",
    "print(\"Modified: \", project_language_copy)"
   ],
   "metadata": {
    "collapsed": false,
    "ExecuteTime": {
     "end_time": "2023-09-28T15:58:40.886062Z",
     "start_time": "2023-09-28T15:58:40.873047Z"
    }
   },
   "id": "7463465ce8845b0d"
  },
  {
   "cell_type": "code",
   "execution_count": 6,
   "outputs": [
    {
     "name": "stdout",
     "output_type": "stream",
     "text": [
      "Original:  {1000: 'Python', 2000: ['Scala', 'C#'], 3000: 'Javascript', 4000: 'Golang'}\n",
      "Modified:  {1000: 'Python', 2000: ['Scala', 'C#'], 3000: 'Javascript', 4000: 'C#'}\n"
     ]
    }
   ],
   "source": [
    "project_language_copy[2000][0] = \"Scala\"\n",
    "\n",
    "print(\"Original: \", project_language)\n",
    "print(\"Modified: \", project_language_copy)"
   ],
   "metadata": {
    "collapsed": false,
    "ExecuteTime": {
     "end_time": "2023-09-28T16:00:38.101759Z",
     "start_time": "2023-09-28T16:00:38.089019Z"
    }
   },
   "id": "5cfacf4460382e54"
  },
  {
   "cell_type": "markdown",
   "source": [
    "# Truly Deep Copy"
   ],
   "metadata": {
    "collapsed": false
   },
   "id": "e40b98ac8e5a50b2"
  },
  {
   "cell_type": "code",
   "execution_count": 7,
   "outputs": [],
   "source": [
    "## deep copy\n",
    "from copy import deepcopy"
   ],
   "metadata": {
    "collapsed": false,
    "ExecuteTime": {
     "end_time": "2023-09-28T16:08:18.257635Z",
     "start_time": "2023-09-28T16:08:18.246874Z"
    }
   },
   "id": "baeb2bac5cf427d8"
  },
  {
   "cell_type": "code",
   "execution_count": 8,
   "outputs": [
    {
     "data": {
      "text/plain": "{1000: 'Python', 2000: ['Java', 'C#'], 3000: 'Javascript', 4000: 'Golang'}"
     },
     "execution_count": 8,
     "metadata": {},
     "output_type": "execute_result"
    }
   ],
   "source": [
    "project_language = {1000: \"Python\",\n",
    "                    2000: [\"Java\", \"C#\"],\n",
    "                    3000: \"Javascript\",\n",
    "                    4000: \"Golang\"}\n",
    "project_language"
   ],
   "metadata": {
    "collapsed": false,
    "ExecuteTime": {
     "end_time": "2023-09-28T16:08:32.096264Z",
     "start_time": "2023-09-28T16:08:32.082617Z"
    }
   },
   "id": "37869e2790d32e14"
  },
  {
   "cell_type": "code",
   "execution_count": 10,
   "outputs": [
    {
     "name": "stdout",
     "output_type": "stream",
     "text": [
      "Original:  {1000: 'Python', 2000: ['Java', 'C#'], 3000: 'Javascript', 4000: 'Golang'}\n",
      "Modified:  {1000: 'Python', 2000: ['Scala', 'C#'], 3000: 'Javascript', 4000: 'Golang'}\n"
     ]
    }
   ],
   "source": [
    "project_language_copy = deepcopy(project_language)\n",
    "project_language_copy[2000][0] = \"Scala\"\n",
    "\n",
    "print(\"Original: \", project_language)\n",
    "print(\"Modified: \", project_language_copy)"
   ],
   "metadata": {
    "collapsed": false,
    "ExecuteTime": {
     "end_time": "2023-09-28T16:10:35.804901Z",
     "start_time": "2023-09-28T16:10:35.757879Z"
    }
   },
   "id": "76b5e9dabc47df2b"
  },
  {
   "cell_type": "code",
   "execution_count": null,
   "outputs": [],
   "source": [],
   "metadata": {
    "collapsed": false
   },
   "id": "6554e4e0069031e4"
  }
 ],
 "metadata": {
  "kernelspec": {
   "display_name": "Python 3",
   "language": "python",
   "name": "python3"
  },
  "language_info": {
   "codemirror_mode": {
    "name": "ipython",
    "version": 2
   },
   "file_extension": ".py",
   "mimetype": "text/x-python",
   "name": "python",
   "nbconvert_exporter": "python",
   "pygments_lexer": "ipython2",
   "version": "2.7.6"
  }
 },
 "nbformat": 4,
 "nbformat_minor": 5
}
