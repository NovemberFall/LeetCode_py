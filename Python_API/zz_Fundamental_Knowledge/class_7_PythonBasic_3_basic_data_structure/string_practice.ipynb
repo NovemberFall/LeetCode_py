{
 "cells": [
  {
   "metadata": {},
   "cell_type": "markdown",
   "source": "### enclose in quotation marks or single quotes",
   "id": "4ef2d78bcb3a0e2d"
  },
  {
   "metadata": {},
   "cell_type": "code",
   "outputs": [],
   "execution_count": null,
   "source": [
    "name = 'derek phone is 123456'\n",
    "# memory: ['d', 'e', 'r', 'e', 'k', ' ', 'p', ...]\n",
    "greeting = \"hello\"\n",
    "company = '''Laioffer'''\n",
    "state = \"\"\"CA\"\"\""
   ],
   "id": "8a36d234093e00c7"
  },
  {
   "metadata": {},
   "cell_type": "markdown",
   "source": "",
   "id": "7e212f73a4effe96"
  },
  {
   "metadata": {},
   "cell_type": "markdown",
   "source": "",
   "id": "8313a3e755070d85"
  },
  {
   "metadata": {},
   "cell_type": "code",
   "outputs": [],
   "execution_count": null,
   "source": "name = \"derek's phone is 123456\"",
   "id": "fae2c2d6b3c8cea8"
  },
  {
   "metadata": {},
   "cell_type": "markdown",
   "source": "### best method `\\`",
   "id": "297c42cbc733bc85"
  },
  {
   "metadata": {
    "ExecuteTime": {
     "end_time": "2025-02-09T02:41:07.564241Z",
     "start_time": "2025-02-09T02:41:07.559966Z"
    }
   },
   "cell_type": "code",
   "source": "name = 'derek\\'s phone is 123456'",
   "id": "74c9bc65daa0fb90",
   "outputs": [],
   "execution_count": 1
  },
  {
   "metadata": {},
   "cell_type": "markdown",
   "source": "### do * operations on a string",
   "id": "51d8dcd3c700e8ec"
  },
  {
   "metadata": {
    "ExecuteTime": {
     "end_time": "2025-02-09T02:46:17.252874Z",
     "start_time": "2025-02-09T02:46:17.247340Z"
    }
   },
   "cell_type": "code",
   "source": [
    "greeting = \"greeting\"\n",
    "name = \"derek\"\n",
    "greet = greeting + \" \" + name * 3\n",
    "print(greet)"
   ],
   "id": "59b73772358a5950",
   "outputs": [
    {
     "name": "stdout",
     "output_type": "stream",
     "text": [
      "greeting derekderekderek\n"
     ]
    }
   ],
   "execution_count": 3
  },
  {
   "metadata": {},
   "cell_type": "markdown",
   "source": [
    "## can compare strings with ==, >, < etc\n",
    "\n",
    "\n",
    "![ASCII](./str1.png)"
   ],
   "id": "ef2b8da1c3e63e63"
  },
  {
   "metadata": {
    "ExecuteTime": {
     "end_time": "2025-02-09T02:49:22.952497Z",
     "start_time": "2025-02-09T02:49:22.948418Z"
    }
   },
   "cell_type": "code",
   "source": [
    "print(\"gree\" > \"derek\") # T\n",
    "print(\"derea\" < \"derek\") # T\n",
    "print(\"Derek\" < \"derek\") # T\n"
   ],
   "id": "d8d220edb56273d0",
   "outputs": [
    {
     "name": "stdout",
     "output_type": "stream",
     "text": [
      "True\n",
      "True\n",
      "True\n"
     ]
    }
   ],
   "execution_count": 6
  },
  {
   "metadata": {},
   "cell_type": "code",
   "outputs": [],
   "execution_count": null,
   "source": "",
   "id": "e12ffee661ceb13b"
  },
  {
   "metadata": {},
   "cell_type": "markdown",
   "source": "#### square brackets used to perform indexing into a string to get the value at certain index/position",
   "id": "ef01eccb20ff0ea9"
  },
  {
   "metadata": {
    "ExecuteTime": {
     "end_time": "2025-02-09T04:17:48.879292Z",
     "start_time": "2025-02-09T04:17:48.869796Z"
    }
   },
   "cell_type": "code",
   "source": [
    "s = \"abc\"\n",
    "print(s[-1], s[-2], s[-3])"
   ],
   "id": "78d2db65cd05ba4e",
   "outputs": [
    {
     "name": "stdout",
     "output_type": "stream",
     "text": [
      "c b a\n"
     ]
    }
   ],
   "execution_count": 7
  },
  {
   "metadata": {},
   "cell_type": "code",
   "outputs": [],
   "execution_count": null,
   "source": "",
   "id": "4c3825543e22d280"
  },
  {
   "metadata": {},
   "cell_type": "markdown",
   "source": "#### can slice stings using `[start:stop:step]`. if given two nums, `[start:stop]`, `step = 1` by default. You can also omit nums and leave just colon.",
   "id": "4cbecb99afae6954"
  },
  {
   "metadata": {
    "ExecuteTime": {
     "end_time": "2025-02-09T04:19:37.072127Z",
     "start_time": "2025-02-09T04:19:37.056131Z"
    }
   },
   "cell_type": "code",
   "source": [
    "s = \"abcdefgh\"\n",
    "print(s[3:6])"
   ],
   "id": "6f5bfc572be77813",
   "outputs": [
    {
     "name": "stdout",
     "output_type": "stream",
     "text": [
      "def\n"
     ]
    }
   ],
   "execution_count": 8
  },
  {
   "metadata": {
    "ExecuteTime": {
     "end_time": "2025-02-09T04:20:19.578243Z",
     "start_time": "2025-02-09T04:20:19.564916Z"
    }
   },
   "cell_type": "code",
   "source": "print(s[3:6:2])",
   "id": "714611b6d77aefa8",
   "outputs": [
    {
     "name": "stdout",
     "output_type": "stream",
     "text": [
      "df\n"
     ]
    }
   ],
   "execution_count": 9
  },
  {
   "metadata": {
    "ExecuteTime": {
     "end_time": "2025-02-09T04:21:06.062341Z",
     "start_time": "2025-02-09T04:21:06.057260Z"
    }
   },
   "cell_type": "code",
   "source": "print(s[::2])",
   "id": "e42b5cf1618d6f46",
   "outputs": [
    {
     "name": "stdout",
     "output_type": "stream",
     "text": [
      "aceg\n"
     ]
    }
   ],
   "execution_count": 10
  },
  {
   "metadata": {
    "ExecuteTime": {
     "end_time": "2025-02-09T04:21:20.661052Z",
     "start_time": "2025-02-09T04:21:20.654358Z"
    }
   },
   "cell_type": "code",
   "source": "print(s[::])",
   "id": "4c0191bfbfd3af8b",
   "outputs": [
    {
     "name": "stdout",
     "output_type": "stream",
     "text": [
      "abcdefgh\n"
     ]
    }
   ],
   "execution_count": 11
  },
  {
   "metadata": {
    "ExecuteTime": {
     "end_time": "2025-02-09T04:21:28.838009Z",
     "start_time": "2025-02-09T04:21:28.832883Z"
    }
   },
   "cell_type": "code",
   "source": "print(s[::-1])",
   "id": "d179fca2fdc3fd48",
   "outputs": [
    {
     "name": "stdout",
     "output_type": "stream",
     "text": [
      "hgfedcba\n"
     ]
    }
   ],
   "execution_count": 12
  },
  {
   "metadata": {},
   "cell_type": "code",
   "outputs": [],
   "execution_count": null,
   "source": "",
   "id": "859c772c33e263f4"
  },
  {
   "metadata": {},
   "cell_type": "markdown",
   "source": "## String is \"immutable\" -- cannot be modified",
   "id": "4ace03faf904fff4"
  },
  {
   "metadata": {
    "ExecuteTime": {
     "end_time": "2025-02-09T04:22:24.522856Z",
     "start_time": "2025-02-09T04:22:24.419155Z"
    }
   },
   "cell_type": "code",
   "source": [
    "s = \"hello\"\n",
    "print(s[0])\n",
    "s[0] = 'y' # gives an error"
   ],
   "id": "81dde7bac89e2029",
   "outputs": [
    {
     "name": "stdout",
     "output_type": "stream",
     "text": [
      "h\n"
     ]
    },
    {
     "ename": "TypeError",
     "evalue": "'str' object does not support item assignment",
     "output_type": "error",
     "traceback": [
      "\u001B[0;31m---------------------------------------------------------------------------\u001B[0m",
      "\u001B[0;31mTypeError\u001B[0m                                 Traceback (most recent call last)",
      "Cell \u001B[0;32mIn[13], line 3\u001B[0m\n\u001B[1;32m      1\u001B[0m s \u001B[38;5;241m=\u001B[39m \u001B[38;5;124m\"\u001B[39m\u001B[38;5;124mhello\u001B[39m\u001B[38;5;124m\"\u001B[39m\n\u001B[1;32m      2\u001B[0m \u001B[38;5;28mprint\u001B[39m(s[\u001B[38;5;241m0\u001B[39m])\n\u001B[0;32m----> 3\u001B[0m \u001B[43ms\u001B[49m\u001B[43m[\u001B[49m\u001B[38;5;241;43m0\u001B[39;49m\u001B[43m]\u001B[49m \u001B[38;5;241m=\u001B[39m \u001B[38;5;124m'\u001B[39m\u001B[38;5;124my\u001B[39m\u001B[38;5;124m'\u001B[39m \u001B[38;5;66;03m# gives an error\u001B[39;00m\n",
      "\u001B[0;31mTypeError\u001B[0m: 'str' object does not support item assignment"
     ]
    }
   ],
   "execution_count": 13
  },
  {
   "metadata": {},
   "cell_type": "code",
   "outputs": [],
   "execution_count": null,
   "source": "",
   "id": "780ed4753e3f9cff"
  },
  {
   "metadata": {},
   "cell_type": "markdown",
   "source": "## TUPLE - immutable",
   "id": "5fe327b358f49fa"
  },
  {
   "metadata": {
    "ExecuteTime": {
     "end_time": "2025-02-09T04:23:24.728051Z",
     "start_time": "2025-02-09T04:23:24.686268Z"
    }
   },
   "cell_type": "code",
   "source": [
    "t = (\"Bob\", 19, \"CS\")\n",
    "t[0] = \"Jim\""
   ],
   "id": "a6a8252fca27f61",
   "outputs": [
    {
     "ename": "TypeError",
     "evalue": "'tuple' object does not support item assignment",
     "output_type": "error",
     "traceback": [
      "\u001B[0;31m---------------------------------------------------------------------------\u001B[0m",
      "\u001B[0;31mTypeError\u001B[0m                                 Traceback (most recent call last)",
      "Cell \u001B[0;32mIn[14], line 2\u001B[0m\n\u001B[1;32m      1\u001B[0m t \u001B[38;5;241m=\u001B[39m (\u001B[38;5;124m\"\u001B[39m\u001B[38;5;124mBob\u001B[39m\u001B[38;5;124m\"\u001B[39m, \u001B[38;5;241m19\u001B[39m, \u001B[38;5;124m\"\u001B[39m\u001B[38;5;124mCS\u001B[39m\u001B[38;5;124m\"\u001B[39m)\n\u001B[0;32m----> 2\u001B[0m \u001B[43mt\u001B[49m\u001B[43m[\u001B[49m\u001B[38;5;241;43m0\u001B[39;49m\u001B[43m]\u001B[49m \u001B[38;5;241m=\u001B[39m \u001B[38;5;124m\"\u001B[39m\u001B[38;5;124mJim\u001B[39m\u001B[38;5;124m\"\u001B[39m\n",
      "\u001B[0;31mTypeError\u001B[0m: 'tuple' object does not support item assignment"
     ]
    }
   ],
   "execution_count": 14
  },
  {
   "metadata": {},
   "cell_type": "code",
   "outputs": [],
   "execution_count": null,
   "source": "",
   "id": "fb7c289acb9db08f"
  }
 ],
 "metadata": {
  "kernelspec": {
   "display_name": "Python 3",
   "language": "python",
   "name": "python3"
  },
  "language_info": {
   "codemirror_mode": {
    "name": "ipython",
    "version": 2
   },
   "file_extension": ".py",
   "mimetype": "text/x-python",
   "name": "python",
   "nbconvert_exporter": "python",
   "pygments_lexer": "ipython2",
   "version": "2.7.6"
  }
 },
 "nbformat": 4,
 "nbformat_minor": 5
}
