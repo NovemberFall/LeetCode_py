{
 "cells": [
  {
   "cell_type": "code",
   "execution_count": 1,
   "id": "initial_id",
   "metadata": {
    "collapsed": true,
    "ExecuteTime": {
     "end_time": "2023-10-03T20:06:49.998490Z",
     "start_time": "2023-10-03T20:06:49.995136Z"
    }
   },
   "outputs": [],
   "source": [
    "class Dog:\n",
    "    pass"
   ]
  },
  {
   "cell_type": "code",
   "execution_count": 2,
   "outputs": [
    {
     "data": {
      "text/plain": "type"
     },
     "execution_count": 2,
     "metadata": {},
     "output_type": "execute_result"
    }
   ],
   "source": [
    "type(Dog)"
   ],
   "metadata": {
    "collapsed": false,
    "ExecuteTime": {
     "end_time": "2023-10-03T20:06:53.224640Z",
     "start_time": "2023-10-03T20:06:53.217119Z"
    }
   },
   "id": "f6e2d45cecb8c40"
  },
  {
   "cell_type": "code",
   "execution_count": 3,
   "outputs": [],
   "source": [
    "dog1 = Dog()\n",
    "dog2 = Dog()"
   ],
   "metadata": {
    "collapsed": false,
    "ExecuteTime": {
     "end_time": "2023-10-03T20:07:21.444646Z",
     "start_time": "2023-10-03T20:07:21.439104Z"
    }
   },
   "id": "f9d39578dd82466b"
  },
  {
   "cell_type": "code",
   "execution_count": 4,
   "outputs": [
    {
     "data": {
      "text/plain": "True"
     },
     "execution_count": 4,
     "metadata": {},
     "output_type": "execute_result"
    }
   ],
   "source": [
    "isinstance(dog1, Dog)"
   ],
   "metadata": {
    "collapsed": false,
    "ExecuteTime": {
     "end_time": "2023-10-03T20:07:35.090563Z",
     "start_time": "2023-10-03T20:07:35.081393Z"
    }
   },
   "id": "fe01f07d13473ccd"
  },
  {
   "cell_type": "code",
   "execution_count": 5,
   "outputs": [
    {
     "data": {
      "text/plain": "__main__.Dog"
     },
     "execution_count": 5,
     "metadata": {},
     "output_type": "execute_result"
    }
   ],
   "source": [
    "type(dog1)"
   ],
   "metadata": {
    "collapsed": false,
    "ExecuteTime": {
     "end_time": "2023-10-03T20:07:59.011822Z",
     "start_time": "2023-10-03T20:07:59.003713Z"
    }
   },
   "id": "1d6a469ee21cca11"
  },
  {
   "cell_type": "code",
   "execution_count": 6,
   "outputs": [],
   "source": [
    "dog1.kind = \"Dachshund\"\n",
    "dog1.life_expenctancy = \"12-16 years\""
   ],
   "metadata": {
    "collapsed": false,
    "ExecuteTime": {
     "end_time": "2023-10-03T20:09:01.615792Z",
     "start_time": "2023-10-03T20:09:01.606614Z"
    }
   },
   "id": "56de2d85ae7f6a9c"
  },
  {
   "cell_type": "code",
   "execution_count": 7,
   "outputs": [],
   "source": [
    "dog2.kind = \"Labrador Retriever\""
   ],
   "metadata": {
    "collapsed": false,
    "ExecuteTime": {
     "end_time": "2023-10-03T20:09:33.869853Z",
     "start_time": "2023-10-03T20:09:33.860800Z"
    }
   },
   "id": "9e1c3b48126e7c68"
  },
  {
   "cell_type": "code",
   "execution_count": 8,
   "outputs": [
    {
     "data": {
      "text/plain": "['__class__',\n '__delattr__',\n '__dict__',\n '__dir__',\n '__doc__',\n '__eq__',\n '__format__',\n '__ge__',\n '__getattribute__',\n '__getstate__',\n '__gt__',\n '__hash__',\n '__init__',\n '__init_subclass__',\n '__le__',\n '__lt__',\n '__module__',\n '__ne__',\n '__new__',\n '__reduce__',\n '__reduce_ex__',\n '__repr__',\n '__setattr__',\n '__sizeof__',\n '__str__',\n '__subclasshook__',\n '__weakref__',\n 'kind',\n 'life_expenctancy']"
     },
     "execution_count": 8,
     "metadata": {},
     "output_type": "execute_result"
    }
   ],
   "source": [
    "dir(dog1)"
   ],
   "metadata": {
    "collapsed": false,
    "ExecuteTime": {
     "end_time": "2023-10-03T20:09:44.565413Z",
     "start_time": "2023-10-03T20:09:44.556879Z"
    }
   },
   "id": "7e246a1a0bf93b8b"
  },
  {
   "cell_type": "code",
   "execution_count": 9,
   "outputs": [],
   "source": [
    "class Dog:\n",
    "    kind = \"\"\n",
    "    age = 0\n",
    "    name = \"\"\n",
    "    vaccinated = False"
   ],
   "metadata": {
    "collapsed": false,
    "ExecuteTime": {
     "end_time": "2023-10-03T20:10:17.392649Z",
     "start_time": "2023-10-03T20:10:17.387716Z"
    }
   },
   "id": "90998a1905fd17f"
  },
  {
   "cell_type": "code",
   "execution_count": 10,
   "outputs": [
    {
     "data": {
      "text/plain": "('', 0, '', False)"
     },
     "execution_count": 10,
     "metadata": {},
     "output_type": "execute_result"
    }
   ],
   "source": [
    "dog1 = Dog()\n",
    "dog1.kind, dog1.age, dog1.name, dog1.vaccinated"
   ],
   "metadata": {
    "collapsed": false,
    "ExecuteTime": {
     "end_time": "2023-10-03T20:10:45.207716Z",
     "start_time": "2023-10-03T20:10:45.192650Z"
    }
   },
   "id": "80c28de0ef686f45"
  },
  {
   "cell_type": "markdown",
   "source": [
    "#### Defining Methods within Classes"
   ],
   "metadata": {
    "collapsed": false
   },
   "id": "40b50312b432bc07"
  },
  {
   "cell_type": "code",
   "execution_count": 11,
   "outputs": [],
   "source": [
    "class Dog:\n",
    "    def __init__(self):\n",
    "        print(\"Instance initialized\")"
   ],
   "metadata": {
    "collapsed": false,
    "ExecuteTime": {
     "end_time": "2023-10-03T20:14:44.421047Z",
     "start_time": "2023-10-03T20:14:44.414827Z"
    }
   },
   "id": "752727a01f3d8cd6"
  },
  {
   "cell_type": "code",
   "execution_count": 12,
   "outputs": [
    {
     "name": "stdout",
     "output_type": "stream",
     "text": [
      "Instance initialized\n"
     ]
    }
   ],
   "source": [
    "dog_1 = Dog()"
   ],
   "metadata": {
    "collapsed": false,
    "ExecuteTime": {
     "end_time": "2023-10-03T20:15:01.633925Z",
     "start_time": "2023-10-03T20:15:01.626803Z"
    }
   },
   "id": "9444c1ad16f1425d"
  },
  {
   "cell_type": "code",
   "execution_count": 13,
   "outputs": [
    {
     "name": "stdout",
     "output_type": "stream",
     "text": [
      "Instance initialized\n"
     ]
    }
   ],
   "source": [
    "dog_2 = Dog()"
   ],
   "metadata": {
    "collapsed": false,
    "ExecuteTime": {
     "end_time": "2023-10-03T20:15:06.147662Z",
     "start_time": "2023-10-03T20:15:06.140491Z"
    }
   },
   "id": "9bd32b492b27ffb0"
  },
  {
   "cell_type": "code",
   "execution_count": 14,
   "outputs": [],
   "source": [
    "class Dog:\n",
    "    # The standard is to use self, so it's not confusing for others reading your code\n",
    "    def __init__(variable_for_self_can_have_any_name):\n",
    "        print(\"Instance initialized\")"
   ],
   "metadata": {
    "collapsed": false,
    "ExecuteTime": {
     "end_time": "2023-10-03T20:26:15.839907Z",
     "start_time": "2023-10-03T20:26:15.831523Z"
    }
   },
   "id": "3852c60845de587e"
  },
  {
   "cell_type": "code",
   "execution_count": 15,
   "outputs": [
    {
     "name": "stdout",
     "output_type": "stream",
     "text": [
      "Instance initialized\n"
     ]
    }
   ],
   "source": [
    "dog_1 = Dog()"
   ],
   "metadata": {
    "collapsed": false,
    "ExecuteTime": {
     "end_time": "2023-10-03T20:26:22.807840Z",
     "start_time": "2023-10-03T20:26:22.800092Z"
    }
   },
   "id": "45c7425aa5759ca9"
  },
  {
   "cell_type": "code",
   "execution_count": 16,
   "outputs": [],
   "source": [
    "class Dog:\n",
    "    def __init__(self, kind, age, name, vaccinated=False):\n",
    "        self.kind = kind\n",
    "        self.age = age\n",
    "        self.name = name\n",
    "        self.vaccinated = vaccinated\n",
    "\n",
    "        print(\"Instance initialized\")"
   ],
   "metadata": {
    "collapsed": false,
    "ExecuteTime": {
     "end_time": "2023-10-03T20:28:12.161092Z",
     "start_time": "2023-10-03T20:28:12.152639Z"
    }
   },
   "id": "934c6d1f07d3c8ca"
  },
  {
   "cell_type": "code",
   "execution_count": 17,
   "outputs": [
    {
     "ename": "TypeError",
     "evalue": "Dog.__init__() missing 3 required positional arguments: 'kind', 'age', and 'name'",
     "output_type": "error",
     "traceback": [
      "\u001B[0;31m---------------------------------------------------------------------------\u001B[0m",
      "\u001B[0;31mTypeError\u001B[0m                                 Traceback (most recent call last)",
      "Cell \u001B[0;32mIn[17], line 1\u001B[0m\n\u001B[0;32m----> 1\u001B[0m dog_1 \u001B[38;5;241m=\u001B[39m \u001B[43mDog\u001B[49m\u001B[43m(\u001B[49m\u001B[43m)\u001B[49m\n",
      "\u001B[0;31mTypeError\u001B[0m: Dog.__init__() missing 3 required positional arguments: 'kind', 'age', and 'name'"
     ]
    }
   ],
   "source": [
    "dog_1 = Dog()"
   ],
   "metadata": {
    "collapsed": false,
    "ExecuteTime": {
     "end_time": "2023-10-03T20:28:30.977542Z",
     "start_time": "2023-10-03T20:28:30.810671Z"
    }
   },
   "id": "db786538a6109b4"
  },
  {
   "cell_type": "code",
   "execution_count": 18,
   "outputs": [
    {
     "name": "stdout",
     "output_type": "stream",
     "text": [
      "Instance initialized\n"
     ]
    }
   ],
   "source": [
    "dog_1 = Dog(\"Dalmatian\", 3, \"Rover\", True)"
   ],
   "metadata": {
    "collapsed": false,
    "ExecuteTime": {
     "end_time": "2023-10-03T20:29:08.641137Z",
     "start_time": "2023-10-03T20:29:08.631555Z"
    }
   },
   "id": "3684d401497c59dc"
  },
  {
   "cell_type": "code",
   "execution_count": 19,
   "outputs": [
    {
     "data": {
      "text/plain": "{'kind': 'Dalmatian', 'age': 3, 'name': 'Rover', 'vaccinated': True}"
     },
     "execution_count": 19,
     "metadata": {},
     "output_type": "execute_result"
    }
   ],
   "source": [
    "dog_1.__dict__"
   ],
   "metadata": {
    "collapsed": false,
    "ExecuteTime": {
     "end_time": "2023-10-03T20:29:21.928777Z",
     "start_time": "2023-10-03T20:29:21.918710Z"
    }
   },
   "id": "c928c7d0fb369b2a"
  },
  {
   "cell_type": "markdown",
   "source": [
    "#### Get method"
   ],
   "metadata": {
    "collapsed": false
   },
   "id": "499c730274a0a088"
  },
  {
   "cell_type": "code",
   "execution_count": 20,
   "outputs": [],
   "source": [
    "class Dog:\n",
    "    def __init__(self, kind, age, name, vaccinated=False):\n",
    "        self.kind = kind\n",
    "        self.age = age\n",
    "        self.name = name\n",
    "        self.vaccinated = vaccinated\n",
    "\n",
    "        print(\"Instance initialized\")\n",
    "\n",
    "    def getDetails(self):\n",
    "        return f\"Name: {self.name}, Kind:{self.kind}, Age:{self.age}\""
   ],
   "metadata": {
    "collapsed": false,
    "ExecuteTime": {
     "end_time": "2023-10-03T20:47:24.154294Z",
     "start_time": "2023-10-03T20:47:24.144012Z"
    }
   },
   "id": "f47229eae0a7e7e8"
  },
  {
   "cell_type": "code",
   "execution_count": 21,
   "outputs": [
    {
     "name": "stdout",
     "output_type": "stream",
     "text": [
      "Instance initialized\n"
     ]
    },
    {
     "data": {
      "text/plain": "'Name: Joy, Kind:German Shepherd, Age:4'"
     },
     "execution_count": 21,
     "metadata": {},
     "output_type": "execute_result"
    }
   ],
   "source": [
    "dog_2 = Dog(name=\"Joy\", kind=\"German Shepherd\", age=4, vaccinated=True)\n",
    "dog_2.getDetails()"
   ],
   "metadata": {
    "collapsed": false,
    "ExecuteTime": {
     "end_time": "2023-10-03T20:47:59.880159Z",
     "start_time": "2023-10-03T20:47:59.862161Z"
    }
   },
   "id": "c942227bd03b96fd"
  },
  {
   "cell_type": "code",
   "execution_count": 23,
   "outputs": [],
   "source": [
    "class Dog:\n",
    "    def __init__(self, kind, age, name, vaccinated=False):\n",
    "        self.kind = kind\n",
    "        self.age = age\n",
    "        self.name = name\n",
    "        self.vaccinated = vaccinated\n",
    "\n",
    "        print(\"Instance initialized\")\n",
    "\n",
    "    def get_kind(self):\n",
    "        return self.kind\n",
    "    \n",
    "    def set_kind(self, kind):\n",
    "        self.kind = kind \n",
    "    \n",
    "    def get_name(self):\n",
    "        return self.name\n",
    "    \n",
    "    def set_name(self, name):\n",
    "        self.name = name\n",
    "        \n",
    "    def get_age(self):\n",
    "        return self.age\n",
    "    \n",
    "    def set_age(self, age):\n",
    "        self.age = age        \n",
    "        \n",
    "    def get_vaccinated(self):\n",
    "        return self.vaccinated\n",
    "    \n",
    "    def set_vaccinated(self, vaccinated):\n",
    "        self.vaccinated = vaccinated\n",
    "   \n",
    "    def get_details(self):\n",
    "        return f\"Name: {self.name}, Kind:{self.kind}, Age:{self.age}\" "
   ],
   "metadata": {
    "collapsed": false,
    "ExecuteTime": {
     "end_time": "2023-10-03T21:34:38.035177Z",
     "start_time": "2023-10-03T21:34:38.027780Z"
    }
   },
   "id": "9c6eab909f96f067"
  },
  {
   "cell_type": "code",
   "execution_count": 24,
   "outputs": [
    {
     "name": "stdout",
     "output_type": "stream",
     "text": [
      "Instance initialized\n"
     ]
    },
    {
     "data": {
      "text/plain": "'Name: Rover, Kind:Dalmatian, Age:3'"
     },
     "execution_count": 24,
     "metadata": {},
     "output_type": "execute_result"
    }
   ],
   "source": [
    "dog_1 = Dog(\"Dalmatian\", 3, \"Rover\", True)\n",
    "dog_1.get_details()"
   ],
   "metadata": {
    "collapsed": false,
    "ExecuteTime": {
     "end_time": "2023-10-03T21:35:07.115691Z",
     "start_time": "2023-10-03T21:35:07.092116Z"
    }
   },
   "id": "2189d7704696eaf7"
  },
  {
   "cell_type": "code",
   "execution_count": 25,
   "outputs": [
    {
     "data": {
      "text/plain": "'Name: Rover, Kind:Dalmatian, Age:3'"
     },
     "execution_count": 25,
     "metadata": {},
     "output_type": "execute_result"
    }
   ],
   "source": [
    "Dog.get_details(dog_1)"
   ],
   "metadata": {
    "collapsed": false,
    "ExecuteTime": {
     "end_time": "2023-10-03T21:35:22.807226Z",
     "start_time": "2023-10-03T21:35:22.786256Z"
    }
   },
   "id": "587c1e15ee14e9a5"
  },
  {
   "cell_type": "code",
   "execution_count": null,
   "outputs": [],
   "source": [],
   "metadata": {
    "collapsed": false
   },
   "id": "8d3f4ed23a72a927"
  }
 ],
 "metadata": {
  "kernelspec": {
   "display_name": "Python 3",
   "language": "python",
   "name": "python3"
  },
  "language_info": {
   "codemirror_mode": {
    "name": "ipython",
    "version": 2
   },
   "file_extension": ".py",
   "mimetype": "text/x-python",
   "name": "python",
   "nbconvert_exporter": "python",
   "pygments_lexer": "ipython2",
   "version": "2.7.6"
  }
 },
 "nbformat": 4,
 "nbformat_minor": 5
}
