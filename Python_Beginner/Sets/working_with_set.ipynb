{
 "cells": [
  {
   "cell_type": "code",
   "execution_count": 1,
   "id": "initial_id",
   "metadata": {
    "collapsed": true,
    "ExecuteTime": {
     "end_time": "2023-09-27T22:22:04.298722Z",
     "start_time": "2023-09-27T22:22:04.290329Z"
    }
   },
   "outputs": [
    {
     "data": {
      "text/plain": "{'Mary', 'Nina', 'Nora', 'Scott'}"
     },
     "execution_count": 1,
     "metadata": {},
     "output_type": "execute_result"
    }
   ],
   "source": [
    "name_set = {\"Mary\", \"Nora\", \"Nina\", \"Scott\"}\n",
    "name_set"
   ]
  },
  {
   "cell_type": "code",
   "execution_count": 2,
   "outputs": [
    {
     "data": {
      "text/plain": "set"
     },
     "execution_count": 2,
     "metadata": {},
     "output_type": "execute_result"
    }
   ],
   "source": [
    "type(name_set)"
   ],
   "metadata": {
    "collapsed": false,
    "ExecuteTime": {
     "end_time": "2023-09-27T22:22:23.760305Z",
     "start_time": "2023-09-27T22:22:23.753664Z"
    }
   },
   "id": "b5beedff56b65930"
  },
  {
   "cell_type": "code",
   "execution_count": 3,
   "outputs": [
    {
     "data": {
      "text/plain": "{'Mary', 'Nina', 'Nora', 'Scott'}"
     },
     "execution_count": 3,
     "metadata": {},
     "output_type": "execute_result"
    }
   ],
   "source": [
    "name_set = {\"Mary\", \"Nora\", \"Nina\", \"Scott\", \"Nora\", \"Nina\"}\n",
    "name_set"
   ],
   "metadata": {
    "collapsed": false,
    "ExecuteTime": {
     "end_time": "2023-09-27T22:23:15.023916Z",
     "start_time": "2023-09-27T22:23:15.017233Z"
    }
   },
   "id": "d119770c2eb45884"
  },
  {
   "cell_type": "code",
   "execution_count": 4,
   "outputs": [
    {
     "data": {
      "text/plain": "{10, 50.5, 'Alex', True}"
     },
     "execution_count": 4,
     "metadata": {},
     "output_type": "execute_result"
    }
   ],
   "source": [
    "mixed_set = {\"Alex\", 10, 50.5, True}\n",
    "mixed_set"
   ],
   "metadata": {
    "collapsed": false,
    "ExecuteTime": {
     "end_time": "2023-09-27T22:23:49.763321Z",
     "start_time": "2023-09-27T22:23:49.760808Z"
    }
   },
   "id": "e23610d6a8639beb"
  },
  {
   "cell_type": "code",
   "execution_count": 5,
   "outputs": [
    {
     "data": {
      "text/plain": "{(1, 2, 3), 10, 50.5, 'Alex', True}"
     },
     "execution_count": 5,
     "metadata": {},
     "output_type": "execute_result"
    }
   ],
   "source": [
    "another_mixed_set = {\"Alex\", 10, 50.5, True, (1, 2, 3)}\n",
    "another_mixed_set"
   ],
   "metadata": {
    "collapsed": false,
    "ExecuteTime": {
     "end_time": "2023-09-27T22:24:17.550252Z",
     "start_time": "2023-09-27T22:24:17.543566Z"
    }
   },
   "id": "cd72294411aeb731"
  },
  {
   "cell_type": "code",
   "execution_count": 6,
   "outputs": [
    {
     "ename": "TypeError",
     "evalue": "unhashable type: 'list'",
     "output_type": "error",
     "traceback": [
      "\u001B[0;31m---------------------------------------------------------------------------\u001B[0m",
      "\u001B[0;31mTypeError\u001B[0m                                 Traceback (most recent call last)",
      "Cell \u001B[0;32mIn[6], line 1\u001B[0m\n\u001B[0;32m----> 1\u001B[0m another_mixed_set \u001B[38;5;241m=\u001B[39m {\u001B[38;5;124m\"\u001B[39m\u001B[38;5;124mAlex\u001B[39m\u001B[38;5;124m\"\u001B[39m, \u001B[38;5;241m10\u001B[39m, \u001B[38;5;241m50.5\u001B[39m, \u001B[38;5;28;01mTrue\u001B[39;00m, [\u001B[38;5;241m1\u001B[39m, \u001B[38;5;241m2\u001B[39m, \u001B[38;5;241m3\u001B[39m]}\n\u001B[1;32m      2\u001B[0m another_mixed_set\n",
      "\u001B[0;31mTypeError\u001B[0m: unhashable type: 'list'"
     ]
    }
   ],
   "source": [
    "\"\"\"\n",
    "1. List is a mutable element\n",
    "2. Tuple is an immutable element\n",
    "3. Set need its element to be immutable\n",
    "   - because Hashing is a function that takes an object as input and returns a unique integer value. \n",
    "     This value is used to index the element in the set.\n",
    "   - If the elements of a set were mutable, they could change their hash values after being added to the set. \n",
    "\"\"\"\n",
    "another_mixed_set = {\"Alex\", 10, 50.5, True, [1, 2, 3]}\n",
    "another_mixed_set"
   ],
   "metadata": {
    "collapsed": false,
    "ExecuteTime": {
     "end_time": "2023-09-27T22:25:04.901646Z",
     "start_time": "2023-09-27T22:25:04.736718Z"
    }
   },
   "id": "9400f137b617e181"
  },
  {
   "cell_type": "code",
   "execution_count": 7,
   "outputs": [
    {
     "data": {
      "text/plain": "{'Apple', 'Asus', 'Dell', 'HP', 'Lenovo', 'MSI', 'Toshiba'}"
     },
     "execution_count": 7,
     "metadata": {},
     "output_type": "execute_result"
    }
   ],
   "source": [
    "laptop_set = {\"HP\", \"Apple\", \"Dell\", \"Asus\", \"Lenovo\", \"MSI\", \"Toshiba\"}\n",
    "laptop_set"
   ],
   "metadata": {
    "collapsed": false,
    "ExecuteTime": {
     "end_time": "2023-09-27T22:46:35.039138Z",
     "start_time": "2023-09-27T22:46:35.030889Z"
    }
   },
   "id": "e146206668ac99d8"
  },
  {
   "cell_type": "code",
   "execution_count": 8,
   "outputs": [
    {
     "data": {
      "text/plain": "{'Apple', 'Asus', 'Dell', 'HP', 'HuaWei', 'Lenovo', 'MSI', 'Toshiba'}"
     },
     "execution_count": 8,
     "metadata": {},
     "output_type": "execute_result"
    }
   ],
   "source": [
    "laptop_set.add(\"HuaWei\")\n",
    "laptop_set"
   ],
   "metadata": {
    "collapsed": false,
    "ExecuteTime": {
     "end_time": "2023-09-27T22:47:24.879439Z",
     "start_time": "2023-09-27T22:47:24.871098Z"
    }
   },
   "id": "c7cff4f7323b4f78"
  },
  {
   "cell_type": "code",
   "execution_count": 9,
   "outputs": [
    {
     "data": {
      "text/plain": "{'Apple', 'Asus', 'HP', 'HuaWei', 'Lenovo', 'MSI', 'Toshiba'}"
     },
     "execution_count": 9,
     "metadata": {},
     "output_type": "execute_result"
    }
   ],
   "source": [
    "laptop_set.discard(\"Dell\")\n",
    "laptop_set"
   ],
   "metadata": {
    "collapsed": false,
    "ExecuteTime": {
     "end_time": "2023-09-27T22:48:00.989022Z",
     "start_time": "2023-09-27T22:48:00.985744Z"
    }
   },
   "id": "2a4d367e3d012b43"
  },
  {
   "cell_type": "code",
   "execution_count": 10,
   "outputs": [
    {
     "data": {
      "text/plain": "{'Apple', 'Asus', 'HP', 'Lenovo', 'MSI', 'Toshiba'}"
     },
     "execution_count": 10,
     "metadata": {},
     "output_type": "execute_result"
    }
   ],
   "source": [
    "laptop_set.remove(\"HuaWei\")\n",
    "laptop_set"
   ],
   "metadata": {
    "collapsed": false,
    "ExecuteTime": {
     "end_time": "2023-09-27T22:48:36.718631Z",
     "start_time": "2023-09-27T22:48:36.705510Z"
    }
   },
   "id": "8afcae462cf6ff06"
  },
  {
   "cell_type": "markdown",
   "source": [
    "#### Performing Operations on Python Sets"
   ],
   "metadata": {
    "collapsed": false
   },
   "id": "2e39cb9c08e1e8a0"
  },
  {
   "cell_type": "code",
   "execution_count": 11,
   "outputs": [],
   "source": [
    "student_set_1 = {\"Anita\", \"Emma\"}\n",
    "student_set_2 = {\"James\", \"Olivia\"}\n",
    "student_set_3 = {\"James\", \"Anita\"}"
   ],
   "metadata": {
    "collapsed": false,
    "ExecuteTime": {
     "end_time": "2023-09-27T22:50:34.896359Z",
     "start_time": "2023-09-27T22:50:34.889881Z"
    }
   },
   "id": "97e2327203def69f"
  },
  {
   "cell_type": "code",
   "execution_count": 12,
   "outputs": [
    {
     "data": {
      "text/plain": "{'Anita', 'Emma', 'James', 'Olivia'}"
     },
     "execution_count": 12,
     "metadata": {},
     "output_type": "execute_result"
    }
   ],
   "source": [
    "student_set_1.union(student_set_2)"
   ],
   "metadata": {
    "collapsed": false,
    "ExecuteTime": {
     "end_time": "2023-09-27T22:50:49.333270Z",
     "start_time": "2023-09-27T22:50:49.322732Z"
    }
   },
   "id": "a825872e0744fe92"
  },
  {
   "cell_type": "code",
   "execution_count": 13,
   "outputs": [
    {
     "data": {
      "text/plain": "{'James'}"
     },
     "execution_count": 13,
     "metadata": {},
     "output_type": "execute_result"
    }
   ],
   "source": [
    "student_set_2.intersection(student_set_3)"
   ],
   "metadata": {
    "collapsed": false,
    "ExecuteTime": {
     "end_time": "2023-09-27T22:51:13.844490Z",
     "start_time": "2023-09-27T22:51:13.837320Z"
    }
   },
   "id": "82727914e6378a1a"
  },
  {
   "cell_type": "code",
   "execution_count": 14,
   "outputs": [
    {
     "data": {
      "text/plain": "{'Emma'}"
     },
     "execution_count": 14,
     "metadata": {},
     "output_type": "execute_result"
    }
   ],
   "source": [
    "student_set_1.difference(student_set_3)"
   ],
   "metadata": {
    "collapsed": false,
    "ExecuteTime": {
     "end_time": "2023-09-27T22:51:28.262588Z",
     "start_time": "2023-09-27T22:51:28.251623Z"
    }
   },
   "id": "c3bc46e06fe565d5"
  },
  {
   "cell_type": "code",
   "execution_count": 15,
   "outputs": [
    {
     "data": {
      "text/plain": "True"
     },
     "execution_count": 15,
     "metadata": {},
     "output_type": "execute_result"
    }
   ],
   "source": [
    "{1, 2, 3}.isdisjoint({10, 20, 30})"
   ],
   "metadata": {
    "collapsed": false,
    "ExecuteTime": {
     "end_time": "2023-09-27T22:52:57.823703Z",
     "start_time": "2023-09-27T22:52:57.814554Z"
    }
   },
   "id": "b02044d2794fe034"
  },
  {
   "cell_type": "code",
   "execution_count": 16,
   "outputs": [
    {
     "data": {
      "text/plain": "True"
     },
     "execution_count": 16,
     "metadata": {},
     "output_type": "execute_result"
    }
   ],
   "source": [
    "{10, 20}.issubset({10, 20, 30})"
   ],
   "metadata": {
    "collapsed": false,
    "ExecuteTime": {
     "end_time": "2023-09-27T22:53:14.484520Z",
     "start_time": "2023-09-27T22:53:14.472817Z"
    }
   },
   "id": "be5e64d37e55be12"
  },
  {
   "cell_type": "code",
   "execution_count": 17,
   "outputs": [
    {
     "data": {
      "text/plain": "True"
     },
     "execution_count": 17,
     "metadata": {},
     "output_type": "execute_result"
    }
   ],
   "source": [
    "{10, 20, 30}.issuperset({10, 20})"
   ],
   "metadata": {
    "collapsed": false,
    "ExecuteTime": {
     "end_time": "2023-09-27T22:53:40.019756Z",
     "start_time": "2023-09-27T22:53:40.009916Z"
    }
   },
   "id": "b7d20db298f6a679"
  },
  {
   "cell_type": "code",
   "execution_count": 18,
   "outputs": [
    {
     "data": {
      "text/plain": "{'Mary', 'Nina', 'Nora', 'Scott'}"
     },
     "execution_count": 18,
     "metadata": {},
     "output_type": "execute_result"
    }
   ],
   "source": [
    "names_list = [\"Mary\", \"Nora\", \"Nina\", \"Scott\", \"Nora\", \"Nina\"]\n",
    "names_tuple = (\"Mary\", \"Nora\", \"Nina\", \"Scott\", \"Nora\", \"Nina\")\n",
    "\n",
    "names_list_to_set = set(names_list)\n",
    "names_list_to_set"
   ],
   "metadata": {
    "collapsed": false,
    "ExecuteTime": {
     "end_time": "2023-09-27T22:55:43.273840Z",
     "start_time": "2023-09-27T22:55:43.265068Z"
    }
   },
   "id": "edbbac9d3067eb7d"
  },
  {
   "cell_type": "code",
   "execution_count": 19,
   "outputs": [
    {
     "data": {
      "text/plain": "{'Mary', 'Nina', 'Nora', 'Scott'}"
     },
     "execution_count": 19,
     "metadata": {},
     "output_type": "execute_result"
    }
   ],
   "source": [
    "names_tuple_to_set = set(names_tuple)\n",
    "names_tuple_to_set"
   ],
   "metadata": {
    "collapsed": false,
    "ExecuteTime": {
     "end_time": "2023-09-27T22:56:19.024891Z",
     "start_time": "2023-09-27T22:56:19.007831Z"
    }
   },
   "id": "6bddc8e6258cf841"
  },
  {
   "cell_type": "code",
   "execution_count": null,
   "outputs": [],
   "source": [],
   "metadata": {
    "collapsed": false
   },
   "id": "8f5d3a22fdbca425"
  }
 ],
 "metadata": {
  "kernelspec": {
   "display_name": "Python 3",
   "language": "python",
   "name": "python3"
  },
  "language_info": {
   "codemirror_mode": {
    "name": "ipython",
    "version": 2
   },
   "file_extension": ".py",
   "mimetype": "text/x-python",
   "name": "python",
   "nbconvert_exporter": "python",
   "pygments_lexer": "ipython2",
   "version": "2.7.6"
  }
 },
 "nbformat": 4,
 "nbformat_minor": 5
}
