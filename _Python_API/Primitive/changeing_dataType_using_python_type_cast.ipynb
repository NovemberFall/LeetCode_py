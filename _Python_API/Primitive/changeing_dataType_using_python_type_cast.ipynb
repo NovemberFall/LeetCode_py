{
 "cells": [
  {
   "cell_type": "code",
   "execution_count": 1,
   "id": "initial_id",
   "metadata": {
    "collapsed": true,
    "ExecuteTime": {
     "end_time": "2023-09-27T06:33:45.009720Z",
     "start_time": "2023-09-27T06:33:45.002675Z"
    }
   },
   "outputs": [
    {
     "data": {
      "text/plain": "{'Alex': 4.5, 'Mary': 4.8, 'Jim': 3}"
     },
     "execution_count": 1,
     "metadata": {},
     "output_type": "execute_result"
    }
   ],
   "source": [
    "interview_scores = {\"Alex\": 4.5, \"Mary\": 4.8, \"Jim\": 3}\n",
    "interview_scores"
   ]
  },
  {
   "cell_type": "code",
   "execution_count": 2,
   "outputs": [
    {
     "data": {
      "text/plain": "dict"
     },
     "execution_count": 2,
     "metadata": {},
     "output_type": "execute_result"
    }
   ],
   "source": [
    "type(interview_scores)"
   ],
   "metadata": {
    "collapsed": false,
    "ExecuteTime": {
     "end_time": "2023-09-27T06:34:48.359713Z",
     "start_time": "2023-09-27T06:34:48.355041Z"
    }
   },
   "id": "ed8d79559c91482b"
  },
  {
   "cell_type": "code",
   "execution_count": 3,
   "outputs": [
    {
     "data": {
      "text/plain": "{1001: 'Greg House', 1002: 'James Wilson', 1003: 'Lisa Guddy'}"
     },
     "execution_count": 3,
     "metadata": {},
     "output_type": "execute_result"
    }
   ],
   "source": [
    "employees_map = {1001: \"Greg House\", 1002: \"James Wilson\", 1003: \"Lisa Guddy\"}\n",
    "employees_map"
   ],
   "metadata": {
    "collapsed": false,
    "ExecuteTime": {
     "end_time": "2023-09-27T06:35:32.334815Z",
     "start_time": "2023-09-27T06:35:32.323863Z"
    }
   },
   "id": "c907ff7b79d3a72d"
  },
  {
   "cell_type": "code",
   "execution_count": 4,
   "outputs": [
    {
     "data": {
      "text/plain": "dict"
     },
     "execution_count": 4,
     "metadata": {},
     "output_type": "execute_result"
    }
   ],
   "source": [
    "type(employees_map)"
   ],
   "metadata": {
    "collapsed": false,
    "ExecuteTime": {
     "end_time": "2023-09-27T06:35:45.297305Z",
     "start_time": "2023-09-27T06:35:45.290254Z"
    }
   },
   "id": "9434262fe174d1e9"
  },
  {
   "cell_type": "code",
   "execution_count": 5,
   "outputs": [
    {
     "data": {
      "text/plain": "'1000'"
     },
     "execution_count": 5,
     "metadata": {},
     "output_type": "execute_result"
    }
   ],
   "source": [
    "some_string = \"1000\"\n",
    "some_string"
   ],
   "metadata": {
    "collapsed": false,
    "ExecuteTime": {
     "end_time": "2023-09-27T06:36:21.068334Z",
     "start_time": "2023-09-27T06:36:21.061260Z"
    }
   },
   "id": "e01c3199173a8b94"
  },
  {
   "cell_type": "code",
   "execution_count": 6,
   "outputs": [
    {
     "data": {
      "text/plain": "str"
     },
     "execution_count": 6,
     "metadata": {},
     "output_type": "execute_result"
    }
   ],
   "source": [
    "type(some_string)"
   ],
   "metadata": {
    "collapsed": false,
    "ExecuteTime": {
     "end_time": "2023-09-27T06:36:26.465089Z",
     "start_time": "2023-09-27T06:36:26.458921Z"
    }
   },
   "id": "5003bae902beb35a"
  },
  {
   "cell_type": "code",
   "execution_count": 7,
   "outputs": [
    {
     "data": {
      "text/plain": "1000"
     },
     "execution_count": 7,
     "metadata": {},
     "output_type": "execute_result"
    }
   ],
   "source": [
    "some_int = int(some_string)\n",
    "some_int"
   ],
   "metadata": {
    "collapsed": false,
    "ExecuteTime": {
     "end_time": "2023-09-27T06:36:42.855807Z",
     "start_time": "2023-09-27T06:36:42.849345Z"
    }
   },
   "id": "f51f8c46e72216d5"
  },
  {
   "cell_type": "code",
   "execution_count": 8,
   "outputs": [
    {
     "data": {
      "text/plain": "int"
     },
     "execution_count": 8,
     "metadata": {},
     "output_type": "execute_result"
    }
   ],
   "source": [
    "type(some_int)"
   ],
   "metadata": {
    "collapsed": false,
    "ExecuteTime": {
     "end_time": "2023-09-27T06:36:56.380786Z",
     "start_time": "2023-09-27T06:36:56.375020Z"
    }
   },
   "id": "a780afa4854b6cd5"
  },
  {
   "cell_type": "code",
   "execution_count": 9,
   "outputs": [
    {
     "data": {
      "text/plain": "1000.0"
     },
     "execution_count": 9,
     "metadata": {},
     "output_type": "execute_result"
    }
   ],
   "source": [
    "some_float = float(some_string)\n",
    "some_float"
   ],
   "metadata": {
    "collapsed": false,
    "ExecuteTime": {
     "end_time": "2023-09-27T06:37:16.175040Z",
     "start_time": "2023-09-27T06:37:16.169033Z"
    }
   },
   "id": "f71fc1d34b162528"
  },
  {
   "cell_type": "code",
   "execution_count": 10,
   "outputs": [
    {
     "data": {
      "text/plain": "'10000'"
     },
     "execution_count": 10,
     "metadata": {},
     "output_type": "execute_result"
    }
   ],
   "source": [
    "another_string = str(10000)\n",
    "another_string"
   ],
   "metadata": {
    "collapsed": false,
    "ExecuteTime": {
     "end_time": "2023-09-27T06:37:45.546225Z",
     "start_time": "2023-09-27T06:37:45.539724Z"
    }
   },
   "id": "309b1ab2d286bfc5"
  },
  {
   "cell_type": "code",
   "execution_count": 11,
   "outputs": [
    {
     "data": {
      "text/plain": "'False'"
     },
     "execution_count": 11,
     "metadata": {},
     "output_type": "execute_result"
    }
   ],
   "source": [
    "boolean_string = str(False)\n",
    "boolean_string"
   ],
   "metadata": {
    "collapsed": false,
    "ExecuteTime": {
     "end_time": "2023-09-27T06:38:24.563445Z",
     "start_time": "2023-09-27T06:38:24.557038Z"
    }
   },
   "id": "ee77f3ae260c36c8"
  }
 ],
 "metadata": {
  "kernelspec": {
   "display_name": "Python 3",
   "language": "python",
   "name": "python3"
  },
  "language_info": {
   "codemirror_mode": {
    "name": "ipython",
    "version": 2
   },
   "file_extension": ".py",
   "mimetype": "text/x-python",
   "name": "python",
   "nbconvert_exporter": "python",
   "pygments_lexer": "ipython2",
   "version": "2.7.6"
  }
 },
 "nbformat": 4,
 "nbformat_minor": 5
}
