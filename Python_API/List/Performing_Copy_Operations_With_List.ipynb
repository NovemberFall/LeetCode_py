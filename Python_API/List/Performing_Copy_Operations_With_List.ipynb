{
 "cells": [
  {
   "cell_type": "code",
   "execution_count": 1,
   "id": "initial_id",
   "metadata": {
    "collapsed": true,
    "ExecuteTime": {
     "end_time": "2023-09-28T00:05:10.200671Z",
     "start_time": "2023-09-28T00:05:10.194351Z"
    }
   },
   "outputs": [
    {
     "data": {
      "text/plain": "['apple', 'plum', 'mango', 'guava', 'pear']"
     },
     "execution_count": 1,
     "metadata": {},
     "output_type": "execute_result"
    }
   ],
   "source": [
    "fruit_list = [\"apple\", \"plum\", \"mango\", \"guava\", \"pear\"]\n",
    "fruit_list"
   ]
  },
  {
   "cell_type": "code",
   "execution_count": 2,
   "outputs": [
    {
     "data": {
      "text/plain": "['apple', 'plum', 'mango', 'guava', 'pear']"
     },
     "execution_count": 2,
     "metadata": {},
     "output_type": "execute_result"
    }
   ],
   "source": [
    "fruit_copy = fruit_list\n",
    "fruit_copy"
   ],
   "metadata": {
    "collapsed": false,
    "ExecuteTime": {
     "end_time": "2023-09-28T00:05:27.378289Z",
     "start_time": "2023-09-28T00:05:27.373988Z"
    }
   },
   "id": "5dc543b912f34a1d"
  },
  {
   "cell_type": "markdown",
   "source": [
    "#### Everything in Python is an object, including variables, functions, classes, and modules. \n",
    "\n",
    "#### When you create a variable in Python, you are not actually creating the object itself. \n",
    "#### Instead, you are creating a reference to the object. This means that multiple variables can refer to the same object.\n"
   ],
   "metadata": {
    "collapsed": false
   },
   "id": "bb4eebc4cf9db5ed"
  },
  {
   "cell_type": "code",
   "execution_count": 3,
   "outputs": [
    {
     "name": "stdout",
     "output_type": "stream",
     "text": [
      "Original: ['apple', 'plum', 'guava', 'pear']\n",
      "Modified: ['apple', 'plum', 'guava', 'pear']\n"
     ]
    }
   ],
   "source": [
    "## this is a shallow copy\n",
    "fruit_list.remove(\"mango\")\n",
    "print(\"Original:\", fruit_list)\n",
    "print(\"Modified:\", fruit_copy)"
   ],
   "metadata": {
    "collapsed": false,
    "ExecuteTime": {
     "end_time": "2023-09-28T00:06:39.557854Z",
     "start_time": "2023-09-28T00:06:39.537590Z"
    }
   },
   "id": "93ae907ef6c1a629"
  },
  {
   "cell_type": "code",
   "execution_count": 4,
   "outputs": [
    {
     "data": {
      "text/plain": "['apple', 'plum', 'guava', 'pear']"
     },
     "execution_count": 4,
     "metadata": {},
     "output_type": "execute_result"
    }
   ],
   "source": [
    "## Deep Copy\n",
    "fruit_copy = fruit_list.copy()\n",
    "fruit_copy"
   ],
   "metadata": {
    "collapsed": false,
    "ExecuteTime": {
     "end_time": "2023-09-28T00:12:43.049964Z",
     "start_time": "2023-09-28T00:12:43.043328Z"
    }
   },
   "id": "f3c3a9eb3031b0cd"
  },
  {
   "cell_type": "code",
   "execution_count": 5,
   "outputs": [
    {
     "name": "stdout",
     "output_type": "stream",
     "text": [
      "Original: ['pineapple', 'plum', 'guava', 'pear']\n",
      "Modified: ['apple', 'plum', 'guava', 'pear']\n"
     ]
    }
   ],
   "source": [
    "fruit_list[0] = \"pineapple\"\n",
    "\n",
    "print(\"Original:\", fruit_list)\n",
    "print(\"Modified:\", fruit_copy)"
   ],
   "metadata": {
    "collapsed": false,
    "ExecuteTime": {
     "end_time": "2023-09-28T00:14:23.530325Z",
     "start_time": "2023-09-28T00:14:23.527449Z"
    }
   },
   "id": "816b38e01576a918"
  },
  {
   "cell_type": "code",
   "execution_count": 3,
   "outputs": [],
   "source": [
    "from copy import deepcopy"
   ],
   "metadata": {
    "collapsed": false,
    "ExecuteTime": {
     "end_time": "2023-09-28T06:37:16.179203Z",
     "start_time": "2023-09-28T06:37:16.137526Z"
    }
   },
   "id": "712650333018ab94"
  },
  {
   "cell_type": "code",
   "execution_count": 4,
   "outputs": [],
   "source": [
    "first_person = [\"Henry\", [\"1349 West Zenith St\", \"Massachusetts\"]]"
   ],
   "metadata": {
    "collapsed": false,
    "ExecuteTime": {
     "end_time": "2023-09-28T06:37:17.890908Z",
     "start_time": "2023-09-28T06:37:17.882952Z"
    }
   },
   "id": "ec1d7341467c9b2a"
  },
  {
   "cell_type": "code",
   "execution_count": 5,
   "outputs": [],
   "source": [
    "second_person = deepcopy(first_person)\n",
    "\n",
    "second_person[0] = 'Mark'\n",
    "second_person[1][0] = \"Brookline Avenue\""
   ],
   "metadata": {
    "collapsed": false,
    "ExecuteTime": {
     "end_time": "2023-09-28T06:37:19.169439Z",
     "start_time": "2023-09-28T06:37:19.161906Z"
    }
   },
   "id": "1742c65980f96a4"
  },
  {
   "cell_type": "code",
   "execution_count": 6,
   "outputs": [
    {
     "name": "stdout",
     "output_type": "stream",
     "text": [
      "First Person:  ['Henry', ['1349 West Zenith St', 'Massachusetts']]\n",
      "Second Person:  ['Mark', ['Brookline Avenue', 'Massachusetts']]\n"
     ]
    }
   ],
   "source": [
    "print(\"First Person: \", first_person)\n",
    "print(\"Second Person: \", second_person)"
   ],
   "metadata": {
    "collapsed": false,
    "ExecuteTime": {
     "end_time": "2023-09-28T06:39:14.495301Z",
     "start_time": "2023-09-28T06:39:14.489200Z"
    }
   },
   "id": "cef17aac91988b5f"
  },
  {
   "cell_type": "markdown",
   "source": [
    "#### Performing Copy Operations With Tuples"
   ],
   "metadata": {
    "collapsed": false
   },
   "id": "16e8a1ab9abf2b3a"
  },
  {
   "cell_type": "code",
   "execution_count": 7,
   "outputs": [],
   "source": [
    "# shallow copy\n",
    "ice_cream_tuple = (\"Vanilla\", [\"Chocolate\", \"Vanilla\"], \"Strawberry\", \"Blueberry\")\n",
    "ice_cream_tuple_copy = ice_cream_tuple"
   ],
   "metadata": {
    "collapsed": false,
    "ExecuteTime": {
     "end_time": "2023-09-28T06:43:52.299491Z",
     "start_time": "2023-09-28T06:43:52.289998Z"
    }
   },
   "id": "d1e170e1fc432c15"
  },
  {
   "cell_type": "code",
   "execution_count": 8,
   "outputs": [
    {
     "name": "stdout",
     "output_type": "stream",
     "text": [
      "Original:  ('Vanilla', ['Chocolate', 'Vanilla'], 'Strawberry', 'Blueberry')\n",
      "Modified:  ('Vanilla', ['Chocolate', 'Vanilla'], 'Strawberry', 'Blueberry')\n"
     ]
    }
   ],
   "source": [
    "print(\"Original: \", ice_cream_tuple)\n",
    "print(\"Modified: \", ice_cream_tuple_copy)"
   ],
   "metadata": {
    "collapsed": false,
    "ExecuteTime": {
     "end_time": "2023-09-28T06:44:48.918838Z",
     "start_time": "2023-09-28T06:44:48.910603Z"
    }
   },
   "id": "236af131253bb0cc"
  },
  {
   "cell_type": "code",
   "execution_count": 9,
   "outputs": [],
   "source": [
    "ice_cream_tuple_copy[1][0] = \"Butterscotch\""
   ],
   "metadata": {
    "collapsed": false,
    "ExecuteTime": {
     "end_time": "2023-09-28T06:46:01.053875Z",
     "start_time": "2023-09-28T06:46:01.045210Z"
    }
   },
   "id": "6588aebc88645062"
  },
  {
   "cell_type": "code",
   "execution_count": 10,
   "outputs": [
    {
     "name": "stdout",
     "output_type": "stream",
     "text": [
      "Original:  ('Vanilla', ['Butterscotch', 'Vanilla'], 'Strawberry', 'Blueberry')\n",
      "Modified:  ('Vanilla', ['Butterscotch', 'Vanilla'], 'Strawberry', 'Blueberry')\n"
     ]
    }
   ],
   "source": [
    "print(\"Original: \", ice_cream_tuple)\n",
    "print(\"Modified: \", ice_cream_tuple_copy)"
   ],
   "metadata": {
    "collapsed": false,
    "ExecuteTime": {
     "end_time": "2023-09-28T06:46:11.940238Z",
     "start_time": "2023-09-28T06:46:11.931059Z"
    }
   },
   "id": "461189dad38380ef"
  },
  {
   "cell_type": "code",
   "execution_count": 11,
   "outputs": [
    {
     "data": {
      "text/plain": "('Vanilla', ['Chocolate', 'Vanilla'], 'Strawberry', 'Blueberry')"
     },
     "execution_count": 11,
     "metadata": {},
     "output_type": "execute_result"
    }
   ],
   "source": [
    "ice_cream_tuple = (\"Vanilla\", [\"Chocolate\", \"Vanilla\"], \"Strawberry\", \"Blueberry\")\n",
    "ice_cream_tuple"
   ],
   "metadata": {
    "collapsed": false,
    "ExecuteTime": {
     "end_time": "2023-09-28T06:49:14.349246Z",
     "start_time": "2023-09-28T06:49:14.330703Z"
    }
   },
   "id": "1a394d506674aaed"
  },
  {
   "cell_type": "code",
   "execution_count": 12,
   "outputs": [
    {
     "ename": "AttributeError",
     "evalue": "'tuple' object has no attribute 'copy'",
     "output_type": "error",
     "traceback": [
      "\u001B[0;31m---------------------------------------------------------------------------\u001B[0m",
      "\u001B[0;31mAttributeError\u001B[0m                            Traceback (most recent call last)",
      "Cell \u001B[0;32mIn[12], line 1\u001B[0m\n\u001B[0;32m----> 1\u001B[0m ice_cream_tuple_copy \u001B[38;5;241m=\u001B[39m \u001B[43mice_cream_tuple\u001B[49m\u001B[38;5;241;43m.\u001B[39;49m\u001B[43mcopy\u001B[49m()\n",
      "\u001B[0;31mAttributeError\u001B[0m: 'tuple' object has no attribute 'copy'"
     ]
    }
   ],
   "source": [
    "## Tuple has no method copy()\n",
    "ice_cream_tuple_copy = ice_cream_tuple.copy()"
   ],
   "metadata": {
    "collapsed": false,
    "ExecuteTime": {
     "end_time": "2023-09-28T06:50:05.448053Z",
     "start_time": "2023-09-28T06:50:05.436999Z"
    }
   },
   "id": "51115fe6dd2edabb"
  },
  {
   "cell_type": "code",
   "execution_count": 14,
   "outputs": [],
   "source": [
    "## the only option is to invoke the deepcopy()\n",
    "from copy import deepcopy\n",
    "\n",
    "## deep copy\n",
    "ice_cream_tuple_copy = deepcopy(ice_cream_tuple)"
   ],
   "metadata": {
    "collapsed": false,
    "ExecuteTime": {
     "end_time": "2023-09-28T06:52:31.896739Z",
     "start_time": "2023-09-28T06:52:31.893655Z"
    }
   },
   "id": "93bc81096a89c49c"
  },
  {
   "cell_type": "code",
   "execution_count": 15,
   "outputs": [
    {
     "name": "stdout",
     "output_type": "stream",
     "text": [
      "Original:  ('Vanilla', ['Chocolate', 'Vanilla'], 'Strawberry', 'Blueberry')\n",
      "Modified:  ('Vanilla', ['Chocolate', 'Vanilla'], 'Strawberry', 'Blueberry')\n"
     ]
    }
   ],
   "source": [
    "print(\"Original: \", ice_cream_tuple)\n",
    "print(\"Modified: \", ice_cream_tuple_copy)"
   ],
   "metadata": {
    "collapsed": false,
    "ExecuteTime": {
     "end_time": "2023-09-28T06:52:55.204620Z",
     "start_time": "2023-09-28T06:52:55.195050Z"
    }
   },
   "id": "8594f61d7322110e"
  },
  {
   "cell_type": "code",
   "execution_count": 16,
   "outputs": [],
   "source": [
    "ice_cream_tuple_copy[1][0] = \"Butterscotch\""
   ],
   "metadata": {
    "collapsed": false,
    "ExecuteTime": {
     "end_time": "2023-09-28T06:53:20.592169Z",
     "start_time": "2023-09-28T06:53:20.582164Z"
    }
   },
   "id": "f9bbd344e7ad64"
  },
  {
   "cell_type": "code",
   "execution_count": 17,
   "outputs": [
    {
     "name": "stdout",
     "output_type": "stream",
     "text": [
      "Original:  ('Vanilla', ['Chocolate', 'Vanilla'], 'Strawberry', 'Blueberry')\n",
      "Modified:  ('Vanilla', ['Butterscotch', 'Vanilla'], 'Strawberry', 'Blueberry')\n"
     ]
    }
   ],
   "source": [
    "print(\"Original: \", ice_cream_tuple)\n",
    "print(\"Modified: \", ice_cream_tuple_copy)"
   ],
   "metadata": {
    "collapsed": false,
    "ExecuteTime": {
     "end_time": "2023-09-28T06:53:25.917266Z",
     "start_time": "2023-09-28T06:53:25.907274Z"
    }
   },
   "id": "5316fbc4228bc0c3"
  },
  {
   "cell_type": "markdown",
   "source": [
    "#### Copy Set"
   ],
   "metadata": {
    "collapsed": false
   },
   "id": "8cad6cc65be598aa"
  },
  {
   "cell_type": "code",
   "execution_count": 18,
   "outputs": [
    {
     "data": {
      "text/plain": "{'blue', 'orange', 'pink', 'red', 'yellow'}"
     },
     "execution_count": 18,
     "metadata": {},
     "output_type": "execute_result"
    }
   ],
   "source": [
    "colors_set = {'blue', 'red', 'orange', 'yellow', 'pink'}\n",
    "colors_set"
   ],
   "metadata": {
    "collapsed": false,
    "ExecuteTime": {
     "end_time": "2023-09-28T06:55:48.937428Z",
     "start_time": "2023-09-28T06:55:48.926650Z"
    }
   },
   "id": "846f3b39d67080da"
  },
  {
   "cell_type": "code",
   "execution_count": 19,
   "outputs": [
    {
     "name": "stdout",
     "output_type": "stream",
     "text": [
      "Original:  {'blue', 'pink', 'yellow', 'red', 'orange'}\n",
      "Modified:  {'blue', 'pink', 'yellow', 'red', 'orange'}\n"
     ]
    }
   ],
   "source": [
    "# shallow copy\n",
    "colors_set_copy = colors_set\n",
    "\n",
    "print(\"Original: \", colors_set)\n",
    "print(\"Modified: \", colors_set_copy)"
   ],
   "metadata": {
    "collapsed": false,
    "ExecuteTime": {
     "end_time": "2023-09-28T06:56:27.549172Z",
     "start_time": "2023-09-28T06:56:27.526785Z"
    }
   },
   "id": "3b186c273a0fce34"
  },
  {
   "cell_type": "code",
   "execution_count": 20,
   "outputs": [
    {
     "name": "stdout",
     "output_type": "stream",
     "text": [
      "Original:  {'blue', 'pink', 'yellow', 'orange'}\n",
      "Modified:  {'blue', 'pink', 'yellow', 'orange'}\n"
     ]
    }
   ],
   "source": [
    "colors_set_copy.remove('red')\n",
    "\n",
    "print(\"Original: \", colors_set)\n",
    "print(\"Modified: \", colors_set_copy)"
   ],
   "metadata": {
    "collapsed": false,
    "ExecuteTime": {
     "end_time": "2023-09-28T06:56:57.049435Z",
     "start_time": "2023-09-28T06:56:57.032205Z"
    }
   },
   "id": "ddd65825e9d0d6be"
  },
  {
   "cell_type": "code",
   "execution_count": 21,
   "outputs": [
    {
     "data": {
      "text/plain": "{'blue', 'orange', 'pink', 'red', 'yellow'}"
     },
     "execution_count": 21,
     "metadata": {},
     "output_type": "execute_result"
    }
   ],
   "source": [
    "colors_set = {'blue', 'red', 'orange', 'yellow', 'pink'}\n",
    "colors_set"
   ],
   "metadata": {
    "collapsed": false,
    "ExecuteTime": {
     "end_time": "2023-09-28T07:00:29.086081Z",
     "start_time": "2023-09-28T07:00:29.076949Z"
    }
   },
   "id": "27bb79a6d2404c88"
  },
  {
   "cell_type": "code",
   "execution_count": 22,
   "outputs": [
    {
     "name": "stdout",
     "output_type": "stream",
     "text": [
      "Original:  {'blue', 'pink', 'yellow', 'red', 'orange'}\n",
      "Modified:  {'blue', 'pink', 'yellow', 'red', 'orange'}\n"
     ]
    }
   ],
   "source": [
    "## deep copy\n",
    "colors_set_copy = colors_set.copy()\n",
    "\n",
    "print(\"Original: \", colors_set)\n",
    "print(\"Modified: \", colors_set_copy)"
   ],
   "metadata": {
    "collapsed": false,
    "ExecuteTime": {
     "end_time": "2023-09-28T07:01:00.322196Z",
     "start_time": "2023-09-28T07:01:00.304116Z"
    }
   },
   "id": "da4c4d0a30223d7e"
  },
  {
   "cell_type": "code",
   "execution_count": null,
   "outputs": [],
   "source": [],
   "metadata": {
    "collapsed": false
   },
   "id": "34fef895dbb46c23"
  }
 ],
 "metadata": {
  "kernelspec": {
   "display_name": "Python 3",
   "language": "python",
   "name": "python3"
  },
  "language_info": {
   "codemirror_mode": {
    "name": "ipython",
    "version": 2
   },
   "file_extension": ".py",
   "mimetype": "text/x-python",
   "name": "python",
   "nbconvert_exporter": "python",
   "pygments_lexer": "ipython2",
   "version": "2.7.6"
  }
 },
 "nbformat": 4,
 "nbformat_minor": 5
}
