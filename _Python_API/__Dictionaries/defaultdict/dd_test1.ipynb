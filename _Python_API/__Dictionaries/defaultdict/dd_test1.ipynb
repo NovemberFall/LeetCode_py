{
 "cells": [
  {
   "metadata": {},
   "cell_type": "markdown",
   "source": [
    "\n",
    "1. The defaultdict is a subclass of the built-in dict class in Python's collections module.\n",
    "2. It **overrides** one method and adds one `writable instance variable`.\n",
    "3. The primary purpose of defaultdict is to provide a **default value** for the dictionary being accessed\n",
    "    when a key is not present.\n",
    "4. This avoids the need for explicit checks to see if a key exists in the dictionary\n",
    "    before accessing or modifying its value.\n"
   ],
   "id": "d38b887ecc765823"
  },
  {
   "metadata": {
    "ExecuteTime": {
     "end_time": "2024-12-31T06:45:41.864642Z",
     "start_time": "2024-12-31T06:45:41.859503Z"
    }
   },
   "cell_type": "code",
   "source": [
    "from collections import defaultdict\n",
    "\n",
    "\n",
    "# Default factory function to provide a default integer (0)\n",
    "def default_int():\n",
    "    return 0\n",
    "\n",
    "# Create a defaultdict with default value 0 for missing keys\n",
    "d = defaultdict(default_int)\n",
    "\n",
    "# Add some key-value pairs\n",
    "d['a'] = 1\n",
    "d['b'] = 2\n",
    "\n",
    "print(d['a'])  # Output: 1\n",
    "print(d['b'])  # Output: 2\n",
    "print(d['c'])  # Output: 0, since 'c' is not present, it gets default value 0"
   ],
   "id": "b86dd6675f8dc5c0",
   "outputs": [
    {
     "name": "stdout",
     "output_type": "stream",
     "text": [
      "1\n",
      "2\n",
      "0\n"
     ]
    }
   ],
   "execution_count": 4
  },
  {
   "metadata": {},
   "cell_type": "markdown",
   "source": "## The above example can be simplified using the built-in `int` as the default factory, which returns 0:",
   "id": "778bb3d609b5fe5d"
  },
  {
   "metadata": {
    "ExecuteTime": {
     "end_time": "2024-12-31T06:43:12.202864Z",
     "start_time": "2024-12-31T06:43:12.196455Z"
    }
   },
   "cell_type": "code",
   "source": [
    "# Create a defaultdict with default value 0 for missing keys\n",
    "dint = defaultdict(int)\n",
    "\n",
    "# Add some key-value pairs\n",
    "dint['a'] = 1\n",
    "dint['b'] = 2\n",
    "\n",
    "print(dint['a'])  # Output: 1\n",
    "print(dint['b'])  # Output: 2\n",
    "print(dint['c'])  # Output: 0, since 'c' is not present, it gets default value 0"
   ],
   "id": "c925453ff48ea847",
   "outputs": [
    {
     "name": "stdout",
     "output_type": "stream",
     "text": [
      "1\n",
      "2\n",
      "0\n"
     ]
    }
   ],
   "execution_count": 2
  }
 ],
 "metadata": {
  "kernelspec": {
   "display_name": "Python 3",
   "language": "python",
   "name": "python3"
  },
  "language_info": {
   "codemirror_mode": {
    "name": "ipython",
    "version": 2
   },
   "file_extension": ".py",
   "mimetype": "text/x-python",
   "name": "python",
   "nbconvert_exporter": "python",
   "pygments_lexer": "ipython2",
   "version": "2.7.6"
  }
 },
 "nbformat": 4,
 "nbformat_minor": 5
}
