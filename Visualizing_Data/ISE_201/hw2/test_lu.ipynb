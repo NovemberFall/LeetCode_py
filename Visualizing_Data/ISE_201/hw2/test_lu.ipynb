{
 "cells": [
  {
   "cell_type": "code",
   "execution_count": 1,
   "id": "initial_id",
   "metadata": {
    "collapsed": true,
    "ExecuteTime": {
     "end_time": "2024-10-18T04:41:33.916794Z",
     "start_time": "2024-10-18T04:41:33.913825Z"
    }
   },
   "outputs": [],
   "source": [
    "import math\n",
    "import numpy as np\n",
    "\n",
    "# Routine to compute matrix inverses\n",
    "import numpy.linalg as la  # for la.inv\n",
    "\n",
    "# LU decompostion algs are found in the scipy library, not in n\n",
    "import scipy.linalg as sa  # for sa.lu"
   ]
  },
  {
   "cell_type": "code",
   "execution_count": 2,
   "outputs": [
    {
     "name": "stdout",
     "output_type": "stream",
     "text": [
      "[[1. 0. 0.]\n",
      " [0. 1. 0.]\n",
      " [1. 0. 1.]]\n",
      "[[1. 2. 0. 1.]\n",
      " [0. 1. 1. 0.]\n",
      " [0. 0. 0. 0.]]\n"
     ]
    }
   ],
   "source": [
    "A = np.array([[1, 2, 0, 1], [0, 1, 1, 0], [1, 2, 0, 1]])\n",
    "P, L, U = sa.lu(A)\n",
    "\n",
    "print(L)\n",
    "print(U)"
   ],
   "metadata": {
    "collapsed": false,
    "ExecuteTime": {
     "end_time": "2024-10-18T04:42:35.478265Z",
     "start_time": "2024-10-18T04:42:35.469767Z"
    }
   },
   "id": "b7254f422ed9b379"
  },
  {
   "cell_type": "code",
   "execution_count": 19,
   "outputs": [
    {
     "name": "stdout",
     "output_type": "stream",
     "text": [
      "Basis for the column space:\n",
      "[Matrix([\n",
      "[1],\n",
      "[0],\n",
      "[1]]), Matrix([\n",
      "[2],\n",
      "[1],\n",
      "[2]])]\n"
     ]
    }
   ],
   "source": [
    "import sympy as sp\n",
    "\n",
    "# Define the matrix\n",
    "A = sp.Matrix([[1, 2, 0, 1],\n",
    "                [0, 1, 1, 0],\n",
    "                [1, 2, 0, 1]])\n",
    "\n",
    "# Compute the column space\n",
    "column_space = A.columnspace()\n",
    "\n",
    "# Print the basis for the column space\n",
    "print(\"Basis for the column space:\")\n",
    "print(column_space)\n",
    "\n",
    "\n",
    "\n",
    "\n",
    "\n",
    "# for vec in column_space:\n",
    "#     print(vec)"
   ],
   "metadata": {
    "collapsed": false,
    "ExecuteTime": {
     "end_time": "2024-10-18T06:07:28.773378Z",
     "start_time": "2024-10-18T06:07:28.768061Z"
    }
   },
   "id": "84b531b6a9ffd091"
  },
  {
   "cell_type": "code",
   "execution_count": null,
   "outputs": [],
   "source": [],
   "metadata": {
    "collapsed": false
   },
   "id": "4fe1be7f48ef4a2c"
  }
 ],
 "metadata": {
  "kernelspec": {
   "display_name": "Python 3",
   "language": "python",
   "name": "python3"
  },
  "language_info": {
   "codemirror_mode": {
    "name": "ipython",
    "version": 2
   },
   "file_extension": ".py",
   "mimetype": "text/x-python",
   "name": "python",
   "nbconvert_exporter": "python",
   "pygments_lexer": "ipython2",
   "version": "2.7.6"
  }
 },
 "nbformat": 4,
 "nbformat_minor": 5
}
