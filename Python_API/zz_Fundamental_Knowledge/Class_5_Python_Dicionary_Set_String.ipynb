{
 "cells": [
  {
   "metadata": {},
   "cell_type": "markdown",
   "source": "## Python Dictionary",
   "id": "70b9dd2548d44d1b"
  },
  {
   "metadata": {},
   "cell_type": "code",
   "outputs": [],
   "execution_count": null,
   "source": "",
   "id": "e6633d0d3cbcadb2"
  },
  {
   "metadata": {},
   "cell_type": "markdown",
   "source": "",
   "id": "cdc315a2e4ba1ae6"
  },
  {
   "metadata": {},
   "cell_type": "markdown",
   "source": [
    "## Modifying a set in Python\n",
    "\n",
    "### We cannot access or change an element of a set using indexing or slicing."
   ],
   "id": "ff28ff3fa3e33762"
  },
  {
   "metadata": {},
   "cell_type": "markdown",
   "source": [
    "## Mathematical set operations\n",
    "\n",
    "\n",
    "### Set Union"
   ],
   "id": "ecc30f269a6d8a9f"
  },
  {
   "metadata": {
    "ExecuteTime": {
     "end_time": "2025-02-17T06:33:49.516370Z",
     "start_time": "2025-02-17T06:33:49.510007Z"
    }
   },
   "cell_type": "code",
   "source": [
    "A = {1, 2, 3, 4, 5}\n",
    "B = {4, 5, 6, 7, 8}"
   ],
   "id": "a27beb0b87da9bad",
   "outputs": [],
   "execution_count": 1
  },
  {
   "metadata": {
    "ExecuteTime": {
     "end_time": "2025-02-17T06:33:49.757069Z",
     "start_time": "2025-02-17T06:33:49.752699Z"
    }
   },
   "cell_type": "code",
   "source": "print(A | B)",
   "id": "de5134b9ae455d1a",
   "outputs": [
    {
     "name": "stdout",
     "output_type": "stream",
     "text": [
      "{1, 2, 3, 4, 5, 6, 7, 8}\n"
     ]
    }
   ],
   "execution_count": 2
  },
  {
   "metadata": {},
   "cell_type": "markdown",
   "source": "",
   "id": "694970ae33c8932"
  },
  {
   "metadata": {},
   "cell_type": "markdown",
   "source": "### Set Intersection",
   "id": "4f6f078bea257731"
  },
  {
   "metadata": {
    "ExecuteTime": {
     "end_time": "2025-02-17T06:35:21.846217Z",
     "start_time": "2025-02-17T06:35:21.843563Z"
    }
   },
   "cell_type": "code",
   "source": "print(A & B)",
   "id": "e4f41a2fff1e11b1",
   "outputs": [
    {
     "name": "stdout",
     "output_type": "stream",
     "text": [
      "{4, 5}\n"
     ]
    }
   ],
   "execution_count": 4
  },
  {
   "metadata": {
    "ExecuteTime": {
     "end_time": "2025-02-17T06:35:33.293952Z",
     "start_time": "2025-02-17T06:35:33.290220Z"
    }
   },
   "cell_type": "code",
   "source": [
    "C = A.intersection(B)\n",
    "print(C)"
   ],
   "id": "44af085adee3558a",
   "outputs": [
    {
     "name": "stdout",
     "output_type": "stream",
     "text": [
      "{4, 5}\n"
     ]
    }
   ],
   "execution_count": 5
  },
  {
   "metadata": {},
   "cell_type": "markdown",
   "source": "",
   "id": "72f2123dabee4e96"
  },
  {
   "metadata": {},
   "cell_type": "markdown",
   "source": [
    "### Set Difference\n",
    "\n",
    "![](./img/5.1.png)"
   ],
   "id": "cbb6a0a0a4089c1d"
  },
  {
   "metadata": {
    "ExecuteTime": {
     "end_time": "2025-02-17T06:36:20.214355Z",
     "start_time": "2025-02-17T06:36:20.209297Z"
    }
   },
   "cell_type": "code",
   "source": [
    "A = {1, 2, 3, 4, 5}\n",
    "B = {4, 5, 6, 7, 8}\n",
    "print(A - B)"
   ],
   "id": "712cbd24e943e93d",
   "outputs": [
    {
     "name": "stdout",
     "output_type": "stream",
     "text": [
      "{1, 2, 3}\n"
     ]
    }
   ],
   "execution_count": 7
  },
  {
   "metadata": {},
   "cell_type": "markdown",
   "source": "",
   "id": "79daebb70022f2d6"
  },
  {
   "metadata": {},
   "cell_type": "markdown",
   "source": "",
   "id": "c15c82c1083ec901"
  },
  {
   "metadata": {},
   "cell_type": "markdown",
   "source": "## String",
   "id": "d4fab2644334fc1a"
  },
  {
   "metadata": {
    "ExecuteTime": {
     "end_time": "2025-02-17T06:39:53.250938Z",
     "start_time": "2025-02-17T06:39:53.246017Z"
    }
   },
   "cell_type": "code",
   "source": [
    "name = \"  h e llo  Mario    \"\n",
    "print(name.strip())"
   ],
   "id": "2c2429396879d748",
   "outputs": [
    {
     "name": "stdout",
     "output_type": "stream",
     "text": [
      "h e llo  Mario\n"
     ]
    }
   ],
   "execution_count": 10
  },
  {
   "metadata": {},
   "cell_type": "code",
   "outputs": [],
   "execution_count": null,
   "source": "",
   "id": "ad213cdfdd2c0ef5"
  },
  {
   "metadata": {},
   "cell_type": "markdown",
   "source": "### Access characters in a string",
   "id": "7764382301540a24"
  },
  {
   "metadata": {
    "ExecuteTime": {
     "end_time": "2025-02-17T06:41:04.620499Z",
     "start_time": "2025-02-17T06:41:04.616714Z"
    }
   },
   "cell_type": "code",
   "source": [
    "my_str = \"helloWorld\"\n",
    "\n",
    "print('my_str[0] = ', my_str[0])"
   ],
   "id": "db85a57a53467e17",
   "outputs": [
    {
     "name": "stdout",
     "output_type": "stream",
     "text": [
      "my_str[0] =  h\n"
     ]
    }
   ],
   "execution_count": 12
  },
  {
   "metadata": {
    "ExecuteTime": {
     "end_time": "2025-02-17T06:41:19.185192Z",
     "start_time": "2025-02-17T06:41:19.181209Z"
    }
   },
   "cell_type": "code",
   "source": "print('my_str[-1] = ', my_str[-1])",
   "id": "22adbaa8d18d993f",
   "outputs": [
    {
     "name": "stdout",
     "output_type": "stream",
     "text": [
      "my_str[-1] =  d\n"
     ]
    }
   ],
   "execution_count": 13
  },
  {
   "metadata": {
    "ExecuteTime": {
     "end_time": "2025-02-17T06:41:32.058972Z",
     "start_time": "2025-02-17T06:41:32.055791Z"
    }
   },
   "cell_type": "code",
   "source": "print('my_str[1:5] = ', my_str[1:5])",
   "id": "b71d5189c406fcf6",
   "outputs": [
    {
     "name": "stdout",
     "output_type": "stream",
     "text": [
      "my_str[1:5] =  ello\n"
     ]
    }
   ],
   "execution_count": 14
  },
  {
   "metadata": {},
   "cell_type": "code",
   "outputs": [],
   "execution_count": null,
   "source": "",
   "id": "cf3815fe374e996a"
  },
  {
   "metadata": {},
   "cell_type": "markdown",
   "source": [
    "### Change or delete a character in string? No!!!\n",
    "String are immutable. This means that elements of a string cannot be changed once they have been assigned.\n",
    "However, we can simply reassign different strings to the same name"
   ],
   "id": "5b2368c31cf4c4d8"
  },
  {
   "metadata": {
    "ExecuteTime": {
     "end_time": "2025-02-17T06:43:35.233186Z",
     "start_time": "2025-02-17T06:43:35.124113Z"
    }
   },
   "cell_type": "code",
   "source": [
    "my_string = \"HelloWorld\"\n",
    "my_string[5] = 'a'"
   ],
   "id": "c3a18478bc0ae631",
   "outputs": [
    {
     "ename": "TypeError",
     "evalue": "'str' object does not support item assignment",
     "output_type": "error",
     "traceback": [
      "\u001B[0;31m---------------------------------------------------------------------------\u001B[0m",
      "\u001B[0;31mTypeError\u001B[0m                                 Traceback (most recent call last)",
      "Cell \u001B[0;32mIn[15], line 2\u001B[0m\n\u001B[1;32m      1\u001B[0m my_string \u001B[38;5;241m=\u001B[39m \u001B[38;5;124m\"\u001B[39m\u001B[38;5;124mHelloWorld\u001B[39m\u001B[38;5;124m\"\u001B[39m\n\u001B[0;32m----> 2\u001B[0m \u001B[43mmy_string\u001B[49m\u001B[43m[\u001B[49m\u001B[38;5;241;43m5\u001B[39;49m\u001B[43m]\u001B[49m \u001B[38;5;241m=\u001B[39m \u001B[38;5;124m'\u001B[39m\u001B[38;5;124ma\u001B[39m\u001B[38;5;124m'\u001B[39m\n",
      "\u001B[0;31mTypeError\u001B[0m: 'str' object does not support item assignment"
     ]
    }
   ],
   "execution_count": 15
  },
  {
   "metadata": {
    "ExecuteTime": {
     "end_time": "2025-02-17T06:44:10.587988Z",
     "start_time": "2025-02-17T06:44:10.578711Z"
    }
   },
   "cell_type": "code",
   "source": [
    "my_string = 'Hello Python'\n",
    "print(my_string)"
   ],
   "id": "8db1cc2b669d300d",
   "outputs": [
    {
     "name": "stdout",
     "output_type": "stream",
     "text": [
      "Hello Python\n"
     ]
    }
   ],
   "execution_count": 16
  },
  {
   "metadata": {},
   "cell_type": "code",
   "outputs": [],
   "execution_count": null,
   "source": "",
   "id": "8a06eabef1d6bdab"
  },
  {
   "metadata": {},
   "cell_type": "markdown",
   "source": "## Python String join() method",
   "id": "7a84307f0812051b"
  },
  {
   "metadata": {
    "ExecuteTime": {
     "end_time": "2025-02-17T07:13:59.853493Z",
     "start_time": "2025-02-17T07:13:59.849955Z"
    }
   },
   "cell_type": "code",
   "source": [
    "numList = ['1', '2', '3', '4', '5']\n",
    "separator = ','\n",
    "print(separator.join(numList))"
   ],
   "id": "f718c6e9141e0c5a",
   "outputs": [
    {
     "name": "stdout",
     "output_type": "stream",
     "text": [
      "1,2,3,4,5\n"
     ]
    }
   ],
   "execution_count": 18
  },
  {
   "metadata": {},
   "cell_type": "markdown",
   "source": "### .join() with tuples",
   "id": "84845cc59a8c16e0"
  },
  {
   "metadata": {
    "ExecuteTime": {
     "end_time": "2025-02-17T07:14:41.108160Z",
     "start_time": "2025-02-17T07:14:41.099919Z"
    }
   },
   "cell_type": "code",
   "source": [
    "numTuple = ('1', '2', '3', '4', '5')\n",
    "print(separator.join(numTuple))"
   ],
   "id": "d47439fc6f7d7a15",
   "outputs": [
    {
     "name": "stdout",
     "output_type": "stream",
     "text": [
      "1,2,3,4,5\n"
     ]
    }
   ],
   "execution_count": 19
  },
  {
   "metadata": {},
   "cell_type": "markdown",
   "source": "### convert list to string",
   "id": "a3ec55d9e5d5eaa6"
  },
  {
   "metadata": {
    "ExecuteTime": {
     "end_time": "2025-02-17T07:15:05.465872Z",
     "start_time": "2025-02-17T07:15:05.460232Z"
    }
   },
   "cell_type": "code",
   "source": "print(''.join(numList))",
   "id": "eb82be3dbd6ac685",
   "outputs": [
    {
     "name": "stdout",
     "output_type": "stream",
     "text": [
      "12345\n"
     ]
    }
   ],
   "execution_count": 20
  },
  {
   "metadata": {},
   "cell_type": "markdown",
   "source": "",
   "id": "34ef073d010b35f9"
  },
  {
   "metadata": {},
   "cell_type": "markdown",
   "source": "### Word count of a file.",
   "id": "b5467f32c7f5a773"
  },
  {
   "metadata": {
    "ExecuteTime": {
     "end_time": "2025-02-17T07:23:38.356665Z",
     "start_time": "2025-02-17T07:23:38.346157Z"
    }
   },
   "cell_type": "code",
   "source": [
    "file = open(\"./files/data.txt\", \"r+\")\n",
    "word_count = {}"
   ],
   "id": "5a5c5d4d0b90e68e",
   "outputs": [],
   "execution_count": 21
  },
  {
   "metadata": {
    "ExecuteTime": {
     "end_time": "2025-02-17T07:24:27.399924Z",
     "start_time": "2025-02-17T07:24:27.389947Z"
    }
   },
   "cell_type": "code",
   "source": [
    "for word in file.read().split():\n",
    "    if word not in word_count:\n",
    "        word_count[word] = 1\n",
    "    else:\n",
    "        word_count[word] += 1\n",
    "\n",
    "for word, count in word_count.items():\n",
    "    print(word, count)"
   ],
   "id": "152bf327e637c82a",
   "outputs": [
    {
     "name": "stdout",
     "output_type": "stream",
     "text": [
      "Welcome 1\n",
      "to 1\n",
      "www.laioffer.com 1\n",
      "Here 1\n",
      "you 1\n",
      "will 1\n",
      "learn 1\n",
      "basic 1\n",
      "but 1\n",
      "useful 1\n",
      "python 1\n",
      "programming 1\n",
      "skills 1\n",
      "needed 1\n",
      "in 1\n",
      "your 1\n",
      "graudate 1\n",
      "school 1\n",
      "This 1\n",
      "is 1\n",
      "another 1\n",
      "line 1\n",
      "with 1\n",
      "some 1\n",
      "words 1\n"
     ]
    }
   ],
   "execution_count": 22
  },
  {
   "metadata": {},
   "cell_type": "code",
   "outputs": [],
   "execution_count": null,
   "source": "",
   "id": "fafcc117049a46b0"
  }
 ],
 "metadata": {
  "kernelspec": {
   "display_name": "Python 3",
   "language": "python",
   "name": "python3"
  },
  "language_info": {
   "codemirror_mode": {
    "name": "ipython",
    "version": 2
   },
   "file_extension": ".py",
   "mimetype": "text/x-python",
   "name": "python",
   "nbconvert_exporter": "python",
   "pygments_lexer": "ipython2",
   "version": "2.7.6"
  }
 },
 "nbformat": 4,
 "nbformat_minor": 5
}
