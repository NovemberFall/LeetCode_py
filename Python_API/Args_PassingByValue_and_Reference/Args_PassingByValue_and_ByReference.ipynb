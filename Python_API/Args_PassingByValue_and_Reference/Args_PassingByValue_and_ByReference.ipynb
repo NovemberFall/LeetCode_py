{
 "cells": [
  {
   "cell_type": "code",
   "execution_count": 1,
   "id": "initial_id",
   "metadata": {
    "collapsed": true,
    "ExecuteTime": {
     "end_time": "2023-09-28T23:07:01.641346Z",
     "start_time": "2023-09-28T23:07:01.638564Z"
    }
   },
   "outputs": [],
   "source": [
    "def print_student_details(name, age, gpa, enrolled):\n",
    "    print(\"Name:\", name)\n",
    "    print(\"Age:\", age)\n",
    "    print(\"GPA:\", gpa)\n",
    "    print(\"Enrolled:\", enrolled)"
   ]
  },
  {
   "cell_type": "code",
   "execution_count": 2,
   "outputs": [],
   "source": [
    "name = \"Hercule\"\n",
    "age = 23\n",
    "gpa = 4.0\n",
    "enrolled = True"
   ],
   "metadata": {
    "collapsed": false,
    "ExecuteTime": {
     "end_time": "2023-09-28T23:07:43.205298Z",
     "start_time": "2023-09-28T23:07:43.200461Z"
    }
   },
   "id": "9a3fb986756e3be"
  },
  {
   "cell_type": "code",
   "execution_count": 3,
   "outputs": [
    {
     "name": "stdout",
     "output_type": "stream",
     "text": [
      "Name: Hercule\n",
      "Age: 23\n",
      "GPA: 4.0\n",
      "Enrolled: True\n"
     ]
    }
   ],
   "source": [
    "print_student_details(name, age, gpa, enrolled)"
   ],
   "metadata": {
    "collapsed": false,
    "ExecuteTime": {
     "end_time": "2023-09-28T23:08:13.270136Z",
     "start_time": "2023-09-28T23:08:13.266806Z"
    }
   },
   "id": "8d6cea7e92c5cc13"
  },
  {
   "cell_type": "code",
   "execution_count": null,
   "outputs": [],
   "source": [],
   "metadata": {
    "collapsed": false
   },
   "id": "5fb7c14080b74ff3"
  }
 ],
 "metadata": {
  "kernelspec": {
   "display_name": "Python 3",
   "language": "python",
   "name": "python3"
  },
  "language_info": {
   "codemirror_mode": {
    "name": "ipython",
    "version": 2
   },
   "file_extension": ".py",
   "mimetype": "text/x-python",
   "name": "python",
   "nbconvert_exporter": "python",
   "pygments_lexer": "ipython2",
   "version": "2.7.6"
  }
 },
 "nbformat": 4,
 "nbformat_minor": 5
}
