{
 "cells": [
  {
   "cell_type": "markdown",
   "source": [
    "# pd.DataFrame()\n",
    "\n",
    "A function from the Pandas library that creates a DataFrame, which is a 2-dimensional labeled data structure \n",
    "similar to a table in a spreadsheet or a SQL database.\n",
    "\n",
    "\n",
    "# What is a DataFrame?\n",
    "\n",
    "- A **DataFrame** is one of the core data structures in Pandas.\n",
    "- It organizes data in rows and columns, making it easier to manipulate, analyze, and visualize data.\n",
    "- You can think of a DataFrame as a table where:\n",
    "    - **Rows** represent individual observations or records.\n",
    "    - **Columns** represent variables or features.\n",
    "\n",
    "\n",
    "# Purpose of pd.DataFrame()\n",
    "- The pd.DataFrame() function is used to create a DataFrame from various types of data sources, such as:\n",
    "    - Lists\n",
    "    - Dictionaries\n",
    "    - NumPy arrays\n",
    "    - Existing DataFrames or Series\n",
    "    - External files (e.g., CSV, Excel)"
   ],
   "metadata": {
    "collapsed": false
   },
   "id": "d979d27e103b8842"
  },
  {
   "cell_type": "code",
   "execution_count": 3,
   "id": "initial_id",
   "metadata": {
    "collapsed": true,
    "ExecuteTime": {
     "end_time": "2024-11-21T00:06:11.874682Z",
     "start_time": "2024-11-21T00:06:11.870299Z"
    }
   },
   "outputs": [
    {
     "name": "stdout",
     "output_type": "stream",
     "text": [
      "   0  1  2\n",
      "0  1  2  3\n",
      "1  4  5  6\n",
      "2  7  8  9\n",
      "\n",
      "[[1 2 3]\n",
      " [4 5 6]\n",
      " [7 8 9]]\n"
     ]
    }
   ],
   "source": [
    "import pandas as pd\n",
    "import numpy as np\n",
    "\n",
    "# Example DataFrame\n",
    "images = pd.DataFrame([[1, 2, 3], [4, 5, 6], [7, 8, 9]])\n",
    "\n",
    "print(images) \n",
    "print()\n",
    "print(images.values)\n"
   ]
  },
  {
   "cell_type": "markdown",
   "source": [
    "![images.values](img/values.png)"
   ],
   "metadata": {
    "collapsed": false
   },
   "id": "bffe42933b10fc64"
  },
  {
   "cell_type": "markdown",
   "source": [
    "# images.values[9,:]"
   ],
   "metadata": {
    "collapsed": false
   },
   "id": "6f1d17123797937d"
  },
  {
   "cell_type": "markdown",
   "source": [
    "![images.values_function](img/values_fn.png)"
   ],
   "metadata": {
    "collapsed": false
   },
   "id": "7593e4692f6b5034"
  },
  {
   "cell_type": "code",
   "execution_count": 1,
   "outputs": [
    {
     "name": "stdout",
     "output_type": "stream",
     "text": [
      "DataFrame:\n",
      "    A   B   C\n",
      "0  0  10  20\n",
      "1  1  11  21\n",
      "2  2  12  22\n",
      "3  3  13  23\n",
      "4  4  14  24\n",
      "5  5  15  25\n",
      "6  6  16  26\n",
      "7  7  17  27\n",
      "8  8  18  28\n",
      "9  9  19  29\n",
      "\n",
      "Row 9, all columns:\n",
      " [ 9 19 29]\n"
     ]
    }
   ],
   "source": [
    "import pandas as pd\n",
    "\n",
    "# Create a DataFrame\n",
    "data = pd.DataFrame({'A': range(10), 'B': range(10, 20), 'C': range(20, 30)})\n",
    "\n",
    "print(\"DataFrame:\\n\", data)\n",
    "print(\"\\nRow 9, all columns:\\n\", data.values[9, :])\n",
    "\n"
   ],
   "metadata": {
    "collapsed": false,
    "ExecuteTime": {
     "end_time": "2024-11-21T02:59:27.584752Z",
     "start_time": "2024-11-21T02:59:27.579257Z"
    }
   },
   "id": "c1c23a84c317c6ad"
  },
  {
   "cell_type": "markdown",
   "source": [
    "# Example 2: Access a Single Element\n",
    "If you use only`[row, col]` indexing instead of `[:]`:"
   ],
   "metadata": {
    "collapsed": false
   },
   "id": "28c6be776e49f8d4"
  },
  {
   "cell_type": "code",
   "execution_count": 3,
   "outputs": [
    {
     "name": "stdout",
     "output_type": "stream",
     "text": [
      "Value in row 9, column 1 (column 'B'): 19\n"
     ]
    }
   ],
   "source": [
    "print(\"Value in row 9, column 1 (column 'B'):\", data.values[9, 1])"
   ],
   "metadata": {
    "collapsed": false,
    "ExecuteTime": {
     "end_time": "2024-11-21T03:01:20.223257Z",
     "start_time": "2024-11-21T03:01:20.214319Z"
    }
   },
   "id": "87142729aebf060"
  },
  {
   "cell_type": "markdown",
   "source": [
    "# Example 3: Extract All Rows for a Column"
   ],
   "metadata": {
    "collapsed": false
   },
   "id": "3458b54f2568bdb0"
  },
  {
   "cell_type": "code",
   "execution_count": 4,
   "outputs": [
    {
     "name": "stdout",
     "output_type": "stream",
     "text": [
      "All rows, column 2 (column 'C'):\n",
      " [20 21 22 23 24 25 26 27 28 29]\n"
     ]
    }
   ],
   "source": [
    "print(\"All rows, column 2 (column 'C'):\\n\", data.values[:, 2])"
   ],
   "metadata": {
    "collapsed": false,
    "ExecuteTime": {
     "end_time": "2024-11-21T03:02:02.254609Z",
     "start_time": "2024-11-21T03:02:02.238088Z"
    }
   },
   "id": "e4cb1f3a2eef894f"
  },
  {
   "cell_type": "markdown",
   "source": [
    "# Example 4: Subset of Rows and Columns"
   ],
   "metadata": {
    "collapsed": false
   },
   "id": "a95e16f2e3a1b8d9"
  },
  {
   "cell_type": "code",
   "execution_count": 5,
   "outputs": [
    {
     "name": "stdout",
     "output_type": "stream",
     "text": [
      "Rows 5 to 9, columns 1 to 2:\n",
      " [[15 25]\n",
      " [16 26]\n",
      " [17 27]\n",
      " [18 28]\n",
      " [19 29]]\n"
     ]
    }
   ],
   "source": [
    "print(\"Rows 5 to 9, columns 1 to 2:\\n\", data.values[5:10, 1:3])"
   ],
   "metadata": {
    "collapsed": false,
    "ExecuteTime": {
     "end_time": "2024-11-21T03:02:31.394370Z",
     "start_time": "2024-11-21T03:02:31.378851Z"
    }
   },
   "id": "39660b350edd1517"
  },
  {
   "cell_type": "code",
   "execution_count": null,
   "outputs": [],
   "source": [],
   "metadata": {
    "collapsed": false
   },
   "id": "6bfbe0449dceb661"
  }
 ],
 "metadata": {
  "kernelspec": {
   "display_name": "Python 3",
   "language": "python",
   "name": "python3"
  },
  "language_info": {
   "codemirror_mode": {
    "name": "ipython",
    "version": 2
   },
   "file_extension": ".py",
   "mimetype": "text/x-python",
   "name": "python",
   "nbconvert_exporter": "python",
   "pygments_lexer": "ipython2",
   "version": "2.7.6"
  }
 },
 "nbformat": 4,
 "nbformat_minor": 5
}
