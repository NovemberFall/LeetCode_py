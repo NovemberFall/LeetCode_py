{
 "cells": [
  {
   "cell_type": "code",
   "id": "initial_id",
   "metadata": {
    "collapsed": true,
    "ExecuteTime": {
     "end_time": "2025-03-01T23:11:01.337042Z",
     "start_time": "2025-03-01T23:11:01.330364Z"
    }
   },
   "source": [
    "rows = 4\n",
    "cols = 5\n",
    "distances = [[0] * cols for _ in range(rows)]\n",
    "print(distances)"
   ],
   "outputs": [
    {
     "name": "stdout",
     "output_type": "stream",
     "text": [
      "[[0, 0, 0, 0, 0], [0, 0, 0, 0, 0], [0, 0, 0, 0, 0], [0, 0, 0, 0, 0]]\n"
     ]
    }
   ],
   "execution_count": 2
  },
  {
   "metadata": {
    "ExecuteTime": {
     "end_time": "2025-03-01T23:11:24.582502Z",
     "start_time": "2025-03-01T23:11:24.580192Z"
    }
   },
   "cell_type": "code",
   "source": [
    "rows, cols = 3, 4\n",
    "matrix = []\n",
    "for _ in range(rows):\n",
    "    matrix.append([1] * cols)\n",
    "\n",
    "print(matrix)"
   ],
   "id": "f65b9ab1096f90e4",
   "outputs": [
    {
     "name": "stdout",
     "output_type": "stream",
     "text": [
      "[[1, 1, 1, 1], [1, 1, 1, 1], [1, 1, 1, 1]]\n"
     ]
    }
   ],
   "execution_count": 4
  },
  {
   "metadata": {},
   "cell_type": "code",
   "outputs": [],
   "execution_count": null,
   "source": "",
   "id": "a2f14e1a113a2627"
  },
  {
   "metadata": {},
   "cell_type": "markdown",
   "source": [
    "## How to convert 2d array to 1d arry\n",
    "\n",
    "### We can visualize the loop structure in normal for loops:\n",
    "\n",
    "```py\n",
    "flattened = []\n",
    "for row in matrix:     # First loop iterates over rows (sub-lists)\n",
    "    for num in row:    # Second loop iterates over elements in each row\n",
    "        flattened.append(num)\n",
    "\n",
    "```\n"
   ],
   "id": "a5114bf66f4648d9"
  },
  {
   "metadata": {
    "ExecuteTime": {
     "end_time": "2025-03-01T23:18:06.521154Z",
     "start_time": "2025-03-01T23:18:06.513975Z"
    }
   },
   "cell_type": "code",
   "source": [
    "matrix = [[1, 2, 3], [4, 5, 6], [7, 8, 9]]\n",
    "flattened = [num for row in matrix for num in row]\n",
    "print(flattened)  # Output: [1, 2, 3, 4, 5, 6, 7, 8, 9]\n"
   ],
   "id": "83af3eaad8a138ea",
   "outputs": [
    {
     "name": "stdout",
     "output_type": "stream",
     "text": [
      "[1, 2, 3, 4, 5, 6, 7, 8, 9]\n"
     ]
    }
   ],
   "execution_count": 6
  },
  {
   "metadata": {
    "ExecuteTime": {
     "end_time": "2025-03-01T23:18:21.466385Z",
     "start_time": "2025-03-01T23:18:21.463204Z"
    }
   },
   "cell_type": "code",
   "source": [
    "matrix = [[1, 2, 3], [4, 5, 6], [7, 8, 9]]\n",
    "flattened = [num for _ in matrix for num in _]\n",
    "print(flattened)  # Output: [1, 2, 3, 4, 5, 6, 7, 8, 9]"
   ],
   "id": "bcff2219d9f18dd6",
   "outputs": [
    {
     "name": "stdout",
     "output_type": "stream",
     "text": [
      "[1, 2, 3, 4, 5, 6, 7, 8, 9]\n"
     ]
    }
   ],
   "execution_count": 7
  },
  {
   "metadata": {},
   "cell_type": "code",
   "outputs": [],
   "execution_count": null,
   "source": "",
   "id": "c7c0c6d0fa45dc73"
  }
 ],
 "metadata": {
  "kernelspec": {
   "display_name": "Python 3",
   "language": "python",
   "name": "python3"
  },
  "language_info": {
   "codemirror_mode": {
    "name": "ipython",
    "version": 2
   },
   "file_extension": ".py",
   "mimetype": "text/x-python",
   "name": "python",
   "nbconvert_exporter": "python",
   "pygments_lexer": "ipython2",
   "version": "2.7.6"
  }
 },
 "nbformat": 4,
 "nbformat_minor": 5
}
