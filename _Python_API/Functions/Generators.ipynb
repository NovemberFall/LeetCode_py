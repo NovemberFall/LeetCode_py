{
 "cells": [
  {
   "cell_type": "markdown",
   "source": [
    "#### Generator is a function which gives you an iterator."
   ],
   "metadata": {
    "collapsed": false
   },
   "id": "cedf878b96293694"
  },
  {
   "cell_type": "code",
   "execution_count": 1,
   "outputs": [],
   "source": [
    "def myGenerator():\n",
    "    print('First item')\n",
    "    yield 10\n",
    "    \n",
    "    print('Second item')\n",
    "    yield 20\n",
    "    \n",
    "    print('Last item')\n",
    "    yield 30"
   ],
   "metadata": {
    "collapsed": false,
    "ExecuteTime": {
     "end_time": "2023-10-03T19:54:51.381708Z",
     "start_time": "2023-10-03T19:54:51.378765Z"
    }
   },
   "id": "85f937823353e30f"
  },
  {
   "cell_type": "code",
   "execution_count": 2,
   "outputs": [
    {
     "data": {
      "text/plain": "<generator object myGenerator at 0x103e6cf40>"
     },
     "execution_count": 2,
     "metadata": {},
     "output_type": "execute_result"
    }
   ],
   "source": [
    "gen = myGenerator()\n",
    "gen"
   ],
   "metadata": {
    "collapsed": false,
    "ExecuteTime": {
     "end_time": "2023-10-03T19:55:05.412243Z",
     "start_time": "2023-10-03T19:55:05.399538Z"
    }
   },
   "id": "9b79ca4d963317dd"
  },
  {
   "cell_type": "code",
   "execution_count": 3,
   "outputs": [
    {
     "name": "stdout",
     "output_type": "stream",
     "text": [
      "First item\n"
     ]
    },
    {
     "data": {
      "text/plain": "10"
     },
     "execution_count": 3,
     "metadata": {},
     "output_type": "execute_result"
    }
   ],
   "source": [
    "next(gen)"
   ],
   "metadata": {
    "collapsed": false,
    "ExecuteTime": {
     "end_time": "2023-10-03T19:56:44.145997Z",
     "start_time": "2023-10-03T19:56:44.137836Z"
    }
   },
   "id": "e73717cf4ddadfb2"
  },
  {
   "cell_type": "code",
   "execution_count": 4,
   "outputs": [
    {
     "name": "stdout",
     "output_type": "stream",
     "text": [
      "Second item\n"
     ]
    },
    {
     "data": {
      "text/plain": "20"
     },
     "execution_count": 4,
     "metadata": {},
     "output_type": "execute_result"
    }
   ],
   "source": [
    "next(gen)"
   ],
   "metadata": {
    "collapsed": false,
    "ExecuteTime": {
     "end_time": "2023-10-03T19:56:55.583404Z",
     "start_time": "2023-10-03T19:56:55.570138Z"
    }
   },
   "id": "aaa5c079193b3fa6"
  },
  {
   "cell_type": "code",
   "execution_count": 5,
   "outputs": [
    {
     "name": "stdout",
     "output_type": "stream",
     "text": [
      "Last item\n"
     ]
    },
    {
     "data": {
      "text/plain": "30"
     },
     "execution_count": 5,
     "metadata": {},
     "output_type": "execute_result"
    }
   ],
   "source": [
    "next(gen)"
   ],
   "metadata": {
    "collapsed": false,
    "ExecuteTime": {
     "end_time": "2023-10-03T19:57:00.935717Z",
     "start_time": "2023-10-03T19:57:00.922588Z"
    }
   },
   "id": "3543329af6729cc5"
  },
  {
   "cell_type": "code",
   "execution_count": 6,
   "outputs": [
    {
     "ename": "StopIteration",
     "evalue": "",
     "output_type": "error",
     "traceback": [
      "\u001B[0;31m---------------------------------------------------------------------------\u001B[0m",
      "\u001B[0;31mStopIteration\u001B[0m                             Traceback (most recent call last)",
      "Cell \u001B[0;32mIn[6], line 1\u001B[0m\n\u001B[0;32m----> 1\u001B[0m \u001B[38;5;28;43mnext\u001B[39;49m\u001B[43m(\u001B[49m\u001B[43mgen\u001B[49m\u001B[43m)\u001B[49m\n",
      "\u001B[0;31mStopIteration\u001B[0m: "
     ]
    }
   ],
   "source": [
    "next(gen)"
   ],
   "metadata": {
    "collapsed": false,
    "ExecuteTime": {
     "end_time": "2023-10-03T19:57:08.739760Z",
     "start_time": "2023-10-03T19:57:08.580827Z"
    }
   },
   "id": "fea97e6a5c80fee3"
  },
  {
   "cell_type": "code",
   "execution_count": 6,
   "outputs": [],
   "source": [],
   "metadata": {
    "collapsed": false,
    "ExecuteTime": {
     "end_time": "2023-10-03T19:58:02.809441Z",
     "start_time": "2023-10-03T19:58:02.804148Z"
    }
   },
   "id": "5cd8d1c731d66669"
  },
  {
   "cell_type": "code",
   "execution_count": 7,
   "outputs": [],
   "source": [
    "def generate_sequence():\n",
    "    n = 1\n",
    "    yield n\n",
    "    \n",
    "    n = n + 2\n",
    "    yield n\n",
    "    \n",
    "    n = n + 3\n",
    "    yield n"
   ],
   "metadata": {
    "collapsed": false,
    "ExecuteTime": {
     "end_time": "2023-10-03T19:58:42.660159Z",
     "start_time": "2023-10-03T19:58:42.654599Z"
    }
   },
   "id": "6d0b39e2a3bb76a8"
  },
  {
   "cell_type": "code",
   "execution_count": 9,
   "outputs": [
    {
     "data": {
      "text/plain": "<generator object generate_sequence at 0x103e6fd00>"
     },
     "execution_count": 9,
     "metadata": {},
     "output_type": "execute_result"
    }
   ],
   "source": [
    "gen_seq = generate_sequence()\n",
    "\n",
    "gen_seq"
   ],
   "metadata": {
    "collapsed": false,
    "ExecuteTime": {
     "end_time": "2023-10-03T19:59:02.053479Z",
     "start_time": "2023-10-03T19:59:02.045558Z"
    }
   },
   "id": "509952e2a7de1999"
  },
  {
   "cell_type": "code",
   "execution_count": 10,
   "outputs": [
    {
     "data": {
      "text/plain": "1"
     },
     "execution_count": 10,
     "metadata": {},
     "output_type": "execute_result"
    }
   ],
   "source": [
    "next(gen_seq)"
   ],
   "metadata": {
    "collapsed": false,
    "ExecuteTime": {
     "end_time": "2023-10-03T19:59:15.004932Z",
     "start_time": "2023-10-03T19:59:14.998771Z"
    }
   },
   "id": "85836f6cf5b2eca7"
  },
  {
   "cell_type": "code",
   "execution_count": 11,
   "outputs": [
    {
     "data": {
      "text/plain": "3"
     },
     "execution_count": 11,
     "metadata": {},
     "output_type": "execute_result"
    }
   ],
   "source": [
    "next(gen_seq)"
   ],
   "metadata": {
    "collapsed": false,
    "ExecuteTime": {
     "end_time": "2023-10-03T19:59:16.170398Z",
     "start_time": "2023-10-03T19:59:16.164050Z"
    }
   },
   "id": "b1aed6b5baf0b788"
  },
  {
   "cell_type": "code",
   "execution_count": 12,
   "outputs": [
    {
     "data": {
      "text/plain": "6"
     },
     "execution_count": 12,
     "metadata": {},
     "output_type": "execute_result"
    }
   ],
   "source": [
    "next(gen_seq)"
   ],
   "metadata": {
    "collapsed": false,
    "ExecuteTime": {
     "end_time": "2023-10-03T19:59:17.570825Z",
     "start_time": "2023-10-03T19:59:17.564387Z"
    }
   },
   "id": "2786269c9691890b"
  },
  {
   "cell_type": "code",
   "execution_count": 12,
   "outputs": [],
   "source": [],
   "metadata": {
    "collapsed": false,
    "ExecuteTime": {
     "end_time": "2023-10-03T19:59:35.012075Z",
     "start_time": "2023-10-03T19:59:35.005341Z"
    }
   },
   "id": "cd0be6bc4a92422f"
  },
  {
   "cell_type": "markdown",
   "source": [
    "#### iLlustrating the Use of the Yield Keyword in Python"
   ],
   "metadata": {
    "collapsed": false
   },
   "id": "5b69569df19b3268"
  },
  {
   "cell_type": "code",
   "execution_count": 13,
   "outputs": [],
   "source": [
    "def generate_cubes():\n",
    "    for n in range(10):\n",
    "        yield n ** 3"
   ],
   "metadata": {
    "collapsed": false,
    "ExecuteTime": {
     "end_time": "2023-10-03T20:00:26.981886Z",
     "start_time": "2023-10-03T20:00:26.974721Z"
    }
   },
   "id": "ae197026173e8f5a"
  },
  {
   "cell_type": "code",
   "execution_count": 14,
   "outputs": [
    {
     "data": {
      "text/plain": "<generator object generate_cubes at 0x104381630>"
     },
     "execution_count": 14,
     "metadata": {},
     "output_type": "execute_result"
    }
   ],
   "source": [
    "gen_cube = generate_cubes()\n",
    "\n",
    "gen_cube"
   ],
   "metadata": {
    "collapsed": false,
    "ExecuteTime": {
     "end_time": "2023-10-03T20:00:40.675420Z",
     "start_time": "2023-10-03T20:00:40.668214Z"
    }
   },
   "id": "6d2808fd78554efe"
  },
  {
   "cell_type": "code",
   "execution_count": 15,
   "outputs": [
    {
     "data": {
      "text/plain": "[0, 1, 8, 27, 64, 125, 216, 343, 512, 729]"
     },
     "execution_count": 15,
     "metadata": {},
     "output_type": "execute_result"
    }
   ],
   "source": [
    "cubes_list = list(gen_cube)\n",
    "\n",
    "cubes_list"
   ],
   "metadata": {
    "collapsed": false,
    "ExecuteTime": {
     "end_time": "2023-10-03T20:00:54.213086Z",
     "start_time": "2023-10-03T20:00:54.205503Z"
    }
   },
   "id": "35ce728c39001930"
  },
  {
   "cell_type": "code",
   "execution_count": 16,
   "outputs": [
    {
     "data": {
      "text/plain": "[]"
     },
     "execution_count": 16,
     "metadata": {},
     "output_type": "execute_result"
    }
   ],
   "source": [
    "another_cubes_list = list(gen_cube)\n",
    "another_cubes_list"
   ],
   "metadata": {
    "collapsed": false,
    "ExecuteTime": {
     "end_time": "2023-10-03T20:01:57.538446Z",
     "start_time": "2023-10-03T20:01:57.529266Z"
    }
   },
   "id": "bb8a3f219bbfb8e5"
  },
  {
   "cell_type": "code",
   "execution_count": 17,
   "outputs": [
    {
     "data": {
      "text/plain": "(0, 1, 8, 27, 64, 125, 216, 343, 512, 729)"
     },
     "execution_count": 17,
     "metadata": {},
     "output_type": "execute_result"
    }
   ],
   "source": [
    "gen = generate_cubes()\n",
    "\n",
    "cubes_tuple = tuple(gen)\n",
    "\n",
    "cubes_tuple"
   ],
   "metadata": {
    "collapsed": false,
    "ExecuteTime": {
     "end_time": "2023-10-03T20:03:03.506647Z",
     "start_time": "2023-10-03T20:03:03.498515Z"
    }
   },
   "id": "c0710e925938ddc9"
  },
  {
   "cell_type": "code",
   "execution_count": null,
   "outputs": [],
   "source": [],
   "metadata": {
    "collapsed": false
   },
   "id": "b06c06c2f2cf4318"
  }
 ],
 "metadata": {
  "kernelspec": {
   "display_name": "Python 3",
   "language": "python",
   "name": "python3"
  },
  "language_info": {
   "codemirror_mode": {
    "name": "ipython",
    "version": 2
   },
   "file_extension": ".py",
   "mimetype": "text/x-python",
   "name": "python",
   "nbconvert_exporter": "python",
   "pygments_lexer": "ipython2",
   "version": "2.7.6"
  }
 },
 "nbformat": 4,
 "nbformat_minor": 5
}
