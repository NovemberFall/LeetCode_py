{
 "cells": [
  {
   "cell_type": "markdown",
   "metadata": {},
   "source": [
    "We have installed required modules for the course"
   ]
  },
  {
   "cell_type": "code",
   "execution_count": 7,
   "metadata": {
    "ExecuteTime": {
     "end_time": "2023-10-03T23:38:38.018340Z",
     "start_time": "2023-10-03T23:38:31.845377Z"
    }
   },
   "outputs": [
    {
     "name": "stdout",
     "output_type": "stream",
     "text": [
      "\u001B[33mDEPRECATION: Python 2.7 reached the end of its life on January 1st, 2020. Please upgrade your Python as Python 2.7 is no longer maintained. pip 21.0 will drop support for Python 2.7 in January 2021. More details about Python 2 support in pip can be found at https://pip.pypa.io/en/latest/development/release-process/#python-2-support pip 21.0 will remove support for this functionality.\u001B[0m\r\n",
      "Requirement already up-to-date: pandas in /usr/local/lib/python2.7/site-packages (0.24.2)\r\n",
      "Requirement already satisfied, skipping upgrade: numpy>=1.12.0 in /usr/local/lib/python2.7/site-packages (from pandas) (1.16.6)\r\n",
      "Requirement already satisfied, skipping upgrade: pytz>=2011k in /usr/local/lib/python2.7/site-packages (from pandas) (2021.1)\r\n",
      "Requirement already satisfied, skipping upgrade: python-dateutil>=2.5.0 in /usr/local/lib/python2.7/site-packages (from pandas) (2.8.1)\r\n",
      "Requirement already satisfied, skipping upgrade: six>=1.5 in /usr/local/lib/python2.7/site-packages (from python-dateutil>=2.5.0->pandas) (1.15.0)\r\n",
      "\u001B[33mDEPRECATION: Python 2.7 reached the end of its life on January 1st, 2020. Please upgrade your Python as Python 2.7 is no longer maintained. pip 21.0 will drop support for Python 2.7 in January 2021. More details about Python 2 support in pip can be found at https://pip.pypa.io/en/latest/development/release-process/#python-2-support pip 21.0 will remove support for this functionality.\u001B[0m\r\n",
      "Collecting matplotlib\r\n",
      "  Using cached matplotlib-2.2.5-cp27-cp27m-macosx_10_9_x86_64.whl (12.9 MB)\r\n",
      "Requirement already satisfied, skipping upgrade: numpy>=1.7.1 in /usr/local/lib/python2.7/site-packages (from matplotlib) (1.16.6)\r\n",
      "Requirement already satisfied, skipping upgrade: six>=1.10 in /usr/local/lib/python2.7/site-packages (from matplotlib) (1.15.0)\r\n",
      "Requirement already satisfied, skipping upgrade: pytz in /usr/local/lib/python2.7/site-packages (from matplotlib) (2021.1)\r\n",
      "Requirement already satisfied, skipping upgrade: python-dateutil>=2.1 in /usr/local/lib/python2.7/site-packages (from matplotlib) (2.8.1)\r\n",
      "Requirement already satisfied, skipping upgrade: backports.functools-lru-cache in /usr/local/lib/python2.7/site-packages (from matplotlib) (1.6.6)\r\n",
      "Requirement already satisfied, skipping upgrade: cycler>=0.10 in /usr/local/lib/python2.7/site-packages (from matplotlib) (0.10.0)\r\n",
      "Requirement already satisfied, skipping upgrade: kiwisolver>=1.0.1 in /usr/local/lib/python2.7/site-packages (from matplotlib) (1.1.0)\r\n",
      "Requirement already satisfied, skipping upgrade: subprocess32 in /usr/local/lib/python2.7/site-packages (from matplotlib) (3.5.4)\r\n",
      "Requirement already satisfied, skipping upgrade: pyparsing!=2.0.4,!=2.1.2,!=2.1.6,>=2.0.1 in /usr/local/lib/python2.7/site-packages (from matplotlib) (2.4.7)\r\n",
      "Requirement already satisfied, skipping upgrade: setuptools in /usr/local/lib/python2.7/site-packages (from kiwisolver>=1.0.1->matplotlib) (44.1.1)\r\n",
      "Installing collected packages: matplotlib\r\n",
      "Successfully installed matplotlib-2.2.5\r\n",
      "\u001B[33mDEPRECATION: Python 2.7 reached the end of its life on January 1st, 2020. Please upgrade your Python as Python 2.7 is no longer maintained. pip 21.0 will drop support for Python 2.7 in January 2021. More details about Python 2 support in pip can be found at https://pip.pypa.io/en/latest/development/release-process/#python-2-support pip 21.0 will remove support for this functionality.\u001B[0m\r\n",
      "Requirement already up-to-date: seaborn in /usr/local/lib/python2.7/site-packages (0.9.1)\r\n",
      "Requirement already satisfied, skipping upgrade: scipy>=0.17.1 in /usr/local/lib/python2.7/site-packages (from seaborn) (1.2.3)\r\n",
      "Requirement already satisfied, skipping upgrade: pandas>=0.17.1 in /usr/local/lib/python2.7/site-packages (from seaborn) (0.24.2)\r\n",
      "Requirement already satisfied, skipping upgrade: matplotlib>=1.5.3 in /usr/local/lib/python2.7/site-packages (from seaborn) (2.2.5)\r\n",
      "Requirement already satisfied, skipping upgrade: numpy>=1.10.4 in /usr/local/lib/python2.7/site-packages (from seaborn) (1.16.6)\r\n",
      "Requirement already satisfied, skipping upgrade: pytz>=2011k in /usr/local/lib/python2.7/site-packages (from pandas>=0.17.1->seaborn) (2021.1)\r\n",
      "Requirement already satisfied, skipping upgrade: python-dateutil>=2.5.0 in /usr/local/lib/python2.7/site-packages (from pandas>=0.17.1->seaborn) (2.8.1)\r\n",
      "Requirement already satisfied, skipping upgrade: backports.functools-lru-cache in /usr/local/lib/python2.7/site-packages (from matplotlib>=1.5.3->seaborn) (1.6.6)\r\n",
      "Requirement already satisfied, skipping upgrade: six>=1.10 in /usr/local/lib/python2.7/site-packages (from matplotlib>=1.5.3->seaborn) (1.15.0)\r\n",
      "Requirement already satisfied, skipping upgrade: cycler>=0.10 in /usr/local/lib/python2.7/site-packages (from matplotlib>=1.5.3->seaborn) (0.10.0)\r\n",
      "Requirement already satisfied, skipping upgrade: kiwisolver>=1.0.1 in /usr/local/lib/python2.7/site-packages (from matplotlib>=1.5.3->seaborn) (1.1.0)\r\n",
      "Requirement already satisfied, skipping upgrade: subprocess32 in /usr/local/lib/python2.7/site-packages (from matplotlib>=1.5.3->seaborn) (3.5.4)\r\n",
      "Requirement already satisfied, skipping upgrade: pyparsing!=2.0.4,!=2.1.2,!=2.1.6,>=2.0.1 in /usr/local/lib/python2.7/site-packages (from matplotlib>=1.5.3->seaborn) (2.4.7)\r\n",
      "Requirement already satisfied, skipping upgrade: setuptools in /usr/local/lib/python2.7/site-packages (from kiwisolver>=1.0.1->matplotlib>=1.5.3->seaborn) (44.1.1)\r\n"
     ]
    }
   ],
   "source": [
    "!pip install pandas -U\n",
    "\n",
    "!pip install matplotlib -U\n",
    "\n",
    "!pip install seaborn -U"
   ]
  },
  {
   "cell_type": "markdown",
   "metadata": {},
   "source": [
    "Importing the modules required for the course"
   ]
  },
  {
   "cell_type": "code",
   "execution_count": 12,
   "metadata": {
    "ExecuteTime": {
     "end_time": "2023-10-03T23:40:57.962815Z",
     "start_time": "2023-10-03T23:40:57.878244Z"
    }
   },
   "outputs": [],
   "source": [
    "import pandas as pd\n",
    "\n",
    "import matplotlib.pyplot as plt\n",
    "\n",
    "import seaborn as sns"
   ]
  },
  {
   "cell_type": "markdown",
   "metadata": {},
   "source": [
    "Python version check"
   ]
  },
  {
   "cell_type": "code",
   "execution_count": 13,
   "metadata": {
    "ExecuteTime": {
     "end_time": "2023-10-03T23:41:22.035107Z",
     "start_time": "2023-10-03T23:41:21.897616Z"
    }
   },
   "outputs": [
    {
     "name": "stdout",
     "output_type": "stream",
     "text": [
      "Python 3.11.5\r\n"
     ]
    }
   ],
   "source": [
    "!python3 --version"
   ]
  },
  {
   "cell_type": "markdown",
   "metadata": {},
   "source": [
    "Pandas version check"
   ]
  },
  {
   "cell_type": "code",
   "execution_count": 14,
   "metadata": {
    "ExecuteTime": {
     "end_time": "2023-10-03T23:41:31.756632Z",
     "start_time": "2023-10-03T23:41:31.746951Z"
    }
   },
   "outputs": [
    {
     "data": {
      "text/plain": "'2.1.1'"
     },
     "execution_count": 14,
     "metadata": {},
     "output_type": "execute_result"
    }
   ],
   "source": [
    "pd.__version__"
   ]
  },
  {
   "cell_type": "markdown",
   "metadata": {},
   "source": [
    "Matplotlib version check"
   ]
  },
  {
   "cell_type": "code",
   "execution_count": 15,
   "metadata": {
    "ExecuteTime": {
     "end_time": "2023-10-03T23:41:39.745021Z",
     "start_time": "2023-10-03T23:41:39.735193Z"
    }
   },
   "outputs": [
    {
     "data": {
      "text/plain": "'3.8.0'"
     },
     "execution_count": 15,
     "metadata": {},
     "output_type": "execute_result"
    }
   ],
   "source": [
    "import matplotlib\n",
    "\n",
    "matplotlib.__version__"
   ]
  },
  {
   "cell_type": "markdown",
   "metadata": {},
   "source": [
    "Seaborn version check"
   ]
  },
  {
   "cell_type": "code",
   "execution_count": 16,
   "metadata": {
    "ExecuteTime": {
     "end_time": "2023-10-03T23:41:51.785674Z",
     "start_time": "2023-10-03T23:41:51.779289Z"
    }
   },
   "outputs": [
    {
     "data": {
      "text/plain": "'0.13.0'"
     },
     "execution_count": 16,
     "metadata": {},
     "output_type": "execute_result"
    }
   ],
   "source": [
    "sns.__version__"
   ]
  },
  {
   "cell_type": "code",
   "execution_count": null,
   "metadata": {},
   "outputs": [],
   "source": []
  }
 ],
 "metadata": {
  "kernelspec": {
   "display_name": "Python 3",
   "language": "python",
   "name": "python3"
  },
  "language_info": {
   "codemirror_mode": {
    "name": "ipython",
    "version": 3
   },
   "file_extension": ".py",
   "mimetype": "text/x-python",
   "name": "python",
   "nbconvert_exporter": "python",
   "pygments_lexer": "ipython3",
   "version": "3.7.4"
  }
 },
 "nbformat": 4,
 "nbformat_minor": 4
}
