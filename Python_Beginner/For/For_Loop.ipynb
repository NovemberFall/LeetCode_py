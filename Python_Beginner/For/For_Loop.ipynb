{
 "cells": [
  {
   "cell_type": "code",
   "execution_count": 1,
   "id": "initial_id",
   "metadata": {
    "collapsed": true,
    "ExecuteTime": {
     "end_time": "2023-09-28T16:16:11.885226Z",
     "start_time": "2023-09-28T16:16:11.881962Z"
    }
   },
   "outputs": [
    {
     "name": "stdout",
     "output_type": "stream",
     "text": [
      "W\n",
      "e\n",
      "l\n",
      "c\n",
      "o\n",
      "m\n",
      "e\n"
     ]
    }
   ],
   "source": [
    "for letter in ['W', 'e', 'l', 'c', 'o', 'm', 'e']:\n",
    "    print(letter)"
   ]
  },
  {
   "cell_type": "code",
   "execution_count": 2,
   "outputs": [
    {
     "name": "stdout",
     "output_type": "stream",
     "text": [
      "W\n",
      "e\n",
      "l\n",
      "c\n",
      "o\n",
      "m\n",
      "e\n",
      " \n",
      "t\n",
      "o\n",
      " \n",
      "N\n",
      "e\n",
      "w\n",
      " \n",
      "Y\n",
      "o\n",
      "r\n",
      "k\n"
     ]
    }
   ],
   "source": [
    "string = \"Welcome to New York\"\n",
    "for char in string:\n",
    "    print(char)"
   ],
   "metadata": {
    "collapsed": false,
    "ExecuteTime": {
     "end_time": "2023-09-28T16:16:52.170001Z",
     "start_time": "2023-09-28T16:16:52.159622Z"
    }
   },
   "id": "f9b556589ba7405e"
  },
  {
   "cell_type": "code",
   "execution_count": 4,
   "outputs": [
    {
     "name": "stdout",
     "output_type": "stream",
     "text": [
      "2\n",
      "0\n"
     ]
    }
   ],
   "source": [
    "for digit in \"20\":\n",
    "    print(digit)"
   ],
   "metadata": {
    "collapsed": false,
    "ExecuteTime": {
     "end_time": "2023-09-28T16:17:51.158033Z",
     "start_time": "2023-09-28T16:17:51.152104Z"
    }
   },
   "id": "22c252b13d71c6da"
  },
  {
   "cell_type": "code",
   "execution_count": 5,
   "outputs": [
    {
     "name": "stdout",
     "output_type": "stream",
     "text": [
      "Google\n",
      "Microsoft\n",
      "Amazon\n",
      "Skillsoft\n",
      "Apple\n"
     ]
    }
   ],
   "source": [
    "for com in \"Google\", \"Microsoft\", \"Amazon\", \"Skillsoft\", \"Apple\":\n",
    "    print(com)"
   ],
   "metadata": {
    "collapsed": false,
    "ExecuteTime": {
     "end_time": "2023-09-28T16:19:00.026236Z",
     "start_time": "2023-09-28T16:19:00.018253Z"
    }
   },
   "id": "109396f0b9c0e9c8"
  },
  {
   "cell_type": "code",
   "execution_count": 7,
   "outputs": [
    {
     "name": "stdout",
     "output_type": "stream",
     "text": [
      "Cat is Snowshoe and it weighs 15 pounds\n",
      "Cat is Siamese and it weighs 20 pounds\n",
      "Cat is Persian and it weighs 12 pounds\n"
     ]
    }
   ],
   "source": [
    "cat_weight = [(\"Snowshoe\", 15),\n",
    "              (\"Siamese\", 20),\n",
    "              (\"Persian\", 12)]\n",
    "\n",
    "for cat, weight in cat_weight:\n",
    "    print(\"Cat is %s and it weighs %s pounds\" % (cat, weight))"
   ],
   "metadata": {
    "collapsed": false,
    "ExecuteTime": {
     "end_time": "2023-09-28T16:21:19.078058Z",
     "start_time": "2023-09-28T16:21:19.071883Z"
    }
   },
   "id": "a3aee746a5fa2c50"
  },
  {
   "cell_type": "code",
   "execution_count": 8,
   "outputs": [
    {
     "name": "stdout",
     "output_type": "stream",
     "text": [
      "Cat at index 0 is Snowshoe and it weighs 15 pounds\n",
      "Cat at index 1 is Siamese and it weighs 20 pounds\n",
      "Cat at index 2 is Persian and it weighs 12 pounds\n"
     ]
    }
   ],
   "source": [
    "for i, (cat, weight) in enumerate(cat_weight):\n",
    "    print(\"Cat at index %d is %s and it weighs %s pounds\" % (i, cat, weight))"
   ],
   "metadata": {
    "collapsed": false,
    "ExecuteTime": {
     "end_time": "2023-09-28T16:24:30.005921Z",
     "start_time": "2023-09-28T16:24:29.988952Z"
    }
   },
   "id": "4063ea535e9eec61"
  },
  {
   "cell_type": "code",
   "execution_count": 9,
   "outputs": [
    {
     "data": {
      "text/plain": "range(0, 20)"
     },
     "execution_count": 9,
     "metadata": {},
     "output_type": "execute_result"
    }
   ],
   "source": [
    "some_range = range(20)\n",
    "some_range"
   ],
   "metadata": {
    "collapsed": false,
    "ExecuteTime": {
     "end_time": "2023-09-28T16:42:47.609348Z",
     "start_time": "2023-09-28T16:42:47.599915Z"
    }
   },
   "id": "89bd7289ef8640d4"
  },
  {
   "cell_type": "code",
   "execution_count": 10,
   "outputs": [
    {
     "data": {
      "text/plain": "(0, 1, 2, 3, 4, 5, 6, 7, 8, 9, 10, 11, 12, 13, 14, 15, 16, 17, 18, 19)"
     },
     "execution_count": 10,
     "metadata": {},
     "output_type": "execute_result"
    }
   ],
   "source": [
    "tuple(some_range)"
   ],
   "metadata": {
    "collapsed": false,
    "ExecuteTime": {
     "end_time": "2023-09-28T16:43:00.669568Z",
     "start_time": "2023-09-28T16:43:00.654844Z"
    }
   },
   "id": "8495c52a963aeecf"
  },
  {
   "cell_type": "code",
   "execution_count": 11,
   "outputs": [
    {
     "data": {
      "text/plain": "[0, 1, 2, 3, 4, 5, 6, 7, 8, 9, 10, 11, 12, 13, 14, 15, 16, 17, 18, 19]"
     },
     "execution_count": 11,
     "metadata": {},
     "output_type": "execute_result"
    }
   ],
   "source": [
    "list(some_range)"
   ],
   "metadata": {
    "collapsed": false,
    "ExecuteTime": {
     "end_time": "2023-09-28T16:43:11.142409Z",
     "start_time": "2023-09-28T16:43:11.129131Z"
    }
   },
   "id": "866ca8fa69ec04b6"
  },
  {
   "cell_type": "code",
   "execution_count": 12,
   "outputs": [
    {
     "data": {
      "text/plain": "[-5, -4, -3, -2, -1, 0, 1, 2, 3, 4]"
     },
     "execution_count": 12,
     "metadata": {},
     "output_type": "execute_result"
    }
   ],
   "source": [
    "list(range(-5,+5))"
   ],
   "metadata": {
    "collapsed": false,
    "ExecuteTime": {
     "end_time": "2023-09-28T16:43:27.165203Z",
     "start_time": "2023-09-28T16:43:27.152073Z"
    }
   },
   "id": "88236d8022f13fa6"
  },
  {
   "cell_type": "code",
   "execution_count": 13,
   "outputs": [
    {
     "name": "stdout",
     "output_type": "stream",
     "text": [
      "0 3 6 9 12 15 18 21 24 27 "
     ]
    }
   ],
   "source": [
    "for i in range(0, 30, 3):\n",
    "    print(i, end = \" \")"
   ],
   "metadata": {
    "collapsed": false,
    "ExecuteTime": {
     "end_time": "2023-09-28T16:44:35.735999Z",
     "start_time": "2023-09-28T16:44:35.729287Z"
    }
   },
   "id": "4966db1e0062b862"
  },
  {
   "cell_type": "code",
   "execution_count": 14,
   "outputs": [
    {
     "name": "stdout",
     "output_type": "stream",
     "text": [
      "-15 -11 -7 -3 1 5 9 13 "
     ]
    }
   ],
   "source": [
    "for i in range(-15, +15, 4):\n",
    "    print(i, end = \" \")"
   ],
   "metadata": {
    "collapsed": false,
    "ExecuteTime": {
     "end_time": "2023-09-28T16:45:04.955923Z",
     "start_time": "2023-09-28T16:45:04.948988Z"
    }
   },
   "id": "a4d0bb242ff6c72f"
  },
  {
   "cell_type": "code",
   "execution_count": null,
   "outputs": [],
   "source": [],
   "metadata": {
    "collapsed": false
   },
   "id": "2b8cd810f3d49503"
  }
 ],
 "metadata": {
  "kernelspec": {
   "display_name": "Python 3",
   "language": "python",
   "name": "python3"
  },
  "language_info": {
   "codemirror_mode": {
    "name": "ipython",
    "version": 2
   },
   "file_extension": ".py",
   "mimetype": "text/x-python",
   "name": "python",
   "nbconvert_exporter": "python",
   "pygments_lexer": "ipython2",
   "version": "2.7.6"
  }
 },
 "nbformat": 4,
 "nbformat_minor": 5
}
