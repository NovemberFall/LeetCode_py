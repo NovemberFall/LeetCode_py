{
 "cells": [
  {
   "metadata": {},
   "cell_type": "markdown",
   "source": "## slice operation",
   "id": "a76d3eaed76548ce"
  },
  {
   "metadata": {},
   "cell_type": "markdown",
   "source": [
    "#### Extracting a Substring\n",
    "\n",
    "1. **left**: The starting index (inclusive)\n",
    "2. **right + 1**: The ending index (exclusive), so you add 1 to include the character at index right."
   ],
   "id": "aef133a7f2df0c34"
  },
  {
   "metadata": {
    "ExecuteTime": {
     "end_time": "2025-01-28T23:56:17.157282Z",
     "start_time": "2025-01-28T23:56:17.103744Z"
    }
   },
   "cell_type": "code",
   "source": [
    "s = \"hello\"\n",
    "left, right = 1, 3\n",
    "print(s[left:right + 1])"
   ],
   "id": "25a308698058f8d3",
   "outputs": [
    {
     "name": "stdout",
     "output_type": "stream",
     "text": [
      "ell\n"
     ]
    }
   ],
   "execution_count": 2
  },
  {
   "metadata": {
    "ExecuteTime": {
     "end_time": "2025-01-28T23:57:12.288631Z",
     "start_time": "2025-01-28T23:57:12.271586Z"
    }
   },
   "cell_type": "code",
   "source": [
    "arr = [0, 1, 2, 3, 4, 5, 6, 7, 8, 9]\n",
    "k = 4\n",
    "left, right = 0, k\n",
    "print(arr[left:right])"
   ],
   "id": "2505cd992a89f1b4",
   "outputs": [
    {
     "name": "stdout",
     "output_type": "stream",
     "text": [
      "[0, 1, 2, 3]\n"
     ]
    }
   ],
   "execution_count": 3
  },
  {
   "metadata": {
    "ExecuteTime": {
     "end_time": "2025-01-28T23:57:31.431053Z",
     "start_time": "2025-01-28T23:57:31.425450Z"
    }
   },
   "cell_type": "code",
   "source": "print(arr[left:right + 1])",
   "id": "5c00c88f6a480aeb",
   "outputs": [
    {
     "name": "stdout",
     "output_type": "stream",
     "text": [
      "[0, 1, 2, 3, 4]\n"
     ]
    }
   ],
   "execution_count": 4
  },
  {
   "metadata": {},
   "cell_type": "code",
   "outputs": [],
   "execution_count": null,
   "source": "",
   "id": "2e2821e348426d76"
  }
 ],
 "metadata": {
  "kernelspec": {
   "display_name": "Python 3",
   "language": "python",
   "name": "python3"
  },
  "language_info": {
   "codemirror_mode": {
    "name": "ipython",
    "version": 2
   },
   "file_extension": ".py",
   "mimetype": "text/x-python",
   "name": "python",
   "nbconvert_exporter": "python",
   "pygments_lexer": "ipython2",
   "version": "2.7.6"
  }
 },
 "nbformat": 4,
 "nbformat_minor": 5
}
