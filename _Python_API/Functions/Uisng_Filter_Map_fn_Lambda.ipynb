{
 "cells": [
  {
   "cell_type": "code",
   "execution_count": 1,
   "id": "initial_id",
   "metadata": {
    "collapsed": true,
    "ExecuteTime": {
     "end_time": "2023-10-03T19:38:30.664801Z",
     "start_time": "2023-10-03T19:38:30.661732Z"
    }
   },
   "outputs": [],
   "source": [
    "numbers = [2, -34, 56, 52, -4, -99, 33]"
   ]
  },
  {
   "cell_type": "code",
   "execution_count": 2,
   "outputs": [
    {
     "data": {
      "text/plain": "<filter at 0x107fcaf50>"
     },
     "execution_count": 2,
     "metadata": {},
     "output_type": "execute_result"
    }
   ],
   "source": [
    "positive_numbers = filter(lambda x: x > 0, numbers)\n",
    "positive_numbers"
   ],
   "metadata": {
    "collapsed": false,
    "ExecuteTime": {
     "end_time": "2023-10-03T19:38:59.005596Z",
     "start_time": "2023-10-03T19:38:58.995799Z"
    }
   },
   "id": "416d4621b23a2f31"
  },
  {
   "cell_type": "code",
   "execution_count": 3,
   "outputs": [
    {
     "data": {
      "text/plain": "[2, 56, 52, 33]"
     },
     "execution_count": 3,
     "metadata": {},
     "output_type": "execute_result"
    }
   ],
   "source": [
    "list(positive_numbers)"
   ],
   "metadata": {
    "collapsed": false,
    "ExecuteTime": {
     "end_time": "2023-10-03T19:39:58.843192Z",
     "start_time": "2023-10-03T19:39:58.831739Z"
    }
   },
   "id": "960ab05baff2d444"
  },
  {
   "cell_type": "markdown",
   "source": [
    "#### Maps"
   ],
   "metadata": {
    "collapsed": false
   },
   "id": "88bd4f19a5c58180"
  },
  {
   "cell_type": "code",
   "execution_count": 5,
   "outputs": [],
   "source": [
    "sales_map = [{\"country\": \"Mexico\", \"sales\": 234.5},\n",
    "             {\"country\": \"United States\", \"sales\": 567.5},\n",
    "             {\"country\": \"Canada\", \"sales\": 110.5}]"
   ],
   "metadata": {
    "collapsed": false,
    "ExecuteTime": {
     "end_time": "2023-10-03T19:42:50.045668Z",
     "start_time": "2023-10-03T19:42:50.039546Z"
    }
   },
   "id": "fe7387126384116e"
  },
  {
   "cell_type": "code",
   "execution_count": 6,
   "outputs": [
    {
     "data": {
      "text/plain": "<map at 0x107fcae60>"
     },
     "execution_count": 6,
     "metadata": {},
     "output_type": "execute_result"
    }
   ],
   "source": [
    "countries = map(lambda x: x[\"country\"], sales_map)\n",
    "countries"
   ],
   "metadata": {
    "collapsed": false,
    "ExecuteTime": {
     "end_time": "2023-10-03T19:43:26.566601Z",
     "start_time": "2023-10-03T19:43:26.552899Z"
    }
   },
   "id": "9eb3a4099262f182"
  },
  {
   "cell_type": "code",
   "execution_count": 7,
   "outputs": [
    {
     "data": {
      "text/plain": "['Mexico', 'United States', 'Canada']"
     },
     "execution_count": 7,
     "metadata": {},
     "output_type": "execute_result"
    }
   ],
   "source": [
    "list(countries)"
   ],
   "metadata": {
    "collapsed": false,
    "ExecuteTime": {
     "end_time": "2023-10-03T19:43:36.923986Z",
     "start_time": "2023-10-03T19:43:36.917291Z"
    }
   },
   "id": "3a68d4714ce96e59"
  },
  {
   "cell_type": "code",
   "execution_count": 8,
   "outputs": [
    {
     "data": {
      "text/plain": "<map at 0x107fcabc0>"
     },
     "execution_count": 8,
     "metadata": {},
     "output_type": "execute_result"
    }
   ],
   "source": [
    "sales = map(lambda x: x[\"sales\"], sales_map)\n",
    "sales"
   ],
   "metadata": {
    "collapsed": false,
    "ExecuteTime": {
     "end_time": "2023-10-03T19:44:35.882540Z",
     "start_time": "2023-10-03T19:44:35.867028Z"
    }
   },
   "id": "5f5327dbaccfa9cf"
  },
  {
   "cell_type": "code",
   "execution_count": 9,
   "outputs": [
    {
     "data": {
      "text/plain": "[234.5, 567.5, 110.5]"
     },
     "execution_count": 9,
     "metadata": {},
     "output_type": "execute_result"
    }
   ],
   "source": [
    "list(sales)"
   ],
   "metadata": {
    "collapsed": false,
    "ExecuteTime": {
     "end_time": "2023-10-03T19:44:51.368513Z",
     "start_time": "2023-10-03T19:44:51.352768Z"
    }
   },
   "id": "6fd60b9fec586ced"
  },
  {
   "cell_type": "code",
   "execution_count": null,
   "outputs": [],
   "source": [],
   "metadata": {
    "collapsed": false
   },
   "id": "36203f6f5e5dcfec"
  }
 ],
 "metadata": {
  "kernelspec": {
   "display_name": "Python 3",
   "language": "python",
   "name": "python3"
  },
  "language_info": {
   "codemirror_mode": {
    "name": "ipython",
    "version": 2
   },
   "file_extension": ".py",
   "mimetype": "text/x-python",
   "name": "python",
   "nbconvert_exporter": "python",
   "pygments_lexer": "ipython2",
   "version": "2.7.6"
  }
 },
 "nbformat": 4,
 "nbformat_minor": 5
}
