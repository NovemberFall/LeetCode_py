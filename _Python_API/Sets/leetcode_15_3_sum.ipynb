{
 "cells": [
  {
   "cell_type": "code",
   "id": "initial_id",
   "metadata": {
    "collapsed": true,
    "ExecuteTime": {
     "end_time": "2025-06-14T08:20:29.589037Z",
     "start_time": "2025-06-14T08:20:29.583622Z"
    }
   },
   "source": [
    "from typing import List\n",
    "\n",
    "\n",
    "class Solution:\n",
    "    def threeSum(self, nums: List[int]) -> List[List[int]]:\n",
    "        res = set()\n",
    "        nums.sort()\n",
    "        for first in range(0, len(nums) - 2):\n",
    "            if first > 0 and nums[first] == nums[first - 1]:\n",
    "                continue\n",
    "\n",
    "            second = first + 1\n",
    "            third = len(nums) - 1\n",
    "            while second < third:\n",
    "                cur_sum = nums[first] + nums[second] + nums[third]\n",
    "                if cur_sum == 0:\n",
    "                    res.add([nums[first], nums[second], nums[third]])\n",
    "                elif cur_sum > 0:\n",
    "                    third -= 1\n",
    "                else:\n",
    "                    second += 1\n",
    "        return list(res)"
   ],
   "outputs": [],
   "execution_count": 1
  },
  {
   "metadata": {},
   "cell_type": "markdown",
   "source": [
    "#### for this solution is incorrect\n",
    "### In Python, **lists are unhashable**, which means they cannot be added to a set.\n",
    "\n"
   ],
   "id": "ac44cc588d1084c0"
  },
  {
   "metadata": {},
   "cell_type": "code",
   "outputs": [],
   "execution_count": null,
   "source": "",
   "id": "3f859d035baebc5d"
  }
 ],
 "metadata": {
  "kernelspec": {
   "display_name": "Python 3",
   "language": "python",
   "name": "python3"
  },
  "language_info": {
   "codemirror_mode": {
    "name": "ipython",
    "version": 2
   },
   "file_extension": ".py",
   "mimetype": "text/x-python",
   "name": "python",
   "nbconvert_exporter": "python",
   "pygments_lexer": "ipython2",
   "version": "2.7.6"
  }
 },
 "nbformat": 4,
 "nbformat_minor": 5
}
