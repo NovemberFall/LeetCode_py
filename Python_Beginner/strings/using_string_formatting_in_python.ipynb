{
 "cells": [
  {
   "cell_type": "code",
   "execution_count": 1,
   "id": "initial_id",
   "metadata": {
    "collapsed": true,
    "ExecuteTime": {
     "end_time": "2023-09-27T18:13:13.938430Z",
     "start_time": "2023-09-27T18:13:13.933935Z"
    }
   },
   "outputs": [
    {
     "name": "stdout",
     "output_type": "stream",
     "text": [
      "C:\\Users\\Projects\n"
     ]
    }
   ],
   "source": [
    "print('C:\\\\Users\\\\Projects')"
   ]
  },
  {
   "cell_type": "code",
   "execution_count": 2,
   "outputs": [
    {
     "data": {
      "text/plain": "'I love watching baseball on TV - yesterday I watched for 2 hours'"
     },
     "execution_count": 2,
     "metadata": {},
     "output_type": "execute_result"
    }
   ],
   "source": [
    "favorite_sport = \"baseball\"\n",
    "time_spent = 2\n",
    "\"I love watching {} on TV - yesterday I watched for {} hours\".format(favorite_sport, time_spent)"
   ],
   "metadata": {
    "collapsed": false,
    "ExecuteTime": {
     "end_time": "2023-09-27T18:14:46.018917Z",
     "start_time": "2023-09-27T18:14:46.013408Z"
    }
   },
   "id": "9380f4fd249d7678"
  },
  {
   "cell_type": "code",
   "execution_count": 3,
   "outputs": [
    {
     "data": {
      "text/plain": "'I love watching soccer on TV - yesterday I watched for 2 hours'"
     },
     "execution_count": 3,
     "metadata": {},
     "output_type": "execute_result"
    }
   ],
   "source": [
    "favorite_sport = \"soccer\"\n",
    "\"I love watching %s on TV - yesterday I watched for %d hours\" % (favorite_sport, time_spent)"
   ],
   "metadata": {
    "collapsed": false,
    "ExecuteTime": {
     "end_time": "2023-09-27T18:26:35.887348Z",
     "start_time": "2023-09-27T18:26:35.883284Z"
    }
   },
   "id": "b6bbc454add5e6ab"
  },
  {
   "cell_type": "code",
   "execution_count": 4,
   "outputs": [
    {
     "data": {
      "text/plain": "'I love watching baseball on TV - yesterday I watched for 2.5 hours'"
     },
     "execution_count": 4,
     "metadata": {},
     "output_type": "execute_result"
    }
   ],
   "source": [
    "favorite_sport = \"baseball\"\n",
    "time_spent = 2.5\n",
    "f\"I love watching {favorite_sport} on TV - yesterday I watched for {time_spent} hours\""
   ],
   "metadata": {
    "collapsed": false,
    "ExecuteTime": {
     "end_time": "2023-09-27T18:28:02.420959Z",
     "start_time": "2023-09-27T18:28:02.415983Z"
    }
   },
   "id": "b8b136f9e2cd151a"
  }
 ],
 "metadata": {
  "kernelspec": {
   "display_name": "Python 3",
   "language": "python",
   "name": "python3"
  },
  "language_info": {
   "codemirror_mode": {
    "name": "ipython",
    "version": 2
   },
   "file_extension": ".py",
   "mimetype": "text/x-python",
   "name": "python",
   "nbconvert_exporter": "python",
   "pygments_lexer": "ipython2",
   "version": "2.7.6"
  }
 },
 "nbformat": 4,
 "nbformat_minor": 5
}
