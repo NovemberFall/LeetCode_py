{
 "cells": [
  {
   "cell_type": "markdown",
   "source": [
    "## zip build-in function\n",
    "\n",
    "- The **zip()** function in Python combines two or more iterables (e.g., lists, tuples, strings) element-wise into tuples. \n",
    "  It returns an iterator of tuples where the first tuple contains the first elements from each iterable, \n",
    "  the second tuple contains the second elements, and so on.\n",
    "\n",
    "##\n",
    "- zip(*iterables)\n",
    "    - *iterables: Two or more iterables to be zipped together.\n",
    "    - The resulting iterator stops when the shortest input iterable is exhausted.\n"
   ],
   "metadata": {
    "collapsed": false
   },
   "id": "925cc7c23faf07f1"
  },
  {
   "cell_type": "markdown",
   "source": [
    "### Example 1: Zipping Two Lists"
   ],
   "metadata": {
    "collapsed": false
   },
   "id": "d709a698044adfef"
  },
  {
   "cell_type": "code",
   "execution_count": 2,
   "id": "initial_id",
   "metadata": {
    "collapsed": true,
    "ExecuteTime": {
     "end_time": "2024-11-18T19:41:42.258373Z",
     "start_time": "2024-11-18T19:41:42.253685Z"
    }
   },
   "outputs": [
    {
     "name": "stdout",
     "output_type": "stream",
     "text": [
      "[(1, 'a'), (2, 'b'), (3, 'c')]\n"
     ]
    }
   ],
   "source": [
    "list1 = [1, 2, 3]\n",
    "list2 = ['a', 'b', 'c']\n",
    "\n",
    "zipped = zip(list1, list2)\n",
    "print(list(zipped))  # Output: [(1, 'a'), (2, 'b'), (3, 'c')]"
   ]
  },
  {
   "cell_type": "markdown",
   "source": [
    "### Example 2: Zipping Lists of Different Lengths"
   ],
   "metadata": {
    "collapsed": false
   },
   "id": "3d80349e72de9efe"
  },
  {
   "cell_type": "code",
   "execution_count": 3,
   "outputs": [
    {
     "name": "stdout",
     "output_type": "stream",
     "text": [
      "[(1, 'a'), (2, 'b')]\n"
     ]
    }
   ],
   "source": [
    "list1 = [1, 2, 3]\n",
    "list2 = ['a', 'b']\n",
    "\n",
    "zipped = zip(list1, list2)\n",
    "print(list(zipped))  # Output: [(1, 'a'), (2, 'b')]"
   ],
   "metadata": {
    "collapsed": false,
    "ExecuteTime": {
     "end_time": "2024-11-18T19:41:56.095655Z",
     "start_time": "2024-11-18T19:41:56.080050Z"
    }
   },
   "id": "f9420139103d44c5"
  },
  {
   "cell_type": "markdown",
   "source": [
    "#### Example 3: Unzipping\n",
    "You can \"unzip\" a zipped object using zip(*zipped)."
   ],
   "metadata": {
    "collapsed": false
   },
   "id": "e49e01b1b4a0a159"
  },
  {
   "cell_type": "code",
   "execution_count": 4,
   "outputs": [
    {
     "name": "stdout",
     "output_type": "stream",
     "text": [
      "(1, 2, 3)\n",
      "('a', 'b', 'c')\n"
     ]
    }
   ],
   "source": [
    "zipped = [(1, 'a'), (2, 'b'), (3, 'c')]\n",
    "\n",
    "unzipped = zip(*zipped)\n",
    "list1, list2 = list(unzipped)\n",
    "print(list1)  # Output: [1, 2, 3]\n",
    "print(list2)  # Output: ['a', 'b', 'c']"
   ],
   "metadata": {
    "collapsed": false,
    "ExecuteTime": {
     "end_time": "2024-11-18T19:43:51.644735Z",
     "start_time": "2024-11-18T19:43:51.627207Z"
    }
   },
   "id": "dc87a34614d1756"
  },
  {
   "cell_type": "markdown",
   "source": [
    "#### Example 4: Zipping Strings"
   ],
   "metadata": {
    "collapsed": false
   },
   "id": "48218c64ed0f62f0"
  },
  {
   "cell_type": "code",
   "execution_count": 7,
   "outputs": [
    {
     "name": "stdout",
     "output_type": "stream",
     "text": [
      "<zip object at 0x1093ba440>\n",
      "[('a', '1'), ('b', '2'), ('c', '3')]\n"
     ]
    }
   ],
   "source": [
    "string1 = \"abc\"\n",
    "string2 = \"123\"\n",
    "\n",
    "zipped = zip(string1, string2)\n",
    "print(zipped)  # Output: <zip object at 0x1093b9780>\n",
    "print(list(zipped))  # Output: [('a', '1'), ('b', '2'), ('c', '3')]"
   ],
   "metadata": {
    "collapsed": false,
    "ExecuteTime": {
     "end_time": "2024-11-18T19:45:26.282200Z",
     "start_time": "2024-11-18T19:45:26.275201Z"
    }
   },
   "id": "284484fb16e9cddd"
  },
  {
   "cell_type": "markdown",
   "source": [
    "#### Example 5: Iterating Over Zipped Object"
   ],
   "metadata": {
    "collapsed": false
   },
   "id": "3c964aa3ac816b81"
  },
  {
   "cell_type": "code",
   "execution_count": 8,
   "outputs": [
    {
     "name": "stdout",
     "output_type": "stream",
     "text": [
      "Alice scored 85\n",
      "Bob scored 90\n",
      "Charlie scored 78\n"
     ]
    }
   ],
   "source": [
    "names = ['Alice', 'Bob', 'Charlie']\n",
    "scores = [85, 90, 78]\n",
    "\n",
    "for name, score in zip(names, scores):\n",
    "    print(f\"{name} scored {score}\")\n",
    "# Output:\n",
    "# Alice scored 85\n",
    "# Bob scored 90\n",
    "# Charlie scored 78"
   ],
   "metadata": {
    "collapsed": false,
    "ExecuteTime": {
     "end_time": "2024-11-18T19:47:01.344524Z",
     "start_time": "2024-11-18T19:47:01.335611Z"
    }
   },
   "id": "46e5598f9f833665"
  },
  {
   "cell_type": "code",
   "execution_count": null,
   "outputs": [],
   "source": [],
   "metadata": {
    "collapsed": false
   },
   "id": "974a5f8bbb761a1"
  }
 ],
 "metadata": {
  "kernelspec": {
   "display_name": "Python 3",
   "language": "python",
   "name": "python3"
  },
  "language_info": {
   "codemirror_mode": {
    "name": "ipython",
    "version": 2
   },
   "file_extension": ".py",
   "mimetype": "text/x-python",
   "name": "python",
   "nbconvert_exporter": "python",
   "pygments_lexer": "ipython2",
   "version": "2.7.6"
  }
 },
 "nbformat": 4,
 "nbformat_minor": 5
}
