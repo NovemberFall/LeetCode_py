{
 "cells": [
  {
   "metadata": {},
   "cell_type": "markdown",
   "source": "## Example 1: Basic Dictionary with Tuples as Keys",
   "id": "51eaad66cf67fbf8"
  },
  {
   "metadata": {
    "ExecuteTime": {
     "end_time": "2024-11-28T03:01:37.265117Z",
     "start_time": "2024-11-28T03:01:37.259323Z"
    }
   },
   "cell_type": "code",
   "source": [
    "# Create a dictionary with tuples as keys\n",
    "locations = {\n",
    "    (40.7128, -74.0060): \"New York\",\n",
    "    (34.0522, -118.2437): \"Los Angeles\",\n",
    "    (51.5074, -0.1278): \"London\"\n",
    "}\n",
    "\n",
    "# Access values using tuple keys\n",
    "print(locations[(40.7128, -74.0060)])  # Output: New York\n",
    "print(locations[(51.5074, -0.1278)])   # Output: London\n"
   ],
   "id": "192bd68393755ceb",
   "outputs": [
    {
     "name": "stdout",
     "output_type": "stream",
     "text": [
      "New York\n",
      "London\n"
     ]
    }
   ],
   "execution_count": 1
  },
  {
   "metadata": {},
   "cell_type": "markdown",
   "source": "## Example 2: Tuple Keys for Storing Complex Data",
   "id": "a2ece7e8f121b044"
  },
  {
   "metadata": {
    "ExecuteTime": {
     "end_time": "2024-11-28T03:02:52.640474Z",
     "start_time": "2024-11-28T03:02:52.634635Z"
    }
   },
   "cell_type": "code",
   "source": [
    "# Use a tuple as a key to store related data\n",
    "student_scores = {\n",
    "    (\"Alice\", \"Math\"): 85,\n",
    "    (\"Alice\", \"Science\"): 92,\n",
    "    (\"Bob\", \"Math\"): 78,\n",
    "    (\"Bob\", \"Science\"): 88\n",
    "}\n",
    "\n",
    "# Access specific scores\n",
    "print(student_scores[(\"Alice\", \"Math\")])  # Output: 85\n",
    "print(student_scores[(\"Bob\", \"Science\")])  # Output: 88\n"
   ],
   "id": "e9425d49284b2d43",
   "outputs": [
    {
     "name": "stdout",
     "output_type": "stream",
     "text": [
      "85\n",
      "88\n"
     ]
    }
   ],
   "execution_count": 2
  },
  {
   "metadata": {},
   "cell_type": "markdown",
   "source": "## Example 3: Tuples Representing Multi-Dimensional Coordinates",
   "id": "637591ed755bda93"
  },
  {
   "metadata": {
    "ExecuteTime": {
     "end_time": "2024-11-28T03:03:25.899932Z",
     "start_time": "2024-11-28T03:03:25.895265Z"
    }
   },
   "cell_type": "code",
   "source": [
    "# Use tuples as keys to represent coordinates\n",
    "grid = {\n",
    "    (0, 0): \"Start\",\n",
    "    (1, 0): \"Path\",\n",
    "    (1, 1): \"Path\",\n",
    "    (2, 1): \"End\"\n",
    "}\n",
    "\n",
    "# Accessing grid positions\n",
    "print(grid[(0, 0)])  # Output: Start\n",
    "print(grid[(2, 1)])  # Output: End\n"
   ],
   "id": "41867f1b0891c6cd",
   "outputs": [
    {
     "name": "stdout",
     "output_type": "stream",
     "text": [
      "Start\n",
      "End\n"
     ]
    }
   ],
   "execution_count": 3
  },
  {
   "metadata": {},
   "cell_type": "markdown",
   "source": "## Example 4: Iterating Through a Dictionary with Tuple Keys",
   "id": "b43e66df146823c6"
  },
  {
   "metadata": {
    "ExecuteTime": {
     "end_time": "2024-11-28T03:04:00.908740Z",
     "start_time": "2024-11-28T03:04:00.902246Z"
    }
   },
   "cell_type": "code",
   "source": [
    "# Dictionary with tuple keys\n",
    "products = {\n",
    "    (\"Laptop\", \"Electronics\"): 1200,\n",
    "    (\"Shirt\", \"Clothing\"): 45,\n",
    "    (\"Fridge\", \"Appliances\"): 800\n",
    "}\n",
    "\n",
    "# Iterate over dictionary\n",
    "for key, value in products.items():\n",
    "    category, type_ = key\n",
    "    print(f\"Product: {category}, Category: {type_}, Price: ${value}\")\n"
   ],
   "id": "ffab572face15278",
   "outputs": [
    {
     "name": "stdout",
     "output_type": "stream",
     "text": [
      "Product: Laptop, Category: Electronics, Price: $1200\n",
      "Product: Shirt, Category: Clothing, Price: $45\n",
      "Product: Fridge, Category: Appliances, Price: $800\n"
     ]
    }
   ],
   "execution_count": 4
  },
  {
   "cell_type": "code",
   "id": "initial_id",
   "metadata": {
    "collapsed": true,
    "ExecuteTime": {
     "end_time": "2024-11-28T03:04:34.882646Z",
     "start_time": "2024-11-28T03:04:34.878777Z"
    }
   },
   "source": [
    "cache = {}\n",
    "cache[(1, 2, 3)] = \"value1\"\n",
    "cache[(1, 2, 3)] = \"value2\"  # Overwrites the previous value\n",
    "print(cache[(1, 2, 3)])  # Output: \"value2\""
   ],
   "outputs": [
    {
     "name": "stdout",
     "output_type": "stream",
     "text": [
      "value2\n"
     ]
    }
   ],
   "execution_count": 5
  }
 ],
 "metadata": {
  "kernelspec": {
   "display_name": "Python 3",
   "language": "python",
   "name": "python3"
  },
  "language_info": {
   "codemirror_mode": {
    "name": "ipython",
    "version": 2
   },
   "file_extension": ".py",
   "mimetype": "text/x-python",
   "name": "python",
   "nbconvert_exporter": "python",
   "pygments_lexer": "ipython2",
   "version": "2.7.6"
  }
 },
 "nbformat": 4,
 "nbformat_minor": 5
}
