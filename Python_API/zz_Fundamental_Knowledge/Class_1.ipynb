{
 "cells": [
  {
   "cell_type": "code",
   "id": "initial_id",
   "metadata": {
    "collapsed": true,
    "ExecuteTime": {
     "end_time": "2025-01-24T07:55:41.408712Z",
     "start_time": "2025-01-24T07:55:41.401553Z"
    }
   },
   "source": "5 / 3",
   "outputs": [
    {
     "data": {
      "text/plain": [
       "1.6666666666666667"
      ]
     },
     "execution_count": 1,
     "metadata": {},
     "output_type": "execute_result"
    }
   ],
   "execution_count": 1
  },
  {
   "metadata": {
    "ExecuteTime": {
     "end_time": "2025-01-24T07:55:49.440849Z",
     "start_time": "2025-01-24T07:55:49.350905Z"
    }
   },
   "cell_type": "code",
   "source": "1 / 0",
   "id": "c2306e556069a21c",
   "outputs": [
    {
     "ename": "ZeroDivisionError",
     "evalue": "division by zero",
     "output_type": "error",
     "traceback": [
      "\u001B[0;31m---------------------------------------------------------------------------\u001B[0m",
      "\u001B[0;31mZeroDivisionError\u001B[0m                         Traceback (most recent call last)",
      "Cell \u001B[0;32mIn[2], line 1\u001B[0m\n\u001B[0;32m----> 1\u001B[0m \u001B[38;5;241;43m1\u001B[39;49m\u001B[43m \u001B[49m\u001B[38;5;241;43m/\u001B[39;49m\u001B[43m \u001B[49m\u001B[38;5;241;43m0\u001B[39;49m\n",
      "\u001B[0;31mZeroDivisionError\u001B[0m: division by zero"
     ]
    }
   ],
   "execution_count": 2
  },
  {
   "metadata": {
    "ExecuteTime": {
     "end_time": "2025-01-24T07:56:01.292554Z",
     "start_time": "2025-01-24T07:56:01.287439Z"
    }
   },
   "cell_type": "code",
   "source": "5 ** 3",
   "id": "a4ca03c93516a64c",
   "outputs": [
    {
     "data": {
      "text/plain": [
       "125"
      ]
     },
     "execution_count": 3,
     "metadata": {},
     "output_type": "execute_result"
    }
   ],
   "execution_count": 3
  },
  {
   "metadata": {
    "ExecuteTime": {
     "end_time": "2025-01-24T07:57:28.388364Z",
     "start_time": "2025-01-24T07:57:28.376965Z"
    }
   },
   "cell_type": "code",
   "source": "10 ** 6",
   "id": "35478a0d33f6fe66",
   "outputs": [
    {
     "data": {
      "text/plain": [
       "1000000"
      ]
     },
     "execution_count": 4,
     "metadata": {},
     "output_type": "execute_result"
    }
   ],
   "execution_count": 4
  },
  {
   "metadata": {
    "ExecuteTime": {
     "end_time": "2025-01-24T07:57:40.001667Z",
     "start_time": "2025-01-24T07:57:39.997570Z"
    }
   },
   "cell_type": "code",
   "source": "abs(-3)",
   "id": "f9a5975c23182d51",
   "outputs": [
    {
     "data": {
      "text/plain": [
       "3"
      ]
     },
     "execution_count": 5,
     "metadata": {},
     "output_type": "execute_result"
    }
   ],
   "execution_count": 5
  },
  {
   "metadata": {
    "ExecuteTime": {
     "end_time": "2025-01-24T07:57:54.059296Z",
     "start_time": "2025-01-24T07:57:54.055457Z"
    }
   },
   "cell_type": "code",
   "source": "max(5, 3)",
   "id": "4afa6b0b4c8f3cf1",
   "outputs": [
    {
     "data": {
      "text/plain": [
       "5"
      ]
     },
     "execution_count": 6,
     "metadata": {},
     "output_type": "execute_result"
    }
   ],
   "execution_count": 6
  },
  {
   "metadata": {
    "ExecuteTime": {
     "end_time": "2025-01-24T07:58:01.180436Z",
     "start_time": "2025-01-24T07:58:01.176874Z"
    }
   },
   "cell_type": "code",
   "source": "min(5, 3)",
   "id": "a0b399ac118c9f4b",
   "outputs": [
    {
     "data": {
      "text/plain": [
       "3"
      ]
     },
     "execution_count": 7,
     "metadata": {},
     "output_type": "execute_result"
    }
   ],
   "execution_count": 7
  },
  {
   "metadata": {
    "ExecuteTime": {
     "end_time": "2025-01-24T07:58:29.614353Z",
     "start_time": "2025-01-24T07:58:29.600954Z"
    }
   },
   "cell_type": "code",
   "source": "max(5, 3, 10, -2, 7)",
   "id": "86693daa4db1c533",
   "outputs": [
    {
     "data": {
      "text/plain": [
       "10"
      ]
     },
     "execution_count": 8,
     "metadata": {},
     "output_type": "execute_result"
    }
   ],
   "execution_count": 8
  },
  {
   "metadata": {},
   "cell_type": "markdown",
   "source": [
    "## Floats\n",
    "\n",
    "Floats are numbers with a decimal point"
   ],
   "id": "30125311da98f69a"
  },
  {
   "metadata": {
    "ExecuteTime": {
     "end_time": "2025-01-24T08:01:40.524616Z",
     "start_time": "2025-01-24T08:01:40.516708Z"
    }
   },
   "cell_type": "code",
   "source": [
    "## 10 的 6次方\n",
    "1e6"
   ],
   "id": "2c0487e0f0dcd956",
   "outputs": [
    {
     "data": {
      "text/plain": [
       "1000000.0"
      ]
     },
     "execution_count": 9,
     "metadata": {},
     "output_type": "execute_result"
    }
   ],
   "execution_count": 9
  },
  {
   "metadata": {
    "ExecuteTime": {
     "end_time": "2025-01-24T08:02:22.206997Z",
     "start_time": "2025-01-24T08:02:22.200615Z"
    }
   },
   "cell_type": "code",
   "source": [
    "## 4.2 x 10^-3\n",
    "4.2e-3"
   ],
   "id": "5d7ef38566af76a5",
   "outputs": [
    {
     "data": {
      "text/plain": [
       "0.0042"
      ]
     },
     "execution_count": 10,
     "metadata": {},
     "output_type": "execute_result"
    }
   ],
   "execution_count": 10
  },
  {
   "metadata": {
    "ExecuteTime": {
     "end_time": "2025-01-24T08:04:40.715306Z",
     "start_time": "2025-01-24T08:04:40.699848Z"
    }
   },
   "cell_type": "code",
   "source": "0.1 + 0.2",
   "id": "88d92acf95133351",
   "outputs": [
    {
     "data": {
      "text/plain": [
       "0.30000000000000004"
      ]
     },
     "execution_count": 11,
     "metadata": {},
     "output_type": "execute_result"
    }
   ],
   "execution_count": 11
  },
  {
   "metadata": {
    "ExecuteTime": {
     "end_time": "2025-01-24T08:05:31.362483Z",
     "start_time": "2025-01-24T08:05:31.353728Z"
    }
   },
   "cell_type": "code",
   "source": "3 * 0.1",
   "id": "27b29b2abd28641b",
   "outputs": [
    {
     "data": {
      "text/plain": [
       "0.30000000000000004"
      ]
     },
     "execution_count": 12,
     "metadata": {},
     "output_type": "execute_result"
    }
   ],
   "execution_count": 12
  },
  {
   "metadata": {},
   "cell_type": "markdown",
   "source": "## less equal than 0.5 rounds down, more than 0.5 rounds up",
   "id": "ed5feac025aad32b"
  },
  {
   "metadata": {
    "ExecuteTime": {
     "end_time": "2025-01-24T08:06:13.370159Z",
     "start_time": "2025-01-24T08:06:13.365200Z"
    }
   },
   "cell_type": "code",
   "source": "round(2.3)",
   "id": "3e0067df43f8c243",
   "outputs": [
    {
     "data": {
      "text/plain": [
       "2"
      ]
     },
     "execution_count": 13,
     "metadata": {},
     "output_type": "execute_result"
    }
   ],
   "execution_count": 13
  },
  {
   "metadata": {
    "ExecuteTime": {
     "end_time": "2025-01-24T08:06:18.521725Z",
     "start_time": "2025-01-24T08:06:18.517079Z"
    }
   },
   "cell_type": "code",
   "source": "round(2.7)",
   "id": "cce4b4a9b7622234",
   "outputs": [
    {
     "data": {
      "text/plain": [
       "3"
      ]
     },
     "execution_count": 14,
     "metadata": {},
     "output_type": "execute_result"
    }
   ],
   "execution_count": 14
  },
  {
   "metadata": {
    "ExecuteTime": {
     "end_time": "2025-01-24T08:09:01.714432Z",
     "start_time": "2025-01-24T08:09:01.706857Z"
    }
   },
   "cell_type": "code",
   "source": "round(2.5)",
   "id": "29e35a238fcee7ff",
   "outputs": [
    {
     "data": {
      "text/plain": [
       "2"
      ]
     },
     "execution_count": 16,
     "metadata": {},
     "output_type": "execute_result"
    }
   ],
   "execution_count": 16
  },
  {
   "metadata": {
    "ExecuteTime": {
     "end_time": "2025-01-24T08:09:05.215105Z",
     "start_time": "2025-01-24T08:09:05.210590Z"
    }
   },
   "cell_type": "code",
   "source": "round(3.5)",
   "id": "4706101df5a98117",
   "outputs": [
    {
     "data": {
      "text/plain": [
       "4"
      ]
     },
     "execution_count": 17,
     "metadata": {},
     "output_type": "execute_result"
    }
   ],
   "execution_count": 17
  },
  {
   "metadata": {},
   "cell_type": "markdown",
   "source": [
    "## Mixing Integers and floats\n",
    "\n",
    "Dividing any two nums always yield a float"
   ],
   "id": "f58a043ec8f263df"
  },
  {
   "metadata": {
    "ExecuteTime": {
     "end_time": "2025-01-24T08:12:17.267280Z",
     "start_time": "2025-01-24T08:12:17.259724Z"
    }
   },
   "cell_type": "code",
   "source": "4 / 2",
   "id": "55d351908e88254e",
   "outputs": [
    {
     "data": {
      "text/plain": [
       "2.0"
      ]
     },
     "execution_count": 18,
     "metadata": {},
     "output_type": "execute_result"
    }
   ],
   "execution_count": 18
  },
  {
   "metadata": {
    "ExecuteTime": {
     "end_time": "2025-01-24T16:18:42.511299Z",
     "start_time": "2025-01-24T16:18:42.499191Z"
    }
   },
   "cell_type": "code",
   "source": "5.0 + 3",
   "id": "2cf3268c2097c4c5",
   "outputs": [
    {
     "data": {
      "text/plain": [
       "8.0"
      ]
     },
     "execution_count": 19,
     "metadata": {},
     "output_type": "execute_result"
    }
   ],
   "execution_count": 19
  },
  {
   "metadata": {
    "ExecuteTime": {
     "end_time": "2025-01-24T16:18:50.467127Z",
     "start_time": "2025-01-24T16:18:50.461367Z"
    }
   },
   "cell_type": "code",
   "source": "5.0 ** 3",
   "id": "a81a1da97331a9af",
   "outputs": [
    {
     "data": {
      "text/plain": [
       "125.0"
      ]
     },
     "execution_count": 20,
     "metadata": {},
     "output_type": "execute_result"
    }
   ],
   "execution_count": 20
  },
  {
   "metadata": {},
   "cell_type": "markdown",
   "source": "## How to do integer divisions?",
   "id": "8c51306f2bfcd8cd"
  },
  {
   "metadata": {
    "ExecuteTime": {
     "end_time": "2025-01-24T16:19:22.486298Z",
     "start_time": "2025-01-24T16:19:22.468311Z"
    }
   },
   "cell_type": "code",
   "source": "4 // 2",
   "id": "84c0b181194d6aaa",
   "outputs": [
    {
     "data": {
      "text/plain": [
       "2"
      ]
     },
     "execution_count": 21,
     "metadata": {},
     "output_type": "execute_result"
    }
   ],
   "execution_count": 21
  },
  {
   "metadata": {
    "ExecuteTime": {
     "end_time": "2025-01-24T16:26:29.189501Z",
     "start_time": "2025-01-24T16:26:29.182060Z"
    }
   },
   "cell_type": "code",
   "source": "5 // 3",
   "id": "b809910dd68cdf56",
   "outputs": [
    {
     "data": {
      "text/plain": [
       "1"
      ]
     },
     "execution_count": 22,
     "metadata": {},
     "output_type": "execute_result"
    }
   ],
   "execution_count": 22
  },
  {
   "metadata": {},
   "cell_type": "markdown",
   "source": "## Caveat: the result always rounds down (never rounds up).",
   "id": "181872f90e4dfc61"
  },
  {
   "metadata": {},
   "cell_type": "markdown",
   "source": [
    "## Strings\n",
    "#### String literals are quoted with either ' or \""
   ],
   "id": "a5fcbdd8f578a576"
  },
  {
   "metadata": {
    "ExecuteTime": {
     "end_time": "2025-01-24T16:30:54.233480Z",
     "start_time": "2025-01-24T16:30:54.228297Z"
    }
   },
   "cell_type": "code",
   "source": "'hello'",
   "id": "a3c81b19316ee081",
   "outputs": [
    {
     "data": {
      "text/plain": [
       "'hello'"
      ]
     },
     "execution_count": 25,
     "metadata": {},
     "output_type": "execute_result"
    }
   ],
   "execution_count": 25
  },
  {
   "metadata": {
    "ExecuteTime": {
     "end_time": "2025-01-24T16:31:00.910399Z",
     "start_time": "2025-01-24T16:31:00.906817Z"
    }
   },
   "cell_type": "code",
   "source": "\"hello\"",
   "id": "df047ac55d5ce13c",
   "outputs": [
    {
     "data": {
      "text/plain": [
       "'hello'"
      ]
     },
     "execution_count": 26,
     "metadata": {},
     "output_type": "execute_result"
    }
   ],
   "execution_count": 26
  },
  {
   "metadata": {
    "ExecuteTime": {
     "end_time": "2025-01-24T16:31:18.516140Z",
     "start_time": "2025-01-24T16:31:18.512162Z"
    }
   },
   "cell_type": "code",
   "source": "''",
   "id": "a38c2e7328cb90cb",
   "outputs": [
    {
     "data": {
      "text/plain": [
       "''"
      ]
     },
     "execution_count": 28,
     "metadata": {},
     "output_type": "execute_result"
    }
   ],
   "execution_count": 28
  },
  {
   "metadata": {
    "ExecuteTime": {
     "end_time": "2025-01-24T16:31:20.782638Z",
     "start_time": "2025-01-24T16:31:20.779342Z"
    }
   },
   "cell_type": "code",
   "source": "\"\"",
   "id": "f2d6020916aadb0e",
   "outputs": [
    {
     "data": {
      "text/plain": [
       "''"
      ]
     },
     "execution_count": 29,
     "metadata": {},
     "output_type": "execute_result"
    }
   ],
   "execution_count": 29
  },
  {
   "metadata": {},
   "cell_type": "markdown",
   "source": [
    "## Booleans\n",
    "#### Conditional tests"
   ],
   "id": "2d177c2dd43be48"
  },
  {
   "metadata": {
    "ExecuteTime": {
     "end_time": "2025-01-24T16:32:35.641636Z",
     "start_time": "2025-01-24T16:32:35.636219Z"
    }
   },
   "cell_type": "code",
   "source": "1 + 1 == 2",
   "id": "fa65da2b0f544afe",
   "outputs": [
    {
     "data": {
      "text/plain": [
       "True"
      ]
     },
     "execution_count": 30,
     "metadata": {},
     "output_type": "execute_result"
    }
   ],
   "execution_count": 30
  },
  {
   "metadata": {
    "ExecuteTime": {
     "end_time": "2025-01-24T16:32:41.083888Z",
     "start_time": "2025-01-24T16:32:41.078958Z"
    }
   },
   "cell_type": "code",
   "source": "1 + 1 != 3",
   "id": "2abe31ab890926f7",
   "outputs": [
    {
     "data": {
      "text/plain": [
       "True"
      ]
     },
     "execution_count": 31,
     "metadata": {},
     "output_type": "execute_result"
    }
   ],
   "execution_count": 31
  },
  {
   "metadata": {},
   "cell_type": "markdown",
   "source": "## Debugging exercise",
   "id": "3cf9b163fc86042d"
  },
  {
   "metadata": {
    "ExecuteTime": {
     "end_time": "2025-01-24T16:33:48.018930Z",
     "start_time": "2025-01-24T16:33:48.006703Z"
    }
   },
   "cell_type": "code",
   "source": "# print(1 + 1 = 2)",
   "id": "9f07bbdffa3f1136",
   "outputs": [
    {
     "ename": "SyntaxError",
     "evalue": "expression cannot contain assignment, perhaps you meant \"==\"? (674636300.py, line 1)",
     "output_type": "error",
     "traceback": [
      "\u001B[0;36m  Cell \u001B[0;32mIn[32], line 1\u001B[0;36m\u001B[0m\n\u001B[0;31m    print(1 + 1 = 2)\u001B[0m\n\u001B[0m          ^\u001B[0m\n\u001B[0;31mSyntaxError\u001B[0m\u001B[0;31m:\u001B[0m expression cannot contain assignment, perhaps you meant \"==\"?\n"
     ]
    }
   ],
   "execution_count": 32
  },
  {
   "metadata": {
    "ExecuteTime": {
     "end_time": "2025-01-24T16:34:10.646789Z",
     "start_time": "2025-01-24T16:34:10.642897Z"
    }
   },
   "cell_type": "code",
   "source": "print(1 + 1 == 2)",
   "id": "5339b63d4b1dab9f",
   "outputs": [
    {
     "name": "stdout",
     "output_type": "stream",
     "text": [
      "True\n"
     ]
    }
   ],
   "execution_count": 33
  },
  {
   "metadata": {
    "ExecuteTime": {
     "end_time": "2025-01-24T16:35:07.804067Z",
     "start_time": "2025-01-24T16:35:07.791211Z"
    }
   },
   "cell_type": "code",
   "source": "print(0.1 + 0.2 == 0.3)",
   "id": "54456de7556a1a90",
   "outputs": [
    {
     "name": "stdout",
     "output_type": "stream",
     "text": [
      "False\n"
     ]
    }
   ],
   "execution_count": 34
  },
  {
   "metadata": {
    "ExecuteTime": {
     "end_time": "2025-01-24T16:35:16.749678Z",
     "start_time": "2025-01-24T16:35:16.746231Z"
    }
   },
   "cell_type": "code",
   "source": "0.1 + 0.2",
   "id": "9908df42ac9d1cc4",
   "outputs": [
    {
     "data": {
      "text/plain": [
       "0.30000000000000004"
      ]
     },
     "execution_count": 35,
     "metadata": {},
     "output_type": "execute_result"
    }
   ],
   "execution_count": 35
  },
  {
   "metadata": {
    "ExecuteTime": {
     "end_time": "2025-01-24T16:37:06.078181Z",
     "start_time": "2025-01-24T16:37:06.072301Z"
    }
   },
   "cell_type": "code",
   "source": [
    "error = 1e-5 # 0.00001\n",
    "print(abs((0.1 + 0.2) - 0.3) < error)"
   ],
   "id": "2ab33abe1e0b2144",
   "outputs": [
    {
     "name": "stdout",
     "output_type": "stream",
     "text": [
      "True\n"
     ]
    }
   ],
   "execution_count": 36
  },
  {
   "metadata": {
    "ExecuteTime": {
     "end_time": "2025-01-24T16:44:43.286362Z",
     "start_time": "2025-01-24T16:44:43.277194Z"
    }
   },
   "cell_type": "code",
   "source": "2 < 3 and (3 < 5 or 8 < 5)",
   "id": "c1d050f7be2ae3a",
   "outputs": [
    {
     "data": {
      "text/plain": [
       "True"
      ]
     },
     "execution_count": 37,
     "metadata": {},
     "output_type": "execute_result"
    }
   ],
   "execution_count": 37
  },
  {
   "metadata": {
    "ExecuteTime": {
     "end_time": "2025-01-24T16:45:05.022335Z",
     "start_time": "2025-01-24T16:45:05.013368Z"
    }
   },
   "cell_type": "code",
   "source": "not True",
   "id": "b4b386efb219ed3d",
   "outputs": [
    {
     "data": {
      "text/plain": [
       "False"
      ]
     },
     "execution_count": 38,
     "metadata": {},
     "output_type": "execute_result"
    }
   ],
   "execution_count": 38
  },
  {
   "metadata": {},
   "cell_type": "markdown",
   "source": "![Operator precedence](img/1.1.png)",
   "id": "85d67eb67ea805f0"
  },
  {
   "metadata": {
    "ExecuteTime": {
     "end_time": "2025-01-24T16:48:31.809282Z",
     "start_time": "2025-01-24T16:48:31.794289Z"
    }
   },
   "cell_type": "code",
   "source": "True or False and False",
   "id": "9dda6c7b9900a234",
   "outputs": [
    {
     "data": {
      "text/plain": [
       "True"
      ]
     },
     "execution_count": 39,
     "metadata": {},
     "output_type": "execute_result"
    }
   ],
   "execution_count": 39
  },
  {
   "metadata": {
    "ExecuteTime": {
     "end_time": "2025-01-24T16:48:44.138878Z",
     "start_time": "2025-01-24T16:48:44.133752Z"
    }
   },
   "cell_type": "code",
   "source": "(True or False) and False",
   "id": "69ce19f6a62b1860",
   "outputs": [
    {
     "data": {
      "text/plain": [
       "False"
      ]
     },
     "execution_count": 40,
     "metadata": {},
     "output_type": "execute_result"
    }
   ],
   "execution_count": 40
  },
  {
   "metadata": {
    "ExecuteTime": {
     "end_time": "2025-01-24T16:49:13.770984Z",
     "start_time": "2025-01-24T16:49:13.759149Z"
    }
   },
   "cell_type": "code",
   "source": "True and not False",
   "id": "3c45a568f5215180",
   "outputs": [
    {
     "data": {
      "text/plain": [
       "True"
      ]
     },
     "execution_count": 41,
     "metadata": {},
     "output_type": "execute_result"
    }
   ],
   "execution_count": 41
  },
  {
   "metadata": {
    "ExecuteTime": {
     "end_time": "2025-01-24T16:49:21.127619Z",
     "start_time": "2025-01-24T16:49:21.123715Z"
    }
   },
   "cell_type": "code",
   "source": "True and not True",
   "id": "59e9f955ae3bbe3f",
   "outputs": [
    {
     "data": {
      "text/plain": [
       "False"
      ]
     },
     "execution_count": 42,
     "metadata": {},
     "output_type": "execute_result"
    }
   ],
   "execution_count": 42
  },
  {
   "metadata": {},
   "cell_type": "markdown",
   "source": [
    "## Variables\n",
    "#### Variables are \"labels\" that we can assign to values.\n",
    "#### A variable references a certain value in the computer memory.\n",
    "#### We can assign a value to a variable using ="
   ],
   "id": "fcaea3eeab13cd39"
  },
  {
   "metadata": {},
   "cell_type": "markdown",
   "source": [
    "## Python naming conventions\n",
    "- A variable name consists of letters, digits, or the underscore _.\n",
    "- The first character must not be a digit.\n",
    "- Variable names are case-sensitive."
   ],
   "id": "dd6bda0f1ec5637e"
  },
  {
   "metadata": {
    "ExecuteTime": {
     "end_time": "2025-01-24T16:56:05.940806Z",
     "start_time": "2025-01-24T16:56:05.932341Z"
    }
   },
   "cell_type": "code",
   "source": "# 1st_name = \"yang\"",
   "id": "e4bb5cef13e3350",
   "outputs": [
    {
     "ename": "SyntaxError",
     "evalue": "invalid decimal literal (3230290260.py, line 1)",
     "output_type": "error",
     "traceback": [
      "\u001B[0;36m  Cell \u001B[0;32mIn[43], line 1\u001B[0;36m\u001B[0m\n\u001B[0;31m    1st_name = \"yang\"\u001B[0m\n\u001B[0m    ^\u001B[0m\n\u001B[0;31mSyntaxError\u001B[0m\u001B[0;31m:\u001B[0m invalid decimal literal\n"
     ]
    }
   ],
   "execution_count": 43
  },
  {
   "metadata": {},
   "cell_type": "markdown",
   "source": "## Multiple assignment",
   "id": "2c9178fa92a2fe41"
  },
  {
   "metadata": {
    "ExecuteTime": {
     "end_time": "2025-01-24T16:58:49.514344Z",
     "start_time": "2025-01-24T16:58:49.510494Z"
    }
   },
   "cell_type": "code",
   "source": "a, b, c = 1, 2, 3",
   "id": "aea46ca24d93b9a6",
   "outputs": [],
   "execution_count": 45
  },
  {
   "metadata": {
    "ExecuteTime": {
     "end_time": "2025-01-24T16:59:56.396785Z",
     "start_time": "2025-01-24T16:59:56.392501Z"
    }
   },
   "cell_type": "code",
   "source": "a, b = b, a",
   "id": "d8b9262b410c14cd",
   "outputs": [],
   "execution_count": 50
  },
  {
   "metadata": {
    "ExecuteTime": {
     "end_time": "2025-01-24T17:00:00.183472Z",
     "start_time": "2025-01-24T17:00:00.176476Z"
    }
   },
   "cell_type": "code",
   "source": "a",
   "id": "197f2f67cb5bb3d1",
   "outputs": [
    {
     "data": {
      "text/plain": [
       "2"
      ]
     },
     "execution_count": 51,
     "metadata": {},
     "output_type": "execute_result"
    }
   ],
   "execution_count": 51
  },
  {
   "metadata": {
    "ExecuteTime": {
     "end_time": "2025-01-24T17:00:02.378680Z",
     "start_time": "2025-01-24T17:00:02.375270Z"
    }
   },
   "cell_type": "code",
   "source": "b",
   "id": "a792a68b7c3ef342",
   "outputs": [
    {
     "data": {
      "text/plain": [
       "1"
      ]
     },
     "execution_count": 52,
     "metadata": {},
     "output_type": "execute_result"
    }
   ],
   "execution_count": 52
  },
  {
   "metadata": {},
   "cell_type": "markdown",
   "source": "## Object references",
   "id": "5e70a7279bffb2ef"
  },
  {
   "metadata": {
    "ExecuteTime": {
     "end_time": "2025-01-24T17:55:01.033726Z",
     "start_time": "2025-01-24T17:55:01.026181Z"
    }
   },
   "cell_type": "code",
   "source": [
    "x = 3\n",
    "y = x\n",
    "x = 5\n",
    "print(\"x =\", x)\n",
    "print(\"y =\", y)"
   ],
   "id": "d8bc935e8d203cfa",
   "outputs": [
    {
     "name": "stdout",
     "output_type": "stream",
     "text": [
      "x = 5\n",
      "y = 3\n"
     ]
    }
   ],
   "execution_count": 54
  },
  {
   "metadata": {},
   "cell_type": "markdown",
   "source": [
    "## Types\n",
    "Every data has a type. Therefore, Python knows the difference between an integer and a string.\n",
    "For example, when the operands are numbers, + means addition; when the operands are strings, + means concatenation"
   ],
   "id": "1305fb2084adae9"
  },
  {
   "metadata": {
    "ExecuteTime": {
     "end_time": "2025-01-24T17:57:39.202193Z",
     "start_time": "2025-01-24T17:57:39.193930Z"
    }
   },
   "cell_type": "code",
   "source": "\"1\" + \"2\"",
   "id": "ac56d3480792ef1f",
   "outputs": [
    {
     "data": {
      "text/plain": [
       "'12'"
      ]
     },
     "execution_count": 55,
     "metadata": {},
     "output_type": "execute_result"
    }
   ],
   "execution_count": 55
  },
  {
   "metadata": {},
   "cell_type": "markdown",
   "source": [
    "## Rules of types\n",
    "- Python knows the type of each object.\n",
    "- Some types may not be compatible with certain operators. For example, we cannot perform + between a string and an integer.\n",
    "- We can get the type of an boject using `type()`"
   ],
   "id": "8fa5959cb294d266"
  },
  {
   "metadata": {
    "ExecuteTime": {
     "end_time": "2025-01-24T18:00:32.081200Z",
     "start_time": "2025-01-24T18:00:32.046057Z"
    }
   },
   "cell_type": "code",
   "source": "\"3\" + 5",
   "id": "d391586f81fbb093",
   "outputs": [
    {
     "ename": "TypeError",
     "evalue": "can only concatenate str (not \"int\") to str",
     "output_type": "error",
     "traceback": [
      "\u001B[0;31m---------------------------------------------------------------------------\u001B[0m",
      "\u001B[0;31mTypeError\u001B[0m                                 Traceback (most recent call last)",
      "Cell \u001B[0;32mIn[56], line 1\u001B[0m\n\u001B[0;32m----> 1\u001B[0m \u001B[38;5;124;43m\"\u001B[39;49m\u001B[38;5;124;43m3\u001B[39;49m\u001B[38;5;124;43m\"\u001B[39;49m\u001B[43m \u001B[49m\u001B[38;5;241;43m+\u001B[39;49m\u001B[43m \u001B[49m\u001B[38;5;241;43m5\u001B[39;49m\n",
      "\u001B[0;31mTypeError\u001B[0m: can only concatenate str (not \"int\") to str"
     ]
    }
   ],
   "execution_count": 56
  },
  {
   "metadata": {
    "ExecuteTime": {
     "end_time": "2025-01-24T18:00:54.646915Z",
     "start_time": "2025-01-24T18:00:54.641126Z"
    }
   },
   "cell_type": "code",
   "source": "\"3\" * 5",
   "id": "83501cfba071b5fc",
   "outputs": [
    {
     "data": {
      "text/plain": [
       "'33333'"
      ]
     },
     "execution_count": 57,
     "metadata": {},
     "output_type": "execute_result"
    }
   ],
   "execution_count": 57
  },
  {
   "metadata": {
    "ExecuteTime": {
     "end_time": "2025-01-24T18:37:03.134392Z",
     "start_time": "2025-01-24T18:37:03.125579Z"
    }
   },
   "cell_type": "code",
   "source": "print(type(123.4))",
   "id": "7da817ea34d8ecd",
   "outputs": [
    {
     "name": "stdout",
     "output_type": "stream",
     "text": [
      "<class 'float'>\n"
     ]
    }
   ],
   "execution_count": 58
  },
  {
   "metadata": {
    "ExecuteTime": {
     "end_time": "2025-01-24T18:37:29.011487Z",
     "start_time": "2025-01-24T18:37:29.008084Z"
    }
   },
   "cell_type": "code",
   "source": "print(type(\"123\"))",
   "id": "cc707a91296e028c",
   "outputs": [
    {
     "name": "stdout",
     "output_type": "stream",
     "text": [
      "<class 'str'>\n"
     ]
    }
   ],
   "execution_count": 60
  },
  {
   "metadata": {
    "ExecuteTime": {
     "end_time": "2025-01-24T18:37:35.599305Z",
     "start_time": "2025-01-24T18:37:35.597257Z"
    }
   },
   "cell_type": "code",
   "source": "print(type(True))",
   "id": "a9b48dd407dfdefc",
   "outputs": [
    {
     "name": "stdout",
     "output_type": "stream",
     "text": [
      "<class 'bool'>\n"
     ]
    }
   ],
   "execution_count": 61
  },
  {
   "metadata": {
    "ExecuteTime": {
     "end_time": "2025-01-24T18:37:50.136047Z",
     "start_time": "2025-01-24T18:37:50.128068Z"
    }
   },
   "cell_type": "code",
   "source": "print(type(None))",
   "id": "80d927c91db3f343",
   "outputs": [
    {
     "name": "stdout",
     "output_type": "stream",
     "text": [
      "<class 'NoneType'>\n"
     ]
    }
   ],
   "execution_count": 62
  },
  {
   "metadata": {},
   "cell_type": "markdown",
   "source": [
    "## Type conversions\n",
    "#### We can use `int()`, `float()`, and `str()` to convert one type to another"
   ],
   "id": "a32918bb8954a4b3"
  },
  {
   "metadata": {
    "ExecuteTime": {
     "end_time": "2025-01-24T18:40:52.804250Z",
     "start_time": "2025-01-24T18:40:52.801604Z"
    }
   },
   "cell_type": "code",
   "source": [
    "num = 123\n",
    "s = str(num)\n",
    "print(s)"
   ],
   "id": "308ac51b0bf614e6",
   "outputs": [
    {
     "name": "stdout",
     "output_type": "stream",
     "text": [
      "123\n"
     ]
    }
   ],
   "execution_count": 67
  },
  {
   "metadata": {
    "ExecuteTime": {
     "end_time": "2025-01-24T18:40:36.921101Z",
     "start_time": "2025-01-24T18:40:36.917972Z"
    }
   },
   "cell_type": "code",
   "source": "print(type(s))",
   "id": "4f818a102bb51636",
   "outputs": [
    {
     "name": "stdout",
     "output_type": "stream",
     "text": [
      "<class 'str'>\n"
     ]
    }
   ],
   "execution_count": 65
  },
  {
   "metadata": {
    "ExecuteTime": {
     "end_time": "2025-01-24T18:41:36.935487Z",
     "start_time": "2025-01-24T18:41:36.928832Z"
    }
   },
   "cell_type": "code",
   "source": [
    "s = \"12345\"\n",
    "num = int(s)\n",
    "print(num)"
   ],
   "id": "5af1a8422dc2385b",
   "outputs": [
    {
     "name": "stdout",
     "output_type": "stream",
     "text": [
      "12345\n"
     ]
    }
   ],
   "execution_count": 68
  },
  {
   "metadata": {
    "ExecuteTime": {
     "end_time": "2025-01-24T18:41:41.651372Z",
     "start_time": "2025-01-24T18:41:41.645865Z"
    }
   },
   "cell_type": "code",
   "source": "type(num)",
   "id": "4c8711118e095073",
   "outputs": [
    {
     "data": {
      "text/plain": [
       "int"
      ]
     },
     "execution_count": 69,
     "metadata": {},
     "output_type": "execute_result"
    }
   ],
   "execution_count": 69
  },
  {
   "metadata": {
    "ExecuteTime": {
     "end_time": "2025-01-24T18:41:56.226306Z",
     "start_time": "2025-01-24T18:41:56.218354Z"
    }
   },
   "cell_type": "code",
   "source": [
    "s = \"123.45\"\n",
    "num = float(s)\n",
    "num"
   ],
   "id": "f6fdf955fca890b5",
   "outputs": [
    {
     "data": {
      "text/plain": [
       "123.45"
      ]
     },
     "execution_count": 70,
     "metadata": {},
     "output_type": "execute_result"
    }
   ],
   "execution_count": 70
  },
  {
   "metadata": {
    "ExecuteTime": {
     "end_time": "2025-01-24T18:42:51.454260Z",
     "start_time": "2025-01-24T18:42:51.446017Z"
    }
   },
   "cell_type": "code",
   "source": "type(num)",
   "id": "939f6de7d6dc991f",
   "outputs": [
    {
     "data": {
      "text/plain": [
       "float"
      ]
     },
     "execution_count": 73,
     "metadata": {},
     "output_type": "execute_result"
    }
   ],
   "execution_count": 73
  },
  {
   "metadata": {
    "ExecuteTime": {
     "end_time": "2025-01-24T18:42:56.501490Z",
     "start_time": "2025-01-24T18:42:56.477884Z"
    }
   },
   "cell_type": "code",
   "source": "num = int(\"abc\")",
   "id": "f97fec950b700289",
   "outputs": [
    {
     "ename": "ValueError",
     "evalue": "invalid literal for int() with base 10: 'abc'",
     "output_type": "error",
     "traceback": [
      "\u001B[0;31m---------------------------------------------------------------------------\u001B[0m",
      "\u001B[0;31mValueError\u001B[0m                                Traceback (most recent call last)",
      "Cell \u001B[0;32mIn[74], line 1\u001B[0m\n\u001B[0;32m----> 1\u001B[0m num \u001B[38;5;241m=\u001B[39m \u001B[38;5;28;43mint\u001B[39;49m\u001B[43m(\u001B[49m\u001B[38;5;124;43m\"\u001B[39;49m\u001B[38;5;124;43mabc\u001B[39;49m\u001B[38;5;124;43m\"\u001B[39;49m\u001B[43m)\u001B[49m\n",
      "\u001B[0;31mValueError\u001B[0m: invalid literal for int() with base 10: 'abc'"
     ]
    }
   ],
   "execution_count": 74
  },
  {
   "metadata": {},
   "cell_type": "markdown",
   "source": "## Strings",
   "id": "c3361c47e9e6e6ac"
  },
  {
   "metadata": {
    "ExecuteTime": {
     "end_time": "2025-01-24T18:43:47.230256Z",
     "start_time": "2025-01-24T18:43:47.223727Z"
    }
   },
   "cell_type": "code",
   "source": [
    "name = \"yang tang\"\n",
    "print(name)"
   ],
   "id": "6c2860bf565096cd",
   "outputs": [
    {
     "name": "stdout",
     "output_type": "stream",
     "text": [
      "yang tang\n"
     ]
    }
   ],
   "execution_count": 76
  },
  {
   "metadata": {
    "ExecuteTime": {
     "end_time": "2025-01-24T18:43:54.577773Z",
     "start_time": "2025-01-24T18:43:54.572619Z"
    }
   },
   "cell_type": "code",
   "source": "print(name.title())",
   "id": "484ee296165e60d3",
   "outputs": [
    {
     "name": "stdout",
     "output_type": "stream",
     "text": [
      "Yang Tang\n"
     ]
    }
   ],
   "execution_count": 77
  },
  {
   "metadata": {
    "ExecuteTime": {
     "end_time": "2025-01-24T18:45:25.164569Z",
     "start_time": "2025-01-24T18:45:25.156251Z"
    }
   },
   "cell_type": "code",
   "source": "name.upper()",
   "id": "c82df686b1e0f666",
   "outputs": [
    {
     "data": {
      "text/plain": [
       "'YANG TANG'"
      ]
     },
     "execution_count": 78,
     "metadata": {},
     "output_type": "execute_result"
    }
   ],
   "execution_count": 78
  },
  {
   "metadata": {
    "ExecuteTime": {
     "end_time": "2025-01-24T18:45:30.532750Z",
     "start_time": "2025-01-24T18:45:30.528251Z"
    }
   },
   "cell_type": "code",
   "source": "name.lower()",
   "id": "9472fe12f72a2167",
   "outputs": [
    {
     "data": {
      "text/plain": [
       "'yang tang'"
      ]
     },
     "execution_count": 79,
     "metadata": {},
     "output_type": "execute_result"
    }
   ],
   "execution_count": 79
  },
  {
   "metadata": {},
   "cell_type": "markdown",
   "source": "## Using variables in strings",
   "id": "60415fcb79d29a1"
  },
  {
   "metadata": {
    "ExecuteTime": {
     "end_time": "2025-01-24T18:46:18.485331Z",
     "start_time": "2025-01-24T18:46:18.481820Z"
    }
   },
   "cell_type": "code",
   "source": [
    "first_name = \"yang\"\n",
    "last_name = \"tang\"\n",
    "full_name = first_name + \" \" + last_name\n",
    "print(full_name)"
   ],
   "id": "6521f97fff7cd5d2",
   "outputs": [
    {
     "name": "stdout",
     "output_type": "stream",
     "text": [
      "yang tang\n"
     ]
    }
   ],
   "execution_count": 81
  },
  {
   "metadata": {
    "ExecuteTime": {
     "end_time": "2025-01-24T18:47:24.383472Z",
     "start_time": "2025-01-24T18:47:24.380624Z"
    }
   },
   "cell_type": "code",
   "source": [
    "first_name = \"yang\"\n",
    "last_name = \"tang\"\n",
    "full_name = f\"{first_name} {last_name}\"\n",
    "print(full_name)"
   ],
   "id": "8941c919af315f50",
   "outputs": [
    {
     "name": "stdout",
     "output_type": "stream",
     "text": [
      "yang tang\n"
     ]
    }
   ],
   "execution_count": 83
  },
  {
   "metadata": {},
   "cell_type": "markdown",
   "source": "### Quiz: How to print `Hello, Yang Tang!`?",
   "id": "4512072c048d7980"
  },
  {
   "metadata": {
    "ExecuteTime": {
     "end_time": "2025-01-24T18:48:51.152538Z",
     "start_time": "2025-01-24T18:48:51.144825Z"
    }
   },
   "cell_type": "code",
   "source": [
    "first_name = \"yang\"\n",
    "last_name = \"tang\"\n",
    "full_name = f\"{first_name} {last_name}\"\n",
    "print(f\"Hello, {full_name.title()}\")"
   ],
   "id": "10a646f52fb20f9f",
   "outputs": [
    {
     "name": "stdout",
     "output_type": "stream",
     "text": [
      "Hello, Yang Tang\n"
     ]
    }
   ],
   "execution_count": 85
  },
  {
   "metadata": {},
   "cell_type": "markdown",
   "source": "## String with multiple lines",
   "id": "b96cdbe702d29bf1"
  },
  {
   "metadata": {
    "ExecuteTime": {
     "end_time": "2025-01-24T18:49:46.342690Z",
     "start_time": "2025-01-24T18:49:46.339246Z"
    }
   },
   "cell_type": "code",
   "source": [
    "name = \"\"\"Yang\n",
    "Tang\"\"\"\n",
    "print(name)"
   ],
   "id": "c520aaf049ffa4bb",
   "outputs": [
    {
     "name": "stdout",
     "output_type": "stream",
     "text": [
      "Yang\n",
      "Tang\n"
     ]
    }
   ],
   "execution_count": 87
  },
  {
   "metadata": {
    "ExecuteTime": {
     "end_time": "2025-01-24T18:50:21.026741Z",
     "start_time": "2025-01-24T18:50:21.024362Z"
    }
   },
   "cell_type": "code",
   "source": [
    "name = \"yang\\nTang\" # \\n menas newline\n",
    "print(name)"
   ],
   "id": "f0cf511cb894af99",
   "outputs": [
    {
     "name": "stdout",
     "output_type": "stream",
     "text": [
      "yang\n",
      "Tang\n"
     ]
    }
   ],
   "execution_count": 90
  },
  {
   "metadata": {
    "ExecuteTime": {
     "end_time": "2025-01-24T18:51:04.215Z",
     "start_time": "2025-01-24T18:51:04.211515Z"
    }
   },
   "cell_type": "code",
   "source": [
    "name = \"Yang \\\n",
    "Tang\"\n",
    "print(name)"
   ],
   "id": "91de604016dcebc4",
   "outputs": [
    {
     "name": "stdout",
     "output_type": "stream",
     "text": [
      "Yang Tang\n"
     ]
    }
   ],
   "execution_count": 92
  },
  {
   "metadata": {},
   "cell_type": "markdown",
   "source": "## Debugging exercises",
   "id": "92c6a8673630ccdf"
  },
  {
   "metadata": {
    "ExecuteTime": {
     "end_time": "2025-01-24T18:51:53.719419Z",
     "start_time": "2025-01-24T18:51:53.708485Z"
    }
   },
   "cell_type": "code",
   "source": [
    "folder = \"C:\\new_york\"  # when python see \\, it will automatically change new line\n",
    "print(folder)"
   ],
   "id": "d580ca62ec58c453",
   "outputs": [
    {
     "name": "stdout",
     "output_type": "stream",
     "text": [
      "C:\n",
      "ew_york\n"
     ]
    }
   ],
   "execution_count": 93
  },
  {
   "metadata": {},
   "cell_type": "markdown",
   "source": "## Caveat: use `\\\\` when you need a backslash, or use raw strings",
   "id": "56c263d487dad3b"
  },
  {
   "metadata": {
    "ExecuteTime": {
     "end_time": "2025-01-24T18:53:05.344853Z",
     "start_time": "2025-01-24T18:53:05.336608Z"
    }
   },
   "cell_type": "code",
   "source": [
    "folder = \"C:\\\\new_york\"\n",
    "print(folder)"
   ],
   "id": "81c6391e0a43568d",
   "outputs": [
    {
     "name": "stdout",
     "output_type": "stream",
     "text": [
      "C:\\new_york\n"
     ]
    }
   ],
   "execution_count": 94
  },
  {
   "metadata": {
    "ExecuteTime": {
     "end_time": "2025-01-24T18:53:29.610194Z",
     "start_time": "2025-01-24T18:53:29.601057Z"
    }
   },
   "cell_type": "code",
   "source": [
    "folder = r\"C:\\new_york\"\n",
    "print(folder)"
   ],
   "id": "8606d8261053eaee",
   "outputs": [
    {
     "name": "stdout",
     "output_type": "stream",
     "text": [
      "C:\\new_york\n"
     ]
    }
   ],
   "execution_count": 95
  },
  {
   "metadata": {},
   "cell_type": "markdown",
   "source": "## Stripping whitespace",
   "id": "92535fa4f8557639"
  },
  {
   "metadata": {
    "ExecuteTime": {
     "end_time": "2025-01-24T18:55:23.538753Z",
     "start_time": "2025-01-24T18:55:23.532627Z"
    }
   },
   "cell_type": "code",
   "source": [
    "name = \"      Yang Tang       \"\n",
    "print(name)"
   ],
   "id": "c6c89c2880cfa75a",
   "outputs": [
    {
     "name": "stdout",
     "output_type": "stream",
     "text": [
      "      Yang Tang       \n"
     ]
    }
   ],
   "execution_count": 96
  },
  {
   "metadata": {
    "ExecuteTime": {
     "end_time": "2025-01-24T18:55:42.599029Z",
     "start_time": "2025-01-24T18:55:42.595556Z"
    }
   },
   "cell_type": "code",
   "source": "print(name.strip())",
   "id": "2f3360c8128346a8",
   "outputs": [
    {
     "name": "stdout",
     "output_type": "stream",
     "text": [
      "Yang Tang\n"
     ]
    }
   ],
   "execution_count": 97
  },
  {
   "metadata": {
    "ExecuteTime": {
     "end_time": "2025-01-24T18:55:59.942402Z",
     "start_time": "2025-01-24T18:55:59.939602Z"
    }
   },
   "cell_type": "code",
   "source": "print(name)",
   "id": "56809ea5b0803a36",
   "outputs": [
    {
     "name": "stdout",
     "output_type": "stream",
     "text": [
      "      Yang Tang       \n"
     ]
    }
   ],
   "execution_count": 98
  },
  {
   "metadata": {},
   "cell_type": "markdown",
   "source": "### Quiz: How to permanently strip the whitespace?",
   "id": "6e7dd0105f15b5d5"
  },
  {
   "metadata": {
    "ExecuteTime": {
     "end_time": "2025-01-24T18:57:17.401060Z",
     "start_time": "2025-01-24T18:57:17.393296Z"
    }
   },
   "cell_type": "code",
   "source": [
    "name = name.strip()\n",
    "print(name)"
   ],
   "id": "7beb8917f12ea0a6",
   "outputs": [
    {
     "name": "stdout",
     "output_type": "stream",
     "text": [
      "Yang Tang\n"
     ]
    }
   ],
   "execution_count": 99
  },
  {
   "metadata": {},
   "cell_type": "code",
   "outputs": [],
   "execution_count": null,
   "source": "",
   "id": "143a7de4f93314a7"
  },
  {
   "metadata": {},
   "cell_type": "markdown",
   "source": [
    "## Homework: BMI calculator\n",
    "![](img/1.2.png)"
   ],
   "id": "1b0e1c089d56d558"
  },
  {
   "metadata": {
    "ExecuteTime": {
     "end_time": "2025-01-24T19:02:59.899148Z",
     "start_time": "2025-01-24T19:02:45.325137Z"
    }
   },
   "cell_type": "code",
   "source": [
    "height = float(input(\"Height: \"))\n",
    "weight = float(input(\"Weight: \"))\n",
    "bmi = weight / height ** 2\n",
    "print(\"Your BMI is\", bmi)"
   ],
   "id": "f97a78fbb516c77d",
   "outputs": [
    {
     "name": "stdout",
     "output_type": "stream",
     "text": [
      "Your BMI is 21.604938271604937\n"
     ]
    }
   ],
   "execution_count": 100
  },
  {
   "metadata": {},
   "cell_type": "code",
   "outputs": [],
   "execution_count": null,
   "source": "",
   "id": "607c41d36f17df3d"
  }
 ],
 "metadata": {
  "kernelspec": {
   "display_name": "Python 3",
   "language": "python",
   "name": "python3"
  },
  "language_info": {
   "codemirror_mode": {
    "name": "ipython",
    "version": 2
   },
   "file_extension": ".py",
   "mimetype": "text/x-python",
   "name": "python",
   "nbconvert_exporter": "python",
   "pygments_lexer": "ipython2",
   "version": "2.7.6"
  }
 },
 "nbformat": 4,
 "nbformat_minor": 5
}
