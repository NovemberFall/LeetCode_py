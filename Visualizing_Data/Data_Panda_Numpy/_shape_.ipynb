{
 "cells": [
  {
   "cell_type": "markdown",
   "source": [
    "# General Explanation of .shape\n",
    "## Definition:\n",
    "- .shape is an attribute available in NumPy arrays, Pandas DataFrames, and some other Python libraries for data handling.\n",
    "- It provides a tuple that describes the dimensions (or shape) of the object."
   ],
   "metadata": {
    "collapsed": false
   },
   "id": "c223403ae1abd636"
  },
  {
   "cell_type": "markdown",
   "source": [
    "# Usage in Different Contexts\n",
    "\n",
    "## For NumPy Arrays\n",
    "- The .shape attribute returns a tuple where:\n",
    "    - First value: Number of rows (or the size of the first dimension).\n",
    "    - Second value: Number of columns (or the size of the second dimension).\n",
    "    - Additional values (if applicable): Sizes of higher dimensions (for 3D, 4D arrays, etc.)."
   ],
   "metadata": {
    "collapsed": false
   },
   "id": "f9141e7618dfc445"
  },
  {
   "cell_type": "code",
   "execution_count": 1,
   "id": "initial_id",
   "metadata": {
    "collapsed": true,
    "ExecuteTime": {
     "end_time": "2024-11-21T01:42:16.969959Z",
     "start_time": "2024-11-21T01:42:16.966037Z"
    }
   },
   "outputs": [
    {
     "name": "stdout",
     "output_type": "stream",
     "text": [
      "(3, 4)\n"
     ]
    }
   ],
   "source": [
    "import numpy as np\n",
    "\n",
    "# 2D array with 3 rows and 4 columns\n",
    "array = np.array([[1, 2, 3, 4],\n",
    "                  [5, 6, 7, 8],\n",
    "                  [9, 10, 11, 12]])\n",
    "\n",
    "print(array.shape)  # Output: (3, 4)\n"
   ]
  },
  {
   "cell_type": "markdown",
   "source": [
    "# For Pandas DataFrames\n",
    "- The .shape attribute also returns a tuple:\n",
    "    - First value: Number of rows (records).\n",
    "    - Second value: Number of columns (features or variables)."
   ],
   "metadata": {
    "collapsed": false
   },
   "id": "b4398ed17955ba3b"
  },
  {
   "cell_type": "markdown",
   "source": [
    "![](img/shape.png)"
   ],
   "metadata": {
    "collapsed": false
   },
   "id": "70b80b4a6cd0551"
  },
  {
   "cell_type": "code",
   "execution_count": 4,
   "outputs": [
    {
     "name": "stdout",
     "output_type": "stream",
     "text": [
      "   A  B\n",
      "0  1  4\n",
      "1  2  5\n",
      "2  3  6\n",
      "\n",
      "(3, 2)\n"
     ]
    }
   ],
   "source": [
    "import pandas as pd\n",
    "\n",
    "# DataFrame with 3 rows and 2 columns\n",
    "data = pd.DataFrame({'A': [1, 2, 3],\n",
    "                     'B': [4, 5, 6]})\n",
    "print(data)\n",
    "print()\n",
    "print(data.shape)  # Output: (3, 2)\n"
   ],
   "metadata": {
    "collapsed": false,
    "ExecuteTime": {
     "end_time": "2024-11-21T01:54:56.176892Z",
     "start_time": "2024-11-21T01:54:56.173191Z"
    }
   },
   "id": "542c9ea96945b20e"
  },
  {
   "cell_type": "markdown",
   "source": [
    "# From a List"
   ],
   "metadata": {
    "collapsed": false
   },
   "id": "bc8dc8f5e818c0c4"
  },
  {
   "cell_type": "code",
   "execution_count": 6,
   "outputs": [
    {
     "name": "stdout",
     "output_type": "stream",
     "text": [
      "   0  1\n",
      "0  1  2\n",
      "1  3  4\n",
      "2  5  6\n",
      "Shape: (3, 2)\n"
     ]
    }
   ],
   "source": [
    "import pandas as pd\n",
    "\n",
    "# Create a DataFrame from a list of lists\n",
    "data = [[1, 2], [3, 4], [5, 6]]\n",
    "df = pd.DataFrame(data)\n",
    "\n",
    "print(df)\n",
    "print(\"Shape:\", df.shape)\n"
   ],
   "metadata": {
    "collapsed": false,
    "ExecuteTime": {
     "end_time": "2024-11-21T01:59:12.847659Z",
     "start_time": "2024-11-21T01:59:12.842372Z"
    }
   },
   "id": "be32e59d2daad14c"
  },
  {
   "cell_type": "markdown",
   "source": [
    "# From a List of Tuples\n",
    "\n",
    "The line `columns=['Number', 'Letter']` is used to **name the columns** of the DataFrame. \n"
   ],
   "metadata": {
    "collapsed": false
   },
   "id": "77e88a784de83c8f"
  },
  {
   "cell_type": "code",
   "execution_count": 7,
   "outputs": [
    {
     "name": "stdout",
     "output_type": "stream",
     "text": [
      "   Number Letter\n",
      "0       1      A\n",
      "1       2      B\n",
      "2       3      C\n",
      "3       4      D\n",
      "Shape: (4, 2)\n"
     ]
    }
   ],
   "source": [
    "# Create a DataFrame from a list of tuples\n",
    "data = [(1, 'A'), (2, 'B'), (3, 'C'), (4, 'D')]\n",
    "df = pd.DataFrame(data, columns=['Number', 'Letter'])\n",
    "\n",
    "print(df)\n",
    "print(\"Shape:\", df.shape)\n"
   ],
   "metadata": {
    "collapsed": false,
    "ExecuteTime": {
     "end_time": "2024-11-21T01:59:28.975590Z",
     "start_time": "2024-11-21T01:59:28.957363Z"
    }
   },
   "id": "f7c0109c9fde391a"
  },
  {
   "cell_type": "markdown",
   "source": [
    "\n",
    "## Without columns=['Number', 'Letter']\n",
    " Pandas would automatically assign default column names (such as integers starting from 0). Including this line allows you to customize and assign meaningful names to the columns of the DataFrame."
   ],
   "metadata": {
    "collapsed": false
   },
   "id": "acaaf2bf4709be52"
  },
  {
   "cell_type": "code",
   "execution_count": 8,
   "outputs": [
    {
     "name": "stdout",
     "output_type": "stream",
     "text": [
      "   0  1\n",
      "0  1  A\n",
      "1  2  B\n",
      "2  3  C\n",
      "3  4  D\n",
      "Shape: (4, 2)\n"
     ]
    }
   ],
   "source": [
    "# Create a DataFrame from a list of tuples\n",
    "data = [(1, 'A'), (2, 'B'), (3, 'C'), (4, 'D')]\n",
    "df = pd.DataFrame(data)\n",
    "\n",
    "print(df)\n",
    "print(\"Shape:\", df.shape)"
   ],
   "metadata": {
    "collapsed": false,
    "ExecuteTime": {
     "end_time": "2024-11-21T02:02:03.312145Z",
     "start_time": "2024-11-21T02:02:03.298778Z"
    }
   },
   "id": "e7aef0fe2a1fec92"
  },
  {
   "cell_type": "markdown",
   "source": [
    "# From a Single List"
   ],
   "metadata": {
    "collapsed": false
   },
   "id": "6e64bb48b8c97652"
  },
  {
   "cell_type": "code",
   "execution_count": 9,
   "outputs": [
    {
     "name": "stdout",
     "output_type": "stream",
     "text": [
      "   Value\n",
      "0     10\n",
      "1     20\n",
      "2     30\n",
      "3     40\n",
      "Shape: (4, 1)\n"
     ]
    }
   ],
   "source": [
    "# Create a DataFrame from a single list\n",
    "data = [10, 20, 30, 40]\n",
    "df = pd.DataFrame(data, columns=['Value'])\n",
    "\n",
    "print(df)\n",
    "print(\"Shape:\", df.shape)\n"
   ],
   "metadata": {
    "collapsed": false,
    "ExecuteTime": {
     "end_time": "2024-11-21T02:08:31.836613Z",
     "start_time": "2024-11-21T02:08:31.822277Z"
    }
   },
   "id": "78aaed47ce465212"
  },
  {
   "cell_type": "markdown",
   "source": [
    "# From a List of Dictionaries\n",
    "\n",
    "- Each dictionary becomes a row.\n",
    "- Columns are determined by the keys across all dictionaries.\n",
    "- Missing values are filled with **NaN**."
   ],
   "metadata": {
    "collapsed": false
   },
   "id": "8ac354084d561a11"
  },
  {
   "cell_type": "code",
   "execution_count": 10,
   "outputs": [
    {
     "name": "stdout",
     "output_type": "stream",
     "text": [
      "      Name   Age City\n",
      "0    Alice  25.0  NaN\n",
      "1      Bob  30.0  NYC\n",
      "2  Charlie   NaN   LA\n",
      "Shape: (3, 3)\n"
     ]
    }
   ],
   "source": [
    "# Create a DataFrame from a list of dictionaries\n",
    "data = [{'Name': 'Alice', 'Age': 25}, \n",
    "        {'Name': 'Bob', 'Age': 30, 'City': 'NYC'}, \n",
    "        {'Name': 'Charlie', 'City': 'LA'}]\n",
    "df = pd.DataFrame(data)\n",
    "\n",
    "print(df)\n",
    "print(\"Shape:\", df.shape)\n"
   ],
   "metadata": {
    "collapsed": false,
    "ExecuteTime": {
     "end_time": "2024-11-21T02:08:57.461628Z",
     "start_time": "2024-11-21T02:08:57.446318Z"
    }
   },
   "id": "27b88845f4d83f83"
  },
  {
   "cell_type": "markdown",
   "source": [
    "# From a 2D Index and Value Combinations"
   ],
   "metadata": {
    "collapsed": false
   },
   "id": "3ff5633442db9412"
  },
  {
   "cell_type": "code",
   "execution_count": 11,
   "outputs": [
    {
     "name": "stdout",
     "output_type": "stream",
     "text": [
      "      Col1  Col2  Col3\n",
      "Row1     1     2     3\n",
      "Row2     4     5     6\n",
      "Shape: (2, 3)\n"
     ]
    }
   ],
   "source": [
    "# Create a DataFrame using a matrix-like structure\n",
    "index = ['Row1', 'Row2']\n",
    "columns = ['Col1', 'Col2', 'Col3']\n",
    "data = [[1, 2, 3], [4, 5, 6]]\n",
    "df = pd.DataFrame(data, index=index, columns=columns)\n",
    "\n",
    "print(df)\n",
    "print(\"Shape:\", df.shape)\n"
   ],
   "metadata": {
    "collapsed": false,
    "ExecuteTime": {
     "end_time": "2024-11-21T02:10:08.680945Z",
     "start_time": "2024-11-21T02:10:08.662842Z"
    }
   },
   "id": "81ffbef9ae29437f"
  },
  {
   "cell_type": "code",
   "execution_count": null,
   "outputs": [],
   "source": [],
   "metadata": {
    "collapsed": false
   },
   "id": "9c32c345e839be2"
  }
 ],
 "metadata": {
  "kernelspec": {
   "display_name": "Python 3",
   "language": "python",
   "name": "python3"
  },
  "language_info": {
   "codemirror_mode": {
    "name": "ipython",
    "version": 2
   },
   "file_extension": ".py",
   "mimetype": "text/x-python",
   "name": "python",
   "nbconvert_exporter": "python",
   "pygments_lexer": "ipython2",
   "version": "2.7.6"
  }
 },
 "nbformat": 4,
 "nbformat_minor": 5
}
