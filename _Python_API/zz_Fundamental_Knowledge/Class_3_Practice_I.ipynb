{
 "cells": [
  {
   "metadata": {},
   "cell_type": "markdown",
   "source": "#### 输入一个数，把它倒过来，并输出：",
   "id": "9496b13488d5370d"
  },
  {
   "metadata": {
    "ExecuteTime": {
     "end_time": "2025-02-06T19:48:51.792301Z",
     "start_time": "2025-02-06T19:48:48.344406Z"
    }
   },
   "cell_type": "code",
   "source": [
    "x = int(input(\"Please input a number:\"))\n",
    "\n",
    "answer = 0\n",
    "\n",
    "while x != 0:\n",
    "    answer = answer * 10 + x % 10\n",
    "    x = x // 10\n",
    "\n",
    "print(answer)  #  145 => 541\n",
    "#  450 => 54"
   ],
   "id": "b88ece407986e7f5",
   "outputs": [
    {
     "name": "stdout",
     "output_type": "stream",
     "text": [
      "54\n"
     ]
    }
   ],
   "execution_count": 5
  },
  {
   "metadata": {},
   "cell_type": "markdown",
   "source": "",
   "id": "12305df28ded4f5a"
  },
  {
   "metadata": {},
   "cell_type": "markdown",
   "source": "#### 输入一个数，计算末尾有多少个`0`, 并输出",
   "id": "f952832e239628b0"
  },
  {
   "metadata": {
    "ExecuteTime": {
     "end_time": "2025-02-06T19:51:27.865955Z",
     "start_time": "2025-02-06T19:51:22.753683Z"
    }
   },
   "cell_type": "code",
   "source": [
    "x = int(input(\"Please input a number:\"))\n",
    "answer = 0\n",
    "while x % 10 == 0:\n",
    "    x = x / 10\n",
    "    answer = answer + 1\n",
    "\n",
    "print(answer)"
   ],
   "id": "625a090bb0c5defe",
   "outputs": [
    {
     "name": "stdout",
     "output_type": "stream",
     "text": [
      "5\n"
     ]
    }
   ],
   "execution_count": 8
  },
  {
   "metadata": {},
   "cell_type": "markdown",
   "source": [
    "#### 水仙花数\n",
    "如果有三位数 abc = a^3 + b^3 + c^3 的数，叫水仙花数\n",
    "求出所有的水仙花数并输出："
   ],
   "id": "f435a6538ced869b"
  },
  {
   "metadata": {
    "ExecuteTime": {
     "end_time": "2025-02-06T19:54:12.049523Z",
     "start_time": "2025-02-06T19:54:12.044628Z"
    }
   },
   "cell_type": "code",
   "source": [
    "answer = []\n",
    "for i1 in range(1, 10):\n",
    "    for i2 in range(0, 10):\n",
    "        for i3 in range(0, 10):\n",
    "            x = i1 * 100 + i2 * 10 + i3\n",
    "            if x == i1 * i1 * i1 + i2 * i2 * i2 + i3 * i3 * i3:\n",
    "                answer.append(x)\n",
    "\n",
    "print(answer)"
   ],
   "id": "a289b5b43f8919e6",
   "outputs": [
    {
     "name": "stdout",
     "output_type": "stream",
     "text": [
      "[153, 370, 371, 407]\n"
     ]
    }
   ],
   "execution_count": 12
  },
  {
   "metadata": {},
   "cell_type": "markdown",
   "source": "#### 最大的数出现多少次",
   "id": "1e23c500713854c6"
  },
  {
   "metadata": {
    "ExecuteTime": {
     "end_time": "2025-02-06T20:20:21.988927Z",
     "start_time": "2025-02-06T20:20:01.451380Z"
    }
   },
   "cell_type": "code",
   "source": [
    "s = input(\"Please input all items:\")\n",
    "maxNum = float(\"-inf\")\n",
    "maxCount = 0\n",
    "for i in s.split():\n",
    "    x = int(i)\n",
    "    if x > maxNum:\n",
    "        maxNum = x\n",
    "        maxCount = 1\n",
    "    elif x == maxNum:\n",
    "        maxCount += 1\n",
    "\n",
    "print('The max number is %d.' % maxNum)\n",
    "print('It appeared %d time(s).' % maxCount)"
   ],
   "id": "886b67c6aa5a2e6a",
   "outputs": [
    {
     "name": "stdout",
     "output_type": "stream",
     "text": [
      "The max number is 33.\n",
      "It appeared 2 time(s).\n"
     ]
    }
   ],
   "execution_count": 14
  },
  {
   "metadata": {},
   "cell_type": "markdown",
   "source": "#### 输入两个字符串，如果互为倒过来，输出YES, 否则 NO",
   "id": "725f586ff8dea844"
  },
  {
   "metadata": {
    "ExecuteTime": {
     "end_time": "2025-02-06T20:22:06.677603Z",
     "start_time": "2025-02-06T20:21:47.052780Z"
    }
   },
   "cell_type": "code",
   "source": [
    "s1 = input('string 1:')\n",
    "s2 = input('string 2:')\n",
    "if s1 == s2[::-1]:\n",
    "    print('Yes')\n",
    "else:\n",
    "    print('No')\n",
    "\n",
    "##  abc  cba  ==> Yes"
   ],
   "id": "64b9a5b11497300",
   "outputs": [
    {
     "name": "stdout",
     "output_type": "stream",
     "text": [
      "Yes\n"
     ]
    }
   ],
   "execution_count": 15
  },
  {
   "metadata": {},
   "cell_type": "markdown",
   "source": "## Selection Sort",
   "id": "a5bc920930efaf09"
  },
  {
   "metadata": {
    "ExecuteTime": {
     "end_time": "2025-02-06T20:25:07.380782Z",
     "start_time": "2025-02-06T20:25:07.370436Z"
    }
   },
   "cell_type": "code",
   "source": [
    "a = [1, 6, 5, 4, 3, 7, 2]\n",
    "res = []\n",
    "\n",
    "while a:\n",
    "    min_a = min(a)\n",
    "    res.append(min_a)\n",
    "    a.remove(min_a)\n",
    "\n",
    "print(res)"
   ],
   "id": "44570bcace2d9f7e",
   "outputs": [
    {
     "name": "stdout",
     "output_type": "stream",
     "text": [
      "[1, 2, 3, 4, 5, 6, 7]\n"
     ]
    }
   ],
   "execution_count": 16
  },
  {
   "metadata": {},
   "cell_type": "code",
   "outputs": [],
   "execution_count": null,
   "source": "",
   "id": "4fae1adef447e47b"
  }
 ],
 "metadata": {
  "kernelspec": {
   "display_name": "Python 3",
   "language": "python",
   "name": "python3"
  },
  "language_info": {
   "codemirror_mode": {
    "name": "ipython",
    "version": 2
   },
   "file_extension": ".py",
   "mimetype": "text/x-python",
   "name": "python",
   "nbconvert_exporter": "python",
   "pygments_lexer": "ipython2",
   "version": "2.7.6"
  }
 },
 "nbformat": 4,
 "nbformat_minor": 5
}
